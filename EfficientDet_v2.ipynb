{
  "nbformat": 4,
  "nbformat_minor": 0,
  "metadata": {
    "accelerator": "GPU",
    "colab": {
      "name": "EfficientDet-v2",
      "provenance": [],
      "collapsed_sections": [],
      "toc_visible": true
    },
    "kernelspec": {
      "display_name": "Python 3",
      "name": "python3"
    }
  },
  "cells": [
    {
      "cell_type": "code",
      "metadata": {
        "id": "JFa8YF0cH94l"
      },
      "source": [
        "from google.colab import drive\n",
        "drive.mount('/content/drive')"
      ],
      "execution_count": null,
      "outputs": []
    },
    {
      "cell_type": "code",
      "metadata": {
        "colab": {
          "base_uri": "https://localhost:8080/"
        },
        "id": "X2EDGrtsba1E",
        "outputId": "74996fca-527b-4637-ff71-c8dfcf878852"
      },
      "source": [
        "#our fork of the Tessellate-Imaging image detection library\n",
        "#!rm -rf Monk_Object_Detection\n",
        "! git clone https://github.com/roboflow-ai/Monk_Object_Detection.git"
      ],
      "execution_count": null,
      "outputs": [
        {
          "output_type": "stream",
          "text": [
            "Cloning into 'Monk_Object_Detection'...\n",
            "remote: Enumerating objects: 3747, done.\u001b[K\n",
            "remote: Total 3747 (delta 0), reused 0 (delta 0), pack-reused 3747\u001b[K\n",
            "Receiving objects: 100% (3747/3747), 132.20 MiB | 35.19 MiB/s, done.\n",
            "Resolving deltas: 100% (800/800), done.\n",
            "Checking out files: 100% (4032/4032), done.\n"
          ],
          "name": "stdout"
        }
      ]
    },
    {
      "cell_type": "code",
      "metadata": {
        "colab": {
          "base_uri": "https://localhost:8080/"
        },
        "id": "rrG52YHRySuP",
        "outputId": "f9a2e676-6923-4b76-ea85-973983c0a90c"
      },
      "source": [
        "%cd /content/Monk_Object_Detection/4_efficientdet/lib/src\n",
        "!gdown --id 1foRRIe1nCj_LbtcyCB6yel8-s7qibRIj"
      ],
      "execution_count": null,
      "outputs": [
        {
          "output_type": "stream",
          "text": [
            "/content/Monk_Object_Detection/4_efficientdet/lib/src\n",
            "Downloading...\n",
            "From: https://drive.google.com/uc?id=1foRRIe1nCj_LbtcyCB6yel8-s7qibRIj\n",
            "To: /content/Monk_Object_Detection/4_efficientdet/lib/src/dataset.py\n",
            "100% 5.75k/5.75k [00:00<00:00, 10.1MB/s]\n"
          ],
          "name": "stdout"
        }
      ]
    },
    {
      "cell_type": "code",
      "metadata": {
        "colab": {
          "base_uri": "https://localhost:8080/"
        },
        "id": "EIu1PTPlcAuU",
        "outputId": "aacfd4a5-1206-4b2c-a6fa-d571496ec501"
      },
      "source": [
        "# For colab use the command below\n",
        "# Set up library requirments\n",
        "%cd /content\n",
        "! cd Monk_Object_Detection/3_mxrcnn/installation && cat requirements_colab.txt | xargs -n 1 -L 1 pip install"
      ],
      "execution_count": null,
      "outputs": [
        {
          "output_type": "stream",
          "text": [
            "/content\n",
            "Collecting mxnet-cu100\n",
            "\u001b[?25l  Downloading https://files.pythonhosted.org/packages/cf/49/2876c87397592fdb2cca87928d538c9969adb7d271927ef36cb69d62fc63/mxnet_cu100-1.7.0-py2.py3-none-manylinux2014_x86_64.whl (827.8MB)\n",
            "\u001b[K     |████████████████████████████████| 827.8MB 15kB/s \n",
            "\u001b[?25hRequirement already satisfied: requests<3,>=2.20.0 in /usr/local/lib/python3.6/dist-packages (from mxnet-cu100) (2.23.0)\n",
            "Requirement already satisfied: numpy<2.0.0,>1.16.0 in /usr/local/lib/python3.6/dist-packages (from mxnet-cu100) (1.18.5)\n",
            "Collecting graphviz<0.9.0,>=0.8.1\n",
            "  Downloading https://files.pythonhosted.org/packages/53/39/4ab213673844e0c004bed8a0781a0721a3f6bb23eb8854ee75c236428892/graphviz-0.8.4-py2.py3-none-any.whl\n",
            "Requirement already satisfied: idna<3,>=2.5 in /usr/local/lib/python3.6/dist-packages (from requests<3,>=2.20.0->mxnet-cu100) (2.10)\n",
            "Requirement already satisfied: chardet<4,>=3.0.2 in /usr/local/lib/python3.6/dist-packages (from requests<3,>=2.20.0->mxnet-cu100) (3.0.4)\n",
            "Requirement already satisfied: urllib3!=1.25.0,!=1.25.1,<1.26,>=1.21.1 in /usr/local/lib/python3.6/dist-packages (from requests<3,>=2.20.0->mxnet-cu100) (1.24.3)\n",
            "Requirement already satisfied: certifi>=2017.4.17 in /usr/local/lib/python3.6/dist-packages (from requests<3,>=2.20.0->mxnet-cu100) (2020.11.8)\n",
            "Installing collected packages: graphviz, mxnet-cu100\n",
            "  Found existing installation: graphviz 0.10.1\n",
            "    Uninstalling graphviz-0.10.1:\n",
            "      Successfully uninstalled graphviz-0.10.1\n",
            "Successfully installed graphviz-0.8.4 mxnet-cu100-1.7.0\n",
            "Collecting dicttoxml\n",
            "  Downloading https://files.pythonhosted.org/packages/74/36/534db111db9e7610a41641a1f6669a964aacaf51858f466de264cc8dcdd9/dicttoxml-1.7.4.tar.gz\n",
            "Building wheels for collected packages: dicttoxml\n",
            "  Building wheel for dicttoxml (setup.py) ... \u001b[?25l\u001b[?25hdone\n",
            "  Created wheel for dicttoxml: filename=dicttoxml-1.7.4-cp36-none-any.whl size=17453 sha256=3e258a7822d680b0b49031175c3635d8db9de1a4f54f5eea24808008e1d7759e\n",
            "  Stored in directory: /root/.cache/pip/wheels/62/4f/a3/afd4a68f5add45a668c14efa53b64d5cffb2be6bacf993c151\n",
            "Successfully built dicttoxml\n",
            "Installing collected packages: dicttoxml\n",
            "Successfully installed dicttoxml-1.7.4\n",
            "Collecting xmltodict\n",
            "  Downloading https://files.pythonhosted.org/packages/28/fd/30d5c1d3ac29ce229f6bdc40bbc20b28f716e8b363140c26eff19122d8a5/xmltodict-0.12.0-py2.py3-none-any.whl\n",
            "Installing collected packages: xmltodict\n",
            "Successfully installed xmltodict-0.12.0\n",
            "Requirement already satisfied: pycocotools from git+https://github.com/abhi-kumar/cocoapi.git#egg=pycocotools&subdirectory=PythonAPI in /usr/local/lib/python3.6/dist-packages (2.0.2)\n",
            "Requirement already satisfied: setuptools>=18.0 in /usr/local/lib/python3.6/dist-packages (from pycocotools) (50.3.2)\n",
            "Requirement already satisfied: cython>=0.27.3 in /usr/local/lib/python3.6/dist-packages (from pycocotools) (0.29.21)\n",
            "Requirement already satisfied: matplotlib>=2.1.0 in /usr/local/lib/python3.6/dist-packages (from pycocotools) (3.2.2)\n",
            "Requirement already satisfied: kiwisolver>=1.0.1 in /usr/local/lib/python3.6/dist-packages (from matplotlib>=2.1.0->pycocotools) (1.3.1)\n",
            "Requirement already satisfied: numpy>=1.11 in /usr/local/lib/python3.6/dist-packages (from matplotlib>=2.1.0->pycocotools) (1.18.5)\n",
            "Requirement already satisfied: pyparsing!=2.0.4,!=2.1.2,!=2.1.6,>=2.0.1 in /usr/local/lib/python3.6/dist-packages (from matplotlib>=2.1.0->pycocotools) (2.4.7)\n",
            "Requirement already satisfied: python-dateutil>=2.1 in /usr/local/lib/python3.6/dist-packages (from matplotlib>=2.1.0->pycocotools) (2.8.1)\n",
            "Requirement already satisfied: cycler>=0.10 in /usr/local/lib/python3.6/dist-packages (from matplotlib>=2.1.0->pycocotools) (0.10.0)\n",
            "Requirement already satisfied: six>=1.5 in /usr/local/lib/python3.6/dist-packages (from python-dateutil>=2.1->matplotlib>=2.1.0->pycocotools) (1.15.0)\n"
          ],
          "name": "stdout"
        }
      ]
    },
    {
      "cell_type": "code",
      "metadata": {
        "colab": {
          "base_uri": "https://localhost:8080/"
        },
        "id": "N2YxNg_6ftEC",
        "outputId": "3fbb546d-a1d0-4518-fe13-43c2bfbba5a8"
      },
      "source": [
        "#fixed version of tqdm output for Colab\n",
        "!pip install --force https://github.com/chengs/tqdm/archive/colab.zip\n",
        "#IGNORE restart runtime warning, it is indeed installed\n",
        "#missing a few extra packages that we will need later! \n",
        "!pip install efficientnet_pytorch\n",
        "!pip install tensorboardX"
      ],
      "execution_count": null,
      "outputs": [
        {
          "output_type": "stream",
          "text": [
            "Collecting https://github.com/chengs/tqdm/archive/colab.zip\n",
            "\u001b[?25l  Downloading https://github.com/chengs/tqdm/archive/colab.zip\n",
            "\u001b[K     - 296kB 12.1MB/s\n",
            "\u001b[?25hBuilding wheels for collected packages: tqdm\n",
            "  Building wheel for tqdm (setup.py) ... \u001b[?25l\u001b[?25hdone\n",
            "  Created wheel for tqdm: filename=tqdm-4.28.1-py2.py3-none-any.whl size=47868 sha256=4228aadfc37520b31228cc9b077abfd863e693e1b41a31fb85b144451b6a9d0b\n",
            "  Stored in directory: /tmp/pip-ephem-wheel-cache-9tos_vnm/wheels/41/18/ee/d5dd158441b27965855b1bbae03fa2d8a91fe645c01b419896\n",
            "Successfully built tqdm\n",
            "\u001b[31mERROR: spacy 2.2.4 has requirement tqdm<5.0.0,>=4.38.0, but you'll have tqdm 4.28.1 which is incompatible.\u001b[0m\n",
            "\u001b[31mERROR: fbprophet 0.7.1 has requirement tqdm>=4.36.1, but you'll have tqdm 4.28.1 which is incompatible.\u001b[0m\n",
            "Installing collected packages: tqdm\n",
            "  Found existing installation: tqdm 4.41.1\n",
            "    Uninstalling tqdm-4.41.1:\n",
            "      Successfully uninstalled tqdm-4.41.1\n",
            "Successfully installed tqdm-4.28.1\n",
            "Collecting efficientnet_pytorch\n",
            "  Downloading https://files.pythonhosted.org/packages/4e/83/f9c5f44060f996279e474185ebcbd8dbd91179593bffb9abe3afa55d085b/efficientnet_pytorch-0.7.0.tar.gz\n",
            "Requirement already satisfied: torch in /usr/local/lib/python3.6/dist-packages (from efficientnet_pytorch) (1.7.0+cu101)\n",
            "Requirement already satisfied: dataclasses in /usr/local/lib/python3.6/dist-packages (from torch->efficientnet_pytorch) (0.8)\n",
            "Requirement already satisfied: future in /usr/local/lib/python3.6/dist-packages (from torch->efficientnet_pytorch) (0.16.0)\n",
            "Requirement already satisfied: numpy in /usr/local/lib/python3.6/dist-packages (from torch->efficientnet_pytorch) (1.18.5)\n",
            "Requirement already satisfied: typing-extensions in /usr/local/lib/python3.6/dist-packages (from torch->efficientnet_pytorch) (3.7.4.3)\n",
            "Building wheels for collected packages: efficientnet-pytorch\n",
            "  Building wheel for efficientnet-pytorch (setup.py) ... \u001b[?25l\u001b[?25hdone\n",
            "  Created wheel for efficientnet-pytorch: filename=efficientnet_pytorch-0.7.0-cp36-none-any.whl size=16031 sha256=e40f6996abde16f749eeeb8537cc9d4a9d85b100509364c92ff5381cc2357701\n",
            "  Stored in directory: /root/.cache/pip/wheels/e9/c6/e1/7a808b26406239712cfce4b5ceeb67d9513ae32aa4b31445c6\n",
            "Successfully built efficientnet-pytorch\n",
            "Installing collected packages: efficientnet-pytorch\n",
            "Successfully installed efficientnet-pytorch-0.7.0\n",
            "Collecting tensorboardX\n",
            "\u001b[?25l  Downloading https://files.pythonhosted.org/packages/af/0c/4f41bcd45db376e6fe5c619c01100e9b7531c55791b7244815bac6eac32c/tensorboardX-2.1-py2.py3-none-any.whl (308kB)\n",
            "\u001b[K     |████████████████████████████████| 317kB 8.8MB/s \n",
            "\u001b[?25hRequirement already satisfied: numpy in /usr/local/lib/python3.6/dist-packages (from tensorboardX) (1.18.5)\n",
            "Requirement already satisfied: six in /usr/local/lib/python3.6/dist-packages (from tensorboardX) (1.15.0)\n",
            "Requirement already satisfied: protobuf>=3.8.0 in /usr/local/lib/python3.6/dist-packages (from tensorboardX) (3.12.4)\n",
            "Requirement already satisfied: setuptools in /usr/local/lib/python3.6/dist-packages (from protobuf>=3.8.0->tensorboardX) (50.3.2)\n",
            "Installing collected packages: tensorboardX\n",
            "Successfully installed tensorboardX-2.1\n"
          ],
          "name": "stdout"
        }
      ]
    },
    {
      "cell_type": "code",
      "metadata": {
        "id": "IoNv0Ho7o03q"
      },
      "source": [
        "#!curl -L \"https://app.roboflow.com/ds/ny6dnPTT5a?key=jPReZgetEP\" > roboflow.zip; unzip roboflow.zip; rm roboflow.zip"
      ],
      "execution_count": null,
      "outputs": []
    },
    {
      "cell_type": "code",
      "metadata": {
        "colab": {
          "base_uri": "https://localhost:8080/"
        },
        "id": "W6Yuh_5g82gS",
        "outputId": "1c2c0594-f3b3-4958-d308-d10453555085"
      },
      "source": [
        "#data\n",
        "!gdown --id 1fwmfvBmwxkwa3W3h_WmBUdJ0mdGD5zrw\n",
        "!unzip data.zip; rm data.zip"
      ],
      "execution_count": null,
      "outputs": [
        {
          "output_type": "stream",
          "text": [
            "Downloading...\n",
            "From: https://drive.google.com/uc?id=1fwmfvBmwxkwa3W3h_WmBUdJ0mdGD5zrw\n",
            "To: /content/data.zip\n",
            "377MB [00:03, 102MB/s] \n",
            "Archive:  data.zip\n",
            " extracting: README.roboflow.txt     \n",
            "   creating: train/\n",
            " extracting: train/01_jpg.rf.1e00515689652811dba31a9c69257302.jpg  \n",
            " extracting: train/03_jpg.rf.17e339cc8a2fa253e40848d15c568c5a.jpg  \n",
            " extracting: train/04_jpg.rf.452aef3d00d9560fe5b591f8a1845fea.jpg  \n",
            " extracting: train/06_jpeg.rf.5a4bb3d080b2f480a709a19bcb760cb2.jpg  \n",
            " extracting: train/07_jpg.rf.3a3282d860139cf4b13a32d1a4e67979.jpg  \n",
            " extracting: train/08_jpg.rf.e7fd91c0e4e08db49d532971cd283e6a.jpg  \n",
            " extracting: train/101_jpg.rf.114ca6ef9492ae25ca81ec7288aaa851.jpg  \n",
            " extracting: train/105_jpg.rf.62b4678f801a0042b935810d762bcd23.jpg  \n",
            " extracting: train/107_jpg.rf.ce67f454a0429403679fb988e752826f.jpg  \n",
            " extracting: train/108_jpg.rf.fdf2583b7f0e307a1eb7801c3b0d4e21.jpg  \n",
            " extracting: train/109_jpg.rf.4040711424445249704d78ea661a9794.jpg  \n",
            " extracting: train/110_jpg.rf.cc2c422bdda5aa9771b320c7f25c3331.jpg  \n",
            " extracting: train/111_jpg.rf.5fe8e0b750b8e2c5cb470fe540ab3ab6.jpg  \n",
            " extracting: train/116_jpg.rf.55a8f4a6523aa4fc70caf3af59ce0a4a.jpg  \n",
            " extracting: train/117_jpg.rf.1dc9eac69c27935bcc9fb61a24628967.jpg  \n",
            " extracting: train/119_jpg.rf.781c1c261d650703ae1991b17f8a0403.jpg  \n",
            " extracting: train/122_jpg.rf.112a57bac883f92eaf2edc4c140ce3e8.jpg  \n",
            " extracting: train/123_jpg.rf.1319b1ca682da01586e68f8f1395eaf5.jpg  \n",
            " extracting: train/124_jpg.rf.d049d64436d9dd3e6d5577540f0a4ad7.jpg  \n",
            " extracting: train/125_jpg.rf.3e5d2b7ff62870578fbfe6b7b16e3a82.jpg  \n",
            " extracting: train/127_jpg.rf.10e52fa23296ab62e463daacc749c9d6.jpg  \n",
            " extracting: train/129_jpg.rf.95db19bc9543d92b41eb7894c5238efb.jpg  \n",
            " extracting: train/12_jpg.rf.276aa50a70e4560f9d046149fb2b2368.jpg  \n",
            " extracting: train/130_jpg.rf.0c0aa254184f73f23e64462649c47e05.jpg  \n",
            " extracting: train/131_jpg.rf.959bb5858cf5387a806c7cba3a6dd466.jpg  \n",
            " extracting: train/134_jpg.rf.201982535154a31cdc553786fff05273.jpg  \n",
            " extracting: train/135_jpg.rf.3f3dbb4ecf60407323e8fc51bcfc3baa.jpg  \n",
            " extracting: train/136_jpg.rf.c5c7d04e70652dfe5039957a26df2c35.jpg  \n",
            " extracting: train/137_jpg.rf.b7d88447ab0c580f4a2520762584c9dd.jpg  \n",
            " extracting: train/138_jpg.rf.b3c557255ce3f25a4b29fb18eeac0071.jpg  \n",
            " extracting: train/139_jpg.rf.f351214401671625544a9a74da151259.jpg  \n",
            " extracting: train/140_jpg.rf.cf122e9ba49656d0e6f9c397b0ef42c7.jpg  \n",
            " extracting: train/141_jpg.rf.58f336fb4d97b57892678c9752d55e3d.jpg  \n",
            " extracting: train/143_jpg.rf.c22fae671d7cdefaf1ee387f0a212347.jpg  \n",
            " extracting: train/144_jpg.rf.7d24b37fc8c91884c71c0b60cd24341a.jpg  \n",
            " extracting: train/146_jpg.rf.36763bf8432862267ab313674fcc7ae3.jpg  \n",
            " extracting: train/148_jpg.rf.0e185edf0b59bf1007b9492053d77efa.jpg  \n",
            " extracting: train/149_jpg.rf.10055a4d3ed9d119e5301f712fcf9767.jpg  \n",
            " extracting: train/14_jpg.rf.d869fe5ed6762cd7c6f82822200e80ba.jpg  \n",
            " extracting: train/150_jpg.rf.60cb23198ea593cf2dde3ea224d436b6.jpg  \n",
            " extracting: train/152_jpg.rf.cebe6296b7b4d769e24e8d3b7c5e7109.jpg  \n",
            " extracting: train/153_jpg.rf.b807b1a2d28d714c945b1e87f67fae7f.jpg  \n",
            " extracting: train/155_jpg.rf.24f13284b795cff5a05f5955b35c558c.jpg  \n",
            " extracting: train/156_jpg.rf.ca2555ba4a309546398b9f345da1aca9.jpg  \n",
            " extracting: train/157_jpg.rf.f2d491f8b232fae29754650a9eba61da.jpg  \n",
            " extracting: train/158_jpg.rf.80f91e5adcbbea8ef26dab96f0f20152.jpg  \n",
            " extracting: train/159_jpg.rf.a3a14fd99d2027091663dd22727748f9.jpg  \n",
            " extracting: train/161_jpg.rf.57f552473155e577cbb0e288da8c3e03.jpg  \n",
            " extracting: train/162_jpg.rf.39196547274197b095ea0adcde46076f.jpg  \n",
            " extracting: train/165_jpg.rf.3b544daacbc3ce14365ca50f9365eab0.jpg  \n",
            " extracting: train/166_jpg.rf.83e1e729329bb3163e4545fa0f66a2ee.jpg  \n",
            " extracting: train/167_jpg.rf.1b3574770e243abee8ad6aa218c3145a.jpg  \n",
            " extracting: train/168_jpg.rf.82a4876b5ce71179821da4313e82b1df.jpg  \n",
            " extracting: train/169_jpg.rf.f243e56bc0ee91834d17af79e5de679f.jpg  \n",
            " extracting: train/16_jpg.rf.22bc2651b999b790a7797853a8bcb3b8.jpg  \n",
            " extracting: train/170_jpg.rf.e91139d2009b13733ef17f98754852ea.jpg  \n",
            " extracting: train/171_jpg.rf.6dad0c30175dde54ff5eef15fb135419.jpg  \n",
            " extracting: train/172_jpg.rf.f5977625782de1cc7954049aff1eed89.jpg  \n",
            " extracting: train/174_jpg.rf.2bfa7f5c54033d57d233218900234a21.jpg  \n",
            " extracting: train/176_jpg.rf.8b421a8409bc2a72ff0d41e50ea0da5d.jpg  \n",
            " extracting: train/177_jpg.rf.3fbc0f796156da19cca3cde5b40ffed9.jpg  \n",
            " extracting: train/178_jpg.rf.589de49883d18114a3e012981d4cff47.jpg  \n",
            " extracting: train/179_jpg.rf.27bbaaee37fa51927d64eb188f20dda6.jpg  \n",
            " extracting: train/17_jpg.rf.57f6c2f0e0d899ab44766ef4d21f21a6.jpg  \n",
            " extracting: train/180_jpg.rf.5cfcdf0b5c16b868f299a67116847588.jpg  \n",
            " extracting: train/181_jpg.rf.ad202bcb7c162548c3c2a3c838232952.jpg  \n",
            " extracting: train/182_jpg.rf.6e2090f856e66657e00eff28c3caedd1.jpg  \n",
            " extracting: train/183_jpg.rf.8a8349ef2b26fcda5c05a83529f3b200.jpg  \n",
            " extracting: train/186_jpg.rf.439699642b1481683a23dfa2b86fb872.jpg  \n",
            " extracting: train/187_jpg.rf.65941f493da56afb14c67dd936e7204a.jpg  \n",
            " extracting: train/188_jpg.rf.623fd0fefdcd88534e06bc608fc7cc53.jpg  \n",
            " extracting: train/189_jpg.rf.823643bfa603342bd4bf807b16dc3de4.jpg  \n",
            " extracting: train/18_jpg.rf.85bd70c8569db4286d4ee930a409df6f.jpg  \n",
            " extracting: train/192_jpg.rf.3559d32571deddfd514f9fcddc787ddc.jpg  \n",
            " extracting: train/193_png.rf.93996ff36d688607e7eec8051d1212bf.jpg  \n",
            " extracting: train/195_png.rf.02c042a8b9ff3cf816ad474ebc914246.jpg  \n",
            " extracting: train/196_png.rf.ae542b67f82aef0afc3a754367124cb6.jpg  \n",
            " extracting: train/197_png.rf.731a5dec0e430089a86ebdaca776b519.jpg  \n",
            " extracting: train/199_png.rf.bf52bf9bf5557d891a633f4171da111a.jpg  \n",
            " extracting: train/19_jpg.rf.a7647d8617fcc4549f9bb6e345c63733.jpg  \n",
            " extracting: train/200_png.rf.a4e48d3fd92b4f4442c3684e74414dfb.jpg  \n",
            " extracting: train/202_png.rf.c5c22586b56b09c56133928d8ddde854.jpg  \n",
            " extracting: train/203_png.rf.6265fd3b998a9701dc97a30c6dd91742.jpg  \n",
            " extracting: train/204_png.rf.4f3c258db9fd4f049e005bd2db86633c.jpg  \n",
            " extracting: train/205_png.rf.eb70cb9d0c01578eafc356f4535fd595.jpg  \n",
            " extracting: train/206_jpg.rf.a1904e44311f05b746f7dc78a09bff47.jpg  \n",
            " extracting: train/207_jpg.rf.458f568400b40ba5cd90270e380cd2dd.jpg  \n",
            " extracting: train/211_jpg.rf.2703610f622a2d783135395124beb402.jpg  \n",
            " extracting: train/213_jpg.rf.63fa974971acd2c1002ca57401086275.jpg  \n",
            " extracting: train/214_jpg.rf.96d3ba30050b5f05535f5f215fc91d37.jpg  \n",
            " extracting: train/215_jpg.rf.091eaabfe76ea1f64186dc12cb73d000.jpg  \n",
            " extracting: train/217_jpg.rf.a40d2b8a7e3eb88acd65dace0b28f916.jpg  \n",
            " extracting: train/219_jpg.rf.34099ed3f8988fda8ccb759432946f9e.jpg  \n",
            " extracting: train/21_jpg.rf.bb95bf20899aaa2b53eaa44d1a972cb6.jpg  \n",
            " extracting: train/221_jpg.rf.428f1749f13e8825effa603fe2f66942.jpg  \n",
            " extracting: train/222_jpg.rf.35a305753109fee1d24ad83ced08d921.jpg  \n",
            " extracting: train/223_jpg.rf.0a2c87b26df1592a27599f8d3f738615.jpg  \n",
            " extracting: train/224_jpg.rf.7efb1bc654a14e1af4391c667cf83ca9.jpg  \n",
            " extracting: train/225_jpg.rf.b35d803b3294a26cafd816dadeed8894.jpg  \n",
            " extracting: train/226_jpg.rf.88e49d401f1a59fbf58b5350f46d3a60.jpg  \n",
            " extracting: train/227_jpg.rf.6c6f32cf5035c7568dbb57c3b634e8a5.jpg  \n",
            " extracting: train/228_jpg.rf.23743ec22854adcf77182e24c90b2d42.jpg  \n",
            " extracting: train/229_jpg.rf.fbab098d28b9cf3f475e3d47a560bfc5.jpg  \n",
            " extracting: train/22_jpg.rf.3607344fbecfc8bf30c44914e6405e91.jpg  \n",
            " extracting: train/230_jpg.rf.fce786d795abd5ce782859aa7ec3dd8f.jpg  \n",
            " extracting: train/233_jpg.rf.54d0e405c61611b12e85a22a91822cdc.jpg  \n",
            " extracting: train/236_jpg.rf.c0c66b456d4298823acfd02719b1e78d.jpg  \n",
            " extracting: train/237_jpg.rf.de321372210208076f39564de48a843f.jpg  \n",
            " extracting: train/238_jpg.rf.d04daba781b41a5c627391661ea63839.jpg  \n",
            " extracting: train/23_jpg.rf.04fe4e3e9e21b260eafbcaf6fadf2700.jpg  \n",
            " extracting: train/24_jpg.rf.ca4435f131b62128b4f06289b761b786.jpg  \n",
            " extracting: train/25_jpg.rf.0fe3b1593c7636a5b56e28bce0b50133.jpg  \n",
            " extracting: train/27_jpg.rf.2012f7c119f96e7817b28db03b6d9ef6.jpg  \n",
            " extracting: train/30_jpg.rf.c94fbfa969a9ef8013170d002f77d06c.jpg  \n",
            " extracting: train/31_jpg.rf.6e2a5e24f16f0d71029fdcc982933a9e.jpg  \n",
            " extracting: train/33_jpg.rf.df67d245860f4f1e4abdb305078db684.jpg  \n",
            " extracting: train/34_jpg.rf.120de29deb4e8d8684567ac6019877f5.jpg  \n",
            " extracting: train/36_jpg.rf.e1b153dd4fbab49cf7171b30cc17d336.jpg  \n",
            " extracting: train/37_jpg.rf.0b4893d646396f64af0fb6800479c577.jpg  \n",
            " extracting: train/38_jpg.rf.8dbdae89a59d8b02a9b0bf6e5c481972.jpg  \n",
            " extracting: train/40_jpg.rf.ef7943e3cd053512f1e415f01fb10aa8.jpg  \n",
            " extracting: train/41_jpg.rf.cc8c4262a45132d18888d482ae6c884e.jpg  \n",
            " extracting: train/42_jpg.rf.f79efea9cbebb0663774e4f69667fbb0.jpg  \n",
            " extracting: train/43_jpg.rf.765400d080bf3b1704a69bc293d651aa.jpg  \n",
            " extracting: train/45_jpg.rf.502193b8ce7cec3122198e6c9e74480c.jpg  \n",
            " extracting: train/46_jpg.rf.781407b3a588905c43df90185156bddf.jpg  \n",
            " extracting: train/47_jpg.rf.864d5a8fd75dc558b2636023aa77e8ba.jpg  \n",
            " extracting: train/48_jpg.rf.d715770710a30ddd2e3ddbab581aa12c.jpg  \n",
            " extracting: train/50_jpg.rf.90b6f615239eb312f8524c3f71e0086b.jpg  \n",
            " extracting: train/51_jpg.rf.db42ce23c4ad98b451c6fa67646790c3.jpg  \n",
            " extracting: train/52_jpg.rf.0fd05678355d635b5dec7af8784c7a05.jpg  \n",
            " extracting: train/53_jpg.rf.97062f42df60dc0d680a61462cb5e8c4.jpg  \n",
            " extracting: train/54_jpg.rf.effa08694240a9b553f6a8977c432e7a.jpg  \n",
            " extracting: train/55_jpg.rf.37d4f497e49bfb7518a86c18eb9b3da0.jpg  \n",
            " extracting: train/56_jpg.rf.5073194aaa3b7bb1ef5cb82548b0c2ca.jpg  \n",
            " extracting: train/57_jpg.rf.cffb5498ab022519f82a08dde2a41568.jpg  \n",
            " extracting: train/58_jpg.rf.271979050835d7c331c0a773ff73e8cf.jpg  \n",
            " extracting: train/59_jpg.rf.29d32da262dd38b75b0c07db63d59be8.jpg  \n",
            " extracting: train/62_jpg.rf.44bc5931a1f6675095ea7ffe6ffc3181.jpg  \n",
            " extracting: train/63_jpg.rf.6d6d92889d7152b4bd076a4e5deb2276.jpg  \n",
            " extracting: train/64_jpg.rf.422a2b86a32d186468c7e11add186e85.jpg  \n",
            " extracting: train/65_jpeg.rf.cbde7fc6576cdceba632018673045e78.jpg  \n",
            " extracting: train/66_jpg.rf.dbf837e53b3ff763fec3c68d35979b82.jpg  \n",
            " extracting: train/68_jpg.rf.f7a44ce06e44a08beeb833e31e9d42b2.jpg  \n",
            " extracting: train/69_jpg.rf.3be0ea095034cafb443c2a1fa6fc4aa0.jpg  \n",
            " extracting: train/70_jpg.rf.839443371d5d3ab46cd5d9172bf13b25.jpg  \n",
            " extracting: train/71_jpg.rf.989244b68f8934abee15aa7418a22187.jpg  \n",
            " extracting: train/73_jpg.rf.65b9dca6c4c12180c35abd42f8e543bb.jpg  \n",
            " extracting: train/74_jpg.rf.2460c3d201b5ad3d8eae5a472e1fbc30.jpg  \n",
            " extracting: train/75_jpg.rf.e21954b027c6337625a7184995aee960.jpg  \n",
            " extracting: train/76_jpg.rf.6cf405d9781a3029aaf8dbb6f47a7098.jpg  \n",
            " extracting: train/77_jpg.rf.27a84b8f7a1ba8710893b7b796233db4.jpg  \n",
            " extracting: train/78_jpg.rf.1426d467a5fa666b7c943355e0cf177a.jpg  \n",
            " extracting: train/79_jpg.rf.a322340f9849481e2267f21e8ed87763.jpg  \n",
            " extracting: train/80_jpg.rf.a61711dd7a7b8df4f84143e1c906d210.jpg  \n",
            " extracting: train/81_jpg.rf.1647e65d5055a92fcf8aedd039a7dbe8.jpg  \n",
            " extracting: train/82_jpg.rf.3d4c2a1db1f79cc46cfb4b6a7860394c.jpg  \n",
            " extracting: train/86_JPG.rf.8679ae7786f2ae269c9100475eeb2064.jpg  \n",
            " extracting: train/87_JPG.rf.6a1c298f048328704fddaa8ffeafe52e.jpg  \n",
            " extracting: train/88_JPG.rf.266610ca3c2b5a9dfbb8a4db4d73c312.jpg  \n",
            " extracting: train/89_jpg.rf.4833f8152418844c6b047cdd521712bf.jpg  \n",
            " extracting: train/90_jpg.rf.4a2dc68087b25f83b2360558f73fe944.jpg  \n",
            " extracting: train/92_jpg.rf.321aacd6059299ce794d3272521751c0.jpg  \n",
            " extracting: train/93_jpg.rf.60b0e35d45a7b65052a63fbef22a39cc.jpg  \n",
            " extracting: train/95_jpg.rf.cc80c6a4ead016dfda5ca34b1b0be59d.jpg  \n",
            " extracting: train/96_jpg.rf.5836bf72c3a385365803449eefef9ef8.jpg  \n",
            " extracting: train/98_jpg.rf.149fc5e5025421128e25e5dae2fb7613.jpg  \n",
            " extracting: train/99_jpg.rf.b1b121b22dacda1543660ee6477c5a55.jpg  \n",
            " extracting: train/Asraf_01_jpg.rf.a270d90282b4233ca5458b7e1111dfc9.jpg  \n",
            " extracting: train/Asraf_02_jpg.rf.ed60db8dbb235d61085d71fe104e5679.jpg  \n",
            " extracting: train/Asraf_03_jpg.rf.fcce3d7712cec73a95fa67cfc2677cb2.jpg  \n",
            " extracting: train/Asraf_04_jpg.rf.e2c83e226a8d6ce67558986481779319.jpg  \n",
            " extracting: train/Asraf_05_jpg.rf.447bbec7e4270c56eec0647bd5629d78.jpg  \n",
            " extracting: train/Asraf_06_jpg.rf.ce8ba2475267acb31f3c0004355b58cf.jpg  \n",
            " extracting: train/Asraf_07_jpg.rf.be7624b7ec840a475d13b6e6b0753a37.jpg  \n",
            " extracting: train/Asraf_09_jpg.rf.bbc6f924fe06334cedbb6f9f40030bd7.jpg  \n",
            " extracting: train/Asraf_10_jpg.rf.a61915957b814bceee54459c77215d3d.jpg  \n",
            " extracting: train/Asraf_12_jpg.rf.2ae27a959585120ae17ad4059bc0e7fd.jpg  \n",
            " extracting: train/Asraf_14_jpg.rf.0f88e7e41edfd1f338b46d25d6b8c340.jpg  \n",
            " extracting: train/Asraf_15_jpg.rf.be449b7835126f9f0a05c90dbd2dad85.jpg  \n",
            " extracting: train/Asraf_17_jpg.rf.0b43462f927a780fc13808db2fd6a220.jpg  \n",
            " extracting: train/Asraf_20_jpg.rf.4ec7446b6b722e240c6016209274852c.jpg  \n",
            " extracting: train/Asraf_21_jpg.rf.b50495070d5f5b4b59adab07b1a81862.jpg  \n",
            " extracting: train/Asraf_22_jpg.rf.364ba6fd65f73530eb6939a6a8218620.jpg  \n",
            " extracting: train/Asraf_25_jpg.rf.d9be4f77dd15802d5db24db8917a3b97.jpg  \n",
            " extracting: train/Asraf_26_jpg.rf.40c2be8eca160b283b7a3ea873d66fd6.jpg  \n",
            " extracting: train/Asraf_28_jpg.rf.578c9cff39527dfa3c80e2c223ab920f.jpg  \n",
            " extracting: train/Asraf_29_jpg.rf.16109808823a4f294c4f5cc8c98fe888.jpg  \n",
            " extracting: train/Asraf_30_jpg.rf.6848644a8efca688c432b4af06bfadc4.jpg  \n",
            " extracting: train/Asraf_31_jpg.rf.ebb89e1c39b327e74122c3871e58028c.jpg  \n",
            " extracting: train/Asraf_33_jpg.rf.32ec7ca608d594166dd877c4b474c9be.jpg  \n",
            " extracting: train/Asraf_34_jpg.rf.40e644193c7a344685be6840e1a53532.jpg  \n",
            " extracting: train/Asraf_35_jpg.rf.202738043b37f0a1bbd254879021d540.jpg  \n",
            " extracting: train/Asraf_36_jpg.rf.415998bf00c883f30a7f5ae9882c8f45.jpg  \n",
            " extracting: train/Asraf_38_jpg.rf.35fd047b287c1af1cbb5171bf5907af8.jpg  \n",
            " extracting: train/Asraf_39_jpg.rf.c03aa70cfbfff827681216c911e84e2e.jpg  \n",
            " extracting: train/Asraf_40_jpg.rf.36c330be55eef1f70a3737306f67b208.jpg  \n",
            " extracting: train/Asraf_41_jpg.rf.a1cf602f2cd6ffce07aab1219c4fb237.jpg  \n",
            " extracting: train/Asraf_42_jpg.rf.1cd0dc6a63845d0cf23a50e83fcab30b.jpg  \n",
            " extracting: train/Asraf_44_jpg.rf.2d1d16fea8a4bbddaf27bb21b52042c8.jpg  \n",
            " extracting: train/Asraf_45_jpg.rf.c1167f6f0103319f9cb31fb568f50d66.jpg  \n",
            " extracting: train/Asraf_47_jpg.rf.e15c976f4c1473f9dcfdb7e9b06844b5.jpg  \n",
            " extracting: train/Asraf_49_jpg.rf.41b3caf3be49654054ebb914da7f88d3.jpg  \n",
            " extracting: train/Asraf_54_jpg.rf.5ccba983778ab7965aa55af03e09484a.jpg  \n",
            " extracting: train/Asraf_55_jpg.rf.5c87bc458ffe21cd09278e85d8b5e93e.jpg  \n",
            " extracting: train/Asraf_57_jpg.rf.bf2df94cd960a2ae465c3dcc87086949.jpg  \n",
            " extracting: train/Asraf_58_jpg.rf.e0b6519d84f9d957f04d14d547001cba.jpg  \n",
            " extracting: train/Asraf_59_jpg.rf.66e77a85c44e47dd6b301d5a25005faa.jpg  \n",
            " extracting: train/Asraf_61_jpg.rf.a7a53602d0c5813bf58ad6a3ee845fe8.jpg  \n",
            " extracting: train/Asraf_62_jpg.rf.f8abb8850a8e81731d39e7b2ce567614.jpg  \n",
            " extracting: train/Asraf_63_jpg.rf.5753a805dd5d5498e940e682933740d4.jpg  \n",
            " extracting: train/Dipto_ 100_jpg.rf.1f383b1452187577a97a7ef6f519c63f.jpg  \n",
            " extracting: train/Dipto_ 101_jpg.rf.47e67a51429fcf4367dd2742909e41f8.jpg  \n",
            " extracting: train/Dipto_ 103_jpg.rf.8b93871cb2d29f6165234eea825a954f.jpg  \n",
            " extracting: train/Dipto_ 105_jpg.rf.6b2f65066d0eb35722542f70f2e53182.jpg  \n",
            " extracting: train/Dipto_ 106_jpg.rf.a4933325d7aa51b65847a2201dd19c7b.jpg  \n",
            " extracting: train/Dipto_ 109_jpg.rf.1125349ddc9ae0d0ff866371d865866a.jpg  \n",
            " extracting: train/Dipto_ 113_jpg.rf.a967550d7bfc0e9a80b1c8bd43e41a04.jpg  \n",
            " extracting: train/Dipto_ 114_jpg.rf.c526aa648991700e46437bb3b55d2e52.jpg  \n",
            " extracting: train/Dipto_ 117_jpg.rf.2205cfd14ed4b45f45d742e7ebb6a3f4.jpg  \n",
            " extracting: train/Dipto_ 118_jpg.rf.2d4ba32aae7003b5d17b86d8fa318a00.jpg  \n",
            " extracting: train/Dipto_ 120_jpg.rf.dc52b46d72846238c5110c4de15ae33d.jpg  \n",
            " extracting: train/Dipto_ 123_jpg.rf.c3f7199d1574c6638984d82def28ad86.jpg  \n",
            " extracting: train/Dipto_ 125_jpg.rf.a8102d5f4986d628fe2b4d1117376a07.jpg  \n",
            " extracting: train/Dipto_ 126_jpg.rf.2bfd00fcd4e4b8b0c143c85454220437.jpg  \n",
            " extracting: train/Dipto_ 127_jpg.rf.a97100e1c190f9b074f3687c9ca3330d.jpg  \n",
            " extracting: train/Dipto_ 128_jpg.rf.7d2a552112bd13dbec94a8a0dacc0624.jpg  \n",
            " extracting: train/Dipto_ 129_jpg.rf.18703c07e5d54cb33e51641846436253.jpg  \n",
            " extracting: train/Dipto_ 130_jpg.rf.43de4a5d3a8e53e86037a1de4a51453b.jpg  \n",
            " extracting: train/Dipto_ 133_jpg.rf.5b7b9473e07e0da5a05e56ab2db1f965.jpg  \n",
            " extracting: train/Dipto_ 134_jpg.rf.85a38df909d96f8e5ed19123a48df58c.jpg  \n",
            " extracting: train/Dipto_ 136_jpg.rf.a301445be737c5a58b987cb4127a4d49.jpg  \n",
            " extracting: train/Dipto_ 138_jpg.rf.9bc6d6fed78ed363630272136a8e1ab8.jpg  \n",
            " extracting: train/Dipto_ 143_jpg.rf.77784894e5c0811ad05083ef23f1b5d6.jpg  \n",
            " extracting: train/Dipto_ 145_jpg.rf.c249c153c0ec68af7e28ecda514a5825.jpg  \n",
            " extracting: train/Dipto_ 146_jpg.rf.1c5ef0c2d2ef155ce9980f3f570e613d.jpg  \n",
            " extracting: train/Dipto_ 147_jpg.rf.25324676a1b724c84eda286b10027874.jpg  \n",
            " extracting: train/Dipto_ 148_jpg.rf.42efeb5625727685778b2f89f4cbf9a2.jpg  \n",
            " extracting: train/Dipto_ 152_jpg.rf.d6f9bab81008e97bb7db8c140d6d5d4f.jpg  \n",
            " extracting: train/Dipto_ 153_jpg.rf.b1987123a4c65c0275e9c5ba43efcc24.jpg  \n",
            " extracting: train/Dipto_ 156_jpg.rf.0006481b95873e47a9d8f26607d4d089.jpg  \n",
            " extracting: train/Dipto_ 157_jpg.rf.e912c49a294959086b90739cd75aff29.jpg  \n",
            " extracting: train/Dipto_ 158_jpg.rf.27a0577b2274a5ad3400e8ee033261c9.jpg  \n",
            " extracting: train/Dipto_ 159_jpg.rf.331b9897521867bb3927576c86ed1020.jpg  \n",
            " extracting: train/Dipto_ 163_jpg.rf.0d41a92c1ebd666dce70a630c3c8fea8.jpg  \n",
            " extracting: train/Dipto_ 164_jpg.rf.d4dcfa81c6b88f894d847b0dd5ec4230.jpg  \n",
            " extracting: train/Dipto_ 165_jpg.rf.d93debdcaa6ca1490ac069a6b3883b6f.jpg  \n",
            " extracting: train/Dipto_ 166_jpg.rf.f6129c9034104c4b8fedaffea88e8def.jpg  \n",
            " extracting: train/Dipto_ 167_jpg.rf.d79798b9adc070789bd777a44b10dd04.jpg  \n",
            " extracting: train/Dipto_ 168_jpg.rf.85fd847a31017b70a96e7c13fbe4f234.jpg  \n",
            " extracting: train/Dipto_ 169_jpg.rf.2e9ddc8fd5f08175349ee4b6a083e799.jpg  \n",
            " extracting: train/Dipto_ 172_jpg.rf.aeb9848b180ec94e7fbb609497cafabf.jpg  \n",
            " extracting: train/Dipto_ 173_jpg.rf.98af2b9ffdf5061684abf91bc6569e7a.jpg  \n",
            " extracting: train/Dipto_ 174_jpg.rf.cd9f3b5e156fe17bdcdd73867d49f9b1.jpg  \n",
            " extracting: train/Dipto_ 177_jpg.rf.785e336c29c64765d5434390f07d2322.jpg  \n",
            " extracting: train/Dipto_ 178_jpg.rf.0c9fb8780e04b24a8c4e4b3521ffc730.jpg  \n",
            " extracting: train/Dipto_ 179_jpg.rf.9d1e38c1bdeef22011360572c5b3964f.jpg  \n",
            " extracting: train/Dipto_ 180_jpg.rf.c8592a66e600a01ccd8d9e5783f14bcb.jpg  \n",
            " extracting: train/Dipto_ 182_jpg.rf.07d180c4e24005fd18d3ad426a6a0ebc.jpg  \n",
            " extracting: train/Dipto_ 184_jpg.rf.69f5160e8e8eb273e02a3c09da443860.jpg  \n",
            " extracting: train/Dipto_ 187_jpg.rf.1884411dc73f86adeb1140a0e6c89079.jpg  \n",
            " extracting: train/Dipto_ 188_jpg.rf.677ea8949cb5a92bc6db8936ab445146.jpg  \n",
            " extracting: train/Dipto_ 189_jpg.rf.bf0b90514c814ada1d9a1e9a060ceade.jpg  \n",
            " extracting: train/Dipto_ 190_jpg.rf.8c411b2b16a72f5a1c283829a7631071.jpg  \n",
            " extracting: train/Dipto_ 191_jpg.rf.3fa4b13a8bd74248ca942a66b19d326b.jpg  \n",
            " extracting: train/Dipto_ 192_jpg.rf.bbc65a554caea489e9c786d592a3b1b6.jpg  \n",
            " extracting: train/Dipto_ 194_jpg.rf.e67054216f0340a0b8ff65d8d2f391af.jpg  \n",
            " extracting: train/Dipto_ 195_jpg.rf.522a87409ecbd168cd37754fcb975f23.jpg  \n",
            " extracting: train/Dipto_ 196_jpg.rf.18b68e323f5754b277dc2be8488a3df1.jpg  \n",
            " extracting: train/Dipto_ 198_jpg.rf.0726bcad6f8337423cad3a71e1e880a8.jpg  \n",
            " extracting: train/Dipto_ 199_jpg.rf.7255a1daeee077aff61a894cc0ba3d47.jpg  \n",
            " extracting: train/Dipto_ 201_jpg.rf.9e8de4eec41ce163780e85b69793a176.jpg  \n",
            " extracting: train/Dipto_ 202_jpg.rf.05360b7ce905dc2e60f6a31c4ac8f13d.jpg  \n",
            " extracting: train/Dipto_ 203_jpg.rf.22db86bbbb027329364a0d919038f4f6.jpg  \n",
            " extracting: train/Dipto_ 204_jpg.rf.72662d6d0ac2e59d58471d29bc667220.jpg  \n",
            " extracting: train/Dipto_ 205_jpg.rf.6b7adbe3a7d2a5603ae63e1607a8bd8b.jpg  \n",
            " extracting: train/Dipto_ 206_jpg.rf.08a8ddeb61ea217182e1e86c3669519e.jpg  \n",
            " extracting: train/Dipto_ 207_jpg.rf.9bcb386715d9c46cd2d24e57618a982f.jpg  \n",
            " extracting: train/Dipto_ 208_jpg.rf.b3863e9e61e1d49a5547c35fe6459544.jpg  \n",
            " extracting: train/Dipto_ 209_jpg.rf.7dcd04f7b6712f6659e71bf5dfee52e0.jpg  \n",
            " extracting: train/Dipto_ 210_jpg.rf.797be897c5130b0981869ba456cfdd22.jpg  \n",
            " extracting: train/Dipto_ 211_jpg.rf.ca0f6d643e67df0c6a6573967b7f44bc.jpg  \n",
            " extracting: train/Dipto_ 212_jpg.rf.477b5464007f6f2e1288eaed0cb57e53.jpg  \n",
            " extracting: train/Dipto_ 213_jpg.rf.9d0fb71defda15c2802968f0159bcb34.jpg  \n",
            " extracting: train/Dipto_ 214_jpg.rf.dd2772a697fd241388104c9a27398a4b.jpg  \n",
            " extracting: train/Dipto_ 215_jpg.rf.396fb30e8c3227947ee05442791fe8e7.jpg  \n",
            " extracting: train/Dipto_ 216_jpg.rf.7d43237bd210181148131341b342776a.jpg  \n",
            " extracting: train/Dipto_ 219_jpg.rf.a5ca6a07db4eba610e67e9d5fa4fe173.jpg  \n",
            " extracting: train/Dipto_ 222_jpg.rf.9ebbf088be9e71d686263f616d1511f3.jpg  \n",
            " extracting: train/Dipto_ 223_jpg.rf.d24d37850131e8c01d120c33b31dd635.jpg  \n",
            " extracting: train/Dipto_ 225_jpg.rf.d0a006cc38b216ea1c19b9dd1d534ba9.jpg  \n",
            " extracting: train/Dipto_ 227_jpg.rf.e212f4e6271d2824a9c720c5d0833db8.jpg  \n",
            " extracting: train/Dipto_ 228_jpg.rf.b128e1d663619ac566ddae1c03cf521f.jpg  \n",
            " extracting: train/Dipto_ 229_jpg.rf.e5d8963b32f639cf84b72a42a534927b.jpg  \n",
            " extracting: train/Dipto_ 230_jpg.rf.bfc44210286fa0f4d3bb150e08c3fd7a.jpg  \n",
            " extracting: train/Dipto_ 231_jpg.rf.83df7153d84158d636508beda0619bf1.jpg  \n",
            " extracting: train/Dipto_ 233_jpg.rf.0aa6240e8b50e8d2621d9840158c5ef9.jpg  \n",
            " extracting: train/Dipto_ 236_jpg.rf.916def2ae199e32cca00c83abff19f43.jpg  \n",
            " extracting: train/Dipto_ 239_jpg.rf.d741cbab6ee9f99425249082e35abe85.jpg  \n",
            " extracting: train/Dipto_ 240_jpg.rf.deda1ff66664844c387c9381f8ffc044.jpg  \n",
            " extracting: train/Dipto_ 241_jpg.rf.183f6d5c6cb1b1f4ad49b74aaf43d470.jpg  \n",
            " extracting: train/Dipto_ 242_jpg.rf.e11b24854c986ab95e3b2a36b11e853c.jpg  \n",
            " extracting: train/Dipto_ 243_jpg.rf.83cecbf03e669913b7564b40ff2d5967.jpg  \n",
            " extracting: train/Dipto_ 244_jpg.rf.baa424cbe1afd25d70c78150b9f90942.jpg  \n",
            " extracting: train/Dipto_ 245_jpg.rf.4be984c754410fef300fcabf668665e9.jpg  \n",
            " extracting: train/Dipto_ 246_jpg.rf.c03dcc95f403ffcf589e215efa50f2cc.jpg  \n",
            " extracting: train/Dipto_ 247_jpg.rf.0b5950646bd41bb901b7fa9cc6425421.jpg  \n",
            " extracting: train/Dipto_ 248_jpg.rf.5dfa6937d4270206152d4094fdeb8b7c.jpg  \n",
            " extracting: train/Dipto_ 249_jpg.rf.cae67d8257b46a9bd5868b4fa4ff87bc.jpg  \n",
            " extracting: train/Dipto_ 250_jpg.rf.8505f6118bbe1c24d3d128b8b9285fe4.jpg  \n",
            " extracting: train/Dipto_ 252_jpg.rf.6549a227c0e77df5e72b8ce2130fa235.jpg  \n",
            " extracting: train/Dipto_ 257_jpg.rf.2fba5413e4e63cec06584a39886ed6c8.jpg  \n",
            " extracting: train/Dipto_ 258_jpg.rf.8696c99e4ef281ea07c28a375d6690fc.jpg  \n",
            " extracting: train/Dipto_ 260_jpg.rf.3e680e85fe7786fff45f79017b2c9ac0.jpg  \n",
            " extracting: train/Dipto_ 261_jpg.rf.c6980f75c80e8d0cfc3438dc230599b4.jpg  \n",
            " extracting: train/Dipto_ 262_jpg.rf.aa529123d26b39fbeab85c0f5775dbb1.jpg  \n",
            " extracting: train/Dipto_ 263_jpg.rf.90262d08f864e234aad5a1ea99890ac9.jpg  \n",
            " extracting: train/Dipto_ 264_jpg.rf.ca0e4879c06e92e46e9914b009558f81.jpg  \n",
            " extracting: train/Dipto_ 266_jpg.rf.d3b2b8be5bbaa96277117acc91b6ab7e.jpg  \n",
            " extracting: train/Dipto_ 268_jpg.rf.943fb5282c9d2bba963268c0a6ff3493.jpg  \n",
            " extracting: train/Dipto_ 270_jpg.rf.91d1454bd96bded5b200cd83675c2702.jpg  \n",
            " extracting: train/Dipto_ 271_jpg.rf.304ee3b66c4c798de4e0e00b2924469a.jpg  \n",
            " extracting: train/Dipto_ 273_jpg.rf.f1f967906dad4b2bf646909da6e0eabc.jpg  \n",
            " extracting: train/Dipto_ 274_jpg.rf.e0ee442bb64381313a16a9607cf577da.jpg  \n",
            " extracting: train/Dipto_ 277_jpg.rf.9dd6b7d7d24f72905cb91f5bc616f0fe.jpg  \n",
            " extracting: train/Dipto_ 278_jpg.rf.65b3acdac28869d879d638bc78b7845e.jpg  \n",
            " extracting: train/Dipto_ 279_jpg.rf.183a6cef2ebcbb70ec85c4bf79ce2362.jpg  \n",
            " extracting: train/Dipto_ 280_jpg.rf.46b8b88405995302e1c040b1c27557a0.jpg  \n",
            " extracting: train/Dipto_ 282_jpg.rf.09644ebe0bb3d09c4fb080a417876574.jpg  \n",
            " extracting: train/Dipto_ 283_jpg.rf.214c301338b79c7411ae27a4c748b609.jpg  \n",
            " extracting: train/Dipto_ 284_jpg.rf.f2804b88290e74dd8e8e8bcc430d70e6.jpg  \n",
            " extracting: train/Dipto_ 285_jpg.rf.5943d3a31001cef3a15a26b10205c402.jpg  \n",
            " extracting: train/Dipto_ 286_jpg.rf.c2309ec7d10c0acfb59b0fd0e913f84c.jpg  \n",
            " extracting: train/Dipto_ 288_jpg.rf.c9874e18546bbf4baa828332bf0fcf55.jpg  \n",
            " extracting: train/Dipto_ 289_jpg.rf.81fc109be58818f26f24f5ecf92c85cb.jpg  \n",
            " extracting: train/Dipto_ 292_jpg.rf.045a111e1510f60e8054da9bf16d2183.jpg  \n",
            " extracting: train/Dipto_ 293_jpg.rf.c5d702819c21588f6a7731d74a79632f.jpg  \n",
            " extracting: train/Dipto_ 294_jpg.rf.7bd9d71fbb05dee1d039fb42cfd5c660.jpg  \n",
            " extracting: train/Dipto_ 295_jpg.rf.ece10ea49f7c404c4e955e621a7e1dea.jpg  \n",
            " extracting: train/Dipto_ 296_jpg.rf.f1e5103a126ddaedf7bf3775f2e0dc31.jpg  \n",
            " extracting: train/Dipto_ 298_jpg.rf.38cd8b8079e386e4a6c55bd7c3938d4a.jpg  \n",
            " extracting: train/Dipto_ 300_jpg.rf.5bc72ec5d21c9119ed60e4d0cdc2ecd6.jpg  \n",
            " extracting: train/Dipto_ 301_jpg.rf.714515478354dc2cdb87f5d995cd4ba2.jpg  \n",
            " extracting: train/Dipto_ 303_jpg.rf.18347e73004fc1be0d8735556465083c.jpg  \n",
            " extracting: train/Dipto_ 304_jpg.rf.4d77b3a75d7c9965b39887c6ea0e6ed3.jpg  \n",
            " extracting: train/Dipto_ 308_jpg.rf.321edf3fd7a3b7edbbe31aa035534686.jpg  \n",
            " extracting: train/Dipto_ 310_jpg.rf.6d260745747f448a8b303b1280711c2e.jpg  \n",
            " extracting: train/Dipto_ 312_jpg.rf.d5028e713c49950b93e444c873d00d8f.jpg  \n",
            " extracting: train/Dipto_ 313_jpg.rf.fdd093a34709225af0bbd4fb4702db52.jpg  \n",
            " extracting: train/Dipto_ 315_jpg.rf.db95b322e7390ae2521eae5ef6b4aa7b.jpg  \n",
            " extracting: train/Dipto_ 317_jpg.rf.d809454f7ac50baf4c51d8b11521dc40.jpg  \n",
            " extracting: train/Dipto_ 318_jpg.rf.6f0c60da4f1ab17b84f32cfdcb8742f1.jpg  \n",
            " extracting: train/Dipto_ 319_jpg.rf.af3e76017ba55c4eb8a5f2e621034f21.jpg  \n",
            " extracting: train/Dipto_ 320_jpg.rf.6f40b4a1bf72bf92cd07c32cd000efc4.jpg  \n",
            " extracting: train/Dipto_ 322_jpg.rf.25137d4fcc703f132e718eb3748110af.jpg  \n",
            " extracting: train/Dipto_ 323_jpg.rf.b9cbc357c4f5f7d8ed9a4b047845c504.jpg  \n",
            " extracting: train/Dipto_ 325_jpg.rf.d01680f96792fd2cddac02531f0c933d.jpg  \n",
            " extracting: train/Dipto_ 326_jpg.rf.a31836cc7187c18a59e94803201b01ac.jpg  \n",
            " extracting: train/Dipto_ 327_jpg.rf.7cbf2398fdc5143c1ff4a81ffa722eca.jpg  \n",
            " extracting: train/Dipto_ 328_jpg.rf.8d3d172581d1607264cbcab7e07cd035.jpg  \n",
            " extracting: train/Dipto_ 329_jpg.rf.10471cc62ddcabcb2d5bcbf34f298c12.jpg  \n",
            " extracting: train/Dipto_ 331_jpg.rf.5683fc694b5f1180976ed4d309acd2e2.jpg  \n",
            " extracting: train/Dipto_ 332_jpg.rf.7c2a475a202d15b631f92c65c46aebd4.jpg  \n",
            " extracting: train/Dipto_ 334_jpg.rf.53b7e39bc0f46f61c72e407528b4f4fb.jpg  \n",
            " extracting: train/Dipto_ 335_jpg.rf.dc38ddf52c30421175baaf9505c40a9f.jpg  \n",
            " extracting: train/Dipto_ 338_jpg.rf.9bed5d58e448a87020906ca1bc782f4f.jpg  \n",
            " extracting: train/Dipto_ 339_jpg.rf.7e9ca86bc75ec2012aea0a8002078a05.jpg  \n",
            " extracting: train/Dipto_ 340_jpg.rf.657332105606e4af2afc37ecddfc7487.jpg  \n",
            " extracting: train/Dipto_ 341_jpg.rf.1f4a77ca78f08d65fea3943c8d88aefe.jpg  \n",
            " extracting: train/Dipto_ 342_jpg.rf.df2cad9692b773849e8010cfaf80e501.jpg  \n",
            " extracting: train/Dipto_ 343_jpg.rf.463612286622e66a37bb9a08dd730656.jpg  \n",
            " extracting: train/Dipto_ 40_jpg.rf.6efdec4a331800c09f165dbfef61e317.jpg  \n",
            " extracting: train/Dipto_ 41_jpg.rf.e7862526b2c7d7e286feb16f20ce6cc9.jpg  \n",
            " extracting: train/Dipto_ 45_jpg.rf.06060f5fff615a977b088bfcc976c1e1.jpg  \n",
            " extracting: train/Dipto_ 47_jpg.rf.e1b20ce93590a3b1476ff08b9bbe6e1f.jpg  \n",
            " extracting: train/Dipto_ 48_jpg.rf.47df63019bbe6daa6740c6c6406f3739.jpg  \n",
            " extracting: train/Dipto_ 49_jpg.rf.a16ef5468a8c7e926c3dd15bcb1efafc.jpg  \n",
            " extracting: train/Dipto_ 50_jpg.rf.8c5ed6e3e8ad738d6f2e8ffec13a0421.jpg  \n",
            " extracting: train/Dipto_ 51_jpg.rf.0cfe6c4983a0a2df20f77db638840d97.jpg  \n",
            " extracting: train/Dipto_ 53_jpg.rf.fa5470a2c42d20fb2fa371b391d90685.jpg  \n",
            " extracting: train/Dipto_ 54_jpg.rf.d20e3778233c8a1c32cf5508360f55ee.jpg  \n",
            " extracting: train/Dipto_ 55_jpg.rf.b5d96b558951709f3fb85b832bbcc474.jpg  \n",
            " extracting: train/Dipto_ 57_jpg.rf.535a6e0689eea88e66742104dd02b986.jpg  \n",
            " extracting: train/Dipto_ 61_jpg.rf.4aff5d853fd2df46858823c10946611e.jpg  \n",
            " extracting: train/Dipto_ 62_jpg.rf.220a6e30fc064c355179ac38d296d337.jpg  \n",
            " extracting: train/Dipto_ 63_jpg.rf.cac20eac2c86f2c29b229dcc2f061a3c.jpg  \n",
            " extracting: train/Dipto_ 65_jpg.rf.9549fcf227df60fe62a605ed0eff8296.jpg  \n",
            " extracting: train/Dipto_ 67_jpg.rf.fb95697cd251f71be5aaf4ee986942aa.jpg  \n",
            " extracting: train/Dipto_ 68_jpg.rf.048f9e2a8325a2f9be29dc80c8053db7.jpg  \n",
            " extracting: train/Dipto_ 71_jpg.rf.32f4afbf15aac61425d6353a18a39d45.jpg  \n",
            " extracting: train/Dipto_ 72_jpg.rf.f3185f3c97f53f8fcf5a708cb4bbb583.jpg  \n",
            " extracting: train/Dipto_ 73_jpg.rf.cc0564ed2d1eede2f685889ffefab906.jpg  \n",
            " extracting: train/Dipto_ 74_jpg.rf.baf638fb1a3f902f24575cd21fc848d7.jpg  \n",
            " extracting: train/Dipto_ 75_jpg.rf.8e11df823b113d35f61c1d1695bd893c.jpg  \n",
            " extracting: train/Dipto_ 76_jpg.rf.94f9241f63767d3a693da619c5e6efa1.jpg  \n",
            " extracting: train/Dipto_ 77_jpg.rf.903d32cf1b291d79829ff8ee34ed1ac4.jpg  \n",
            " extracting: train/Dipto_ 78_jpg.rf.e32cdf5cfd3c07f274bf29958c0d6548.jpg  \n",
            " extracting: train/Dipto_ 80_jpg.rf.a32c35c41af2af44f8c9d8578388f520.jpg  \n",
            " extracting: train/Dipto_ 81_jpg.rf.64d72980a597858046bdb96b46d59c75.jpg  \n",
            " extracting: train/Dipto_ 82_jpg.rf.6ae6d099b3d5db13485eb606f3074895.jpg  \n",
            " extracting: train/Dipto_ 83_jpg.rf.8eec253216c1914ae893c9e2b2fd3ce8.jpg  \n",
            " extracting: train/Dipto_ 85_jpg.rf.5814c158584e0d43b43025b5e67f5cac.jpg  \n",
            " extracting: train/Dipto_ 86_jpg.rf.0f5d7c090100f87d809737d43bf32a5b.jpg  \n",
            " extracting: train/Dipto_ 88_jpg.rf.2f372133a5d1ae7a4ecd39e504474443.jpg  \n",
            " extracting: train/Dipto_ 89_jpg.rf.34caa200d1084b54082f28f29b78779a.jpg  \n",
            " extracting: train/Dipto_ 90_jpg.rf.13d494a41dc8335f4269d79ca6c715e7.jpg  \n",
            " extracting: train/Dipto_ 91_jpg.rf.9d92fe8ea64e352afde67bba70c43240.jpg  \n",
            " extracting: train/Dipto_ 92_jpg.rf.3c194a82a80c8621a11fbea43fae7020.jpg  \n",
            " extracting: train/Dipto_ 93_jpg.rf.8004320644c12ac5961d4e2c6924081f.jpg  \n",
            " extracting: train/Dipto_ 94_jpg.rf.8ef3d992d7b5d551d54b18988cce9e18.jpg  \n",
            " extracting: train/Dipto_ 95_jpg.rf.c5423234f17e2cb7e2f7ef2bfca2c3de.jpg  \n",
            " extracting: train/Dipto_ 96_jpg.rf.93e76ba01f8ef4c51e01fc4b0010e2f9.jpg  \n",
            " extracting: train/Dipto_ 97_jpg.rf.9d007b5b2faf10d1da4a6e7980f56d2d.jpg  \n",
            " extracting: train/Dipto_ 98_jpg.rf.5017d62e13236693cade95dc40cc1c73.jpg  \n",
            " extracting: train/Dipto_01_jpg.rf.7fe6ccc44ff8e67fa87f01c28043f820.jpg  \n",
            " extracting: train/Dipto_03_jpg.rf.3b11a4fee28c2a8033decbf72a6734e5.jpg  \n",
            " extracting: train/Dipto_05_jpg.rf.f5bd5e6379542707390bc9f19db59dff.jpg  \n",
            " extracting: train/Dipto_06_jpg.rf.063fa6e8cff77af63eff62f473d2195e.jpg  \n",
            " extracting: train/Dipto_08_jpg.rf.8c546061adaf319ccf84a12dfbce233b.jpg  \n",
            " extracting: train/Dipto_11_jpg.rf.da4aec1c1d8294dc8b1d112d442db3c6.jpg  \n",
            " extracting: train/Dipto_12_jpg.rf.388fbd0f8cbc27d878fad6b3e934bbb3.jpg  \n",
            " extracting: train/Dipto_13_jpg.rf.e2067470a5a04caa79094b24363233b6.jpg  \n",
            " extracting: train/Dipto_14_jpg.rf.a1d82cb59177530ce82aa27acbb509a2.jpg  \n",
            " extracting: train/Dipto_16_jpg.rf.75ce9e85b66c5641a9c2a3d76074cd52.jpg  \n",
            " extracting: train/Dipto_17_jpg.rf.ef85ba5d9c64bc72180c644689616048.jpg  \n",
            " extracting: train/Dipto_183_jpg.rf.5f41687b9bc9ae35da7d9e6318789468.jpg  \n",
            " extracting: train/Dipto_18_jpg.rf.86eccbe81b7102fd7e2f0ae599bf7041.jpg  \n",
            " extracting: train/Dipto_21_jpg.rf.61c015023cd5b2a1bbcdfb186c54264d.jpg  \n",
            " extracting: train/Dipto_234_jpg.rf.50acbb1de65df2bd19e72a254e8a7dd5.jpg  \n",
            " extracting: train/Dipto_23_jpg.rf.c037c7c89aadded44e914e16d940c224.jpg  \n",
            " extracting: train/Dipto_25_jpg.rf.ecdc7df781c2aea234f34b982933241f.jpg  \n",
            " extracting: train/Dipto_26_jpg.rf.cdff10753f108fc4895604014342d92c.jpg  \n",
            " extracting: train/Dipto_27)_jpg.rf.20803b734db480a7195ffec2d70d73c8.jpg  \n",
            " extracting: train/Dipto_29_jpg.rf.a77c4a7b363693f2e37ae0f7715651ea.jpg  \n",
            " extracting: train/Dipto_31_jpg.rf.57df4e3f0b30a58d3b56c630cfdecba5.jpg  \n",
            " extracting: train/Dipto_344_JPG.rf.7f8ec1b74d09ae8d56650ef08364777e.jpg  \n",
            " extracting: train/Dipto_345_JPG.rf.fd1b16d5ca7841d0335d78e1587a3743.jpg  \n",
            " extracting: train/Dipto_346_JPG.rf.9f9b399e84702ed43f9b67eb424d2b79.jpg  \n",
            " extracting: train/Dipto_347_JPG.rf.1a02436ecd914a2d8720017c2dae777d.jpg  \n",
            " extracting: train/Dipto_349_JPG.rf.9c8691cf7804a1de6f55411f023926c9.jpg  \n",
            " extracting: train/Dipto_34_jpg.rf.1bef6de590140a28fae23f2e5dca028f.jpg  \n",
            " extracting: train/Dipto_350_JPG.rf.6213bb0257e0692628647c9ec8f9786c.jpg  \n",
            " extracting: train/Dipto_351_jpg.rf.95594b758a58af2922c0aeaf13553bbf.jpg  \n",
            " extracting: train/Dipto_352_jpg.rf.9dc7c270cdc16245dc56ec51a1b9ec01.jpg  \n",
            " extracting: train/Dipto_353_jpg.rf.3a4c5adf3ab6066d814b8beec6b2148a.jpg  \n",
            " extracting: train/Dipto_355_jpg.rf.6bf05b3510682a7405d59b156140d6ab.jpg  \n",
            " extracting: train/Dipto_357_jpg.rf.4f5152c5225bb993bb8b42997f45cee6.jpg  \n",
            " extracting: train/Dipto_358_jpg.rf.5dc569410daca2cd2592920e4aeb345c.jpg  \n",
            " extracting: train/Dipto_359_jpg.rf.466845111c190c5e9219b6ee4e0fae91.jpg  \n",
            " extracting: train/Dipto_35_jpg.rf.41c768d7307ec2bcf25e123b3a1fcddb.jpg  \n",
            " extracting: train/Dipto_360_jpg.rf.a586cb61a394642210bf697f2d65ec82.jpg  \n",
            " extracting: train/Dipto_361_jpg.rf.edbf3db920f7ecd9245824129f283272.jpg  \n",
            " extracting: train/Dipto_362_jpg.rf.6b5a57b2b55818bd535864666bccd675.jpg  \n",
            " extracting: train/Dipto_363_jpg.rf.c5e12c5bccd0930c08242793968ea8a0.jpg  \n",
            " extracting: train/Dipto_364_jpg.rf.7f47fd1add22ab3687c8574131627c71.jpg  \n",
            " extracting: train/Dipto_365_jpg.rf.e796bb3e2550daa96ef53ca8d1c54255.jpg  \n",
            " extracting: train/Dipto_369_jpg.rf.9afbefdbf88dc1d0a3eec78a181c9d69.jpg  \n",
            " extracting: train/Dipto_36_jpg.rf.036127d3ee2b7b24b57d59279479e4e9.jpg  \n",
            " extracting: train/Dipto_370_jpg.rf.e4a819a232862db80e149ab124fee34c.jpg  \n",
            " extracting: train/Dipto_371_jpg.rf.bfe44df1c05581f363e2b75b85587ac2.jpg  \n",
            " extracting: train/Dipto_373_jpg.rf.96226c11b272d712cd8a5bd2cf1db4cb.jpg  \n",
            " extracting: train/Dipto_374_jpg.rf.c8657eb97cfc83c94dbbebdee1734bbb.jpg  \n",
            " extracting: train/Dipto_375_jpg.rf.1e7f6a119d37a69efc576a7af2a981a9.jpg  \n",
            " extracting: train/Dipto_377_jpg.rf.d043c0ea2166f7f7cdca53bd4b4ad524.jpg  \n",
            " extracting: train/Dipto_378_jpg.rf.12e15c26bb4cda4a3d689115b3b73791.jpg  \n",
            " extracting: train/Dipto_37_jpg.rf.baee1cad8f1648f3ad840d831a885859.jpg  \n",
            " extracting: train/Dipto_381_jpg.rf.a1b445e21dc7c607d3e46bd43e7f183a.jpg  \n",
            " extracting: train/Dipto_383_jpg.rf.c246904b9dbad65fbde24b595835b839.jpg  \n",
            " extracting: train/Dipto_384_jpg.rf.8206593b50fcdb1a1fd8a691cd3b5811.jpg  \n",
            " extracting: train/Dipto_386_jpg.rf.8142e75193a54781ed3f05b3ebe4ce0b.jpg  \n",
            " extracting: train/Dipto_388_jpg.rf.c05f1d763ce11ff9e314f68c26173fb8.jpg  \n",
            " extracting: train/Dipto_389_jpg.rf.015e8bcde187a6b2a8f3252966f95741.jpg  \n",
            " extracting: train/Dipto_38_jpg.rf.58e62f39b7ef236a4cc831fcd6540e18.jpg  \n",
            " extracting: train/Dipto_390_jpg.rf.f66cdb06a620277da77287853ee43da6.jpg  \n",
            " extracting: train/Dipto_392_jpg.rf.e826d4c2f259f1a4cd6a3bfc69cc649c.jpg  \n",
            " extracting: train/Dipto_393_jpg.rf.e946963ffe427eb08d9f5affcb635ef4.jpg  \n",
            " extracting: train/Dipto_395_jpg.rf.13b603e1736bb75e29010b2fc0a1ae36.jpg  \n",
            " extracting: train/Dipto_398_jpg.rf.055a4368ca8176b06a2f3b2c8027b54e.jpg  \n",
            " extracting: train/Dipto_399_jpg.rf.5cd36b9d02afa58cdcbbd15060231026.jpg  \n",
            " extracting: train/Dipto_400_jpg.rf.c07a0188db0e63330e0f7e297cc94c6d.jpg  \n",
            " extracting: train/Dipto_401_jpg.rf.a00ee3d67026e34451b1a0407b14545c.jpg  \n",
            " extracting: train/Dipto_402_jpg.rf.e6d5ff84d1c6cc8e0d6b0b936c82fa07.jpg  \n",
            " extracting: train/Dipto_403_jpg.rf.f36a2a34fa702a261e41f816da0e2bc4.jpg  \n",
            " extracting: train/Dipto_404_jpg.rf.bd1e159cd051ab57afcd64bd33cac645.jpg  \n",
            " extracting: train/Dipto_407_jpg.rf.474e3b436644b6e9ba564ce39df354ca.jpg  \n",
            " extracting: train/Dipto_408_jpg.rf.e4891dd67292b6e43c4f389bb2c4d4fd.jpg  \n",
            " extracting: train/Dipto_409_jpg.rf.959a4c933fbce67d55fb2104110a8eb5.jpg  \n",
            " extracting: train/Dipto_411_jpg.rf.6c1c77a6ca29cc6d609cdd554711850d.jpg  \n",
            " extracting: train/Dipto_412_jpg.rf.1a8d3c704535f7de03fac6017fc92a88.jpg  \n",
            " extracting: train/Dipto_413_jpg.rf.8d3c8f6c68ef99ac79e8d7cc904183aa.jpg  \n",
            " extracting: train/Dipto_414_jpg.rf.dbc7106174abc7f230089d5e1d6964ec.jpg  \n",
            " extracting: train/Dipto_415_jpg.rf.6a5dcc9811aca71f37bce64cfcc62b26.jpg  \n",
            " extracting: train/Dipto_416_jpg.rf.68f4a5c8d6c6109445caaa39311512df.jpg  \n",
            " extracting: train/Dipto_417_jpg.rf.6e4c0c976209054dce3472e562be9431.jpg  \n",
            " extracting: train/Dipto_418_jpg.rf.a8d67910c0e21f7cce0cd8fc2002019b.jpg  \n",
            " extracting: train/Dipto_419_jpg.rf.82a2309410e8c5ba5ca8367378c5e62d.jpg  \n",
            " extracting: train/Dipto_420_jpg.rf.4106279ae89cdc05b18a1d07ccdd1fb8.jpg  \n",
            " extracting: train/Dipto_421_jpg.rf.d281e1013b30874994abad3269e40bdc.jpg  \n",
            " extracting: train/Dipto_422_jpg.rf.88b575dbafc7b2d97c43cfac0f0fcbb0.jpg  \n",
            " extracting: train/Dipto_423_jpg.rf.c8ac7a1bc384bec4d4d03e4f36dd0d24.jpg  \n",
            " extracting: train/Dipto_424_jpg.rf.e2d5d2ab032d77a5d2d978cc8b3313f8.jpg  \n",
            " extracting: train/Dipto_425_jpg.rf.1d6a1a6ec415c0dae0f6504d9218e28e.jpg  \n",
            " extracting: train/Dipto_426_jpg.rf.4b7a3ca5f9719acaae29afbcc6278aa2.jpg  \n",
            " extracting: train/Dipto_428_jpg.rf.be374d5c39c9c1087fac346756c43172.jpg  \n",
            " extracting: train/Dipto_429_jpg.rf.4e40b45495f0b68fcc3ef0ebaf3e03e2.jpg  \n",
            " extracting: train/Dipto_430_jpg.rf.fcd763b16d3f7919481dcc9f4b8c7639.jpg  \n",
            " extracting: train/Dipto_434_jpg.rf.8cbe2ed6837ba9e3a68be7907a179646.jpg  \n",
            " extracting: train/Dipto_435_jpg.rf.df4bbf6aa6ce7e707eb271711f7b1e08.jpg  \n",
            " extracting: train/Dipto_437_jpg.rf.8608b06259d049aa7e0cf12dc6807ffd.jpg  \n",
            " extracting: train/Dipto_438_jpg.rf.5ef8d07899a9e9ee500a676a6c22e9c8.jpg  \n",
            " extracting: train/Dipto_439_jpg.rf.1dab915f992d1f99f4961fb428c371e2.jpg  \n",
            " extracting: train/Dipto_441_jpg.rf.45a36b7036462e73133a18f24f75c94c.jpg  \n",
            " extracting: train/Dipto_442_jpg.rf.a4a59682d5f846ae33d908008338f37a.jpg  \n",
            " extracting: train/Dipto_443_jpg.rf.504226a1e857a4c0350ac1996f4a43a8.jpg  \n",
            " extracting: train/Dipto_444_jpg.rf.6026d99b047f55f2b3ad8c9373438fda.jpg  \n",
            " extracting: train/Dipto_445_jpg.rf.c3f82716e6527ad51343682aacb93bf4.jpg  \n",
            " extracting: train/Dipto_447_jpg.rf.a3c79ce355bbe8be86d07f94cb820c4f.jpg  \n",
            " extracting: train/Dipto_448_jpg.rf.58c2a43cd5101ecfb361181a23f3df0c.jpg  \n",
            " extracting: train/Dipto_449_jpg.rf.ccd4d1a537e88dc9d44b3390f8163ccd.jpg  \n",
            " extracting: train/Dipto_450_jpg.rf.018bf67e76f614c2865191c296b818fa.jpg  \n",
            " extracting: train/Dipto_452_jpg.rf.ce21c1371a971c05f6c6fad2b109611a.jpg  \n",
            " extracting: train/Dipto_453_jpg.rf.426e3d01328fb0a9155e24a036e474c9.jpg  \n",
            " extracting: train/Dipto_455_jpg.rf.64a56312e9d8ebfba8e086dcdd4b04eb.jpg  \n",
            " extracting: train/Dipto_456_jpg.rf.c83ef7c605a359faf29498f41c39f472.jpg  \n",
            " extracting: train/Dipto_457_jpg.rf.495846f5f08ea35151e242bb62671e71.jpg  \n",
            " extracting: train/Dipto_459_jpg.rf.c63de66677f0fcb0fde02477482acdbd.jpg  \n",
            " extracting: train/Dipto_460_jpg.rf.d6287486d92c5efaac9a865f713f1b5e.jpg  \n",
            " extracting: train/Dipto_462_jpg.rf.c592a82a1edaa501ff5ba966cc6f966e.jpg  \n",
            " extracting: train/Dipto_464_jpg.rf.dec6aa0e4888d56bf1b5afeb7326ba3b.jpg  \n",
            " extracting: train/Dipto_466_jpg.rf.0014bbf3d6614c48c750d99b0f06c9f3.jpg  \n",
            " extracting: train/Dipto_467_jpg.rf.3ffa357498a64f5e3ab81545536fa0da.jpg  \n",
            " extracting: train/Dipto_469_jpg.rf.263c9ffe48d9881186443e29a0fec18a.jpg  \n",
            " extracting: train/Dipto_470_jpg.rf.42b6617ec9984b09d9e5076b09dbeeb5.jpg  \n",
            " extracting: train/Dipto_472_jpg.rf.77e88c80e5c30b26067bfe51c6924216.jpg  \n",
            " extracting: train/Dipto_475_jpg.rf.3e5a5466f33be744c11579de5b0c5ddf.jpg  \n",
            " extracting: train/Dipto_476_jpg.rf.5bf96ae0c8201406cd2d90931836d24a.jpg  \n",
            " extracting: train/Dipto_477_jpg.rf.8eef425c29e31c6da84a4264c25c01d3.jpg  \n",
            " extracting: train/Dipto_480_jpg.rf.7405e4d970b47d6bb828b5b62ca9a9dd.jpg  \n",
            " extracting: train/Dipto_481_jpg.rf.4672bad1e55bec89b98adee860a49b0e.jpg  \n",
            " extracting: train/Dipto_482_jpg.rf.3ab368cb3db75c843d8bec4aa7584a5a.jpg  \n",
            " extracting: train/Dipto_483_jpg.rf.687dfb0fce7553269d33cdd5c3df2869.jpg  \n",
            " extracting: train/Dipto_485_jpg.rf.c0fdf1f4c8ea2e101acd6345db4bf9ce.jpg  \n",
            " extracting: train/Dipto_486_jpg.rf.5b39acaecd2637f3b24004d057fc2895.jpg  \n",
            " extracting: train/Dipto_487_jpg.rf.2fc1502c944bceb1543c449375748445.jpg  \n",
            " extracting: train/Dipto_488_jpg.rf.b782b8c3708a71d829f2f915f1812bc4.jpg  \n",
            " extracting: train/Dipto_489_jpg.rf.0a12f2662731e02247ba5f3ad965d809.jpg  \n",
            " extracting: train/Dipto_490_jpg.rf.dc8ae1c21a33c1682cbcc67bcbc5f221.jpg  \n",
            " extracting: train/Dipto_491_jpg.rf.ee0f3ad3c4d28ad4b4dae016da241953.jpg  \n",
            " extracting: train/Dipto_492_jpg.rf.4710b354868c4ad9858a29eb51cd3e07.jpg  \n",
            " extracting: train/Dipto_493_jpg.rf.845ef19dc89aaf5072f993358547ae2c.jpg  \n",
            " extracting: train/Dipto_494_jpg.rf.6fabc535a3f5e8539b98b00390d80654.jpg  \n",
            " extracting: train/Dipto_495_jpg.rf.17139719150b5b94fbbe2c36b681a542.jpg  \n",
            " extracting: train/Dipto_496_jpg.rf.a807e7fc18324cd2be61ae2dc57a9704.jpg  \n",
            " extracting: train/Dipto_497_jpg.rf.de739ff63d85e2521fb4f7199309603a.jpg  \n",
            " extracting: train/Dipto_498_jpg.rf.a4765742675ebedc9c18ecfac1b659c9.jpg  \n",
            " extracting: train/Dipto_499_jpg.rf.5337e5e8db8ced36ec9d285332aa4ec1.jpg  \n",
            " extracting: train/Dipto_500_jpg.rf.6ccc3563c7ca84c8b099d5f8530dd531.jpg  \n",
            " extracting: train/Dipto_501_jpg.rf.3a5df97f5aecd0342bc0feed07f79f88.jpg  \n",
            " extracting: train/Dipto_502_jpg.rf.929b58417796283f3fb42a5cd30d916c.jpg  \n",
            " extracting: train/Dipto_503_jpg.rf.6bc88fbe415ad3e5bf987f303869c20b.jpg  \n",
            " extracting: train/Dipto_504_jpg.rf.b700c92a31741c76daee793ec00c7f75.jpg  \n",
            " extracting: train/Dipto_505_jpg.rf.fdade068fd9e3e289e8c179fc3ea2dbb.jpg  \n",
            " extracting: train/Dipto_506_jpg.rf.7014be520cc886ef9b6f526d77f74edf.jpg  \n",
            " extracting: train/Dipto_507_jpg.rf.cd3267d1aeeebfa773f0722e6e8fb91c.jpg  \n",
            " extracting: train/Dipto_508_jpg.rf.a57faba8c271fab70e7aa0ebbe548fcf.jpg  \n",
            " extracting: train/Dipto_510_jpg.rf.c04a8aee208e6fa287080cb1a8b0d497.jpg  \n",
            " extracting: train/Dipto_511_jpg.rf.4daf6828c1372f7de43de5d177b5c4b0.jpg  \n",
            " extracting: train/Dipto_512_jpg.rf.8684fab1e9c096842e33e245ccc2b7ac.jpg  \n",
            " extracting: train/Dipto_514_jpg.rf.9d3097635f7ad751269f7d95e7b26779.jpg  \n",
            " extracting: train/Dipto_515_jpg.rf.fd0fe7454407a085e6d12934a7336a66.jpg  \n",
            " extracting: train/Dipto_516_jpg.rf.c36b3bdbccd0a3762e0d7fff3f054093.jpg  \n",
            " extracting: train/Dipto_517_jpg.rf.6f45c66db48cd6731d17de9bbdf4d05d.jpg  \n",
            " extracting: train/Dipto_518_jpg.rf.c8e18b057ba54d201108c3c8dd0261c4.jpg  \n",
            " extracting: train/Dipto_519_jpg.rf.502e5e848edc3fe2340981eec59aa07c.jpg  \n",
            " extracting: train/Dipto_520_jpg.rf.6f421a609fffe1a1373b9b7fbe9aa003.jpg  \n",
            " extracting: train/Dipto_521_jpg.rf.06cea63f950633113c3c35e3cf788fc1.jpg  \n",
            " extracting: train/Dipto_523_jpg.rf.2bc14be79effde1c9d3a1201aa5aa69e.jpg  \n",
            " extracting: train/Dipto_525_JPG.rf.1d2d593e1dae4b99b5da4b131ed6f4c1.jpg  \n",
            " extracting: train/Dipto_526_JPG.rf.5d41c536d14e27fd10ea050bab59e7cd.jpg  \n",
            " extracting: train/Dipto_528_JPG.rf.7f987ef6d8c9a9f7de6a2fb6580297fb.jpg  \n",
            " extracting: train/Dipto_531_JPG.rf.dbba2ecdbe9fb64725d4eb908aa3501c.jpg  \n",
            " extracting: train/Dipto_532_JPG.rf.cb4fbdb5ad8332d6cb2af92dfff9b8c2.jpg  \n",
            " extracting: train/Dipto_533_JPG.rf.9b2323daab29be5898fa5173f5d804c6.jpg  \n",
            " extracting: train/Dipto_534_JPG.rf.a64fc7313bb6d353abaf00a8d0234b48.jpg  \n",
            " extracting: train/Dipto_537_JPG.rf.dc17e7afd5dd85954a9e5afc277ad5c8.jpg  \n",
            " extracting: train/Dipto_538_JPG.rf.5d1869cdaab1228f5d2f08568874ca41.jpg  \n",
            " extracting: train/Dipto_539_JPG.rf.14dbb9ceee509beeef20171e8bf482d0.jpg  \n",
            " extracting: train/Dipto_540_JPG.rf.5194c8c91943e454d2974c9729c58f43.jpg  \n",
            " extracting: train/Dipto_541_JPG.rf.907bc8a9146e24b5537f6b377054f291.jpg  \n",
            " extracting: train/Dipto_542_JPG.rf.72ab6b372c58e41a6466161b2cad0f71.jpg  \n",
            " extracting: train/Dipto_543_JPG.rf.e5d7a1a0baf43cd2e59f7091aeb3a402.jpg  \n",
            " extracting: train/Dipto_544_JPG.rf.b8157310ed0348de598b73cc376cdf85.jpg  \n",
            " extracting: train/Dipto_545_jpg.rf.234620de229aa123fd7336c59a967b73.jpg  \n",
            " extracting: train/Dipto_546_jpg.rf.b06e05c97dac82f21b442e2591a82e42.jpg  \n",
            " extracting: train/Dipto_547_jpg.rf.41cbd77022cd40bc34edcd8d090f421e.jpg  \n",
            " extracting: train/Dipto_548_jpg.rf.fee36c973a9a3109313c54db52bbdf95.jpg  \n",
            " extracting: train/Dipto_551_jpg.rf.858c03a531ee7c021e2747897301c042.jpg  \n",
            " extracting: train/Dipto_553_jpg.rf.4c3f46b2fb40f997ddbf8c4b0b503d8f.jpg  \n",
            " extracting: train/Dipto_554_jpg.rf.f622e5928725f26b4a8b41fa4bc6373b.jpg  \n",
            " extracting: train/Dipto_555_jpg.rf.e9ca24ce1bb7580ddfabee565e0c8d3c.jpg  \n",
            " extracting: train/Dipto_556_jpg.rf.6c39710269fcd6f2534aa6d666ae5b8d.jpg  \n",
            " extracting: train/Dipto_557_jpg.rf.9ea81c8b85bbffef1616934db2ed4c03.jpg  \n",
            " extracting: train/Dipto_559_jpg.rf.13059ef83500169063dfbbf6fb76929e.jpg  \n",
            " extracting: train/Dipto_560_jpg.rf.cae60128f260f74f12e675264d730133.jpg  \n",
            " extracting: train/Dipto_563_jpg.rf.d3f02d4933755dc56e3f6d6dc9aaf643.jpg  \n",
            " extracting: train/Dipto_564_jpg.rf.f7d4be7589cbcf597c9d69a33cabc022.jpg  \n",
            " extracting: train/Dipto_566_jpg.rf.e0b9145c0990a7a533a39b93ec753577.jpg  \n",
            " extracting: train/Dipto_568_jpg.rf.75f7e31fd12fd77290575a3215c70dc7.jpg  \n",
            " extracting: train/Dipto_569_jpg.rf.94e8a8573b1242b98543843d6402a69e.jpg  \n",
            " extracting: train/Dipto_571_jpg.rf.3f63e60feb86aeaa00c152b27d4691ef.jpg  \n",
            " extracting: train/Dipto_574_jpg.rf.a227d2f8b4116ebd9f21dcd6f20e249b.jpg  \n",
            " extracting: train/Dipto_576_jpg.rf.6cec54a056d3f096480ab59efdd6f73b.jpg  \n",
            " extracting: train/Dipto_578_jpg.rf.9afe7a996ecd5bf1b1363dd8fa794b1d.jpg  \n",
            " extracting: train/Dipto_579_jpg.rf.621c646c0f325d5890623946a7737343.jpg  \n",
            " extracting: train/Dipto_581_jpg.rf.62ae1e829176040458c9ced112514c59.jpg  \n",
            " extracting: train/Dipto_582_jpg.rf.e7cbc77ca14ac05dd43a4bc83b848257.jpg  \n",
            " extracting: train/Dipto_584_jpg.rf.ae8cda7dc7feb80713c30b9823a1409c.jpg  \n",
            " extracting: train/Dipto_586_jpg.rf.db67e1660c2e7d34c69ea7d187f0ada9.jpg  \n",
            " extracting: train/Dipto_587_jpg.rf.b76b93f245bf7cced007e25338314fd7.jpg  \n",
            " extracting: train/Dipto_589_jpg.rf.52b076cc731446c9fdf2e3677eb4427a.jpg  \n",
            " extracting: train/Dipto_590_jpg.rf.4a23a8a661b1f39446052788043b28e9.jpg  \n",
            " extracting: train/Dipto_591_jpg.rf.3138e92e48e6f6054d0cd4768e915126.jpg  \n",
            " extracting: train/Dipto_593_jpg.rf.9d0f17549de293d12084e27a76bbf310.jpg  \n",
            " extracting: train/Dipto_594_jpg.rf.266dbcd741ce3f523a58902617c8541d.jpg  \n",
            " extracting: train/Dipto_595_jpg.rf.97ea92eb9df87082cf1dae4086bd0949.jpg  \n",
            " extracting: train/Dipto_597_jpg.rf.d7d040a905b1d3e0596ffa57a7a6d3df.jpg  \n",
            " extracting: train/Dipto_598_jpg.rf.dc86c5729695994f7384b42a6e86a2d8.jpg  \n",
            " extracting: train/Dipto_600_jpg.rf.133746ecface601cfa70e7d8e2fcf00d.jpg  \n",
            " extracting: train/Dipto_601_jpg.rf.41a2dfc37fc4e9d5489a15072b0cae77.jpg  \n",
            " extracting: train/Dipto_602_jpg.rf.343afc608926407564f0960e986b90c4.jpg  \n",
            " extracting: train/Dipto_603_jpg.rf.fe29d8aac0b7c839f2af8e0eec11d78f.jpg  \n",
            " extracting: train/Dipto_604_jpg.rf.dd0d44c9e62c4baa36bfecca5668efb7.jpg  \n",
            " extracting: train/Dipto_605_jpg.rf.d2d0e8dd2644665fda6d91017bb6d8e2.jpg  \n",
            " extracting: train/Dipto_606_jpg.rf.bb21be2ef0c2aeb0c442eabc2d66a6ec.jpg  \n",
            " extracting: train/Dipto_607_jpg.rf.123ae1965478dcc3ed9c701120fedc28.jpg  \n",
            " extracting: train/Dipto_608_jpg.rf.d4d05a5e2830135ad36703cb71331be2.jpg  \n",
            " extracting: train/Dipto_610_jpg.rf.9e95dc9992b46b23bdb8912ee1a739e9.jpg  \n",
            " extracting: train/Dipto_612_jpg.rf.1b39897ceddf2b2b545a9a317d6f2a3a.jpg  \n",
            " extracting: train/Dipto_613_jpg.rf.fba524e945431a6f08625287245a46fd.jpg  \n",
            " extracting: train/Dipto_616_jpg.rf.4264e4215201c2a4219260e7abd109a6.jpg  \n",
            " extracting: train/Dipto_618_jpg.rf.9bbda218947d0fb99a785943d9f0f8ea.jpg  \n",
            " extracting: train/Dipto_619_jpg.rf.bb053cec04d63e59597655f35cfbb50b.jpg  \n",
            " extracting: train/Dipto_620_jpg.rf.e5cd8903599c9dd448f0fa508622e6ac.jpg  \n",
            " extracting: train/Dipto_621_jpg.rf.d655d88b656d48eec6321f3624c16dbb.jpg  \n",
            " extracting: train/Dipto_624_jpg.rf.cba84d8be5fe48bba6a291303fded029.jpg  \n",
            " extracting: train/Dipto_625_jpg.rf.9fc83713cd248b619bdb806fe7ef7da4.jpg  \n",
            " extracting: train/Dipto_626_jpg.rf.64a5d233c4d5df862391d86567160f05.jpg  \n",
            " extracting: train/Dipto_627_jpg.rf.1cd9ec70d0ee848cd0a5bb58bd116c72.jpg  \n",
            " extracting: train/Dipto_629_jpg.rf.2c18a351c98473ff5518f1e072bb2f9d.jpg  \n",
            " extracting: train/Dipto_630_jpg.rf.d961fca308a2d395bc68b48b4ba4ca19.jpg  \n",
            " extracting: train/Dipto_631_jpg.rf.a72ec0927f7bf4418b368fde73993eb3.jpg  \n",
            " extracting: train/Dipto_634_jpg.rf.4513dc85b4b2dd06eb5f8f684550a32a.jpg  \n",
            " extracting: train/Dipto_635_jpg.rf.1fd8ce5e02373687d8a575f559681185.jpg  \n",
            " extracting: train/Dipto_636_jpg.rf.176d9a6d92d7056369295d7af2370bca.jpg  \n",
            " extracting: train/Dipto_637_jpg.rf.8c1085ef0b436042eb98bf0e13591e7e.jpg  \n",
            " extracting: train/Dipto_638_jpg.rf.de5b2eb73d017150e9cb1e04b61df22a.jpg  \n",
            " extracting: train/Dipto_639_jpg.rf.acd4a24be9c2070f492b0da1b66425fb.jpg  \n",
            " extracting: train/Dipto_640_jpg.rf.e384ae1586bff81bb9cfd42164967354.jpg  \n",
            " extracting: train/Dipto_642_jpg.rf.b06638541910db8e550d39256d2a26d1.jpg  \n",
            " extracting: train/Dipto_643_jpg.rf.66162ff72dc60a570ea0e46a0e8d85e9.jpg  \n",
            " extracting: train/Dipto_645_jpg.rf.6736511d09d07b2d81ffc8d8d2cc3f98.jpg  \n",
            " extracting: train/Dipto_646_jpg.rf.2301cdc9b285cca3998da1cea9a8d90b.jpg  \n",
            " extracting: train/Dipto_647_jpg.rf.111605712e12aa82ba3338395de283e8.jpg  \n",
            " extracting: train/Dipto_650_jpg.rf.af2467be7edaa16c07912ca37fff7f96.jpg  \n",
            " extracting: train/Dipto_652_jpg.rf.609789fd050205418cae95b9b2ad1d37.jpg  \n",
            " extracting: train/Dipto_653_jpg.rf.934fc1d289e544a2a42e6a0bb5fc9ade.jpg  \n",
            " extracting: train/Dipto_654_jpg.rf.5378258e3cdcaad55ef38a8f25513594.jpg  \n",
            " extracting: train/Dipto_655_jpg.rf.fb03cb18362dd1eaa1d746a33e55f3c6.jpg  \n",
            " extracting: train/Dipto_657_jpg.rf.b55a5f8f6b169e3f8c9b0e36a2adb353.jpg  \n",
            " extracting: train/Dipto_658_jpg.rf.9015816c92b749761a50122af6e1c491.jpg  \n",
            " extracting: train/Dipto_659_jpg.rf.e6481a7f5573a37ea4c2ce87f0301cea.jpg  \n",
            " extracting: train/Dipto_661_jpg.rf.64bb89c2f1f8085cc90524f75139af14.jpg  \n",
            " extracting: train/Dipto_662_jpg.rf.91b9df9ddeae72afa854f43c1ed260ff.jpg  \n",
            " extracting: train/Dipto_663_jpg.rf.ab5156a6439bb87be1d7a19f5371ed70.jpg  \n",
            " extracting: train/Dipto_664_jpg.rf.0eb3dc68e727a65898ed6efb1611bf20.jpg  \n",
            " extracting: train/Dipto_665_jpg.rf.26bcc80dc106c92ebdf2f57c23aa7bfe.jpg  \n",
            " extracting: train/Dipto_667_jpg.rf.ab1207856d9c122733c8c86342b256ab.jpg  \n",
            " extracting: train/Dipto_669_jpg.rf.3225aef3122b214bc064888c8151da38.jpg  \n",
            " extracting: train/Dipto_670_jpg.rf.b0a0f4542e6f578da1e779539eecc6fd.jpg  \n",
            " extracting: train/Dipto_671_jpg.rf.2d43772aa4b62a13f4d03548c2d3bd75.jpg  \n",
            " extracting: train/Dipto_672_jpg.rf.25371d47c2e7777f99164e52f308d0b6.jpg  \n",
            " extracting: train/Dipto_673_jpg.rf.176c8a8aabfa257a7d0d435a1b1ecf6d.jpg  \n",
            " extracting: train/Dipto_676_jpg.rf.20e675fdf7fb2f53084d7ed13d46867a.jpg  \n",
            " extracting: train/Dipto_677_jpg.rf.6efed4a289032146b18f5db44a5f16da.jpg  \n",
            " extracting: train/Dipto_678_jpg.rf.d54911477733430761272142ce7c6bff.jpg  \n",
            " extracting: train/Dipto_679_jpg.rf.eba603caef2b4971b93302e70eec1a01.jpg  \n",
            " extracting: train/Dipto_682_jpg.rf.0e652ffacafecb3913336040fef8c5c4.jpg  \n",
            " extracting: train/Dipto_683_jpg.rf.ec345b89495c4be34947dceb52cd5eb2.jpg  \n",
            " extracting: train/Dipto_685_jpg.rf.827fb1afa3f73b369f9f304860aeaab6.jpg  \n",
            " extracting: train/Dipto_686_jpg.rf.c39fab22e9742bfd707a1334e4923ac7.jpg  \n",
            " extracting: train/Dipto_687_jpg.rf.18f2e4252281665ce1c13986284cafd8.jpg  \n",
            " extracting: train/Dipto_688_jpg.rf.8ea95e355bd4998a77404b1698076121.jpg  \n",
            " extracting: train/Dipto_690_jpg.rf.852128aa01ac04e41f17481f0123f107.jpg  \n",
            " extracting: train/Dipto_692_jpg.rf.a7e6edaf8a5a89e7cd9a22d781b5df8d.jpg  \n",
            " extracting: train/Dipto_693_jpg.rf.8fc64bd36f5f49230549609d87fad180.jpg  \n",
            " extracting: train/Dipto_694_jpg.rf.2cd6f6a3ecb5c6f0eb5f074f49767007.jpg  \n",
            " extracting: train/Dipto_696_jpg.rf.53fd28e2ebae846264e845f37653f581.jpg  \n",
            " extracting: train/Dipto_697_jpg.rf.2e41d0a7f7ebabb51648415287d30295.jpg  \n",
            " extracting: train/Dipto_698_jpg.rf.a350b8674ceb72503a1fc9f9ecc0b905.jpg  \n",
            " extracting: train/Dipto_699_jpg.rf.9a058d1ab8f20d60e8c0a2dd1392db46.jpg  \n",
            " extracting: train/Dipto_700_jpg.rf.fbc4e788fad74860adc7198b61e9b086.jpg  \n",
            " extracting: train/Dipto_703_jpg.rf.4afe68be2eb226b5bc2e3f8cd5f175fc.jpg  \n",
            " extracting: train/Dipto_704_jpg.rf.cb4eef0a97b7239816be07deee544ffd.jpg  \n",
            " extracting: train/Dipto_706_jpg.rf.f801b22d267d665d3b7ecd5f71f60707.jpg  \n",
            " extracting: train/Dipto_709_jpg.rf.c9c718831065d68e9614bea14fbac611.jpg  \n",
            " extracting: train/Dipto_710_jpg.rf.628ba882500ece2a5e0a9dc2229a95d4.jpg  \n",
            " extracting: train/Dipto_712_jpg.rf.fe743c4fefc9bf2c13efebf5b302cc58.jpg  \n",
            " extracting: train/Dipto_713_jpg.rf.517c087e9b41fe2a87bab39f7f2cf65c.jpg  \n",
            " extracting: train/Dipto_715_jpg.rf.75244cf32fc5114a372eb47d3215fe60.jpg  \n",
            " extracting: train/Dipto_717_jpg.rf.bed22d4e8f80cab199bf68f5d4adfd19.jpg  \n",
            " extracting: train/Dipto_718_jpg.rf.656ab0350ba06ec3ad012ba57fd7037c.jpg  \n",
            " extracting: train/Dipto_720_jpg.rf.0128e4b94c3417444e06cb17ed935836.jpg  \n",
            " extracting: train/Dipto_721_jpg.rf.f2541bfda4b25dfb1037949313a4d25d.jpg  \n",
            " extracting: train/Dipto_723_jpg.rf.adc599cd9575219123c1e3bff09293f7.jpg  \n",
            " extracting: train/Dipto_724_jpg.rf.37b18fffe2f7e988b47d28845bdb59f9.jpg  \n",
            " extracting: train/Dipto_727_jpg.rf.c585cb13b0b47c3548224cd1ac521967.jpg  \n",
            " extracting: train/Dipto_728_jpg.rf.081bacdb169291f6875574107617e7f0.jpg  \n",
            " extracting: train/Dipto_729_jpg.rf.d0eadef503a015e169e461f4be4439dc.jpg  \n",
            " extracting: train/Dipto_730_jpg.rf.02423ea7f59369420367a4b900cb2fb9.jpg  \n",
            " extracting: train/Dipto_731_jpg.rf.67f76387c841113907cc19976e2355b2.jpg  \n",
            " extracting: train/Dipto_732_jpg.rf.6c74d83fa4ad2e6c91d3716e9136868a.jpg  \n",
            " extracting: train/Dipto_736_jpg.rf.30bfabd3274505620cdb1278135634fc.jpg  \n",
            " extracting: train/Dipto_737_jpg.rf.0dfb68a392e741df489dd5f9b5b7ffd0.jpg  \n",
            " extracting: train/Dipto_741_jpg.rf.0273675d0f52fd0b84bcf39e51483a10.jpg  \n",
            " extracting: train/Dipto_742_jpg.rf.10bd5547fb0c9f59e8e637b44710b013.jpg  \n",
            " extracting: train/Dipto_744_jpg.rf.6386ec12b426ca301faae218e5e2a0e6.jpg  \n",
            " extracting: train/Dipto_747_jpg.rf.aa6ebb781700bdb832491bc49304cd2c.jpg  \n",
            " extracting: train/Dipto_748_jpg.rf.d3b8700884bd40044c5addf6ed9431b5.jpg  \n",
            " extracting: train/Dipto_749_jpg.rf.e7f51e9cb4688b4bfe5666de5e918c19.jpg  \n",
            " extracting: train/Dipto_751_jpg.rf.51bf1cad25123c6e632667bac16bd3ec.jpg  \n",
            " extracting: train/Dipto_752_jpg.rf.b48fd7bc21b05853b472b029b6b65f2d.jpg  \n",
            " extracting: train/Dipto_754_jpg.rf.74709bf1fabe85e22293848bf63b0374.jpg  \n",
            " extracting: train/Dipto_758_jpg.rf.08daa1e217256880c1ca62a757a851d8.jpg  \n",
            " extracting: train/Dipto_760_jpg.rf.284665df3c536ae3976fe34e54195d9d.jpg  \n",
            " extracting: train/Dipto_761_jpg.rf.dcf8af57c5a4a16ae112bfd76d01e0af.jpg  \n",
            " extracting: train/Dipto_762_jpg.rf.239682aebfa00a4efa31542a276ac5f5.jpg  \n",
            " extracting: train/Dipto_763_jpg.rf.83c710c8ae6a5d7f4a415dabbf5246d5.jpg  \n",
            " extracting: train/Dipto_764_jpg.rf.e043db79191a167de7b854c9b4c3606d.jpg  \n",
            " extracting: train/Dipto_765_jpg.rf.77cfda29a3e69a662a4b30ee312dc253.jpg  \n",
            " extracting: train/Dipto_766_jpg.rf.28f56ccb62e2d6145733600ff6ce726c.jpg  \n",
            " extracting: train/Dipto_768_jpg.rf.777bd436547fbc9633d79ef68dffea30.jpg  \n",
            " extracting: train/Dipto_769_jpg.rf.10590504906eeac5c1d67e13fa5e7c5e.jpg  \n",
            " extracting: train/Dipto_770_jpg.rf.4acf9e408786a70666fb653574fcb928.jpg  \n",
            " extracting: train/Dipto_771_jpg.rf.f35f64c08b801f61cece9778f5266ffc.jpg  \n",
            " extracting: train/Dipto_772_jpg.rf.0dbac0654b538b6ba5d0dabf944a3ba7.jpg  \n",
            " extracting: train/Dipto_774_jpg.rf.a339ca5954e0fb8f7e038116c5a19f59.jpg  \n",
            " extracting: train/Dipto_775_jpg.rf.3f400218ee538dc45d238cbe41dc98c8.jpg  \n",
            " extracting: train/Dipto_776_jpg.rf.409d93904f04d7dca04e0c7ab26f1320.jpg  \n",
            " extracting: train/Dipto_777_jpg.rf.0bf6a73ab5388588bf35c1b45f5c51ae.jpg  \n",
            " extracting: train/Dipto_778_jpg.rf.e53a6a734321c1fae7c9d532f504e12f.jpg  \n",
            " extracting: train/Dipto_782_jpg.rf.2288ff3456f72b532d162a6f9805cf2e.jpg  \n",
            " extracting: train/Dipto_784_jpg.rf.7f9ff795bb42bd4c6c961dd9d17c1f9e.jpg  \n",
            " extracting: train/Dipto_785_jpg.rf.a8667e11506513d834dd93f716b05ef8.jpg  \n",
            " extracting: train/Dipto_786_jpg.rf.2b5958baf695e5267d098c42d345c0a8.jpg  \n",
            " extracting: train/Dipto_787_jpg.rf.4ecc0c1c823aa0196d5195ee4d82480c.jpg  \n",
            " extracting: train/Dipto_788_jpg.rf.c68320b8e4eb50e1d5962f3b3b4f995a.jpg  \n",
            " extracting: train/Dipto_790_jpg.rf.766557c174daebc5823cda663148fd38.jpg  \n",
            " extracting: train/Dipto_791_jpg.rf.5abd8071b62031dbbe1e93215aafa309.jpg  \n",
            " extracting: train/Dipto_792_jpg.rf.00eb1c4627a0aeddf04aede007238e9c.jpg  \n",
            " extracting: train/Dipto_794_jpg.rf.3710919e96d5ddd1bcc856b9f5934f39.jpg  \n",
            " extracting: train/Dipto_795_jpg.rf.1e0a41f5f597f34b31bdb7465176f5f8.jpg  \n",
            " extracting: train/Dipto_798_jpg.rf.7c14bf08b2f727844b9d509c3b812b26.jpg  \n",
            " extracting: train/Dipto_799_jpg.rf.30c2d56c7fe47afa97d44db005112500.jpg  \n",
            " extracting: train/Dipto_801_jpg.rf.45461387c1e23c048111949a8a52d091.jpg  \n",
            " extracting: train/Dipto_802_jpg.rf.f220c96dd8ba6a7a922b4adf5dbfcf28.jpg  \n",
            " extracting: train/Dipto_803_jpg.rf.9978c2b66a932454c4ba513b1bcb49cc.jpg  \n",
            " extracting: train/Dipto_804_jpg.rf.6ff947344144fc24eddd27670365b3f6.jpg  \n",
            " extracting: train/Dipto_805_jpg.rf.a5daaaf25f4c37d52c2181ab9600c21a.jpg  \n",
            " extracting: train/Dipto_806_jpg.rf.072a7a8d938c662af35312a58a4fc9ed.jpg  \n",
            " extracting: train/Dipto_807_jpg.rf.3217d2595fb379c4bbb2b9944f6ba0ca.jpg  \n",
            " extracting: train/Dipto_808_jpg.rf.bf50dcca5da66cddfad42f34761a5f02.jpg  \n",
            " extracting: train/Dipto_809_jpg.rf.98d4b06af4ca866bcbff82b6f97496c0.jpg  \n",
            " extracting: train/Dipto_812_jpg.rf.366136ae929fdd980ab1d757d2a5c00a.jpg  \n",
            " extracting: train/Dipto_813_jpg.rf.f21b8557f780f849d05ae98cc1e9c46a.jpg  \n",
            " extracting: train/Dipto_814_jpg.rf.321427b760ba2142f28c3b7bcd5c7e77.jpg  \n",
            " extracting: train/Dipto_816_jpg.rf.f6570777daa1d2528decabea5a07bf16.jpg  \n",
            " extracting: train/Dipto_817_jpg.rf.42b5865096c72b5bc9bb139fe2aa6788.jpg  \n",
            " extracting: train/Dipto_818_jpg.rf.8a1de07bb3cc1a9fdede8cd0afd042cf.jpg  \n",
            " extracting: train/Dipto_821_jpg.rf.11d56aeb5a42e2e86444dd0161ee24af.jpg  \n",
            " extracting: train/Dipto_822_jpg.rf.7b273521e15807a82ea0fcd10ee4ef08.jpg  \n",
            " extracting: train/Dipto_823_jpg.rf.6f9122b48d6601438802a0e3e6afc987.jpg  \n",
            " extracting: train/Dipto_827_jpg.rf.6c3964a050193070cf79ad1634a347ca.jpg  \n",
            " extracting: train/Dipto_828_jpg.rf.4da646a03e447ded61f18ad8507d977e.jpg  \n",
            " extracting: train/Dipto_829_jpg.rf.95d1bf26686739d731eee5f9b24af669.jpg  \n",
            " extracting: train/Dipto_830_jpg.rf.30b1afac68502c016f5fff881f5a3e8f.jpg  \n",
            " extracting: train/Dipto_833_jpg.rf.7d68a4ed55a08c051d9de440d404fc8f.jpg  \n",
            " extracting: train/Dipto_834_jpg.rf.1bc4537b595205274c6b5b14a9d6252c.jpg  \n",
            " extracting: train/Dipto_835_jpg.rf.00c5cb0b040d5d1b1285e5a6828fd5be.jpg  \n",
            " extracting: train/Dipto_836_jpg.rf.71995cd8df9519f1487d1cc37a92970f.jpg  \n",
            " extracting: train/Dipto_837_jpg.rf.00fd0bb78c1fcdf95e690d759a69f411.jpg  \n",
            " extracting: train/Dipto_838_jpg.rf.3eaf2ef9523c708c01e00d58e8370200.jpg  \n",
            " extracting: train/Dipto_839_jpg.rf.a4b26cddf5424c7dfcfca0a7131879f3.jpg  \n",
            " extracting: train/Dipto_840_jpg.rf.4690ad1e10361c580f9bdc5253aefbf4.jpg  \n",
            " extracting: train/Dipto_842_jpg.rf.ad73d5ae80f6114034c4582b16ca2da0.jpg  \n",
            " extracting: train/Dipto_844_jpg.rf.f5f580b13c476189edaa21b42523fd22.jpg  \n",
            " extracting: train/Dipto_845_jpg.rf.ba61f1b3d7fd509026d5e1bf9cb4204a.jpg  \n",
            " extracting: train/Dipto_846_jpg.rf.f37c1901c49cf500a148228259fcee67.jpg  \n",
            " extracting: train/Dipto_848_jpg.rf.b5122b26313bb498703683ad5ec6ad42.jpg  \n",
            " extracting: train/Dipto_849_jpg.rf.239222a84af33673719058f3aa381df5.jpg  \n",
            " extracting: train/Dipto_851_jpg.rf.d6139481a4680e312943f0966a3775c0.jpg  \n",
            " extracting: train/Dipto_852_jpg.rf.543af1669c4583e74605bf89df43a173.jpg  \n",
            " extracting: train/Dipto_854_jpg.rf.9c7426c08264a8619f55851c2cbdad3e.jpg  \n",
            " extracting: train/Dipto_855_jpg.rf.ff6c727bf2c2af70f8c8bf74ed873dc4.jpg  \n",
            " extracting: train/Dipto_858_jpg.rf.6d7bf096f372689883228077b797f086.jpg  \n",
            " extracting: train/Navid_01_jpg.rf.350c9f4c722e2550a18a6bb2fef022b3.jpg  \n",
            " extracting: train/Navid_02_jpg.rf.72eb8b46208423394f9d5789c99e1acf.jpg  \n",
            " extracting: train/Navid_03_jpg.rf.8bf13faaa1741062467677600c485d21.jpg  \n",
            " extracting: train/Navid_04_jpg.rf.3aa9f69626215b31a4acce142f8cc280.jpg  \n",
            " extracting: train/Navid_05_jpg.rf.2fba21609861b03c59a2bce5e2a3d293.jpg  \n",
            " extracting: train/Navid_07_jpg.rf.1e53dd6f9aa12532c056ade4f8be0738.jpg  \n",
            " extracting: train/Navid_08_jpg.rf.eaf51ec48685b27ceef9dc426d088063.jpg  \n",
            " extracting: train/Navid_100_jpg.rf.1fc8bb0e6c14311f340a5dfe2e4e53a2.jpg  \n",
            " extracting: train/Navid_101_jpg.rf.ddc197342a46584d56fce65138f41730.jpg  \n",
            " extracting: train/Navid_102_jpg.rf.0ba46a3ec450070afbdf849f7442ffb8.jpg  \n",
            " extracting: train/Navid_103_jpg.rf.6b7d7065c163792f43b66201581e38fe.jpg  \n",
            " extracting: train/Navid_104_jpg.rf.125da61fe086f73f5bfe35f8d8c0d284.jpg  \n",
            " extracting: train/Navid_105_jpg.rf.37bc62d7a47203f77648cf1af9e2b0a2.jpg  \n",
            " extracting: train/Navid_106_jpg.rf.159eea05092615d706b893cf27fc2fdf.jpg  \n",
            " extracting: train/Navid_107_jpg.rf.eeeb6ca69448a599883e13a9e32e9451.jpg  \n",
            " extracting: train/Navid_108_jpg.rf.36607ddb93d5be87e528ea5c141c7058.jpg  \n",
            " extracting: train/Navid_109_jpg.rf.7b63caa60341889e09f2fe5ea4be9d5b.jpg  \n",
            " extracting: train/Navid_110_jpg.rf.28591b3c5f37761f146ca8191fb6121a.jpg  \n",
            " extracting: train/Navid_111_jpg.rf.e7854b31c950d81c5c5431f5c4a03cd1.jpg  \n",
            " extracting: train/Navid_112_jpg.rf.4b29cae8782af355df3c82c9da9f8d90.jpg  \n",
            " extracting: train/Navid_114_jpg.rf.1ff8a13667f8d10c18c1b323d9833e6e.jpg  \n",
            " extracting: train/Navid_115_jpg.rf.26f98b6057e140575b495e1848b5fc16.jpg  \n",
            " extracting: train/Navid_117_jpg.rf.549f93c85a426d820728884da8318c2b.jpg  \n",
            " extracting: train/Navid_118_jpg.rf.f802ac6c85b5c8121b1bb43a90c05655.jpg  \n",
            " extracting: train/Navid_119_jpg.rf.9ea184ef71b73888c80b6d1295c2cbca.jpg  \n",
            " extracting: train/Navid_120_jpg.rf.73cf741b523fc0029908f37c659d93e3.jpg  \n",
            " extracting: train/Navid_121_jpg.rf.ea3aa2c77cea81aba2e93ea1458a5a15.jpg  \n",
            " extracting: train/Navid_122_jpg.rf.5a0117101ed867fb32fd6d7a6f9d6fdd.jpg  \n",
            " extracting: train/Navid_123_jpg.rf.a697a3d556e9d7314f7b9b918d2b87b5.jpg  \n",
            " extracting: train/Navid_124_jpg.rf.2245bbfff4d3be43cf5f6eee6f812305.jpg  \n",
            " extracting: train/Navid_125_jpg.rf.879e21ab0e74be3bc1a6f7923933ad4b.jpg  \n",
            " extracting: train/Navid_126_jpg.rf.cdfdc7ec3b877ba599944e70c2823e2c.jpg  \n",
            " extracting: train/Navid_127_jpg.rf.6da709fd6f3b3875f440afe8534c5c9e.jpg  \n",
            " extracting: train/Navid_128_jpg.rf.8e958c686646ef27c707c54f11125886.jpg  \n",
            " extracting: train/Navid_129_jpg.rf.2c6316a2493a610046be257850390fb8.jpg  \n",
            " extracting: train/Navid_12_jpg.rf.9ddee9f8724708106f5c52b9cf9a8b99.jpg  \n",
            " extracting: train/Navid_132_jpg.rf.a01239677e5503c1b39aef3b654a631f.jpg  \n",
            " extracting: train/Navid_133_jpg.rf.8c20612ae621de79c7484dbe479b996b.jpg  \n",
            " extracting: train/Navid_135_jpg.rf.3caee0b1a089cdb8709852696b01a83d.jpg  \n",
            " extracting: train/Navid_136_jpg.rf.bd62dcdfbdf945baac33fbd62502a354.jpg  \n",
            " extracting: train/Navid_137_jpg.rf.a33043e136f1d2d0920e099c29b158f9.jpg  \n",
            " extracting: train/Navid_138_jpg.rf.c97adc1f9515c98726494c6b86151e84.jpg  \n",
            " extracting: train/Navid_139_jpg.rf.c49aa53f525908c3946f49b5a5650717.jpg  \n",
            " extracting: train/Navid_13_jpg.rf.166e46c0003892667c72fda9cf30c0e1.jpg  \n",
            " extracting: train/Navid_140_jpg.rf.aa90f66607997a30441681a60a9a9be3.jpg  \n",
            " extracting: train/Navid_142_jpg.rf.d1a898960d6ddc43dc903fe0b2d9cef2.jpg  \n",
            " extracting: train/Navid_144_jpg.rf.9d216ba0109409d21453e4bd994b7c1e.jpg  \n",
            " extracting: train/Navid_145_jpg.rf.0e70864663984d07da72e5d728aa9944.jpg  \n",
            " extracting: train/Navid_146_jpg.rf.ed927d9b54ab9a03498c9d43a9ce9b2f.jpg  \n",
            " extracting: train/Navid_147_jpg.rf.6b8e8beb87bb4d67e27eeff39f20d674.jpg  \n",
            " extracting: train/Navid_148_jpg.rf.5774051dfc3300c02eade8e45104221e.jpg  \n",
            " extracting: train/Navid_149_jpg.rf.5fca21aa8f49c4ba90d34cfd3162c672.jpg  \n",
            " extracting: train/Navid_151_jpg.rf.672922bd33f8570c7cb91883cc2574fe.jpg  \n",
            " extracting: train/Navid_153_jpg.rf.cc4e0d9ce27de0449b37e772d2995a3f.jpg  \n",
            " extracting: train/Navid_154_jpg.rf.6654b3191b7d265784c72d26211bae31.jpg  \n",
            " extracting: train/Navid_156_jpg.rf.42712f4e6f8d4f9ff8d61d7d7388944b.jpg  \n",
            " extracting: train/Navid_157_jpg.rf.53a6cda163f8d00a3c6faf2395275aff.jpg  \n",
            " extracting: train/Navid_159_jpg.rf.9c438b6a7a93aa36022e9ebcc9efdd0f.jpg  \n",
            " extracting: train/Navid_15_jpg.rf.f95cf172b738ac0dc46717d9ab5a7cf0.jpg  \n",
            " extracting: train/Navid_160_jpg.rf.580742511a2ab9691e3fd975f240e39f.jpg  \n",
            " extracting: train/Navid_161_jpg.rf.3c0677a0248a7cb5b05a07afc0b836a8.jpg  \n",
            " extracting: train/Navid_162_jpg.rf.aa59e9b02bf95a3cf7a959a15ff7bbb7.jpg  \n",
            " extracting: train/Navid_163_jpg.rf.bb89bc4a890a157f78ed4b1ac94a8ae5.jpg  \n",
            " extracting: train/Navid_164_jpg.rf.83dd8e8f6744571d1b4cbf5b21c234bd.jpg  \n",
            " extracting: train/Navid_166_jpg.rf.14e3e49ad44378eb7e01802da27e9528.jpg  \n",
            " extracting: train/Navid_167_jpg.rf.56b2ca6c55ccdc826440ac02b8489e09.jpg  \n",
            " extracting: train/Navid_169_jpg.rf.bf5068dda670d190c373d190c679032d.jpg  \n",
            " extracting: train/Navid_16_jpg.rf.f1868571d32a6f3194d726a09431a2b7.jpg  \n",
            " extracting: train/Navid_170_jpg.rf.20a58922867f37c94c910fd7dcb79d13.jpg  \n",
            " extracting: train/Navid_171_jpg.rf.7b3532fe044ed6926345d4fd3ee8a449.jpg  \n",
            " extracting: train/Navid_172_jpg.rf.49c19bc7241e3e9f4e832d4dbabfbd2d.jpg  \n",
            " extracting: train/Navid_175_jpg.rf.96beddfaa9d01d35ed6ccef0fc850e55.jpg  \n",
            " extracting: train/Navid_176_jpg.rf.69f5ec0bcd28c35663ad50d05c5eaf67.jpg  \n",
            " extracting: train/Navid_177_jpg.rf.8a6594e483c55178d79b52bf5715bc27.jpg  \n",
            " extracting: train/Navid_178_jpg.rf.1f361f35cdd21c20438928d59757f23f.jpg  \n",
            " extracting: train/Navid_179_jpg.rf.e9867a01c40270d61b9da19be3a49f1e.jpg  \n",
            " extracting: train/Navid_17_jpg.rf.2dcb6d797d5901d0d8b4ddca4153647c.jpg  \n",
            " extracting: train/Navid_181_jpg.rf.470bb95971f31b3b7549395ae71d442d.jpg  \n",
            " extracting: train/Navid_182_jpg.rf.e7c2a1bc35cc1822b33db464d13a30e9.jpg  \n",
            " extracting: train/Navid_183_jpg.rf.c48e861e3b73378c0e4dadb42a4f6629.jpg  \n",
            " extracting: train/Navid_184_jpg.rf.36e6c61f5844d99a7a879a56bfa71363.jpg  \n",
            " extracting: train/Navid_185_jpg.rf.0ac76f15a34acc0000b3973bc81437a3.jpg  \n",
            " extracting: train/Navid_187_jpg.rf.6f94b7a8ab5622a0b39c4ca2d5bc3527.jpg  \n",
            " extracting: train/Navid_188_jpg.rf.a36b9a5763926ded7069311a2dccb236.jpg  \n",
            " extracting: train/Navid_189_jpg.rf.424ffc67d5908ce1c24bbdc9319af1f9.jpg  \n",
            " extracting: train/Navid_18_jpg.rf.debc887726f10b09826c0c081fbf4574.jpg  \n",
            " extracting: train/Navid_190_jpg.rf.221e008b65311831fd7005931fc568ca.jpg  \n",
            " extracting: train/Navid_194_jpg.rf.a04c55795b74ebbada51b7b726469170.jpg  \n",
            " extracting: train/Navid_195_jpg.rf.ae136af18735743a5f8894bf5d5635a7.jpg  \n",
            " extracting: train/Navid_196_jpg.rf.16d98cc6d09ff6a074e8223c5f16f43e.jpg  \n",
            " extracting: train/Navid_198_jpg.rf.a08bea6448efffe897888ca823e1fbbb.jpg  \n",
            " extracting: train/Navid_199_jpg.rf.36af53d976493f061c29b2d9d7a76f26.jpg  \n",
            " extracting: train/Navid_200_jpg.rf.7e66c2803e6dc7cee995fb6b82a6c190.jpg  \n",
            " extracting: train/Navid_201_jpg.rf.23bb7f4d97957e4aadf7919b5e3ab866.jpg  \n",
            " extracting: train/Navid_206_jpg.rf.7b2640575b5e3833b50f248be89db40e.jpg  \n",
            " extracting: train/Navid_207_jpg.rf.af8418d8ecc766b2a1b0588926a1d826.jpg  \n",
            " extracting: train/Navid_208_jpg.rf.64b813f73a5dc0bbd8d391019b3f5486.jpg  \n",
            " extracting: train/Navid_20_jpg.rf.26f4f42fe0ec1b9f83d5f4aa67f38396.jpg  \n",
            " extracting: train/Navid_211_jpg.rf.c6844726ee46b30128c6c8a9a4945176.jpg  \n",
            " extracting: train/Navid_212_jpg.rf.4b6ddcb06f7cd7ce59fbd81d9ceefdd2.jpg  \n",
            " extracting: train/Navid_213_jpg.rf.312ba33b909cea4147d4beb8a5919396.jpg  \n",
            " extracting: train/Navid_215_jpg.rf.647072bf98f84abe987b40b6fce7b0e7.jpg  \n",
            " extracting: train/Navid_216_jpg.rf.779e6cc1cf74e88bba9412922bf7fc07.jpg  \n",
            " extracting: train/Navid_217_jpg.rf.434c94cb36ff40dd7c99566b0bc10b1d.jpg  \n",
            " extracting: train/Navid_221_jpg.rf.9ce8e221182ab0bb1c9fd7fa8fe7931b.jpg  \n",
            " extracting: train/Navid_222_jpg.rf.c9b5811f78abde2b8e6f6eeda9db67ba.jpg  \n",
            " extracting: train/Navid_223_jpg.rf.dd2f5d8d4aaebe6318eed276bee664b1.jpg  \n",
            " extracting: train/Navid_224_jpg.rf.06c7738050314ee51a6921dfe925f6cb.jpg  \n",
            " extracting: train/Navid_225_jpg.rf.0c13238f91f652b948cbb94ba492ae5e.jpg  \n",
            " extracting: train/Navid_226_jpg.rf.4f2fd1a56cebbffb4bce4701c5ed13a4.jpg  \n",
            " extracting: train/Navid_227_jpg.rf.57f97a5257cae98608a410ef33cad8f5.jpg  \n",
            " extracting: train/Navid_228_jpg.rf.d47b7fae4e042dac1c7f4ab5d249db14.jpg  \n",
            " extracting: train/Navid_229_jpg.rf.adb28e48d0a5a3de1d08a553b2685844.jpg  \n",
            " extracting: train/Navid_232_jpg.rf.055e0dfc117c8a2a7bfe013f143d22d0.jpg  \n",
            " extracting: train/Navid_233_jpg.rf.5317549057d967786cf41b8bf963dff9.jpg  \n",
            " extracting: train/Navid_236_jpg.rf.5b9dfcc84214cb1d83b8453ad3d7b3fc.jpg  \n",
            " extracting: train/Navid_237_jpg.rf.3a28d4da1fabe7438981998d7f261230.jpg  \n",
            " extracting: train/Navid_238_jpg.rf.2e0fc522559ebad9a65c8162302dbca2.jpg  \n",
            " extracting: train/Navid_239_jpg.rf.dbb3fee2b4a27434abf2d12a3426d8cc.jpg  \n",
            " extracting: train/Navid_23_jpg.rf.07a760346b9aaf941ad4169a6c89ca4b.jpg  \n",
            " extracting: train/Navid_240_jpg.rf.bc8ef5555e6d21f7427fb9675d2b2bd2.jpg  \n",
            " extracting: train/Navid_242_jpg.rf.08151652c3d40a8900fde261464d3b8b.jpg  \n",
            " extracting: train/Navid_243_jpg.rf.4e7dd61dcfa31f3f3f9518b6a399d6a0.jpg  \n",
            " extracting: train/Navid_244_jpg.rf.cd4318bfcc2f878afd627aa9bed36b84.jpg  \n",
            " extracting: train/Navid_245_jpg.rf.8b2cb55e4ec137a1682d1dbb4ee0486a.jpg  \n",
            " extracting: train/Navid_246_jpg.rf.31ef645afb9afaf9a25dd8cc3772dabf.jpg  \n",
            " extracting: train/Navid_247_jpg.rf.5b79cce31b5c2d358040e0b32fe7cc76.jpg  \n",
            " extracting: train/Navid_248_jpg.rf.345bb36c15b7c733dfed56033aafdbbd.jpg  \n",
            " extracting: train/Navid_24_jpg.rf.42fda882a53c94026bbed06eaffa6248.jpg  \n",
            " extracting: train/Navid_250_jpg.rf.7e76484ae5011e4ebb75c8fc71213b7a.jpg  \n",
            " extracting: train/Navid_253_jpg.rf.eae9fdc8f2db9c903e7be3e15a19b5eb.jpg  \n",
            " extracting: train/Navid_254_jpg.rf.e841188585d36e801b71cf5ff57f240b.jpg  \n",
            " extracting: train/Navid_255_jpg.rf.2db59f2fbea01fe2065a4827c163e26c.jpg  \n",
            " extracting: train/Navid_256_jpg.rf.ce4ed850459169f12ff23c383e4ddb8e.jpg  \n",
            " extracting: train/Navid_258_jpg.rf.ee5d797a668afcc4cf2224bd042068f8.jpg  \n",
            " extracting: train/Navid_259_jpg.rf.1c9a31e70208144bb0e6bc2987ac2113.jpg  \n",
            " extracting: train/Navid_25_jpg.rf.2917bdd83d63404a861544e9e17cea2b.jpg  \n",
            " extracting: train/Navid_260_jpg.rf.7245d553db960f3f8cb8adc874393753.jpg  \n",
            " extracting: train/Navid_261_jpg.rf.5573e00719d244da74e863300e5cd19b.jpg  \n",
            " extracting: train/Navid_262_jpg.rf.ee8738c7b360d4b12adf2f853b96544d.jpg  \n",
            " extracting: train/Navid_263_jpg.rf.c501af66a08679bb9db5030512bc0f61.jpg  \n",
            " extracting: train/Navid_265_jpg.rf.4388c3c5ca9c7b695302361233c6c99e.jpg  \n",
            " extracting: train/Navid_266_jpg.rf.fe71b4a74e6ef5da4b220bc579559ea7.jpg  \n",
            " extracting: train/Navid_267_jpg.rf.bb03ccb14875d8bc6d25c59a8eef98c6.jpg  \n",
            " extracting: train/Navid_269_jpg.rf.857758f83808904aca745b524b78b14a.jpg  \n",
            " extracting: train/Navid_26_jpg.rf.b6fb268964068ea4017bbb1306b4c14c.jpg  \n",
            " extracting: train/Navid_271_jpg.rf.cec2006fa01320add30564f76c8e7dc0.jpg  \n",
            " extracting: train/Navid_272_jpg.rf.281cdd8db688e865ae98f0c1d2144b7b.jpg  \n",
            " extracting: train/Navid_273_jpg.rf.2434f8c035711dfed52c065eb48d6be4.jpg  \n",
            " extracting: train/Navid_274_jpg.rf.522edf29553ac21e1f6bd46770baa769.jpg  \n",
            " extracting: train/Navid_275_jpg.rf.36116d224b67082166d6ddc18cc27154.jpg  \n",
            " extracting: train/Navid_276_jpg.rf.cf79544e415f5864e7be7f5468688fda.jpg  \n",
            " extracting: train/Navid_277_jpg.rf.3556638b15af512ff8d1634ff50fccd1.jpg  \n",
            " extracting: train/Navid_279_jpg.rf.f1f9182a6b33ebd66eb96e4efa98777c.jpg  \n",
            " extracting: train/Navid_27_jpg.rf.d06f8ee7fb16ab337485863167f76aea.jpg  \n",
            " extracting: train/Navid_280_jpg.rf.022f22f1d4f956712ca10d00302a6ec4.jpg  \n",
            " extracting: train/Navid_283_jpg.rf.46b00a2ecb574b10fbd7791df31cbfa4.jpg  \n",
            " extracting: train/Navid_284_jpg.rf.d8cf0cb269cbf1c41a740ea0f4b81b45.jpg  \n",
            " extracting: train/Navid_286_jpg.rf.86505bb483f217d22567fdcca13f11c8.jpg  \n",
            " extracting: train/Navid_289_jpg.rf.8343364a1f7168eaf9fac9e69e984305.jpg  \n",
            " extracting: train/Navid_28_jpg.rf.ab837bb2596ab4f0870005d07c17c081.jpg  \n",
            " extracting: train/Navid_290_jpg.rf.b4a908ff63e36614b06df0406f667b45.jpg  \n",
            " extracting: train/Navid_291_jpg.rf.1354806bcd211f1f759411fd3087ba2f.jpg  \n",
            " extracting: train/Navid_292_jpg.rf.1b1e6661e44105822facfff0e14a0205.jpg  \n",
            " extracting: train/Navid_293_jpg.rf.02644d877c891157be1153c5c8caa7fd.jpg  \n",
            " extracting: train/Navid_294_jpg.rf.e14c4fb82dfdfad8a63fe3f6eb0d48f3.jpg  \n",
            " extracting: train/Navid_295_jpg.rf.fbd8b43fd68d68cfd65f91d21296eacb.jpg  \n",
            " extracting: train/Navid_296_jpg.rf.acf9a4990dbc25f58949150cadf1479d.jpg  \n",
            " extracting: train/Navid_298_jpg.rf.79d002dfca753e0041107cbdbd4ab6d8.jpg  \n",
            " extracting: train/Navid_300_jpg.rf.dfd4195b7c2fba0f28a74a1e7c9a9b8e.jpg  \n",
            " extracting: train/Navid_302_jpg.rf.701c29572f7d21a26177febffc0bc8cc.jpg  \n",
            " extracting: train/Navid_303_jpg.rf.720db26852dd247c620cef04793cd2be.jpg  \n",
            " extracting: train/Navid_304_jpg.rf.06558c9c2bbb3001584ad925141b592e.jpg  \n",
            " extracting: train/Navid_306_jpg.rf.fd1315e786940d16d8bc8def8afa9b9c.jpg  \n",
            " extracting: train/Navid_307_jpg.rf.b0f958c5b6cc3aeecb634239dc622417.jpg  \n",
            " extracting: train/Navid_308_jpg.rf.bd50ad1fadee6cb5ad3a286650657b27.jpg  \n",
            " extracting: train/Navid_309_jpg.rf.7f5f864cfdca53a4b5dcca188ecd5b19.jpg  \n",
            " extracting: train/Navid_30_jpg.rf.1cb04d25bd914974e3d3bfaf6c7307b5.jpg  \n",
            " extracting: train/Navid_311_jpg.rf.e0b64de57112ceb44d0abc98038d9856.jpg  \n",
            " extracting: train/Navid_313_jpg.rf.dad1be745ee2c3cb6e9aced8cf38cd49.jpg  \n",
            " extracting: train/Navid_314_jpg.rf.03a9f3c793a79369f3a542791d2eab9e.jpg  \n",
            " extracting: train/Navid_316_jpg.rf.50be10359e0bf0098bde4878ceb2f032.jpg  \n",
            " extracting: train/Navid_317_jpg.rf.f85654a36e7fd5739a3fcdf465a588a9.jpg  \n",
            " extracting: train/Navid_318_jpg.rf.cb75c1747e07a6031cb098af496d78d0.jpg  \n",
            " extracting: train/Navid_31_jpg.rf.c41a696994f0d9adf855f1539e46e67d.jpg  \n",
            " extracting: train/Navid_321_jpg.rf.3f2337c68a4477a4583f0240aa08bd5a.jpg  \n",
            " extracting: train/Navid_323_jpg.rf.0973ac30378dbedfd5423c13aed7df36.jpg  \n",
            " extracting: train/Navid_324_jpg.rf.2977495cd8c9f32349dff61938d173d0.jpg  \n",
            " extracting: train/Navid_325_jpg.rf.cb1c16a435152d9b72f2d6b9d50b5ac0.jpg  \n",
            " extracting: train/Navid_326_jpg.rf.74ee38303a400e256e9fd15bd4977174.jpg  \n",
            " extracting: train/Navid_328_jpg.rf.a9dc0a9997f218c4d7ae027ec0a1f908.jpg  \n",
            " extracting: train/Navid_329_jpg.rf.ebee0d45f781525ad530e80989334fc2.jpg  \n",
            " extracting: train/Navid_32_jpg.rf.2c78cf3dd04e380602bfe59d544a9a5d.jpg  \n",
            " extracting: train/Navid_330_jpg.rf.653b1174a5907973313dbf7f32d7910b.jpg  \n",
            " extracting: train/Navid_331_jpg.rf.5115113ef3d329c179bcc7fb5d049a70.jpg  \n",
            " extracting: train/Navid_332_jpg.rf.b75fc277c7288d95840686d533d3ba53.jpg  \n",
            " extracting: train/Navid_333_jpg.rf.25b4a36ca8321e8ac4394fd23bf66dd9.jpg  \n",
            " extracting: train/Navid_334_jpg.rf.f4b3fa0c7ea67a8e09ba849b6c56c062.jpg  \n",
            " extracting: train/Navid_335_jpg.rf.59b5ef0651df946d2858da3c4ed15801.jpg  \n",
            " extracting: train/Navid_336_jpg.rf.b579af64a56111ca4130d573a3d96c8b.jpg  \n",
            " extracting: train/Navid_337_jpg.rf.bec0ddec81065b4b9e71893895e62f27.jpg  \n",
            " extracting: train/Navid_338_jpg.rf.a58e85620dd284ce603c540e51887d1a.jpg  \n",
            " extracting: train/Navid_339_jpg.rf.53edcf911ccb7bc86836013f7352d00b.jpg  \n",
            " extracting: train/Navid_33_jpg.rf.6fb2c5cf3ddb0e629f65a30134a4a7e5.jpg  \n",
            " extracting: train/Navid_340_jpg.rf.112ff5390869815ece248f2bb05b7367.jpg  \n",
            " extracting: train/Navid_341_jpg.rf.a9fec058ec6a47fe898679345c227884.jpg  \n",
            " extracting: train/Navid_342_jpg.rf.9666f013a2198170d7ab2999ae065e4b.jpg  \n",
            " extracting: train/Navid_343_jpg.rf.463ca7f1ffe85c9bf13d3b57583b3282.jpg  \n",
            " extracting: train/Navid_344_jpg.rf.372ec1e9a51074b49091bfd84ad7d344.jpg  \n",
            " extracting: train/Navid_345_jpg.rf.58b4426be9c9c986dfe1b3419fff84bd.jpg  \n",
            " extracting: train/Navid_346_jpg.rf.b5299caf5081883dc3d09303bbfa7c6b.jpg  \n",
            " extracting: train/Navid_347_jpg.rf.4e20ccfff3a53b8dc6fb88c9aa525123.jpg  \n",
            " extracting: train/Navid_348_jpg.rf.d0a269346bc6bc4a49e6939c8f1d4295.jpg  \n",
            " extracting: train/Navid_34_jpg.rf.b6ef48cf8d1c49fd147967b89a1352f0.jpg  \n",
            " extracting: train/Navid_350_jpg.rf.3a0fe17038d0dceefed61b8d75fbaa13.jpg  \n",
            " extracting: train/Navid_351_JPG.rf.7d452386a2daee3b68b9401ed0e81fc5.jpg  \n",
            " extracting: train/Navid_352_JPG.rf.0c33391ea6e0d565f18bf9bdd68e87ea.jpg  \n",
            " extracting: train/Navid_355_JPG.rf.59503dbfe32f024a56da50c934efe5b3.jpg  \n",
            " extracting: train/Navid_356_jpg.rf.2166eeb1a82da0059ded026a2b01feee.jpg  \n",
            " extracting: train/Navid_357_jpg.rf.3a7ae739d3b7c36c7b30678c79a6bc1e.jpg  \n",
            " extracting: train/Navid_359_jpg.rf.7f265eb8509f18d189beac733351daa8.jpg  \n",
            " extracting: train/Navid_35_jpg.rf.1b51b7a99179ac6aa0b97ad0c2591b4b.jpg  \n",
            " extracting: train/Navid_360_jpg.rf.7678b35fb0ab90835027e297412221b2.jpg  \n",
            " extracting: train/Navid_362_jpg.rf.01ccd0b176dc250b132fa7db1994986e.jpg  \n",
            " extracting: train/Navid_363_jpg.rf.2cb22b9658c139bb842689728b2cd037.jpg  \n",
            " extracting: train/Navid_365_jpg.rf.72d3029a825de692a206cfcd0d87395f.jpg  \n",
            " extracting: train/Navid_368_jpg.rf.c1e9cca989d01e71528d6111bd8a46f1.jpg  \n",
            " extracting: train/Navid_369_jpg.rf.a7eb202b80be485d018858d1a1f20f3a.jpg  \n",
            " extracting: train/Navid_36_jpg.rf.14c522363f5f30e84d2b0b0ede2a5b6b.jpg  \n",
            " extracting: train/Navid_370_jpg.rf.40ec1040ade2023e2b90795f9ed295c5.jpg  \n",
            " extracting: train/Navid_371_jpg.rf.72a6a1d63d8934c217f6bf65bae2525f.jpg  \n",
            " extracting: train/Navid_372_jpg.rf.82d9cdd7ac30c4648274b18edcada854.jpg  \n",
            " extracting: train/Navid_373_jpg.rf.5d2d91e7c44b8edcd23c3939a1523b77.jpg  \n",
            " extracting: train/Navid_374_jpg.rf.5cab6faf22741ca946fff67ea7384568.jpg  \n",
            " extracting: train/Navid_375_jpg.rf.67a9dafef86b4a6ed5671dd11942fbea.jpg  \n",
            " extracting: train/Navid_376_jpg.rf.32a898bb8a8e776b3ea3f9031cfe4048.jpg  \n",
            " extracting: train/Navid_377_jpg.rf.30f70b811b5abfdaef76f35888f9eb63.jpg  \n",
            " extracting: train/Navid_378_jpg.rf.aeb1fedae4e879a352b3e116a38c3b78.jpg  \n",
            " extracting: train/Navid_379_jpg.rf.6b9124218293c447cd6dec336d7c2eba.jpg  \n",
            " extracting: train/Navid_380_jpg.rf.1b2b096bcb5de07407db2e331f6faf65.jpg  \n",
            " extracting: train/Navid_381_jpg.rf.2794956b823b3045a5dc4450fe60d16d.jpg  \n",
            " extracting: train/Navid_382_jpg.rf.6bc4f3f7c48deddde36f5c8ccb6e9d2d.jpg  \n",
            " extracting: train/Navid_383_jpg.rf.1e8072becb8d292f9cca3bf8a543a279.jpg  \n",
            " extracting: train/Navid_384_jpg.rf.f69dd8e9963e248418f0a9b1a1307e42.jpg  \n",
            " extracting: train/Navid_385_jpg.rf.ee4c25534a27a81b3cb60b079826c7bb.jpg  \n",
            " extracting: train/Navid_387_jpg.rf.50a6d4375b58e1d0da432d34db4de1b8.jpg  \n",
            " extracting: train/Navid_389_jpg.rf.30cd2947ad3a7b60fbb2a99a6248101d.jpg  \n",
            " extracting: train/Navid_38_jpg.rf.f7987335c4a3920abd9d51d211e7ee35.jpg  \n",
            " extracting: train/Navid_390_jpg.rf.550780edcf4f533d662f0a1705f52aa9.jpg  \n",
            " extracting: train/Navid_392_jpg.rf.da77f28e651b3f492caa7369d95d3442.jpg  \n",
            " extracting: train/Navid_393_jpg.rf.ca98cfd643fb569fc2aa2216bcc271c0.jpg  \n",
            " extracting: train/Navid_394_jpg.rf.ca0b2a559543cf5e0399944d31fc354a.jpg  \n",
            " extracting: train/Navid_395_JPG.rf.d225ac98426f1feb540a619941e0d86d.jpg  \n",
            " extracting: train/Navid_397_jpg.rf.b6fc0f62b43ab293537e353813f1ea40.jpg  \n",
            " extracting: train/Navid_398_jpg.rf.5a9ea91e2de404749aebcaf1e3d7ff94.jpg  \n",
            " extracting: train/Navid_39_jpg.rf.bc422ab0ebb3f3e11f9f3044c3de9368.jpg  \n",
            " extracting: train/Navid_400_jpg.rf.c3ab072406b5bbdb421a7a17176a3caf.jpg  \n",
            " extracting: train/Navid_401_jpg.rf.01e52920286a8e4a6e01e12a46b2f628.jpg  \n",
            " extracting: train/Navid_402_jpg.rf.5d4009783217050069b482d931a795c9.jpg  \n",
            " extracting: train/Navid_403_jpg.rf.2ed71993f941642e82ef3033f6266842.jpg  \n",
            " extracting: train/Navid_404_jpg.rf.96fbe00621042326bf05543d60cb4254.jpg  \n",
            " extracting: train/Navid_405_jpg.rf.08bd37391abcffb61cc7575653deb94a.jpg  \n",
            " extracting: train/Navid_406_jpg.rf.e72c9902a1ec3aabb09eea59dbbcb3c0.jpg  \n",
            " extracting: train/Navid_407_jpg.rf.d3e931b4e6a6913eaf0225c6b2bf930c.jpg  \n",
            " extracting: train/Navid_408_jpg.rf.fecb6e3f6b8abd77dee0d4b1dfca1b59.jpg  \n",
            " extracting: train/Navid_409_jpg.rf.a72c14f64d6c7f88ff4150e2ea9c5b3f.jpg  \n",
            " extracting: train/Navid_40_jpg.rf.34741b289536675d1ce45532718d2fb7.jpg  \n",
            " extracting: train/Navid_410_jpg.rf.8d5f45c934790c39583ad5d8a4f0abcb.jpg  \n",
            " extracting: train/Navid_412_jpg.rf.17c33a628bbd22e2145798f50b972950.jpg  \n",
            " extracting: train/Navid_413_jpg.rf.aff401cb5951e9b41f6e9747a8d52957.jpg  \n",
            " extracting: train/Navid_414_jpg.rf.0853f799640c2cf93bff7ee314f37437.jpg  \n",
            " extracting: train/Navid_415_jpg.rf.892d662143f20ac9221ce079c7dc58e8.jpg  \n",
            " extracting: train/Navid_418_jpg.rf.ba1c0dacded558865de6b730c530235a.jpg  \n",
            " extracting: train/Navid_419_jpg.rf.59175c6761718371353e60469da8baf6.jpg  \n",
            " extracting: train/Navid_41_jpg.rf.34902ffad8f12b1170001e2d5c66149a.jpg  \n",
            " extracting: train/Navid_420_jpg.rf.59e0fb07c2f0db3dc21178f19f20667d.jpg  \n",
            " extracting: train/Navid_421_jpg.rf.6170db9ce5f3ee0689e4e12ce4a57c8e.jpg  \n",
            " extracting: train/Navid_422_jpg.rf.65607f5ffe463027aff52a5d3caa5da9.jpg  \n",
            " extracting: train/Navid_426_jpg.rf.0628bd27bb92128dde44413af54fa8b3.jpg  \n",
            " extracting: train/Navid_427_jpg.rf.dd75511c313c6c0d06c983e5c0f4659d.jpg  \n",
            " extracting: train/Navid_430_jpg.rf.d8561917ce0b2b05d66c18b9cb17e8bb.jpg  \n",
            " extracting: train/Navid_431_jpg.rf.b49b1abefd94c495a9c1aa755addc6f2.jpg  \n",
            " extracting: train/Navid_432_jpg.rf.5a995973646cb8202d4da5bfe5022223.jpg  \n",
            " extracting: train/Navid_436_jpg.rf.9b28b57d3e1f49026be93fe5f331a374.jpg  \n",
            " extracting: train/Navid_437_jpg.rf.4a24e1b12103c20c2be21a7965c32e4d.jpg  \n",
            " extracting: train/Navid_438_jpg.rf.e4ce02b319e5a79b4f0b522629dc4de1.jpg  \n",
            " extracting: train/Navid_439_jpg.rf.f9bc56b7b8d35231b19ba3c90ae1c13a.jpg  \n",
            " extracting: train/Navid_440_jpg.rf.fca51e3aa998aa987652ff26b33bbe62.jpg  \n",
            " extracting: train/Navid_441_jpg.rf.d7320d2190db3f3cd5f33c49d9366175.jpg  \n",
            " extracting: train/Navid_442_jpg.rf.771b28b7e5b6a9e9898b13ed0387fc7e.jpg  \n",
            " extracting: train/Navid_444_jpg.rf.de3a1b1fe74c3581cadb660268fc9114.jpg  \n",
            " extracting: train/Navid_445_jpg.rf.573373d853b3f825bddad13e6c7907c0.jpg  \n",
            " extracting: train/Navid_448_jpg.rf.af3ce21acff0fd2224f0bd83c9d5226c.jpg  \n",
            " extracting: train/Navid_449_jpg.rf.c67403173364caec6fa4d667d5e7786b.jpg  \n",
            " extracting: train/Navid_450_jpg.rf.1879eb7df96a71bf957383cafc1f9d00.jpg  \n",
            " extracting: train/Navid_451_jpg.rf.48550ff47715cfb45e9c5ff15508a9f3.jpg  \n",
            " extracting: train/Navid_452_jpg.rf.eef95151720d11c5db86176d66a97516.jpg  \n",
            " extracting: train/Navid_453_jpg.rf.71c1d9919ce1e366ecb48b69d4c3f2db.jpg  \n",
            " extracting: train/Navid_454_jpg.rf.960877e31e1c9f5e97d30fa3b438e66a.jpg  \n",
            " extracting: train/Navid_455_jpg.rf.bf5d629150805b9492a8d82ee4ec03bc.jpg  \n",
            " extracting: train/Navid_456_jpg.rf.5b884572d3b936e140ee77ef6a34e078.jpg  \n",
            " extracting: train/Navid_457_jpg.rf.c98e82fb21ced8831df79a6d50cd9eae.jpg  \n",
            " extracting: train/Navid_458_jpg.rf.263265813609a697eb25628472011531.jpg  \n",
            " extracting: train/Navid_459_jpg.rf.ed2c592b762b5e1fbb6327561b687c6f.jpg  \n",
            " extracting: train/Navid_45_jpg.rf.df86468424d4671f4f38f2f65b814df8.jpg  \n",
            " extracting: train/Navid_461_jpg.rf.9ba8892a76aea57062fff88ca7b7cce6.jpg  \n",
            " extracting: train/Navid_463_jpg.rf.31a0c4d3b949f578052449ba528f24b9.jpg  \n",
            " extracting: train/Navid_466_jpg.rf.0ea2b464cce477f85440c560de82d27e.jpg  \n",
            " extracting: train/Navid_467_jpg.rf.2ee823cbb8ba79996ba9431248fd9dfe.jpg  \n",
            " extracting: train/Navid_468_jpg.rf.5438af950c2d347270e44fab376e7c61.jpg  \n",
            " extracting: train/Navid_469_jpg.rf.7650233aeb04192784219a5405273e17.jpg  \n",
            " extracting: train/Navid_470_jpg.rf.1af0a600ef5a1de200507075f56a9e7a.jpg  \n",
            " extracting: train/Navid_472_jpg.rf.96d8cdd4b63a3dc01863945ad9f5292f.jpg  \n",
            " extracting: train/Navid_473_jpg.rf.1113868573e222bd3b71393d4a0235ba.jpg  \n",
            " extracting: train/Navid_474_jpg.rf.8363f8aa4ab9098c47f0e8d5f8cc2402.jpg  \n",
            " extracting: train/Navid_476_jpg.rf.577797d4d0c41a37ffda01e96587783b.jpg  \n",
            " extracting: train/Navid_477_jpg.rf.5985ac60bd6795a4a92eef1042def040.jpg  \n",
            " extracting: train/Navid_478_jpg.rf.a6abc9e39934ca9f46470bfc42e296d8.jpg  \n",
            " extracting: train/Navid_47_jpg.rf.6750b6c008a08b66cb197497d3ad7d18.jpg  \n",
            " extracting: train/Navid_481_jpg.rf.2bc684e603c98f894a9c45bfdaf2b985.jpg  \n",
            " extracting: train/Navid_482_jpg.rf.d438f3ee9bdb6d9281d1c0c3a20d0793.jpg  \n",
            " extracting: train/Navid_483_jpg.rf.2c489f6b83e0cea20866ca4001125c0a.jpg  \n",
            " extracting: train/Navid_484_jpg.rf.456a9e1e95b7513692ec714823e2e97c.jpg  \n",
            " extracting: train/Navid_485_jpg.rf.92fb0b9fdde23c1bc43f4be9565fd4b2.jpg  \n",
            " extracting: train/Navid_488_jpg.rf.a1cee42b0ad3ebdb2afb445c22cc86eb.jpg  \n",
            " extracting: train/Navid_48_jpg.rf.6ccc77ebb5e289695517a5e3c796a03a.jpg  \n",
            " extracting: train/Navid_490_jpg.rf.946e433b35eeec07787d02eabf8326f7.jpg  \n",
            " extracting: train/Navid_491_jpg.rf.b442c78384a1f1a522103ce9ff77c1c5.jpg  \n",
            " extracting: train/Navid_492_jpg.rf.87caaac0ea67ff5f0ffa1b0cec90cf35.jpg  \n",
            " extracting: train/Navid_494_jpg.rf.923c2d709fbbc52a536ac1319ef5167d.jpg  \n",
            " extracting: train/Navid_495_jpg.rf.4e79aa74f1fe4d63e6ec740214fc1437.jpg  \n",
            " extracting: train/Navid_496_jpg.rf.ab8dab41bf9274293aa3d7ec7cfa1213.jpg  \n",
            " extracting: train/Navid_497_jpg.rf.4ef1a7d45ef9220459aa1300c047fbef.jpg  \n",
            " extracting: train/Navid_499_jpg.rf.5b1d472d481e1d646a9ec87d01f14056.jpg  \n",
            " extracting: train/Navid_49_jpg.rf.9907e8082a1e5b66b730615135863276.jpg  \n",
            " extracting: train/Navid_500_jpg.rf.338d901bd8f243a766f8488722207e4e.jpg  \n",
            " extracting: train/Navid_501_jpg.rf.30d2acc2bd02e6e6acbab70ad814f8e0.jpg  \n",
            " extracting: train/Navid_504_jpg.rf.1dc3b017ecfc645bd58e6c1cdd27dbdb.jpg  \n",
            " extracting: train/Navid_505_jpg.rf.4b9f561a0703348266de5e32916c60cc.jpg  \n",
            " extracting: train/Navid_507_jpg.rf.fc8b6830d1f469e0a05ad15fc065c59a.jpg  \n",
            " extracting: train/Navid_50_jpg.rf.3c386815ead1728f448958de1fc6355c.jpg  \n",
            " extracting: train/Navid_510_jpg.rf.66d12afb7e4ef919ca641c3f22b690f0.jpg  \n",
            " extracting: train/Navid_511_jpg.rf.c831704da50a40398f1b66331ee1ccec.jpg  \n",
            " extracting: train/Navid_512_jpg.rf.600f8207875848b32cd62eee6affec18.jpg  \n",
            " extracting: train/Navid_513_jpg.rf.711387038f89dde8c2339ea06bed7768.jpg  \n",
            " extracting: train/Navid_515_jpg.rf.798ae04dccc2ee4857ddf390d2829701.jpg  \n",
            " extracting: train/Navid_516_jpg.rf.938757df9c2006e01c0671a8183d9d8a.jpg  \n",
            " extracting: train/Navid_517_jpg.rf.6e21a8fd737678c2991954f6160317c5.jpg  \n",
            " extracting: train/Navid_518_jpg.rf.8fb124ee44070d8c59192a0d117e657e.jpg  \n",
            " extracting: train/Navid_519_jpg.rf.e731928f4be04e6bb8de5555131e7d0b.jpg  \n",
            " extracting: train/Navid_51_jpg.rf.1670c388ed7201421a79d3af78dc23d6.jpg  \n",
            " extracting: train/Navid_522_jpg.rf.4b22eefba253f4da81d8d293bf87c797.jpg  \n",
            " extracting: train/Navid_523_jpg.rf.786913105daa0c91b36ca6e212210497.jpg  \n",
            " extracting: train/Navid_524_jpg.rf.cce5baf336b507c05320445b4a0d8c04.jpg  \n",
            " extracting: train/Navid_525_jpg.rf.dd3ccec151d0bc75fda7394896e6f299.jpg  \n",
            " extracting: train/Navid_527_jpg.rf.34bc59b7d8ad9afcdba02859c74b2f84.jpg  \n",
            " extracting: train/Navid_528_jpg.rf.d91bac9f9fbfe4c8ebc3834a074c02d9.jpg  \n",
            " extracting: train/Navid_52_jpg.rf.9b51823182f8d5335c73554a16855d1d.jpg  \n",
            " extracting: train/Navid_531_jpg.rf.55287bf7cc9188740d15211e9a3b2676.jpg  \n",
            " extracting: train/Navid_532_jpg.rf.7804910abb09d419b7cadff26c0e0892.jpg  \n",
            " extracting: train/Navid_533_jpg.rf.e2bdb1e8c2c03289d4fcb9c9e2510d27.jpg  \n",
            " extracting: train/Navid_534_jpg.rf.6a9a2daabd8cf68055d616a097815175.jpg  \n",
            " extracting: train/Navid_535_jpg.rf.ae63c2bd0ee4bb0322dd9eb52b8b8c30.jpg  \n",
            " extracting: train/Navid_536_jpg.rf.235ad6ad9c9ad588ad5eea555935579f.jpg  \n",
            " extracting: train/Navid_537_jpg.rf.b3ac1794db7a55beaecadc0450f1a46b.jpg  \n",
            " extracting: train/Navid_53_jpg.rf.bb2c7b669bb64068c986e5809b1ef98e.jpg  \n",
            " extracting: train/Navid_541_jpg.rf.523962a3018bb6cb7120eaec345d81f1.jpg  \n",
            " extracting: train/Navid_542_jpg.rf.2d07b2802d7b18289617ad44a78ecad5.jpg  \n",
            " extracting: train/Navid_543_jpg.rf.76a77b313050df03218a1aa64f864926.jpg  \n",
            " extracting: train/Navid_544_jpg.rf.8b3b89926fae8244d3df0b1519ee2408.jpg  \n",
            " extracting: train/Navid_545_jpg.rf.18fa4edc4b6d94bfab33838a740a8492.jpg  \n",
            " extracting: train/Navid_546_jpg.rf.fe23d65ac0688d553a8979839f05e08e.jpg  \n",
            " extracting: train/Navid_54_jpg.rf.804bdb3c89ca72b809fa78274f1e5466.jpg  \n",
            " extracting: train/Navid_550_jpg.rf.1e55376047fa9a660440e6d727d92c4c.jpg  \n",
            " extracting: train/Navid_551_jpg.rf.65400bb2b61527ce2078b26fd35ba347.jpg  \n",
            " extracting: train/Navid_552_jpg.rf.1cb110c4e151212aac44dca7ec0753f5.jpg  \n",
            " extracting: train/Navid_553_jpg.rf.a2fa46bc34878a8da57f955b9c78f712.jpg  \n",
            " extracting: train/Navid_555_jpg.rf.b7f55605fa26c10cb8f371ed6bcffc0d.jpg  \n",
            " extracting: train/Navid_558_jpg.rf.3390634923877723e616eceed6612eef.jpg  \n",
            " extracting: train/Navid_559_jpg.rf.f05ef3709c7bf7b3a8203cbe009838e0.jpg  \n",
            " extracting: train/Navid_55_jpg.rf.e7784b795bbbbd07d554f69c679d43a9.jpg  \n",
            " extracting: train/Navid_560_jpg.rf.2c0a0a69a96438db8ed963c6a761f1f8.jpg  \n",
            " extracting: train/Navid_562_jpg.rf.bdc1750a7d0039d40a06b0477eb083f0.jpg  \n",
            " extracting: train/Navid_563_jpg.rf.5e846f9c23e1965bd4955f34c7eeaf4a.jpg  \n",
            " extracting: train/Navid_564_jpg.rf.d150f73e1dcbb6ecfb9c598e5071c68d.jpg  \n",
            " extracting: train/Navid_565_jpg.rf.ed824af0bf145be3089af6cd49fca4fe.jpg  \n",
            " extracting: train/Navid_566_jpg.rf.11f3980166eec2baba0a953e77cf27a4.jpg  \n",
            " extracting: train/Navid_567_jpg.rf.73b42c54f116edc676c93afb83723765.jpg  \n",
            " extracting: train/Navid_568_jpg.rf.79a79edf4dcc855250798644063108d9.jpg  \n",
            " extracting: train/Navid_569_jpg.rf.c8ac8b45ab0ae968bcb333079c2db0a6.jpg  \n",
            " extracting: train/Navid_56_jpg.rf.4965b00cc2c0897008a13083eecd665a.jpg  \n",
            " extracting: train/Navid_570_jpg.rf.49999d26bd2954230d4cfb8838e9ffe2.jpg  \n",
            " extracting: train/Navid_572_jpg.rf.fb38784f8933877e7aeb2083cb271561.jpg  \n",
            " extracting: train/Navid_573_jpg.rf.69944a3e675a1d1798991fd0cb095f0a.jpg  \n",
            " extracting: train/Navid_574_jpg.rf.c488f81bccdb15fbb2aaea50bb8385d2.jpg  \n",
            " extracting: train/Navid_575_jpg.rf.4ffa9ffa03c6990b4f2f0b973ea75791.jpg  \n",
            " extracting: train/Navid_576_jpg.rf.66390a7a258fd1340ca3720815cb8ce5.jpg  \n",
            " extracting: train/Navid_577_jpg.rf.0a9a82bc5ad1c886dd7a4d800d22fa34.jpg  \n",
            " extracting: train/Navid_579_JPG.rf.210611ca953a261f763ec0651b563c5b.jpg  \n",
            " extracting: train/Navid_57_jpg.rf.e7196582517169407b7a85b62a97cde0.jpg  \n",
            " extracting: train/Navid_580_JPG.rf.fccda2689e3ee22b8b0be494187c78f4.jpg  \n",
            " extracting: train/Navid_582_JPG.rf.e8dbf68a168d710cb944ed0ddb92e275.jpg  \n",
            " extracting: train/Navid_583_JPG.rf.959249b1d86e67bc4fd94997b2281fe0.jpg  \n",
            " extracting: train/Navid_584_JPG.rf.faccee641d637e00c5960c36f0ebf841.jpg  \n",
            " extracting: train/Navid_586_JPG.rf.902bc25f7e015374cb923d8a77069bc3.jpg  \n",
            " extracting: train/Navid_587_JPG.rf.8601cbe21027f1d1801afecab3bd8a37.jpg  \n",
            " extracting: train/Navid_588_JPG.rf.f4f824b7812b48dd4ddb940e88fed1d4.jpg  \n",
            " extracting: train/Navid_589_JPG.rf.3bb512a9d096ece2be7acdb69f7716fc.jpg  \n",
            " extracting: train/Navid_58_jpg.rf.b3ca886ba63bbc95e1d89895232cb183.jpg  \n",
            " extracting: train/Navid_590_JPG.rf.dec75c705f0ac96fc7db08d4bd2ff1f4.jpg  \n",
            " extracting: train/Navid_591_JPG.rf.7dc12683316c7390135dde4e63b2d82f.jpg  \n",
            " extracting: train/Navid_592_JPG.rf.91b8e9470bbc138889adf1ea070c3176.jpg  \n",
            " extracting: train/Navid_593_JPG.rf.1252be324830cf383f713c1391c889ea.jpg  \n",
            " extracting: train/Navid_594_JPG.rf.31ac012e1fdafb57dca9e67e6fbbbf51.jpg  \n",
            " extracting: train/Navid_595_JPG.rf.d57066389e9186eb52d2feb43cb4ef31.jpg  \n",
            " extracting: train/Navid_596_JPG.rf.ceb8fc780cafa4dedc726529009736ab.jpg  \n",
            " extracting: train/Navid_597_JPG.rf.337faeb6aaacac134c8ea76010f51d7f.jpg  \n",
            " extracting: train/Navid_598_JPG.rf.d81f2063ee8277cc3d9a9d67dd1ff681.jpg  \n",
            " extracting: train/Navid_59_jpg.rf.a93ca6a343c6d0facff1c6a30328a01c.jpg  \n",
            " extracting: train/Navid_600_JPG.rf.150347ce0b4a76f8a5a8b495a1e51d5a.jpg  \n",
            " extracting: train/Navid_601_JPG.rf.0cf24889bbf77771ccc315388bd76ffd.jpg  \n",
            " extracting: train/Navid_602_JPG.rf.ab0ddae5590b53df314a3aaad26b4874.jpg  \n",
            " extracting: train/Navid_604_JPG.rf.253b0349647981f40bfc5649a301ae72.jpg  \n",
            " extracting: train/Navid_605_JPG.rf.d8e9a52525754ca65eca23cacb7a7622.jpg  \n",
            " extracting: train/Navid_606_JPG.rf.e692d3856a8c8102b946e969323aefd0.jpg  \n",
            " extracting: train/Navid_607_JPG.rf.01f6947fb916367b6e3594871c54f050.jpg  \n",
            " extracting: train/Navid_608_JPG.rf.2f6320db71e1a8339c590c7cd43732f0.jpg  \n",
            " extracting: train/Navid_60_jpg.rf.84d283fc8ef0ff755698353d9758d3d8.jpg  \n",
            " extracting: train/Navid_610_JPG.rf.79e8398e7aafb61023fbd5c45d3af34c.jpg  \n",
            " extracting: train/Navid_611_JPG.rf.51952888cd5e74c634511a86efe78c68.jpg  \n",
            " extracting: train/Navid_612_JPG.rf.9942cac387f4bf314506fa0eb375809c.jpg  \n",
            " extracting: train/Navid_614_JPG.rf.641c5ded7ba36a97de4fd4ecb632f5f3.jpg  \n",
            " extracting: train/Navid_615_JPG.rf.d94c197b56eec5a49cf4ec6be4ec68ca.jpg  \n",
            " extracting: train/Navid_616_JPG.rf.4e0a69c9a8572b42fc2e157253704f52.jpg  \n",
            " extracting: train/Navid_617_JPG.rf.5834d2cf0dac4ade13ab50b0354ca12e.jpg  \n",
            " extracting: train/Navid_619_JPG.rf.d1be8a96050f32b07d88016c04cb5baf.jpg  \n",
            " extracting: train/Navid_620_JPG.rf.0c70b3ccb848b8af7900a41ad3236e9c.jpg  \n",
            " extracting: train/Navid_621_JPG.rf.2548b1c7738e242f992f102eeed7f2ec.jpg  \n",
            " extracting: train/Navid_622_JPG.rf.9206f210e42d2e3b0bb2a4a48a2da6bb.jpg  \n",
            " extracting: train/Navid_623_JPG.rf.4979a0ea3c844c472e17d48fb5b15097.jpg  \n",
            " extracting: train/Navid_624_JPG.rf.fc3674a3a930844f43b67247d024bd5e.jpg  \n",
            " extracting: train/Navid_625_JPG.rf.316eccc44577c3bbd5f0134c2d9b1944.jpg  \n",
            " extracting: train/Navid_627_JPG.rf.cee52624d4d2119226f40d432e61875a.jpg  \n",
            " extracting: train/Navid_628_JPG.rf.eee7eac858f6122adf481bcd409acbb5.jpg  \n",
            " extracting: train/Navid_629_JPG.rf.61f4ee1d220fddf5b30500d89d59463b.jpg  \n",
            " extracting: train/Navid_62_jpg.rf.b8f6ffaee7402842560c9beb57ad369f.jpg  \n",
            " extracting: train/Navid_630_JPG.rf.f4bdb2a3737e8db5a74604ff3abf9864.jpg  \n",
            " extracting: train/Navid_631_JPG.rf.e41d66a0b29ac7f0b988f60397d1e39b.jpg  \n",
            " extracting: train/Navid_633_JPG.rf.a69d30209aa18fb265b62929a3c6250f.jpg  \n",
            " extracting: train/Navid_634_JPG.rf.7e16d9f05110b9592dfe38144f750b4e.jpg  \n",
            " extracting: train/Navid_635_JPG.rf.27f2fefb39b0182e9c8f5c57d148caf0.jpg  \n",
            " extracting: train/Navid_636_JPG.rf.3107efdcdb834fd67377de4e4b4cdfe4.jpg  \n",
            " extracting: train/Navid_637_JPG.rf.e7f1167300140ceb0c44a75fa5dbb84e.jpg  \n",
            " extracting: train/Navid_638_JPG.rf.2b8f56f0279a337d5bde965237b16485.jpg  \n",
            " extracting: train/Navid_639_JPG.rf.8fcae609af231551a8fde84a67f0b8a1.jpg  \n",
            " extracting: train/Navid_63_jpg.rf.2caf22bb51bdfc60980a76c67f548a1b.jpg  \n",
            " extracting: train/Navid_640_JPG.rf.d05903ff7b460345a5a889e8a7295b36.jpg  \n",
            " extracting: train/Navid_642_JPG.rf.fcfa5b3e4740254ed9c09fb05c32713c.jpg  \n",
            " extracting: train/Navid_643_JPG.rf.4ec937bfe20a99a2f26043ad6e300cd5.jpg  \n",
            " extracting: train/Navid_644_JPG.rf.e4bcb586c8e2cefe3c4c727e322d08ae.jpg  \n",
            " extracting: train/Navid_645_JPG.rf.b452776d78bf16c75ce216c45683815c.jpg  \n",
            " extracting: train/Navid_646_JPG.rf.d44e69f7d6376f8ae9bc4e76a161572c.jpg  \n",
            " extracting: train/Navid_647_JPG.rf.564ded86e4e2792d3bbb1fbbff1b0934.jpg  \n",
            " extracting: train/Navid_648_JPG.rf.243048c474e7e1a07f1ceaebd704ff50.jpg  \n",
            " extracting: train/Navid_649_JPG.rf.c64c60b11322d6d9250c6ac4fa36b799.jpg  \n",
            " extracting: train/Navid_64_jpg.rf.5f571843ae0120f45b38c0fad68f7d60.jpg  \n",
            " extracting: train/Navid_650_JPG.rf.62681c23b06ef38ab93ed834a90f5b35.jpg  \n",
            " extracting: train/Navid_651_JPG.rf.92952bc8f9360a86753448a9d2a8fc7d.jpg  \n",
            " extracting: train/Navid_652_JPG.rf.0877676b1c1e2ffb2a0e4b1febfa0d74.jpg  \n",
            " extracting: train/Navid_653_JPG.rf.eef2da2f6f179948aa643a8b61612913.jpg  \n",
            " extracting: train/Navid_654_JPG.rf.630c24904c46789d8566bf5c4079a68a.jpg  \n",
            " extracting: train/Navid_655_JPG.rf.42fd9d6a404f6d01981d51f4c33b4346.jpg  \n",
            " extracting: train/Navid_657_JPG.rf.209d90a1c937287d6448b1c6da3f77a7.jpg  \n",
            " extracting: train/Navid_658_JPG.rf.01b4d8bc82234afb8eafedcb441df2f4.jpg  \n",
            " extracting: train/Navid_660_JPG.rf.e0b22974e2fda6e833d9d02fda727dd8.jpg  \n",
            " extracting: train/Navid_661_JPG.rf.02d5905a1da9eb1345111306377aa481.jpg  \n",
            " extracting: train/Navid_662_JPG.rf.76143dd9390e2e56096c8606e352f06c.jpg  \n",
            " extracting: train/Navid_664_jpg.rf.3a90239f5ecd7d50386b81f1109f0113.jpg  \n",
            " extracting: train/Navid_668_jpg.rf.ff03311f60bf36f726c4e370560ee936.jpg  \n",
            " extracting: train/Navid_669_jpg.rf.478feb30d3d7ef61a53dcaea61b41a47.jpg  \n",
            " extracting: train/Navid_66_jpg.rf.3a512501b4cd43ee7eef64b7e61523ff.jpg  \n",
            " extracting: train/Navid_671_jpg.rf.797b6b5560ec8be41f2dbc59fe4def4d.jpg  \n",
            " extracting: train/Navid_672_jpg.rf.4263abcf74750469ff017f98a0a99372.jpg  \n",
            " extracting: train/Navid_673_jpg.rf.72fde1dfae528cf166b6c8972f969b46.jpg  \n",
            " extracting: train/Navid_675_jpg.rf.53c145fc0c98cada297eed0d0a0ed004.jpg  \n",
            " extracting: train/Navid_677_jpg.rf.39722cb145e87687dec606b72809c532.jpg  \n",
            " extracting: train/Navid_678_jpg.rf.77f8129113285c63c011c1c6baf54160.jpg  \n",
            " extracting: train/Navid_679_jpg.rf.7b0476112c7d3d1bb7d751e09a7c0c77.jpg  \n",
            " extracting: train/Navid_67_jpg.rf.f6def1cd7d74329a411cb358aa84c4e7.jpg  \n",
            " extracting: train/Navid_681_jpg.rf.638f6f3f84dd3504423a465f879ff630.jpg  \n",
            " extracting: train/Navid_682_jpg.rf.34275849ac8dcb22b1fba27b869efba0.jpg  \n",
            " extracting: train/Navid_683_jpg.rf.6e4ead6c02b11262bb3098b57db0f66e.jpg  \n",
            " extracting: train/Navid_684_jpg.rf.0121858373f5c5e98373c4d72ef15a6a.jpg  \n",
            " extracting: train/Navid_686_jpg.rf.e3cc007cc3c928eb30dae25a34c2e9d2.jpg  \n",
            " extracting: train/Navid_687_jpg.rf.02e7a15b5721a0e1b866e3950e276064.jpg  \n",
            " extracting: train/Navid_688_jpg.rf.ef0ce470715d5975e7a4f21447d88fa2.jpg  \n",
            " extracting: train/Navid_689_jpg.rf.0298657a3a2d5bd2e846843c876273d9.jpg  \n",
            " extracting: train/Navid_68_jpg.rf.188fba195c5da65d2c473b7228ce8876.jpg  \n",
            " extracting: train/Navid_690_jpg.rf.943a6ce4dd52103000606e24b953e16b.jpg  \n",
            " extracting: train/Navid_691_jpg.rf.da244d3c91976bab176b779643cac98d.jpg  \n",
            " extracting: train/Navid_692_jpg.rf.27d413590517515b89943abdf7b9b166.jpg  \n",
            " extracting: train/Navid_693_jpg.rf.8dd3c7794e3717c2196d3815a1d183b3.jpg  \n",
            " extracting: train/Navid_695_jpg.rf.29e18c7f837646149ebd140cff3626ce.jpg  \n",
            " extracting: train/Navid_697_jpg.rf.c1e0b64b2db80cff4164ce42d9ba5990.jpg  \n",
            " extracting: train/Navid_699_jpg.rf.355a2715f442d717014a946e1052c8ec.jpg  \n",
            " extracting: train/Navid_69_jpg.rf.3d1eddcdb0e9b757dc51484c563a1fb0.jpg  \n",
            " extracting: train/Navid_700_jpg.rf.4d98489bc9726e9fe7d0f408c877b214.jpg  \n",
            " extracting: train/Navid_701_jpg.rf.621224b5fa5da217c3c06fa3d968cd95.jpg  \n",
            " extracting: train/Navid_702_jpg.rf.a76e82dfb2c3a59e365222aea77cb522.jpg  \n",
            " extracting: train/Navid_703_jpg.rf.6964b6a04311a69e1125545dc422777b.jpg  \n",
            " extracting: train/Navid_705_jpg.rf.c5b3a9f7e32482e993ed3b3fbedd6f40.jpg  \n",
            " extracting: train/Navid_706_jpg.rf.ee98475325fdea905b005384cc35fbd6.jpg  \n",
            " extracting: train/Navid_707_jpg.rf.5324d32dadccce2ec762600b78716ff1.jpg  \n",
            " extracting: train/Navid_708_jpg.rf.e237920482b6577654b7fb0bbbc627dc.jpg  \n",
            " extracting: train/Navid_710_jpg.rf.3bd54af45b488c1256b83ba7b3e50617.jpg  \n",
            " extracting: train/Navid_712_jpg.rf.ebfb5bb1b2a98db564add3ccb9cdda98.jpg  \n",
            " extracting: train/Navid_713_jpg.rf.ae35698def30e04f6a976b35661a1e53.jpg  \n",
            " extracting: train/Navid_714_jpg.rf.ad56a092d6e43badf9844340b4c6c54b.jpg  \n",
            " extracting: train/Navid_715_jpg.rf.c38b08708542aad06776fbaf097a9f7e.jpg  \n",
            " extracting: train/Navid_716_jpg.rf.9412041b7d75d2edc18c7eda4d164c85.jpg  \n",
            " extracting: train/Navid_717_jpg.rf.5395fd9fcf208d5f65d036b7c032174e.jpg  \n",
            " extracting: train/Navid_719_jpg.rf.7d9a8d62db912f7e48c6bcd47b27ebda.jpg  \n",
            " extracting: train/Navid_722_jpg.rf.5ee7e8e1937e9eb8c5cc30b93feda825.jpg  \n",
            " extracting: train/Navid_723_jpg.rf.6eecb76250369ca97c43754a18e2b24d.jpg  \n",
            " extracting: train/Navid_724_jpg.rf.5a2fec18a28cbddf944c315e55e1c930.jpg  \n",
            " extracting: train/Navid_726_jpg.rf.37bb36b7a957fa67777066fa038a19a3.jpg  \n",
            " extracting: train/Navid_727_jpg.rf.92d48649e27629bab1bb005487f78d2d.jpg  \n",
            " extracting: train/Navid_728_jpg.rf.8f60d64e77bc1243ae3755bc56a9f5f5.jpg  \n",
            " extracting: train/Navid_729_jpg.rf.f52b737b4c427ab9a734d06f8ae5b036.jpg  \n",
            " extracting: train/Navid_72_jpg.rf.61b8cef1678e5a2e2d97a3a29b84ef85.jpg  \n",
            " extracting: train/Navid_730_jpg.rf.6a3ead6548b36aaf1d2e370632cced6a.jpg  \n",
            " extracting: train/Navid_731_jpg.rf.e609367daaa079136ac68043516df81c.jpg  \n",
            " extracting: train/Navid_732_jpg.rf.5083f4bcd5b55fc7ac27f08f99156c45.jpg  \n",
            " extracting: train/Navid_733_jpg.rf.fc57ef5e55b9c4653b1de95296fc185a.jpg  \n",
            " extracting: train/Navid_734_jpg.rf.973936017336c120c16694f09f682dba.jpg  \n",
            " extracting: train/Navid_735_jpg.rf.8d47a63281d2805274d47e9833ecce10.jpg  \n",
            " extracting: train/Navid_737_jpg.rf.3d0fd4adcac637a68ed193185e8420f4.jpg  \n",
            " extracting: train/Navid_738_jpg.rf.298054d11f575e5ef449996988465e5b.jpg  \n",
            " extracting: train/Navid_739_jpg.rf.cb6e37ec2e010a31e2e9335469631607.jpg  \n",
            " extracting: train/Navid_742_jpg.rf.e096dd82eb97fa243fb8aeb8208e664a.jpg  \n",
            " extracting: train/Navid_744_jpg.rf.1cfa8686c0a580444d2211c37d08ed58.jpg  \n",
            " extracting: train/Navid_746_jpg.rf.8bc309f33958e0771bb04e67d04de81c.jpg  \n",
            " extracting: train/Navid_747_jpg.rf.070469d0ef69b51e7150be917ad51d76.jpg  \n",
            " extracting: train/Navid_748_jpg.rf.2a335181771c316289c02e1f5bb08fc0.jpg  \n",
            " extracting: train/Navid_74_jpg.rf.921da812c6614935ed768c5b5d457acd.jpg  \n",
            " extracting: train/Navid_750_jpg.rf.8a37b19f3afa0ba857250621f1ec17b2.jpg  \n",
            " extracting: train/Navid_751_jpg.rf.fa7d70a466522901618bec5aa7cdbb0c.jpg  \n",
            " extracting: train/Navid_752_jpg.rf.e9789c5096e33bd3e7deea6b464e7c8a.jpg  \n",
            " extracting: train/Navid_754_jpg.rf.d77f05e63b0275078c18922749327d71.jpg  \n",
            " extracting: train/Navid_755_jpg.rf.a93244bf4c00de64423138d6e5f68841.jpg  \n",
            " extracting: train/Navid_756_jpg.rf.a62d97eef6ff9b367790aa7c8d84087f.jpg  \n",
            " extracting: train/Navid_757_jpg.rf.80f68772a21017b0426e3850f2f54f45.jpg  \n",
            " extracting: train/Navid_758_jpg.rf.a58a5c29bea84bb4abf1c946aa531f08.jpg  \n",
            " extracting: train/Navid_759_jpg.rf.6d04af36e095d172995d2a0d8c99c064.jpg  \n",
            " extracting: train/Navid_75_jpg.rf.4e373dae6530c2276083ff4589d1921f.jpg  \n",
            " extracting: train/Navid_761_jpg.rf.82036de632ac816dfe2c3573b838ee14.jpg  \n",
            " extracting: train/Navid_762_jpg.rf.f0e81a894e611d181e4157abcb33c4ae.jpg  \n",
            " extracting: train/Navid_764_jpg.rf.2ceefd159f2f95fe21d14c3c5bd9ba6d.jpg  \n",
            " extracting: train/Navid_765_jpg.rf.da4cf6b3cc97b8e8ce999a37f7c2dccc.jpg  \n",
            " extracting: train/Navid_767_jpg.rf.aac96513d9d6f1708d4177336268dc7e.jpg  \n",
            " extracting: train/Navid_769_jpg.rf.5d8a26776af649705aac121f7eeaabae.jpg  \n",
            " extracting: train/Navid_76_jpg.rf.1102994d14f5ea95420be1adc897d7f9.jpg  \n",
            " extracting: train/Navid_772_jpg.rf.a893e9d3ba260123733a7a0e2946b4c3.jpg  \n",
            " extracting: train/Navid_773_jpg.rf.00a523d7e28b4431739e2e638873d005.jpg  \n",
            " extracting: train/Navid_774_jpg.rf.f79ee3e943725ce83b45aca3a1137d03.jpg  \n",
            " extracting: train/Navid_775_jpg.rf.729a297315cf267719271ce2d87d002b.jpg  \n",
            " extracting: train/Navid_776_jpg.rf.5c21603db94b737d7bfb1d13382d2ca9.jpg  \n",
            " extracting: train/Navid_777_jpg.rf.06421a6de4bbf2ca7291231e5441a9b9.jpg  \n",
            " extracting: train/Navid_778_jpg.rf.2746bbddcc105479e3b257cd89c5c4e3.jpg  \n",
            " extracting: train/Navid_779_jpg.rf.b2de146040e16d127f0409a33ade8cf2.jpg  \n",
            " extracting: train/Navid_782_jpg.rf.0f9e3fd6cedc3968a21344b386e212e8.jpg  \n",
            " extracting: train/Navid_783_jpg.rf.dec0ab92f675f7032cde7c7de528fef4.jpg  \n",
            " extracting: train/Navid_786_jpg.rf.4d4b829a382cf5ebe376fbe073bbd0df.jpg  \n",
            " extracting: train/Navid_788_jpg.rf.6db48c3c3f330ee71c1fe2f83326b1de.jpg  \n",
            " extracting: train/Navid_789_jpg.rf.f0e5c18a5661d57ff266e3eb31bc6547.jpg  \n",
            " extracting: train/Navid_78_jpg.rf.39e1a3e63754212ab817906df41297b2.jpg  \n",
            " extracting: train/Navid_790_jpg.rf.3351ba90528fc3097659e54458693bcf.jpg  \n",
            " extracting: train/Navid_791_jpg.rf.46bc28c41352ef78dac59033ae8fd339.jpg  \n",
            " extracting: train/Navid_792_jpg.rf.eda03a3db0d6bd556825ecfbdb7d6dc2.jpg  \n",
            " extracting: train/Navid_794_jpg.rf.da5a665d9a317d76dc0d7993ae685b77.jpg  \n",
            " extracting: train/Navid_795_jpg.rf.80541f5c5429a87504622db625df5023.jpg  \n",
            " extracting: train/Navid_796_jpg.rf.7082c7fa792014d27faf04b1f1be33ed.jpg  \n",
            " extracting: train/Navid_797_jpg.rf.fb4adb1e573a72035173dd99679dcedc.jpg  \n",
            " extracting: train/Navid_79_jpg.rf.de5b2caea2c5fe718ccef3867738ec15.jpg  \n",
            " extracting: train/Navid_800_jpg.rf.a8a020f6f2325db75d84cd2599de62af.jpg  \n",
            " extracting: train/Navid_802_jpg.rf.205ac5a9b1ac32f4a242db6619b58a21.jpg  \n",
            " extracting: train/Navid_803_jpg.rf.2fc3ea89a3886b5bf6f641a8d957c474.jpg  \n",
            " extracting: train/Navid_805_jpg.rf.2be83fb698df0a93882f850301b4a6ee.jpg  \n",
            " extracting: train/Navid_806_jpg.rf.8d7ddaf497d508752aa717119d0233af.jpg  \n",
            " extracting: train/Navid_807_jpg.rf.75fb120d1b57c4e6fc98feb3682e3602.jpg  \n",
            " extracting: train/Navid_81_jpg.rf.49b28b35bbb88b3127d40ecf66dbb727.jpg  \n",
            " extracting: train/Navid_83_jpg.rf.7e0081573ee01efca8482aa1e2400a88.jpg  \n",
            " extracting: train/Navid_84_jpg.rf.36dced443be1746c7d196db92b9c80e9.jpg  \n",
            " extracting: train/Navid_85_jpg.rf.74d8d4374a9761d6d02d885c1d3828af.jpg  \n",
            " extracting: train/Navid_86_jpg.rf.94ac00fbd9f7405ed264a5bd3f40676a.jpg  \n",
            " extracting: train/Navid_87_jpg.rf.b8b3e7eff2e4040e711160bcda47c3e6.jpg  \n",
            " extracting: train/Navid_88_jpg.rf.d9828cee679f152d2277daaced376cbd.jpg  \n",
            " extracting: train/Navid_89_jpg.rf.c985f24b57a16d402d6049f447049740.jpg  \n",
            " extracting: train/Navid_90_jpg.rf.ceb43ed20bde3e69ee02121db09d52b2.jpg  \n",
            " extracting: train/Navid_92_jpg.rf.9107f96443d4d2e24ad0b7f5bfc4e0d7.jpg  \n",
            " extracting: train/Navid_94_jpg.rf.5aaf23e34867b7d64c956a6f1513c071.jpg  \n",
            " extracting: train/Navid_95_jpg.rf.e65af6ea4a40da947530e71e0c8b3d23.jpg  \n",
            " extracting: train/Navid_97_jpg.rf.91f82088b44b346e297518cba5ee572d.jpg  \n",
            " extracting: train/Navid_98_jpg.rf.2a2a2d0148e94e1fb080b76a1033aeb5.jpg  \n",
            " extracting: train/Navid_99_jpg.rf.8fb918824652e5d7574868a461e60656.jpg  \n",
            " extracting: train/Numan_ (10)_jpg.rf.86c647b50ecb70cda0bc98ba5a9054e2.jpg  \n",
            " extracting: train/Numan_ (15)_jpg.rf.064987a341190d3bcc349f1b9757529c.jpg  \n",
            " extracting: train/Numan_ (16)_jpg.rf.ee7db69de4ff557b720fdef0c31fbae7.jpg  \n",
            " extracting: train/Numan_ (17)_jpg.rf.1db9211065eeabcf891a67ed4c8d8111.jpg  \n",
            " extracting: train/Numan_ (18)_jpg.rf.23d3585922b5cdc0c790bbe2bc95701c.jpg  \n",
            " extracting: train/Numan_ (2)_jpg.rf.39b793556432285929d9bc3d960dd6ce.jpg  \n",
            " extracting: train/Numan_ (23)_jpg.rf.d9b58e76a65817f3a2f1a581572eb29e.jpg  \n",
            " extracting: train/Numan_ (25)_jpg.rf.22f2b36135b956d9e6321f9546a21a0d.jpg  \n",
            " extracting: train/Numan_ (27)_jpg.rf.270a11fd9c3c0cb75f904f8b31f8b78a.jpg  \n",
            " extracting: train/Numan_ (28)_jpg.rf.a59854be260e0a04f73e6444a10e56a6.jpg  \n",
            " extracting: train/Numan_ (29)_jpg.rf.6d7adfcea6020be8c208af09107cf6d3.jpg  \n",
            " extracting: train/Numan_ (3)_jpg.rf.75bf07f27f297eeb08e8689f2a8b1765.jpg  \n",
            " extracting: train/Numan_ (31)_jpg.rf.f4267df3e04de51124a372d4a56d3f30.jpg  \n",
            " extracting: train/Numan_ (32)_jpg.rf.d76a6c2a91d897cb57d0127bb8506812.jpg  \n",
            " extracting: train/Numan_ (33)_jpg.rf.0cf12f896f8bb6abe5052874df21e47a.jpg  \n",
            " extracting: train/Numan_ (34)_jpg.rf.6b98d9a6a887e6dc6b603b3b11215723.jpg  \n",
            " extracting: train/Numan_ (35)_jpg.rf.c77ad8cd02222666c9c1a79406196c6e.jpg  \n",
            " extracting: train/Numan_ (6)_jpg.rf.dbca1c8d0f5e2e468ef5fe6419b64e65.jpg  \n",
            " extracting: train/Numan_ (8)_jpg.rf.71bbe88958bc89a6522fb239c8698a83.jpg  \n",
            " extracting: train/Numan_(100)_jpg.rf.e377e8cd6cf826c65e5ee67212d27d54.jpg  \n",
            " extracting: train/Numan_(101)_jpg.rf.faf4b12d36a2bada2ba668c234a9ed12.jpg  \n",
            " extracting: train/Numan_(102)_jpg.rf.399f78413137f65b55456657f81593ed.jpg  \n",
            " extracting: train/Numan_(103)_jpg.rf.e982b66f456bd40feb4649d5d59283b0.jpg  \n",
            " extracting: train/Numan_(104)_jpg.rf.85e4488ed508969671553429c9109bfe.jpg  \n",
            " extracting: train/Numan_(105)_jpg.rf.25568d0ba6acde7a9366edca5e175f5c.jpg  \n",
            " extracting: train/Numan_(106)_jpg.rf.7fba6e25392f7957851b91d44ad00e5c.jpg  \n",
            " extracting: train/Numan_(108)_jpg.rf.c75e2428678be6ed6d729fe85a1e998a.jpg  \n",
            " extracting: train/Numan_(109)_jpg.rf.506d4de6dcd40adc29647f19264ec0c5.jpg  \n",
            " extracting: train/Numan_(110)_jpg.rf.880815fc80d4488a95f5f8fa3929df85.jpg  \n",
            " extracting: train/Numan_(112)_jpg.rf.d1c709acc0d826cb5e8dd05e3ca6093f.jpg  \n",
            " extracting: train/Numan_(113)_jpg.rf.490ba6b631f22889d0e1e23931a8f5ea.jpg  \n",
            " extracting: train/Numan_(114)_jpg.rf.ac9bdb444718489f0590ad3c43d2282b.jpg  \n",
            " extracting: train/Numan_(116)_jpg.rf.0feed6178a5d9a6701859b9bb3814dfd.jpg  \n",
            " extracting: train/Numan_(118)_jpg.rf.7d909e55ac399d4ad254e2d0612f4e25.jpg  \n",
            " extracting: train/Numan_(119)_jpg.rf.63e56275c2a4be04db769e2a4b3fd0a4.jpg  \n",
            " extracting: train/Numan_(120)_jpg.rf.f5194c2c892d01ce09c1672bf3451e87.jpg  \n",
            " extracting: train/Numan_(121)_jpg.rf.8b1bdd22405d436527af757bf539219c.jpg  \n",
            " extracting: train/Numan_(124)_jpg.rf.20f6479501a6f2b53ae909a0952566d9.jpg  \n",
            " extracting: train/Numan_(125)_jpg.rf.b7ee68cdcc54ba9d4fb1dbf223b2b202.jpg  \n",
            " extracting: train/Numan_(126)_jpg.rf.4b960d0298ac3864297fa9ae5f13ad27.jpg  \n",
            " extracting: train/Numan_(127)_jpg.rf.777ff514ec7896769728121463f797f5.jpg  \n",
            " extracting: train/Numan_(128)_jpg.rf.e73ee782a920f4b8bad2c040e5996bf0.jpg  \n",
            " extracting: train/Numan_(129)_jpg.rf.c68bcb93cb0fefcc808f416a7ec55048.jpg  \n",
            " extracting: train/Numan_(130)_jpg.rf.dd6982de94abe94f69b3327846151625.jpg  \n",
            " extracting: train/Numan_(132)_jpg.rf.7859d75673ff8a1ab111967ff4e948fe.jpg  \n",
            " extracting: train/Numan_(133)_jpg.rf.e2cb1df019e4b754b194f07cefedec70.jpg  \n",
            " extracting: train/Numan_(134)_jpg.rf.e6137fa17d7e1d5c3ea4b0fade28bae8.jpg  \n",
            " extracting: train/Numan_(135)_jpg.rf.ee721096afa83f452be61b9d56743d3b.jpg  \n",
            " extracting: train/Numan_(138)_jpg.rf.e4118e7587a5053dd88f9c2102e2e813.jpg  \n",
            " extracting: train/Numan_(139)_jpg.rf.0e4a309505953f0e3af829a0c4bd6b41.jpg  \n",
            " extracting: train/Numan_(140)_jpg.rf.3300245576f0ba923c0346446aa20acc.jpg  \n",
            " extracting: train/Numan_(141)_jpg.rf.0d6e87922a136c2de9fe1bae0872bfd6.jpg  \n",
            " extracting: train/Numan_(142)_jpg.rf.79f97d976d59040d614c6aff7b6e9e3b.jpg  \n",
            " extracting: train/Numan_(143)_jpg.rf.5a24b5cd33cced72c28af5d2627668d7.jpg  \n",
            " extracting: train/Numan_(145)_jpg.rf.bc590e88f7afc034f79204eee516eb78.jpg  \n",
            " extracting: train/Numan_(146)_jpg.rf.7563d88fac9834319634ec2054fed480.jpg  \n",
            " extracting: train/Numan_(147)_jpg.rf.fc9cea3041a82e675bddf28948c3530f.jpg  \n",
            " extracting: train/Numan_(148)_jpg.rf.389ee437d0cb870fd0f7f50d9cd481f2.jpg  \n",
            " extracting: train/Numan_(149)_jpg.rf.4ac26f657daf7dde502bdbdfa140426f.jpg  \n",
            " extracting: train/Numan_(150)_jpg.rf.899ab917db98d2949faefa6275f3119b.jpg  \n",
            " extracting: train/Numan_(151)_jpg.rf.be961c11b864d825c3e9c8f395ec182c.jpg  \n",
            " extracting: train/Numan_(154)_jpg.rf.045954645ffc7665cffdad08eed99123.jpg  \n",
            " extracting: train/Numan_(155)_jpg.rf.7c720c579b01bc309790f4dc4f45881b.jpg  \n",
            " extracting: train/Numan_(156)_jpg.rf.400845e59a2c669caeedf80dd552b16a.jpg  \n",
            " extracting: train/Numan_(158)_jpg.rf.8d2ae30c885ff885f9a5d9df56d81508.jpg  \n",
            " extracting: train/Numan_(160)_jpg.rf.921decb7266f39aad73f1548e9dcf554.jpg  \n",
            " extracting: train/Numan_(161)_jpg.rf.260ba86db50d370646f2a394f611c088.jpg  \n",
            " extracting: train/Numan_(162)_jpg.rf.be17966d9276b283d5e118ba6d3a9bcb.jpg  \n",
            " extracting: train/Numan_(163)_jpg.rf.8a303de8a145643b99e69edf31fbab3a.jpg  \n",
            " extracting: train/Numan_(164)_jpg.rf.6d05133224e2d4b352c83121da88c4f9.jpg  \n",
            " extracting: train/Numan_(165)_jpg.rf.a908031967640bb9768e05f16e0e94d1.jpg  \n",
            " extracting: train/Numan_(167)_jpg.rf.a22ca93ed3794c854064b6b9dc9fb931.jpg  \n",
            " extracting: train/Numan_(168)_jpg.rf.4b05690d893dcccd959fe313973d0221.jpg  \n",
            " extracting: train/Numan_(169)_jpg.rf.181581e286b23cd72aaf55e78d243379.jpg  \n",
            " extracting: train/Numan_(170)_jpg.rf.761a00908660a908a1adad3fa09a016c.jpg  \n",
            " extracting: train/Numan_(172)_jpg.rf.946106614eab19e402a12ea82b30daa5.jpg  \n",
            " extracting: train/Numan_(173)_jpg.rf.79ace9d094ec27dfe8d54e9f8d421a08.jpg  \n",
            " extracting: train/Numan_(175)_jpg.rf.e2b0aafadde4defa29452b249901f14b.jpg  \n",
            " extracting: train/Numan_(177)_jpg.rf.061fee5a339db21b802e4a5e5b05d1c3.jpg  \n",
            " extracting: train/Numan_(178)_jpg.rf.4de9a4fc3921ae4314ff1a514ea1c2f1.jpg  \n",
            " extracting: train/Numan_(179)_jpg.rf.ae2a14963b4fffafb2533957f81367d8.jpg  \n",
            " extracting: train/Numan_(181)_jpg.rf.5abac1ef49debce2a0edfb737de67aa7.jpg  \n",
            " extracting: train/Numan_(182)_jpg.rf.a43ae2bcaaa4cee3b5315e6a828bd681.jpg  \n",
            " extracting: train/Numan_(184)_jpg.rf.fc80aefb8544d0496e327fddc388ab9a.jpg  \n",
            " extracting: train/Numan_(185)_jpg.rf.8085d26618628fb981e08731952a31e1.jpg  \n",
            " extracting: train/Numan_(187)_jpg.rf.8c30347538a81078175c52352b9e1bea.jpg  \n",
            " extracting: train/Numan_(188)_jpg.rf.4180f2add824c7d6e7b9e57c3dcb2a88.jpg  \n",
            " extracting: train/Numan_(190)_jpg.rf.37907f7971fe8053b778b2a8be11beea.jpg  \n",
            " extracting: train/Numan_(191)_jpg.rf.54987d75fa03854a96596726a362d286.jpg  \n",
            " extracting: train/Numan_(192)_jpg.rf.009d79124174190758f04c1fdb81da0c.jpg  \n",
            " extracting: train/Numan_(193)_jpg.rf.9c34a4b061fefaf0ed16d28cfed77edc.jpg  \n",
            " extracting: train/Numan_(195)_jpg.rf.3c10efc6c243e76ce2c773acfa0fcf6b.jpg  \n",
            " extracting: train/Numan_(196)_jpg.rf.e279bdaf9282a2de6470f51cf35aea58.jpg  \n",
            " extracting: train/Numan_(197)_jpg.rf.ad47eca98dfd0d7646dff551f1cbc6be.jpg  \n",
            " extracting: train/Numan_(199)_jpg.rf.fa86d80f404b05cc7cd73176d9f13b0d.jpg  \n",
            " extracting: train/Numan_(200)_jpg.rf.e9aabfc7616fc5d2f6f1e216a9ce7a10.jpg  \n",
            " extracting: train/Numan_(201)_jpg.rf.c801fbe43c2574b77ef40ab7c8d58cd7.jpg  \n",
            " extracting: train/Numan_(202)_jpg.rf.511f549ef94a24e31f6712f3b0080b2c.jpg  \n",
            " extracting: train/Numan_(203)_jpg.rf.f7d1d7f6af7bacd337668bbf7ff6dd87.jpg  \n",
            " extracting: train/Numan_(204)_jpg.rf.a4c59674923f8d6c82bfab35cd36e3f3.jpg  \n",
            " extracting: train/Numan_(205)_jpg.rf.f869f698f17b2fa71d2b2b224a72d4c0.jpg  \n",
            " extracting: train/Numan_(206)_jpg.rf.53620c8aee6a2f0408fe069c29fa67e4.jpg  \n",
            " extracting: train/Numan_(207)_jpg.rf.5ade67c2743acee55b75f5198a862b89.jpg  \n",
            " extracting: train/Numan_(208)_jpg.rf.130c23d796d2e1f205924f48ffe2fea9.jpg  \n",
            " extracting: train/Numan_(209)_jpg.rf.aea60e29bb92afb549e1d5205ad1bcbb.jpg  \n",
            " extracting: train/Numan_(210)_jpg.rf.364a94926acf9681faaf19ef83801e63.jpg  \n",
            " extracting: train/Numan_(212)_jpg.rf.42bb2ce4a73b597cd37115c536a38b68.jpg  \n",
            " extracting: train/Numan_(214)_jpg.rf.a1d24b4c31ef2f18550c2a633bee85ec.jpg  \n",
            " extracting: train/Numan_(216)_jpg.rf.b5a3ca984607746ad7ec13448d2cfc5c.jpg  \n",
            " extracting: train/Numan_(217)_jpg.rf.44d8165837ca8e72224261900556754b.jpg  \n",
            " extracting: train/Numan_(218)_jpg.rf.8fc3fbd84e4f0d9bc75cfb9930104a25.jpg  \n",
            " extracting: train/Numan_(220)_jpg.rf.4e43a1f7608200c0a4da2c97fcdfff98.jpg  \n",
            " extracting: train/Numan_(221)_jpg.rf.828385e5347c8c94ffadcd1f59883705.jpg  \n",
            " extracting: train/Numan_(222)_jpg.rf.91b5620a055719734a92dfa1dfa4e85c.jpg  \n",
            " extracting: train/Numan_(223)_jpg.rf.1a5907e2da8f7f9c063dbb4ac6c4dc80.jpg  \n",
            " extracting: train/Numan_(225)_jpg.rf.7350a2bfbbcaea144241b6651a402bdf.jpg  \n",
            " extracting: train/Numan_(226)_jpg.rf.ac266db346fd69efb5608fad00e92c32.jpg  \n",
            " extracting: train/Numan_(227)_jpg.rf.151fb2d1052daa33f797a6017d676d84.jpg  \n",
            " extracting: train/Numan_(228)_jpg.rf.7aed2664038d08bd42821ed299f8f9b5.jpg  \n",
            " extracting: train/Numan_(229)_jpg.rf.09367ade608f7e18c3928b772108795c.jpg  \n",
            " extracting: train/Numan_(231)_jpg.rf.2e718b5cfefc18a10ea8c8f43402fc55.jpg  \n",
            " extracting: train/Numan_(232)_jpg.rf.3e3ee0dc5c44ab2e21e1a14c08fbde11.jpg  \n",
            " extracting: train/Numan_(233)_jpg.rf.36f1f78402fc265cfe8231d818bafeea.jpg  \n",
            " extracting: train/Numan_(234)_jpg.rf.c701eaf78f2941a64d7dc4da2cfde788.jpg  \n",
            " extracting: train/Numan_(235)_jpg.rf.854d93137202e57baa5294910f7fa5ce.jpg  \n",
            " extracting: train/Numan_(236)_jpg.rf.eaa4a20388564ca7b0d00b40b6fd6c0d.jpg  \n",
            " extracting: train/Numan_(240)_jpg.rf.d390114783a4cd6b20e7ac610450d4e6.jpg  \n",
            " extracting: train/Numan_(241)_jpg.rf.8b240b1a9e2390cbd8e3534c9bc8147c.jpg  \n",
            " extracting: train/Numan_(242)_jpg.rf.f4b397b7ee6b531101200f8358d333a8.jpg  \n",
            " extracting: train/Numan_(243)_jpg.rf.5e1cf49cd6bb029b1fcba9e58ad7df1c.jpg  \n",
            " extracting: train/Numan_(244)_jpg.rf.ae5ebc5d5a1b34e03dc45300b61be637.jpg  \n",
            " extracting: train/Numan_(246)_jpg.rf.c1f48e7443c24eb8bf2422697591cdef.jpg  \n",
            " extracting: train/Numan_(247)_jpg.rf.1b38a94074839fa462ab50f68e2cb374.jpg  \n",
            " extracting: train/Numan_(248)_jpg.rf.645f21943fe59f6f3ca9205efc683770.jpg  \n",
            " extracting: train/Numan_(249)_jpg.rf.763734624adc3004b3dc73debe3fc490.jpg  \n",
            " extracting: train/Numan_(252)_jpg.rf.4f29f97423eeb82a2524f59bc72d92dc.jpg  \n",
            " extracting: train/Numan_(253)_jpg.rf.1fe07e181e807fee1155499ec241d8fc.jpg  \n",
            " extracting: train/Numan_(257)_jpg.rf.bc564fa94131b3b7c5eced8e718b3bee.jpg  \n",
            " extracting: train/Numan_(258)_jpg.rf.b866f627e765962836ae5d8a237361fa.jpg  \n",
            " extracting: train/Numan_(260)_jpg.rf.3458d68edfcd8e7bbed83c2e8463b544.jpg  \n",
            " extracting: train/Numan_(261)_jpg.rf.1d8b06bc1b7098d65c93d1fe73f02b9c.jpg  \n",
            " extracting: train/Numan_(263)_jpg.rf.bb4c868d889776087df64179d5f079b2.jpg  \n",
            " extracting: train/Numan_(264)_jpg.rf.c80c25f6f0e30d24aa9bf84a325c6674.jpg  \n",
            " extracting: train/Numan_(265)_jpg.rf.efbd6a3d89086c7acfcbf43d80f08b9a.jpg  \n",
            " extracting: train/Numan_(266)_jpg.rf.6a864da3a3a6b3e30e9aaf210150c104.jpg  \n",
            " extracting: train/Numan_(270)_jpg.rf.b7ac222a3a360755f2c81cf6dc52700a.jpg  \n",
            " extracting: train/Numan_(273)_jpg.rf.6d2e4393e1b3b02f951d50b8ebb50992.jpg  \n",
            " extracting: train/Numan_(275)_jpg.rf.366706c80f7dd60c36ce83392511498b.jpg  \n",
            " extracting: train/Numan_(278)_jpg.rf.e81e5de0b3e189ed38083b04fe0eba8f.jpg  \n",
            " extracting: train/Numan_(280)_jpg.rf.49c027c98316bfb3c1c5f5ca9de37479.jpg  \n",
            " extracting: train/Numan_(281)_jpg.rf.e1058474f5e6a31688d3aaca13a98210.jpg  \n",
            " extracting: train/Numan_(282)_jpg.rf.7a08556cdf55c034cb7d3ab05759b9f4.jpg  \n",
            " extracting: train/Numan_(283)_jpg.rf.68a839027dabcd2db964fae3d019262a.jpg  \n",
            " extracting: train/Numan_(285)_jpg.rf.eba7119bc0a27104b0db08eab1f0f6f7.jpg  \n",
            " extracting: train/Numan_(286)_jpg.rf.6b2ea8e9de16b5aad0d4e883fd81feff.jpg  \n",
            " extracting: train/Numan_(287)_jpg.rf.ed501187aeddf396576caa1890f1d0da.jpg  \n",
            " extracting: train/Numan_(288)_jpg.rf.ade464c0b6cc8d54caad323d4061fa7d.jpg  \n",
            " extracting: train/Numan_(289)_jpg.rf.be37fc77f23706d43029ceb4a0f4c833.jpg  \n",
            " extracting: train/Numan_(290)_jpg.rf.0cd1953bde7e6831f1c8bc50529f7637.jpg  \n",
            " extracting: train/Numan_(291)_jpg.rf.b20cfd513a2478ee1ab246a60c15fc5b.jpg  \n",
            " extracting: train/Numan_(292)_jpg.rf.52edf9cf1a834a86a627765ed3922628.jpg  \n",
            " extracting: train/Numan_(293)_JPG.rf.ef45d818387161f1ae59077b18bc31ce.jpg  \n",
            " extracting: train/Numan_(295)_JPG.rf.730ab7dccaa101fdf0b6523198594d84.jpg  \n",
            " extracting: train/Numan_(297)_JPG.rf.4a56b12edda99fd58cf04f26178843c8.jpg  \n",
            " extracting: train/Numan_(298)_JPG.rf.c7d2e43ed020651b5a69a8041de2dda3.jpg  \n",
            " extracting: train/Numan_(300)_JPG.rf.08048c186cd2eb3cbb9b2a9180fc6455.jpg  \n",
            " extracting: train/Numan_(301)_JPG.rf.3b41220839f98edca31ef70664c5227b.jpg  \n",
            " extracting: train/Numan_(302)_JPG.rf.521118ddc6ea9c9e373c73f85761fbdf.jpg  \n",
            " extracting: train/Numan_(304)_JPG.rf.3444c5803c597671984ddb67310e04c4.jpg  \n",
            " extracting: train/Numan_(305)_JPG.rf.588b525286165f938597b9d8190768fa.jpg  \n",
            " extracting: train/Numan_(306)_JPG.rf.244d627fb5b536700aa08182aed9132d.jpg  \n",
            " extracting: train/Numan_(307)_JPG.rf.06cedcadad7f6a74383dfa395bb0c872.jpg  \n",
            " extracting: train/Numan_(308)_JPG.rf.8b46f937e81139ec3ac1bd85bbc83942.jpg  \n",
            " extracting: train/Numan_(309)_JPG.rf.1e06351d95022f49902b69cb3d6a14f6.jpg  \n",
            " extracting: train/Numan_(310)_JPG.rf.ca43ea069ab6fa7c8892973141d454bf.jpg  \n",
            " extracting: train/Numan_(311)_JPG.rf.baa6bf6d4708dceec3ed452ecf675f45.jpg  \n",
            " extracting: train/Numan_(312)_JPG.rf.1f014f9c278970829ee5cfb055b9ab4d.jpg  \n",
            " extracting: train/Numan_(313)_jpg.rf.aecd1b7e61925c3963b3b476c1c94af0.jpg  \n",
            " extracting: train/Numan_(314)_jpg.rf.d949b579d23d49c917886244048e05dd.jpg  \n",
            " extracting: train/Numan_(315)_jpg.rf.a4394abc191312832d12570d0c29128d.jpg  \n",
            " extracting: train/Numan_(316)_jpg.rf.050df11e5c365c9fe70c22028a4d2015.jpg  \n",
            " extracting: train/Numan_(318)_jpg.rf.5e95cfb6e2a8ebdaca3298e695219684.jpg  \n",
            " extracting: train/Numan_(323)_jpg.rf.4b8a01f44a87550140689a09d31bdf91.jpg  \n",
            " extracting: train/Numan_(324)_jpg.rf.fa3664f74c2aaebc690fea757ef7fdfc.jpg  \n",
            " extracting: train/Numan_(325)_jpg.rf.013669b171d34137a3155f0609b34988.jpg  \n",
            " extracting: train/Numan_(327)_jpg.rf.6869618e004a6cfa77b22d35d5b3e078.jpg  \n",
            " extracting: train/Numan_(328)_jpg.rf.089a1abd778dea79aff51d92d13dab48.jpg  \n",
            " extracting: train/Numan_(329)_jpg.rf.3729d5ef379f485f983bf3a25cab2bb4.jpg  \n",
            " extracting: train/Numan_(330)_jpg.rf.a53f80d05d6652996560ec764b274899.jpg  \n",
            " extracting: train/Numan_(332)_jpg.rf.58bfcf098f97d372c377f1074e9358dc.jpg  \n",
            " extracting: train/Numan_(334)_jpg.rf.4a4a3e002c76468077e10c9e3dcccc01.jpg  \n",
            " extracting: train/Numan_(336)_jpg.rf.8e5963524015c5f1dd5ee3dcb0b28123.jpg  \n",
            " extracting: train/Numan_(337)_jpg.rf.c01f1e4c3ae090f4f114d8fe8fdaa0dd.jpg  \n",
            " extracting: train/Numan_(338)_jpg.rf.9bd8288a15597b69eaa76b28ebce9866.jpg  \n",
            " extracting: train/Numan_(339)_jpg.rf.7834700994bf3a36c3bdc5107702b6e1.jpg  \n",
            " extracting: train/Numan_(340)_jpg.rf.15b2f092f372496a3c7a11e5ffeaee32.jpg  \n",
            " extracting: train/Numan_(342)_jpg.rf.6b0a30dd25017db4d259aa31cebbc4eb.jpg  \n",
            " extracting: train/Numan_(343)_jpg.rf.b343c5998f5188523c7d607fb0716f75.jpg  \n",
            " extracting: train/Numan_(344)_jpg.rf.382cc09fa25680bf1592ef2b2f0f4434.jpg  \n",
            " extracting: train/Numan_(345)_jpg.rf.f03796580e6761eefef21b6fd2d53db6.jpg  \n",
            " extracting: train/Numan_(346)_jpg.rf.6905b7393eff9c328c009bd090569280.jpg  \n",
            " extracting: train/Numan_(347)_jpg.rf.6ab709008fc5ab406a37afbb3bb257d4.jpg  \n",
            " extracting: train/Numan_(348)_jpg.rf.1a744eae9809cf0e2f066c6108652d4e.jpg  \n",
            " extracting: train/Numan_(349)_jpg.rf.f6d34606df3c99452439cd81490114d2.jpg  \n",
            " extracting: train/Numan_(350)_jpg.rf.a5553b1fae430ded1bfc916911617fc3.jpg  \n",
            " extracting: train/Numan_(351)_jpg.rf.42307c49e57389c4553f5b4e0d83b371.jpg  \n",
            " extracting: train/Numan_(352)_jpg.rf.da6e643adef1fd0139a35331f80ce3a5.jpg  \n",
            " extracting: train/Numan_(353)_jpg.rf.316b36a26f9ac8697e97f5f19679ea64.jpg  \n",
            " extracting: train/Numan_(354)_jpg.rf.535c8f0a880924d27832c42442a947b8.jpg  \n",
            " extracting: train/Numan_(356)_jpg.rf.0d108ef47f5fd7101eba13d58f89d8ff.jpg  \n",
            " extracting: train/Numan_(359)_jpg.rf.8aec4c38ec7744eb7e506dbcfe58540a.jpg  \n",
            " extracting: train/Numan_(36)_jpg.rf.def31f9a0c89581f4b42d20c6d8c9e51.jpg  \n",
            " extracting: train/Numan_(362)_jpg.rf.94e3f004fc59d466a478fd7132731e96.jpg  \n",
            " extracting: train/Numan_(363)_jpg.rf.ab45d0e0013fb1a0902c5658dbdea3ce.jpg  \n",
            " extracting: train/Numan_(364)_jpg.rf.4f2b0e852a4924540ce22ea416a26b70.jpg  \n",
            " extracting: train/Numan_(367)_jpg.rf.deb68c8bfaeac21c891e3151695e0d36.jpg  \n",
            " extracting: train/Numan_(368)_jpg.rf.499927f3beee3b915b087cf41a8cc037.jpg  \n",
            " extracting: train/Numan_(369)_jpg.rf.a483605abe9b741815d62ad431676a95.jpg  \n",
            " extracting: train/Numan_(373)_jpg.rf.e4ca38f2ef9afbeaf3a59b0861fb271b.jpg  \n",
            " extracting: train/Numan_(375)_jpg.rf.159e24e1eed3510ccf64592bfc5e5154.jpg  \n",
            " extracting: train/Numan_(376)_jpg.rf.991b4aa862712f31033978c5d265f1e6.jpg  \n",
            " extracting: train/Numan_(379)_jpg.rf.0925522b961c4a0712cc88198e360f29.jpg  \n",
            " extracting: train/Numan_(380)_jpg.rf.2749c60bff761a5645a2aceea27d5967.jpg  \n",
            " extracting: train/Numan_(382)_jpg.rf.88406ffd91666578419b1aa5230c58ce.jpg  \n",
            " extracting: train/Numan_(383)_jpg.rf.6ed882a4afed5a2b92130571b2ef0b7b.jpg  \n",
            " extracting: train/Numan_(384)_jpg.rf.a60a925f666220389212f4dd348fc766.jpg  \n",
            " extracting: train/Numan_(385)_jpg.rf.a577529623600a3a5f202739c98bf7fc.jpg  \n",
            " extracting: train/Numan_(387)_jpg.rf.0ad6477ed6cd0650ea3559fd7c63f17a.jpg  \n",
            " extracting: train/Numan_(388)_jpg.rf.a955d1ef623af27dd14da7763914c8a3.jpg  \n",
            " extracting: train/Numan_(389)_jpg.rf.685242211c893dc86164e70201922b5b.jpg  \n",
            " extracting: train/Numan_(39)_jpg.rf.fa8dc0ad1caa79d05edbf1d81f8a15cc.jpg  \n",
            " extracting: train/Numan_(390)_jpg.rf.d16972a96792f9d90264c492997299cf.jpg  \n",
            " extracting: train/Numan_(391)_jpg.rf.5a5a944958f60a4f3dd6e410604cd3cb.jpg  \n",
            " extracting: train/Numan_(392)_jpg.rf.c400c218c7c34eb1c5dfd4816c08cec6.jpg  \n",
            " extracting: train/Numan_(393)_jpg.rf.62e4b50320dfa98a6d8264402ee0775d.jpg  \n",
            " extracting: train/Numan_(394)_jpg.rf.af00f9bd6085d4c0a50dd28013f26dd4.jpg  \n",
            " extracting: train/Numan_(395)_jpg.rf.13ab68a6e974fe9c64e8b4c95328c07a.jpg  \n",
            " extracting: train/Numan_(396)_jpg.rf.5c28ad4da7dee9b06d72c9ae44f61a8c.jpg  \n",
            " extracting: train/Numan_(397)_jpg.rf.9d9aa44106c22090e36272d7f9cdd444.jpg  \n",
            " extracting: train/Numan_(399)_jpg.rf.661e5fa96dab2e68ad0e113aa40d7cc2.jpg  \n",
            " extracting: train/Numan_(40)_jpg.rf.362c647df33b79c5ed98c6f4e1a6c070.jpg  \n",
            " extracting: train/Numan_(401)_jpg.rf.71ab1d239124445ad966550d59d4455d.jpg  \n",
            " extracting: train/Numan_(402)_jpg.rf.edc4804ee6b8fa97669a326ba929c224.jpg  \n",
            " extracting: train/Numan_(404)_jpg.rf.6871f2ab84949141436feb8f470e6ec1.jpg  \n",
            " extracting: train/Numan_(405)_jpg.rf.3e7b13f2795e57fb97ee5a613f09c6de.jpg  \n",
            " extracting: train/Numan_(406)_jpg.rf.5160d79d189202ddd370375c6a0fdd32.jpg  \n",
            " extracting: train/Numan_(407)_jpg.rf.4cd7940a25ed42350ea2019baeffc6d1.jpg  \n",
            " extracting: train/Numan_(408)_jpg.rf.09d8ac5e6bc23e740e91d7b491d297d7.jpg  \n",
            " extracting: train/Numan_(41)_jpg.rf.b4ee6e80d07594c14c4b98ef2cf0718c.jpg  \n",
            " extracting: train/Numan_(410)_jpg.rf.632d418ad20a0a10f5b902caeda6ddde.jpg  \n",
            " extracting: train/Numan_(411)_jpg.rf.8dcaf2bc24468185585bb91ca9c3be68.jpg  \n",
            " extracting: train/Numan_(412)_jpg.rf.e41262227e04b16733f25285870e25ff.jpg  \n",
            " extracting: train/Numan_(413)_jpg.rf.4f156fc63761a3a590b856bf0755d9ad.jpg  \n",
            " extracting: train/Numan_(414)_jpg.rf.4a792e42474e107e27928d3663b18306.jpg  \n",
            " extracting: train/Numan_(415)_jpg.rf.449c25f58843488ff66d0fa5e1810ede.jpg  \n",
            " extracting: train/Numan_(416)_jpg.rf.194c6042c7355b84edbaaed2ac856a56.jpg  \n",
            " extracting: train/Numan_(417)_jpg.rf.e2a278b520dbc7dfb2078da99d4f651c.jpg  \n",
            " extracting: train/Numan_(418)_jpg.rf.51728c670744cb263cb8cfc7450a48b5.jpg  \n",
            " extracting: train/Numan_(419)_jpg.rf.2531ed96e58286a6b9aadd680cba837b.jpg  \n",
            " extracting: train/Numan_(42)_jpg.rf.c438e62b4d166c0ac20224678c033c15.jpg  \n",
            " extracting: train/Numan_(420)_jpg.rf.91f0fa78a4cf142a75009b0f728d86cf.jpg  \n",
            " extracting: train/Numan_(421)_jpg.rf.8d8ec6e3ce5be58fb8785c59d08e08c2.jpg  \n",
            " extracting: train/Numan_(422)_jpg.rf.6ae4a30ff2a42ab2a85912073528e4c8.jpg  \n",
            " extracting: train/Numan_(423)_jpg.rf.f54ff2e2755864706d28aac2407d4f8f.jpg  \n",
            " extracting: train/Numan_(424)_jpg.rf.2de2144c2511c9cfe808904939d18248.jpg  \n",
            " extracting: train/Numan_(425)_jpg.rf.776cf4525ddd147ddd96da79504b7bda.jpg  \n",
            " extracting: train/Numan_(426)_jpg.rf.ec9d3016e17091b044ebb2e1b5211d65.jpg  \n",
            " extracting: train/Numan_(428)_jpg.rf.2d050a7aaf4cc6bb53f1dbd3a88e9a6f.jpg  \n",
            " extracting: train/Numan_(429)_jpg.rf.bc6d1fe5166bda37a755959aa3d36f07.jpg  \n",
            " extracting: train/Numan_(43)_jpg.rf.1fb6e94d1664341356efb79ef344088b.jpg  \n",
            " extracting: train/Numan_(430)_jpg.rf.b5975c4a4bb460a9eb4449915b7cfc90.jpg  \n",
            " extracting: train/Numan_(432)_jpg.rf.45b84c947de2e1fa7e15200b815e6dbf.jpg  \n",
            " extracting: train/Numan_(433)_jpg.rf.f6cbfbc95d5921410d14a1ccfab13e17.jpg  \n",
            " extracting: train/Numan_(434)_jpg.rf.ea5ba06bc51025f33ea144a7224a8468.jpg  \n",
            " extracting: train/Numan_(435)_jpg.rf.44e686a8f2f3d0a724667163398610f1.jpg  \n",
            " extracting: train/Numan_(436)_jpg.rf.aa817cd6d6bd4dad8ba7207be3076c3b.jpg  \n",
            " extracting: train/Numan_(439)_jpg.rf.ad28d4616b1762cad0b041481627338f.jpg  \n",
            " extracting: train/Numan_(440)_jpg.rf.c4df1c954174f0640e2b0eb9f2523035.jpg  \n",
            " extracting: train/Numan_(441)_jpg.rf.d99e9fabfa90a1295edbf0d0c8194d0f.jpg  \n",
            " extracting: train/Numan_(442)_jpg.rf.15a993b8336e90c07899df29968baec8.jpg  \n",
            " extracting: train/Numan_(445)_jpg.rf.6f5ac8472f45057dc6021d3275bdbfe0.jpg  \n",
            " extracting: train/Numan_(447)_jpg.rf.f6eee0affa616df17f759860cc6bca21.jpg  \n",
            " extracting: train/Numan_(448)_jpg.rf.2c8e2d3760db76497f73f668ff97b5a7.jpg  \n",
            " extracting: train/Numan_(449)_jpg.rf.8b276b8e0d1e7b9dab7cf4ffa4c54ee4.jpg  \n",
            " extracting: train/Numan_(45)_jpg.rf.eaed55672957f1220ebe1f0fef65467a.jpg  \n",
            " extracting: train/Numan_(451)_jpg.rf.acffdaec44b0a92c2f5430f2f86e0ace.jpg  \n",
            " extracting: train/Numan_(452)_jpg.rf.4adcf403d06b084f1c65a41448a19abf.jpg  \n",
            " extracting: train/Numan_(455)_jpg.rf.22a634b9b0836a1b8e07e7720e85da53.jpg  \n",
            " extracting: train/Numan_(456)_jpg.rf.3e4c556aebc0f870e572cb76c11750bb.jpg  \n",
            " extracting: train/Numan_(457)_jpg.rf.264561019fbf5c011994fd422b84dd36.jpg  \n",
            " extracting: train/Numan_(458)_jpg.rf.5bff48d1776a6bf4871ef68e6478b10d.jpg  \n",
            " extracting: train/Numan_(459)_jpg.rf.74bb922fd5675985ac92d624a05b825a.jpg  \n",
            " extracting: train/Numan_(461)_jpg.rf.8ba3f0f3f563a24c787a45490c059cda.jpg  \n",
            " extracting: train/Numan_(462)_jpg.rf.796b56f64c59d073084b0896c79280db.jpg  \n",
            " extracting: train/Numan_(463)_jpg.rf.1f28bd822305748a4517b47380b940f0.jpg  \n",
            " extracting: train/Numan_(465)_jpg.rf.4c7f6c64866b3a22cfcbb021782f73cb.jpg  \n",
            " extracting: train/Numan_(466)_jpg.rf.861868fc842332efdd64b3bd7a0c9d6a.jpg  \n",
            " extracting: train/Numan_(468)_jpg.rf.f43c281284b266931aa05fc3b06d3971.jpg  \n",
            " extracting: train/Numan_(469)_jpg.rf.7dd045f9d67bebf73b9ca8f62a03e603.jpg  \n",
            " extracting: train/Numan_(47)_jpg.rf.3c014ed1d008bade441ae6a77bb24f60.jpg  \n",
            " extracting: train/Numan_(470)_jpg.rf.bdc623a9b74ea93628a4c0ab91022aae.jpg  \n",
            " extracting: train/Numan_(472)_jpg.rf.d2fc2b8967eb9563b488596c972c65f6.jpg  \n",
            " extracting: train/Numan_(473)_jpg.rf.365268049efc3e4813841d4173ee4911.jpg  \n",
            " extracting: train/Numan_(476)_jpg.rf.27d57b522e6108a87329d12ce1ca454f.jpg  \n",
            " extracting: train/Numan_(477)_jpg.rf.684d334f8faf1bfd37a05183338532a6.jpg  \n",
            " extracting: train/Numan_(478)_jpg.rf.fdf4e8cb4b43c5b8c7f290690e5d4ba2.jpg  \n",
            " extracting: train/Numan_(479)_jpg.rf.219e82cc6eeec774eddd9a2df604cd31.jpg  \n",
            " extracting: train/Numan_(48)_jpg.rf.9b8746a21f7c5b86f8af3cbd7bea2b1d.jpg  \n",
            " extracting: train/Numan_(480)_jpg.rf.3a4908bebf2fb18588242323b7719a61.jpg  \n",
            " extracting: train/Numan_(481)_jpg.rf.d2241cfa9e466df3acf64095a9505f70.jpg  \n",
            " extracting: train/Numan_(482)_jpg.rf.731573915aee2a642f1ada10f10d9444.jpg  \n",
            " extracting: train/Numan_(485)_jpg.rf.c082ea6304e9342271794cb51c7e44fb.jpg  \n",
            " extracting: train/Numan_(486)_jpg.rf.bad689663f1188adb29b070676ee60a2.jpg  \n",
            " extracting: train/Numan_(488)_jpg.rf.a6173115b1a328588bee267b24a5b7ae.jpg  \n",
            " extracting: train/Numan_(490)_jpg.rf.f154882be69eb5f057e5740fb0d894e3.jpg  \n",
            " extracting: train/Numan_(491)_jpg.rf.47f060a1fa51a427364e161231965959.jpg  \n",
            " extracting: train/Numan_(492)_jpg.rf.6cc469bef9ca98ea4afc0310c52eecdc.jpg  \n",
            " extracting: train/Numan_(495)_jpg.rf.e0c6763ecc4198412c21ec89ffefccb2.jpg  \n",
            " extracting: train/Numan_(496)_jpg.rf.381460f0ca319af9f9c73c0ccb8994d9.jpg  \n",
            " extracting: train/Numan_(497)_jpg.rf.a2a2d1f598d490ed3aff0b6a91552d73.jpg  \n",
            " extracting: train/Numan_(498)_jpg.rf.91db387e70901bbf65a31c63627cd9b0.jpg  \n",
            " extracting: train/Numan_(50)_jpg.rf.985469879699e8afe7373d34f593c9e7.jpg  \n",
            " extracting: train/Numan_(501)_jpg.rf.fb23a077fb7eeafa7ace711496d0d9af.jpg  \n",
            " extracting: train/Numan_(52)_jpg.rf.6e55553ace63fa888f1ace09464465f2.jpg  \n",
            " extracting: train/Numan_(53)_jpg.rf.3623023368e92412ba88550c165e0ff7.jpg  \n",
            " extracting: train/Numan_(55)_jpg.rf.24c03c39b159b690087face71f761ce6.jpg  \n",
            " extracting: train/Numan_(57)_jpg.rf.6c8aebcf790d47af1fe3248e738b5a03.jpg  \n",
            " extracting: train/Numan_(58)_jpg.rf.2c31d08c1b340b002eb45125f11387ea.jpg  \n",
            " extracting: train/Numan_(61)_jpg.rf.72549209094db1e283016c0fe36c2a47.jpg  \n",
            " extracting: train/Numan_(62)_jpg.rf.5c25063370a8c2cfac682eed16b23842.jpg  \n",
            " extracting: train/Numan_(64)_jpg.rf.91d77eb3423ee5d0df8d98fe39cfc590.jpg  \n",
            " extracting: train/Numan_(65)_jpg.rf.049d8da62f5501d22ee2cdb2c74a6b3a.jpg  \n",
            " extracting: train/Numan_(66)_jpg.rf.15123accb8e10a7c577f1135178a06f2.jpg  \n",
            " extracting: train/Numan_(67)_jpg.rf.770988cbcbb9ca3770a36c3e45f7ce30.jpg  \n",
            " extracting: train/Numan_(68)_jpg.rf.67bdbb0f89adc8185a6ceabcbb98bc9b.jpg  \n",
            " extracting: train/Numan_(69)_jpg.rf.e5da52efc5fc54a1ece66b5099b10687.jpg  \n",
            " extracting: train/Numan_(71)_jpg.rf.89e1c23ba27101a1da4f80d95ef740b0.jpg  \n",
            " extracting: train/Numan_(72)_jpg.rf.8b3af28c3feaf363d4ca57dd5bd0dc00.jpg  \n",
            " extracting: train/Numan_(73)_jpg.rf.2f2ed0d4b2f6f7a48913c031795c2ad0.jpg  \n",
            " extracting: train/Numan_(76)_jpg.rf.d2f09c56826fe08d07a6f0d1f969764d.jpg  \n",
            " extracting: train/Numan_(77)_jpg.rf.5cbb8f8855bd81e34491593010505f03.jpg  \n",
            " extracting: train/Numan_(79)_jpg.rf.dd4fff744be6a4346ebbd5e72f5e4934.jpg  \n",
            " extracting: train/Numan_(82)_jpg.rf.13d380ecf40a7813e2e7705a87793bd6.jpg  \n",
            " extracting: train/Numan_(83)_jpg.rf.9f5f50cff6e6d20395170a2e8667fdc1.jpg  \n",
            " extracting: train/Numan_(84)_jpg.rf.32f0c4aa476999f9c509beabb50a5790.jpg  \n",
            " extracting: train/Numan_(86)_jpg.rf.1466e7d73ebe7111fd2839e144b89e8a.jpg  \n",
            " extracting: train/Numan_(87)_jpg.rf.0f2dbbd67fe9d827658f2dc04eaa090d.jpg  \n",
            " extracting: train/Numan_(89)_jpg.rf.0983a3405c4a88d91b420829509e10b2.jpg  \n",
            " extracting: train/Numan_(90)_jpg.rf.22052a6b194db5d0d052368887ce77b6.jpg  \n",
            " extracting: train/Numan_(94)_jpg.rf.3f0f1aab0dec3c9ad51bde4f87e12963.jpg  \n",
            " extracting: train/Numan_(95)_jpg.rf.29de21c4137a8bc53e967def52ecc528.jpg  \n",
            " extracting: train/Numan_(96)_jpg.rf.3ab75f7ae6160a2027c02135c8b9b0ee.jpg  \n",
            " extracting: train/Numan_(97)_jpg.rf.6f2a4546efd1190a438fd7d3888129e4.jpg  \n",
            " extracting: train/Numan_(98)_jpg.rf.20fad1f331c9fc46863fd57cdcd8b2ce.jpg  \n",
            " extracting: train/Numan_(99)_jpg.rf.bc62fcc8c0ad623ebf259476de32e240.jpg  \n",
            " extracting: train/Pias (10)_jpg.rf.ffd1cf94377e33eb6c67446e7014d231.jpg  \n",
            " extracting: train/Pias (100)_jpg.rf.e8f41d458645ccd92eb7f604668823a4.jpg  \n",
            " extracting: train/Pias (101)_jpg.rf.4de7df215a4dab1140ef369d41493864.jpg  \n",
            " extracting: train/Pias (103)_jpg.rf.ebb2002102f139881ef3e76445331c0a.jpg  \n",
            " extracting: train/Pias (105)_jpg.rf.2db941d86d61e48fac590c7a688e3b43.jpg  \n",
            " extracting: train/Pias (106)_jpg.rf.828ceef26eb91851f414f6b1cad8fda6.jpg  \n",
            " extracting: train/Pias (107)_jpg.rf.6b2eb40ab7bd2baff5c054c72de162fc.jpg  \n",
            " extracting: train/Pias (108)_jpg.rf.70820b2a12f0f1de7b45cdd1c12b32b6.jpg  \n",
            " extracting: train/Pias (109)_jpg.rf.5089631f880b6fa7b43b93755963daa0.jpg  \n",
            " extracting: train/Pias (11)_jpg.rf.71121dafa4ccdfa406a34a9a2577e2dc.jpg  \n",
            " extracting: train/Pias (110)_jpg.rf.7d80771f899e664ccc4e477037d95e16.jpg  \n",
            " extracting: train/Pias (111)_jpg.rf.790d3a2cd9267ffa65c1094b87e64b56.jpg  \n",
            " extracting: train/Pias (113)_jpg.rf.38cf8d500c8c35bec22caf1689f6fabc.jpg  \n",
            " extracting: train/Pias (114)_jpg.rf.c5ae53898f0c3a2b94275342fbb4b50d.jpg  \n",
            " extracting: train/Pias (115)_jpg.rf.f64b72666c63a07fa1d0aa1352b3ebb4.jpg  \n",
            " extracting: train/Pias (118)_jpg.rf.28b73537e49f088b9164f701e85ce8c7.jpg  \n",
            " extracting: train/Pias (120)_jpg.rf.602abd66b35eab0ca241fe416bf0c77a.jpg  \n",
            " extracting: train/Pias (121)_jpg.rf.5400b10d137a9b71fbefc905be3c05dc.jpg  \n",
            " extracting: train/Pias (122)_jpg.rf.efd023693d57abdb031b8d1053363272.jpg  \n",
            " extracting: train/Pias (123)_jpg.rf.3b3bf6a80bf8cc9e8ad161aaa420b692.jpg  \n",
            " extracting: train/Pias (124)_jpg.rf.79e9caed1245e0daf986bcd8468144d0.jpg  \n",
            " extracting: train/Pias (125)_jpg.rf.51822e09de841e82144ecec748c054b3.jpg  \n",
            " extracting: train/Pias (126)_jpg.rf.dde3fe68334e00cd95fe768c2913ba08.jpg  \n",
            " extracting: train/Pias (127)_jpg.rf.f4c3d2c79e04f0ff1ac395bbfafa7c7d.jpg  \n",
            " extracting: train/Pias (128)_jpg.rf.47e125deb4d7b5e51ce59c8e60e63d2e.jpg  \n",
            " extracting: train/Pias (13)_jpg.rf.a1bc6ebd987330c8f7c356ab1f91d990.jpg  \n",
            " extracting: train/Pias (131)_jpg.rf.6d21686150ad54f2f7f59da471a531f9.jpg  \n",
            " extracting: train/Pias (132)_jpg.rf.6b29fc8b167a2435eef1f4f880261a80.jpg  \n",
            " extracting: train/Pias (133)_jpg.rf.e780ac5ed1e9703f8fe70e71c8dfd353.jpg  \n",
            " extracting: train/Pias (134)_jpg.rf.031374652e2face48a1626c11f16365e.jpg  \n",
            " extracting: train/Pias (135)_jpg.rf.65f59f23b9687e95cd167fc6a0237ed7.jpg  \n",
            " extracting: train/Pias (136)_jpg.rf.c52ac985076ec7b1d45e128204a04b32.jpg  \n",
            " extracting: train/Pias (137)_jpg.rf.0ff1349ed7fcbfb19a3cde9febaf82c6.jpg  \n",
            " extracting: train/Pias (138)_jpg.rf.2cda067bf5f87d346a7372c80fce3f7c.jpg  \n",
            " extracting: train/Pias (139)_jpg.rf.9c6b21141aedce524bfc1f43cc2bb2a7.jpg  \n",
            " extracting: train/Pias (140)_jpg.rf.bfbdd73764c9cb52e944297635bc3aca.jpg  \n",
            " extracting: train/Pias (141)_jpg.rf.cf42ca755ed90a5bc2764ca08990b76d.jpg  \n",
            " extracting: train/Pias (142)_jpg.rf.7dd742ab7c02359edfbac3197a092317.jpg  \n",
            " extracting: train/Pias (143)_jpg.rf.0443dfd450ec494a553ab2732f0e6dcb.jpg  \n",
            " extracting: train/Pias (144)_jpg.rf.23fe640974391e68c87d5c30ed8993cb.jpg  \n",
            " extracting: train/Pias (146)_jpg.rf.d229e2830c9589e2160bacb01df9306b.jpg  \n",
            " extracting: train/Pias (147)_jpg.rf.f064a54246c2095878367543f510e9e6.jpg  \n",
            " extracting: train/Pias (148)_jpg.rf.4c0f5be8ca234a94066d985d909944ce.jpg  \n",
            " extracting: train/Pias (149)_jpg.rf.d23da91d44ab1740ce17ef8870b56f61.jpg  \n",
            " extracting: train/Pias (15)_jpg.rf.bec72bcbda575fcc661d8007d01fb58d.jpg  \n",
            " extracting: train/Pias (150)_jpg.rf.495c25c9789c9f64497221807d0d4654.jpg  \n",
            " extracting: train/Pias (151)_jpg.rf.024eab62fd64eabf27a27d7325f8c02f.jpg  \n",
            " extracting: train/Pias (152)_jpg.rf.65f04bc6fc5ccbeb0c054e1fc355e789.jpg  \n",
            " extracting: train/Pias (154)_jpg.rf.b7285d0836d1e239bfd6e2dbfa5fd90d.jpg  \n",
            " extracting: train/Pias (155)_jpg.rf.89be728e6cca02d6e85bcc64db5caf71.jpg  \n",
            " extracting: train/Pias (16)_jpg.rf.4702c68215563e14eab7c0305f6966bb.jpg  \n",
            " extracting: train/Pias (160)_jpg.rf.9d9f52eddc39cdfe8dbc6d7d7cb30589.jpg  \n",
            " extracting: train/Pias (162)_jpg.rf.554b89912a9740f411e289bcffc00f8c.jpg  \n",
            " extracting: train/Pias (163)_jpg.rf.360c1a77a8bb2706bf22814f61bc6685.jpg  \n",
            " extracting: train/Pias (164)_jpg.rf.9ac8f5f357e8d37673d9a36fc2eb7e2a.jpg  \n",
            " extracting: train/Pias (165)_jpg.rf.04d83916292211c1ba8701b7f1e6049f.jpg  \n",
            " extracting: train/Pias (166)_jpg.rf.e402592b6c2b81aec7f29fb99b1ce415.jpg  \n",
            " extracting: train/Pias (170)_jpg.rf.b1aa36469f9b55839f4855492227946e.jpg  \n",
            " extracting: train/Pias (171)_jpg.rf.1c4e2e37470ccc0f870702c4c6ce748a.jpg  \n",
            " extracting: train/Pias (172)_jpg.rf.4daa0b473e5c8ab667e23246516f25eb.jpg  \n",
            " extracting: train/Pias (173)_jpg.rf.04e86eb7874778744dc8198e69ffde69.jpg  \n",
            " extracting: train/Pias (174)_jpg.rf.7f4291d8d4f2cecc6c58bdfcdbcf8dd9.jpg  \n",
            " extracting: train/Pias (175)_jpg.rf.533696c9514278317be2b72f893151b5.jpg  \n",
            " extracting: train/Pias (176)_jpg.rf.cde9cbda53a66a71ece86596ce5a90a5.jpg  \n",
            " extracting: train/Pias (177)_jpg.rf.7b32c37cfdfcd1e9f505713977877c0d.jpg  \n",
            " extracting: train/Pias (178)_jpg.rf.904fb2a1dfbe1253fb96f611265a7125.jpg  \n",
            " extracting: train/Pias (179)_jpg.rf.d4b7e052851e2156bba128823fa03d6f.jpg  \n",
            " extracting: train/Pias (18)_jpg.rf.c7b5165c956d78ab18330171470ed3fb.jpg  \n",
            " extracting: train/Pias (180)_jpg.rf.03a40df2e728ab3b5dffc81b2475b198.jpg  \n",
            " extracting: train/Pias (181)_jpg.rf.ba8e2747e2e0acc46013e93bdba8d5dd.jpg  \n",
            " extracting: train/Pias (182)_jpg.rf.79374dc9576d15e53aa8135629adb3b7.jpg  \n",
            " extracting: train/Pias (184)_jpg.rf.901cd3306e6c4c6bd6d9a3c230a3e567.jpg  \n",
            " extracting: train/Pias (185)_jpg.rf.e63f5f07b7cacbae507d29138cf57bc4.jpg  \n",
            " extracting: train/Pias (186)_jpg.rf.a9fc02f8add3cc91c709b3b7bb4b9492.jpg  \n",
            " extracting: train/Pias (187)_jpg.rf.d0e1f4ad32eccfd8138743bec1fbe84f.jpg  \n",
            " extracting: train/Pias (188)_jpg.rf.05824bb178e460b05bcadbd0f6f10092.jpg  \n",
            " extracting: train/Pias (189)_jpg.rf.1005404419e303c3a65b398776ed2a43.jpg  \n",
            " extracting: train/Pias (190)_jpg.rf.1a88112ab8c9e8f38a1481b673da3862.jpg  \n",
            " extracting: train/Pias (192)_jpg.rf.1a17739741493aa52c41de2c0ea23430.jpg  \n",
            " extracting: train/Pias (193)_jpg.rf.bc3739d50df27a1a0e75863d0d2180d6.jpg  \n",
            " extracting: train/Pias (195)_jpg.rf.f63a42e22fa5455f2530064b52a58643.jpg  \n",
            " extracting: train/Pias (197)_jpg.rf.0ced8fd8a6e4f91a9d8f75fefee05085.jpg  \n",
            " extracting: train/Pias (198)_jpg.rf.4c9c4f60f02b9759e3d4d7739a382e7a.jpg  \n",
            " extracting: train/Pias (199)_jpg.rf.3c4b49a4517ae98b02f1c81a8b237516.jpg  \n",
            " extracting: train/Pias (20)_jpg.rf.65f47c71e52998c7ef248a6ba86b240a.jpg  \n",
            " extracting: train/Pias (200)_jpg.rf.b76dc4985e4229836aabb316777e0da6.jpg  \n",
            " extracting: train/Pias (202)_jpg.rf.c581f5ccddbe5a161ea4abf547f78ad6.jpg  \n",
            " extracting: train/Pias (204)_jpg.rf.78dc52ee7e1cf717e1651ebe292ea545.jpg  \n",
            " extracting: train/Pias (206)_jpg.rf.45ab374ff8e72a43f7ccc860fba2d03d.jpg  \n",
            " extracting: train/Pias (207)_jpg.rf.90099686103ba11ea474eb29d60678be.jpg  \n",
            " extracting: train/Pias (208)_jpg.rf.7170a39760fb5546c3930a542da7ff11.jpg  \n",
            " extracting: train/Pias (209)_jpg.rf.7db63486d0afc662b2341f84abb89e60.jpg  \n",
            " extracting: train/Pias (21)_jpg.rf.47f15d5d47729616927c3c2c85ae30b5.jpg  \n",
            " extracting: train/Pias (212)_jpg.rf.447049d6f878d9b85c478b35c7b8b487.jpg  \n",
            " extracting: train/Pias (213)_jpg.rf.a427a9d10f13159b3fbf265359a9e506.jpg  \n",
            " extracting: train/Pias (215)_jpg.rf.6a71124318e535ebaefa173daaf254b6.jpg  \n",
            " extracting: train/Pias (216)_jpg.rf.5c6ad83c434239ebf5511fb5966ed9a6.jpg  \n",
            " extracting: train/Pias (218)_jpg.rf.21f5d6edc81fe8ec75e52d4cd544e63c.jpg  \n",
            " extracting: train/Pias (219)_jpg.rf.97ea3a04f375b2ca1dca0c5d2304565c.jpg  \n",
            " extracting: train/Pias (220)_jpg.rf.66666a175889b8533edc0a9d7972b809.jpg  \n",
            " extracting: train/Pias (222)_jpg.rf.7ed4fc1f900e5f963bcb8a98f3000b98.jpg  \n",
            " extracting: train/Pias (224)_jpg.rf.9f4f066c927e382ae7a0c1ad9a668f40.jpg  \n",
            " extracting: train/Pias (225)_jpg.rf.8dc412f7c677a2b512a79ad17ae86348.jpg  \n",
            " extracting: train/Pias (226)_jpg.rf.aeac67413b426bc27df2b79a8cb536d4.jpg  \n",
            " extracting: train/Pias (227)_jpg.rf.9412ec968bdd51b102a83ccce4df3525.jpg  \n",
            " extracting: train/Pias (228)_jpg.rf.765b4caacf84c190c5ababbb5f2f5893.jpg  \n",
            " extracting: train/Pias (230)_jpg.rf.40d2b20c2d208f53851167ce1dcfd040.jpg  \n",
            " extracting: train/Pias (231)_jpg.rf.ecc5841c32213c894a0dc6553d1fb079.jpg  \n",
            " extracting: train/Pias (232)_jpg.rf.c4710b2c932818010156bf58fdd9ab01.jpg  \n",
            " extracting: train/Pias (233)_jpg.rf.cd635d4cff91c50e76fec31024afadf4.jpg  \n",
            " extracting: train/Pias (234)_jpg.rf.b5b099d9a55db65baf6b614dd957e2b8.jpg  \n",
            " extracting: train/Pias (236)_jpg.rf.3820dc7be385788e837f72d48bf675c3.jpg  \n",
            " extracting: train/Pias (237)_jpg.rf.133cc73e809a02f42ffaddd19acf0fad.jpg  \n",
            " extracting: train/Pias (238)_jpg.rf.893b4dbfc14acfea49918593e4284990.jpg  \n",
            " extracting: train/Pias (24)_jpg.rf.413cc48a9b131347cca51346bed99418.jpg  \n",
            " extracting: train/Pias (240)_jpg.rf.7478c0cd54e396dad2f5f4df4c35d0a3.jpg  \n",
            " extracting: train/Pias (241)_jpg.rf.7a485518122ded01ef3729396111e2b0.jpg  \n",
            " extracting: train/Pias (244)_jpg.rf.8751f99a22908d131daf7e9b6592e725.jpg  \n",
            " extracting: train/Pias (245)_jpg.rf.062509b66167217219a23b762d80a097.jpg  \n",
            " extracting: train/Pias (246)_jpg.rf.dd734b0204bd50012a62d7cbd80ae4ef.jpg  \n",
            " extracting: train/Pias (247)_jpg.rf.a04f7fd47ec21d94823964d003a82615.jpg  \n",
            " extracting: train/Pias (248)_jpg.rf.8ae04b043d6e26600b1147f800888af5.jpg  \n",
            " extracting: train/Pias (25)_jpg.rf.d78fa592a844d5d3a69363d6855bc907.jpg  \n",
            " extracting: train/Pias (252)_jpg.rf.1952b0860545e553efc037a411e4f288.jpg  \n",
            " extracting: train/Pias (254)_jpg.rf.f387463654cf81f49364fb78fc54991b.jpg  \n",
            " extracting: train/Pias (256)_jpg.rf.b866604e69f7c5aa3569999b1c51137f.jpg  \n",
            " extracting: train/Pias (257)_jpg.rf.c6e0cc65ea05b3164b1328246666ede6.jpg  \n",
            " extracting: train/Pias (258)_jpg.rf.e2417b2b7539bc405f05bacad138558b.jpg  \n",
            " extracting: train/Pias (259)_jpg.rf.925b70e0fdba063fed926af6507fcdfb.jpg  \n",
            " extracting: train/Pias (26)_jpg.rf.126bd9d698f3b80a255622db12ca7f12.jpg  \n",
            " extracting: train/Pias (262)_jpg.rf.572f24abbe874ba2eab5255f61640af6.jpg  \n",
            " extracting: train/Pias (263)_jpg.rf.58bae1b467a191cc1b43b50a44729b92.jpg  \n",
            " extracting: train/Pias (264)_jpg.rf.2aa11ba444def017ccf82ac0a71931d3.jpg  \n",
            " extracting: train/Pias (266)_jpg.rf.27be2f1ba0aa38a593a90b99525b57a3.jpg  \n",
            " extracting: train/Pias (269)_jpg.rf.d28e56018187fd594bffff5c2a44ef9b.jpg  \n",
            " extracting: train/Pias (27)_jpg.rf.202f23656e50cd2926d963976259a98f.jpg  \n",
            " extracting: train/Pias (271)_jpg.rf.4aa8c49c71d225389ed3427e088ca897.jpg  \n",
            " extracting: train/Pias (273)_jpg.rf.6ad1143991675cede8fdae7f28f768fc.jpg  \n",
            " extracting: train/Pias (275)_jpg.rf.4fdb010dbfe75c89398eeb6d5f3840f4.jpg  \n",
            " extracting: train/Pias (276)_jpg.rf.5bb1d5f8cc92aab30854926e1f4885a5.jpg  \n",
            " extracting: train/Pias (277)_jpg.rf.5108678106cf46a84dc612653a949988.jpg  \n",
            " extracting: train/Pias (278)_jpg.rf.26062c0f682d663bcd880d489d1c766a.jpg  \n",
            " extracting: train/Pias (28)_jpg.rf.03432c76e9687d277dbe817e6a0cc67e.jpg  \n",
            " extracting: train/Pias (280)_jpg.rf.09feb1de4384c1d471e70879a97b8ab0.jpg  \n",
            " extracting: train/Pias (281)_jpg.rf.15e77ca6d5d6ce931dfdf232887d2ca5.jpg  \n",
            " extracting: train/Pias (284)_jpg.rf.41ce62be35a3c33403b474a10b21658f.jpg  \n",
            " extracting: train/Pias (285)_jpg.rf.02d2bb3d9898fe3d110e400fa626be0d.jpg  \n",
            " extracting: train/Pias (287)_jpg.rf.f24509946c243843938a2bc418b6de0f.jpg  \n",
            " extracting: train/Pias (288)_jpg.rf.30cd759711e3b6b85ddb0c69f83511f3.jpg  \n",
            " extracting: train/Pias (289)_jpg.rf.c9aa8d5bb3a55083b5b57176d20347fc.jpg  \n",
            " extracting: train/Pias (29)_jpg.rf.7cd72963c9d2bba0a9a33ec5a2bf0188.jpg  \n",
            " extracting: train/Pias (290)_jpg.rf.a0ddd4ad0623ad6f4c1c5a15690ed913.jpg  \n",
            " extracting: train/Pias (291)_jpg.rf.8364a5e82bd37778b6614a526212d224.jpg  \n",
            " extracting: train/Pias (292)_jpg.rf.11f9e61a6956654b363efa7960bf6f9f.jpg  \n",
            " extracting: train/Pias (293)_jpg.rf.8c765908c143efe3633ccf474a398eca.jpg  \n",
            " extracting: train/Pias (295)_jpg.rf.ba97e0fd5701992e53a6b4c7d1dbf89c.jpg  \n",
            " extracting: train/Pias (296)_jpg.rf.918eac5b52c0f2bcb13753e7197f1555.jpg  \n",
            " extracting: train/Pias (298)_jpg.rf.4ceba218ca755b9a9d8c018fddd76b35.jpg  \n",
            " extracting: train/Pias (3)_jpg.rf.0b4dc2f69241d15d325dd3081834fa86.jpg  \n",
            " extracting: train/Pias (30)_jpg.rf.5bb4cc48c66eea980e34652974805a34.jpg  \n",
            " extracting: train/Pias (300)_jpg.rf.ac3a38725c6cb19beb5f02222c991407.jpg  \n",
            " extracting: train/Pias (301)_jpg.rf.c92d3682b08a39e8f07c86eeb5dd4cae.jpg  \n",
            " extracting: train/Pias (302)_jpg.rf.d1fb1b52ae27f7c5d4f1755f71ac65a9.jpg  \n",
            " extracting: train/Pias (304)_jpg.rf.663813c90628bd2e8fc57009ab5bb3b4.jpg  \n",
            " extracting: train/Pias (306)_jpg.rf.3e5eb38b81896cd93027a94d62e01c02.jpg  \n",
            " extracting: train/Pias (307)_jpg.rf.45b62200834823f87052c24c960dd7a3.jpg  \n",
            " extracting: train/Pias (308)_jpg.rf.42a9228644a67d4d465f5f3a9d7dbdcc.jpg  \n",
            " extracting: train/Pias (309)_jpg.rf.d6f6cee7a1dbadec8a1598c81b54710c.jpg  \n",
            " extracting: train/Pias (31)_jpg.rf.2b7f44d3e9061e697ce053ff22aee9cf.jpg  \n",
            " extracting: train/Pias (310)_jpg.rf.60421d5e4907482d4e3cf5a515c8e896.jpg  \n",
            " extracting: train/Pias (311)_jpg.rf.d3572133491022aac1af2c087811feb6.jpg  \n",
            " extracting: train/Pias (313)_jpg.rf.5809f27b051453cc3859e50d00fe922a.jpg  \n",
            " extracting: train/Pias (315)_jpg.rf.56b00f3256fea78a5400b3bbfab56b3a.jpg  \n",
            " extracting: train/Pias (316)_jpg.rf.e6ce6ac731c794fdf5ba46dcde9e2536.jpg  \n",
            " extracting: train/Pias (317)_jpg.rf.25ca78e38b61ddb3a67fa3aeb40a3f0e.jpg  \n",
            " extracting: train/Pias (318)_jpg.rf.4b3028646b9bbc03fe0b3b0f2177d4d7.jpg  \n",
            " extracting: train/Pias (319)_jpg.rf.50e750c6d5b6f71639ad0a7ea923820d.jpg  \n",
            " extracting: train/Pias (322)_jpg.rf.bd0f663f1ce5441b1d3db40c3f20b82a.jpg  \n",
            " extracting: train/Pias (323)_jpg.rf.f2bb9a2fffd9866f794a519ba483621c.jpg  \n",
            " extracting: train/Pias (324)_jpg.rf.d5d8674b99e1a9b838d5fd919ae1276a.jpg  \n",
            " extracting: train/Pias (325)_jpg.rf.4e9bc30d3e0ff3e226560295d49b03c2.jpg  \n",
            " extracting: train/Pias (326)_jpg.rf.38f8e8438eca534476f02c9230cc23ab.jpg  \n",
            " extracting: train/Pias (33)_jpg.rf.34c67ae6bc6f945fe8429dafa617e0c2.jpg  \n",
            " extracting: train/Pias (330)_jpg.rf.7e6f0784aede16fe437c3c86cd09c03e.jpg  \n",
            " extracting: train/Pias (332)_jpg.rf.d23e3b8b1c13b974e6298fe06e5de3b7.jpg  \n",
            " extracting: train/Pias (335)_jpg.rf.2a586936922ec806fa75f302f476e290.jpg  \n",
            " extracting: train/Pias (336)_jpg.rf.4b2d0484af245a05da427da8aeab5261.jpg  \n",
            " extracting: train/Pias (337)_jpg.rf.cbcf8fb105617c117012749740cd7f91.jpg  \n",
            " extracting: train/Pias (338)_jpg.rf.74bf0650ceed15f0db4e9547246115df.jpg  \n",
            " extracting: train/Pias (339)_jpg.rf.c03ea1855ed4e804073eefd9ecf72f64.jpg  \n",
            " extracting: train/Pias (34)_jpg.rf.c3a6466791f2ab8d276ac7e789a942c3.jpg  \n",
            " extracting: train/Pias (340)_jpg.rf.14bcd0fb41f0f88efa6f697e27e380af.jpg  \n",
            " extracting: train/Pias (341)_jpg.rf.f721cd544fec1c7334f91efcfd93fd05.jpg  \n",
            " extracting: train/Pias (342)_jpg.rf.84bb8df5f57a7ac958d22fb90e2c1394.jpg  \n",
            " extracting: train/Pias (344)_jpg.rf.3059e46620a6f6e9b25040457959fea3.jpg  \n",
            " extracting: train/Pias (345)_jpg.rf.ecd650cf730403ea96178a4c1aa19f6e.jpg  \n",
            " extracting: train/Pias (347)_jpg.rf.63ff8cb8bdc09e17fd2f6221e81c6dd1.jpg  \n",
            " extracting: train/Pias (348)_jpg.rf.3fe54c60b47490c9a6c991dba7f46284.jpg  \n",
            " extracting: train/Pias (349)_jpg.rf.55e284a4e402af250b0a5fae5df8569f.jpg  \n",
            " extracting: train/Pias (35)_jpg.rf.15f55f83b6118a5cd2c677257bb774a9.jpg  \n",
            " extracting: train/Pias (350)_jpg.rf.222ac555c4b6c5cbcec26986ce2da2be.jpg  \n",
            " extracting: train/Pias (351)_jpg.rf.c294e32699c41e9b6538867bb63f4d68.jpg  \n",
            " extracting: train/Pias (352)_jpg.rf.1dc1d20a2c01b1e70a9f1efbe35da002.jpg  \n",
            " extracting: train/Pias (354)_jpg.rf.06e5647db3ae35944f426e407812e41f.jpg  \n",
            " extracting: train/Pias (355)_jpg.rf.fa4b3e427e5c9933a8f9fe42f9eeffeb.jpg  \n",
            " extracting: train/Pias (357)_jpg.rf.40204bd85b5fa363e30c075898dc5e66.jpg  \n",
            " extracting: train/Pias (358)_jpg.rf.d9da4104d14e3888a658256d75f761b3.jpg  \n",
            " extracting: train/Pias (359)_PNG.rf.b4c64aa110d5c9b154a29267d14088b1.jpg  \n",
            " extracting: train/Pias (36)_jpg.rf.8c91f601a267b2dd3282433d0379f172.jpg  \n",
            " extracting: train/Pias (360)_PNG.rf.0a7b00b866e78fe791465b8232d428c9.jpg  \n",
            " extracting: train/Pias (361)_jpg.rf.6d0c6fe8c52c11eca507d12819e6064f.jpg  \n",
            " extracting: train/Pias (363)_jpg.rf.e18d63ff835e6fad7c48b16669bdef38.jpg  \n",
            " extracting: train/Pias (365)_jpg.rf.f6d36c248a250603a0a14eb097daf535.jpg  \n",
            " extracting: train/Pias (367)_jpg.rf.3cdeeebb9aa46c19f152bb5030319c29.jpg  \n",
            " extracting: train/Pias (368)_jpg.rf.983f0022d1965c6cd55637c9e6ab17ac.jpg  \n",
            " extracting: train/Pias (369)_jpg.rf.988eaa80f154f0d5103302f04ff72c64.jpg  \n",
            " extracting: train/Pias (37)_jpg.rf.beb5ea4ba72a760214c0ab92b866909b.jpg  \n",
            " extracting: train/Pias (371)_jpg.rf.2cfeae29881ad987c7e18415a178b918.jpg  \n",
            " extracting: train/Pias (372)_jpg.rf.d1103e905831a5490df6f77e66142ed5.jpg  \n",
            " extracting: train/Pias (374)_jpg.rf.e231c20b5a724ab1e86ccb618b2f297b.jpg  \n",
            " extracting: train/Pias (375)_jpg.rf.8a3128fc6ff46c6a99478f36ba20668d.jpg  \n",
            " extracting: train/Pias (376)_jpg.rf.41d3a20d14199b375d453e8aa20bf419.jpg  \n",
            " extracting: train/Pias (377)_jpg.rf.279863c6c354d991c189f4bbae420531.jpg  \n",
            " extracting: train/Pias (378)_jpg.rf.5330b8a89beea5445709ebbee39612c2.jpg  \n",
            " extracting: train/Pias (379)_jpg.rf.3616986e2d3e8417e3f93acbc890cf9b.jpg  \n",
            " extracting: train/Pias (38)_jpg.rf.2a3a95ea4117ed5853d04d1d70883e07.jpg  \n",
            " extracting: train/Pias (380)_jpg.rf.1c0bcd21e4b9afc7080344bbc56bb96e.jpg  \n",
            " extracting: train/Pias (381)_jpg.rf.21a7201b26ed33ff7d159f6c67a2df68.jpg  \n",
            " extracting: train/Pias (382)_jpg.rf.ba16aff03080cba409be9e49e70bc7c7.jpg  \n",
            " extracting: train/Pias (383)_jpg.rf.61c4204a1631f16f5910e35f53c5bd07.jpg  \n",
            " extracting: train/Pias (384)_jpg.rf.312263edce5de637c8805155948b57f9.jpg  \n",
            " extracting: train/Pias (386)_jpg.rf.364103b5422f0ba8cf2eb1cdd281b0d3.jpg  \n",
            " extracting: train/Pias (387)_jpg.rf.c4f429e9082fd75812daba504503d9c5.jpg  \n",
            " extracting: train/Pias (388)_jpg.rf.37a2c296871d1110a75861fecfe17fcc.jpg  \n",
            " extracting: train/Pias (39)_jpg.rf.1afb55029f99414dde7c608af41c6002.jpg  \n",
            " extracting: train/Pias (390)_jpg.rf.36765cb1aca8f9ef616baa0f9646dd07.jpg  \n",
            " extracting: train/Pias (391)_jpg.rf.fa31de998cd7e2b7fb75bfcfacab9ba6.jpg  \n",
            " extracting: train/Pias (392)_jpg.rf.d6a7a582525e5116cc135c30ad9b9dd5.jpg  \n",
            " extracting: train/Pias (393)_jpg.rf.15acda2d3827f25d7188b04a152b1b20.jpg  \n",
            " extracting: train/Pias (394)_jpg.rf.91b05b208301cbaa21a9bafdc99cd99a.jpg  \n",
            " extracting: train/Pias (395)_jpg.rf.c2618f6e9ab6a4de593e0160601340e9.jpg  \n",
            " extracting: train/Pias (396)_jpg.rf.b1f760db136d1b2e1999226d8264b8b3.jpg  \n",
            " extracting: train/Pias (399)_jpg.rf.34c41a5eafd83d7f582c0d26022217b0.jpg  \n",
            " extracting: train/Pias (40)_jpg.rf.e24effe29e3d9124873dc9dd9e21629f.jpg  \n",
            " extracting: train/Pias (400)_jpg.rf.a7e64dcd26529f91a7d46824e9efed8b.jpg  \n",
            " extracting: train/Pias (401)_jpg.rf.87c5feb6da913f988381af61a288b9e2.jpg  \n",
            " extracting: train/Pias (402)_jpg.rf.1f3598cd14b1d49d414630442606b70b.jpg  \n",
            " extracting: train/Pias (403)_jpg.rf.f44ecaabcb8713023f3a22d5c2a019c9.jpg  \n",
            " extracting: train/Pias (404)_jpg.rf.d31338a5b70fe84041d6921e9f7173a3.jpg  \n",
            " extracting: train/Pias (405)_jpg.rf.136b2198c5c1bf89bd637ca81fed5274.jpg  \n",
            " extracting: train/Pias (407)_jpg.rf.168b2438bc804fe8b72b1c51a21a792f.jpg  \n",
            " extracting: train/Pias (408)_jpg.rf.9e2e86ff4e09be43c6dc3e8990c03a98.jpg  \n",
            " extracting: train/Pias (409)_jpg.rf.fbe8bb56414490500ca159278201de1c.jpg  \n",
            " extracting: train/Pias (41)_jpg.rf.753d30d60c53c16b7a92b410f6feff0d.jpg  \n",
            " extracting: train/Pias (410)_jpg.rf.d8ab19eecafb0c67a5a9059a05453ffa.jpg  \n",
            " extracting: train/Pias (412)_jpg.rf.450229957495c4736de2789da62d13fb.jpg  \n",
            " extracting: train/Pias (413)_jpg.rf.3db7e1a8eb8b30dad61ccc9e845a5314.jpg  \n",
            " extracting: train/Pias (415)_jpg.rf.7fb64cde521bb4484ff6e247e10dae77.jpg  \n",
            " extracting: train/Pias (416)_jpg.rf.857bcfde0cf33347679ab5275089758d.jpg  \n",
            " extracting: train/Pias (418)_jpg.rf.7caf4d74ff040f4bf4a02ad139bad65e.jpg  \n",
            " extracting: train/Pias (42)_jpg.rf.cee08dfdb7d632fb8fc3172ca3f4b4aa.jpg  \n",
            " extracting: train/Pias (420)_jpg.rf.0a9521e438c4a4b9b9f6fc3d2b60fdf4.jpg  \n",
            " extracting: train/Pias (422)_jpg.rf.9d1ab9f5b0debaf35124dc3b90714106.jpg  \n",
            " extracting: train/Pias (423)_jpg.rf.ea6a412c4ed3c697ba78f620a4eeeabf.jpg  \n",
            " extracting: train/Pias (425)_jpg.rf.d9ca83b23cb5ed8112bf5f7cd364eb1b.jpg  \n",
            " extracting: train/Pias (428)_jpg.rf.cabaaabb19ca3d52d6a0aae3e1f315b9.jpg  \n",
            " extracting: train/Pias (429)_jpg.rf.d3f02097c899f44384d5c1b94ea90e03.jpg  \n",
            " extracting: train/Pias (430)_jpg.rf.9e5a9b304c3a607175d71cfcc724316f.jpg  \n",
            " extracting: train/Pias (431)_jpg.rf.fa7ee62f8a99c3ab29e4b36bf6641d54.jpg  \n",
            " extracting: train/Pias (432)_jpg.rf.d44b073565f1df61f67a7bf69af23ed4.jpg  \n",
            " extracting: train/Pias (433)_jpg.rf.08f3b754ba00baaa7909af52d4383bb7.jpg  \n",
            " extracting: train/Pias (435)_jpg.rf.6ac3520a29794e09927cb230cd2372a8.jpg  \n",
            " extracting: train/Pias (436)_jpg.rf.afee8c2ed124a00fe5cc7f9f28bd01cf.jpg  \n",
            " extracting: train/Pias (439)_jpg.rf.7f1fb2f0290daf735d26e400a8eeecdf.jpg  \n",
            " extracting: train/Pias (440)_jpg.rf.4081bb11b43f1fe56c3dc206c73b9f09.jpg  \n",
            " extracting: train/Pias (441)_jpg.rf.44b34c1057552245ca8403fde89d40f5.jpg  \n",
            " extracting: train/Pias (443)_jpg.rf.e450eda91d2b9502aa215f881721ee7f.jpg  \n",
            " extracting: train/Pias (444)_jpg.rf.6c625192a385483e7674e972c910eb40.jpg  \n",
            " extracting: train/Pias (445)_jpg.rf.30cde321d987669d53991aa1001f22e3.jpg  \n",
            " extracting: train/Pias (447)_jpg.rf.d7da0c200d2b60fd99e312d0dd2479ce.jpg  \n",
            " extracting: train/Pias (449)_jpg.rf.93a6eb0e2fc8369e4483dd885357c02a.jpg  \n",
            " extracting: train/Pias (45)_jpg.rf.45eb55e5b72c23ff13f1c6c9163ee48b.jpg  \n",
            " extracting: train/Pias (450)_jpg.rf.d78384cf490fbe3826ec51167c3cd3b0.jpg  \n",
            " extracting: train/Pias (451)_jpg.rf.74d8d5371998f44540e0778bf75e99de.jpg  \n",
            " extracting: train/Pias (452)_jpg.rf.03493b0afdecb423a8885933c131586e.jpg  \n",
            " extracting: train/Pias (455)_jpg.rf.c689b5d3415419360dc4294a90fdad89.jpg  \n",
            " extracting: train/Pias (456)_jpg.rf.856dec7b8640219d68395fb63541aa01.jpg  \n",
            " extracting: train/Pias (457)_jpg.rf.2e6d81eff09e264fdcb8ee52eae0501c.jpg  \n",
            " extracting: train/Pias (458)_jpg.rf.dc08d39fd337035b8cbf4c173df8ca27.jpg  \n",
            " extracting: train/Pias (459)_jpg.rf.e23c23f9b0bb63c223cb044a4e172f7f.jpg  \n",
            " extracting: train/Pias (461)_jpg.rf.6557e8956182cacc35333c43f1b9a771.jpg  \n",
            " extracting: train/Pias (463)_jpg.rf.e5a1efc231d7b58ca35535fc35f04a29.jpg  \n",
            " extracting: train/Pias (464)_jpg.rf.ffacee0fbdf27a0183cca772444bb6c1.jpg  \n",
            " extracting: train/Pias (465)_jpg.rf.4355efb3e5ee565c941a9732bb5cf531.jpg  \n",
            " extracting: train/Pias (467)_jpg.rf.442e763c95d804313bca0a889c34d3a8.jpg  \n",
            " extracting: train/Pias (468)_jpg.rf.bfdc35a09b124c7fb81ce5adb74c4f9f.jpg  \n",
            " extracting: train/Pias (469)_jpg.rf.409871da2ccd8575caafc48b7ff6f94b.jpg  \n",
            " extracting: train/Pias (470)_jpg.rf.f735aacabeac690eec4ba45687a71f24.jpg  \n",
            " extracting: train/Pias (472)_jpg.rf.28e2e461c629337b19584e9af3fb2321.jpg  \n",
            " extracting: train/Pias (474)_jpg.rf.fe5696e532031c3c0de20e168cd546cc.jpg  \n",
            " extracting: train/Pias (475)_jpg.rf.5eb035c22fe0e488685c91ee1394e5d5.jpg  \n",
            " extracting: train/Pias (476)_jpg.rf.cce4909a0dab8e6b9427b6f3c58ab537.jpg  \n",
            " extracting: train/Pias (477)_jpg.rf.ebd99c729f99d5250d0f4a685c011343.jpg  \n",
            " extracting: train/Pias (478)_jpg.rf.c384d4c057ba0aa8590a6b5de8ea4d7d.jpg  \n",
            " extracting: train/Pias (479)_jpg.rf.5f749985f6b39311cce83e1b46f9ab6f.jpg  \n",
            " extracting: train/Pias (48)_jpg.rf.dace224383bf56bb18637fc2a18aa010.jpg  \n",
            " extracting: train/Pias (482)_jpg.rf.c1b7d963fb6c0d6f999415da29a19b66.jpg  \n",
            " extracting: train/Pias (484)_jpg.rf.9fdc7ec14036b6521e7a2a2fc5120639.jpg  \n",
            " extracting: train/Pias (489)_jpg.rf.1a00c237c6d66d1986082cf06d7709c9.jpg  \n",
            " extracting: train/Pias (49)_jpg.rf.9ad54a9f6aa13a01bad3fde383db8a21.jpg  \n",
            " extracting: train/Pias (490)_jpg.rf.fc07dc82ee448dbb2dcdc7b8a4c081e7.jpg  \n",
            " extracting: train/Pias (491)_jpg.rf.de3dbd5915b88c75aaeebbf5d40d0ce9.jpg  \n",
            " extracting: train/Pias (492)_jpg.rf.86d5d7147a54a27f0f40af29ead4b431.jpg  \n",
            " extracting: train/Pias (493)_jpg.rf.39eb587f54afc92a04d973f54e0a0079.jpg  \n",
            " extracting: train/Pias (494)_jpg.rf.f57cd02447deefcfe2f22273f6160cd6.jpg  \n",
            " extracting: train/Pias (495)_jpg.rf.272886de08d864ec91c3ebd7865f422e.jpg  \n",
            " extracting: train/Pias (496)_jpg.rf.b053fc5ed7e5145a7878bc7d8c65df5d.jpg  \n",
            " extracting: train/Pias (497)_jpg.rf.346825105ae1f9658b1b2c27fe324535.jpg  \n",
            " extracting: train/Pias (499)_jpg.rf.b96a332b70bc768fc064c76e89ab6014.jpg  \n",
            " extracting: train/Pias (500)_jpg.rf.b9ec2523f7baccb82567e7094c67e496.jpg  \n",
            " extracting: train/Pias (501)_jpg.rf.20f7b95211135c780558793d6def7baf.jpg  \n",
            " extracting: train/Pias (503)_jpg.rf.488b9510fce6f80b32ee6e1ba37e649b.jpg  \n",
            " extracting: train/Pias (504)_jpg.rf.3b6303a52556ea08be3cff7e16758b38.jpg  \n",
            " extracting: train/Pias (505)_jpg.rf.b3c328b5c7fc6fdb9eadec36df3d536f.jpg  \n",
            " extracting: train/Pias (506)_jpg.rf.e4393137bc38765d9aaae56f6d1538ce.jpg  \n",
            " extracting: train/Pias (507)_jpg.rf.27f29ecead9d8e6e1da81febaaf34279.jpg  \n",
            " extracting: train/Pias (51)_jpg.rf.0888ea2a4e328243eaa2105d9b27f85e.jpg  \n",
            " extracting: train/Pias (510)_jpg.rf.9fd35aef4c6970453869905c8ac15e5c.jpg  \n",
            " extracting: train/Pias (511)_jpg.rf.e6b05769956107f89d0ec2db43be95dc.jpg  \n",
            " extracting: train/Pias (512)_jpg.rf.ae60c5217dc7cb4aef3473e1dc352ac1.jpg  \n",
            " extracting: train/Pias (514)_jpg.rf.933faf4a02d28673edadb47023e323be.jpg  \n",
            " extracting: train/Pias (517)_jpg.rf.98137a0ffd1358db4ab0879c731f1fae.jpg  \n",
            " extracting: train/Pias (519)_jpg.rf.5f115f0be6f32caff7699b66ccfe3165.jpg  \n",
            " extracting: train/Pias (52)_jpg.rf.44a44c6dee186124a7c6789bdf78676a.jpg  \n",
            " extracting: train/Pias (520)_jpg.rf.66c212745832a3da4aed8b563167e146.jpg  \n",
            " extracting: train/Pias (521)_jpg.rf.96fb9c7b14bcc982ae9f8f44ae81ad69.jpg  \n",
            " extracting: train/Pias (525)_jpg.rf.1140246278afb55be9704de1bda98b8a.jpg  \n",
            " extracting: train/Pias (527)_jpg.rf.fb500718ce694bfb885635358fad007e.jpg  \n",
            " extracting: train/Pias (529)_jpg.rf.828f79079293015b6cbd55b44f57ff9d.jpg  \n",
            " extracting: train/Pias (53)_jpg.rf.5315df1d585a2b110178e68b3bbc8517.jpg  \n",
            " extracting: train/Pias (530)_jpg.rf.59ad04258bedd15101eb7e39e54e7c2c.jpg  \n",
            " extracting: train/Pias (531)_jpg.rf.d3762fb73534fffebd604769e3c29d93.jpg  \n",
            " extracting: train/Pias (532)_jpg.rf.ae03e284e863c41810312c6d22067a37.jpg  \n",
            " extracting: train/Pias (533)_jpg.rf.77335194813a8cb048f5b78c0fee4787.jpg  \n",
            " extracting: train/Pias (534)_jpg.rf.bcf47d25809ce256464b9757584653d2.jpg  \n",
            " extracting: train/Pias (535)_jpg.rf.fbbba9275df9526282f6d210844d15d7.jpg  \n",
            " extracting: train/Pias (536)_jpg.rf.980c8d1938a695f78db3a828c2f148c4.jpg  \n",
            " extracting: train/Pias (537)_jpg.rf.4cce0be5ba65ef9fdb4db69d434a2210.jpg  \n",
            " extracting: train/Pias (538)_jpg.rf.6bcb3139893c849b3d81a53f397c9ac4.jpg  \n",
            " extracting: train/Pias (539)_jpg.rf.385d13bcf4fbafa8bc24408f0968bf13.jpg  \n",
            " extracting: train/Pias (54)_jpg.rf.6bd3b4a3e110a81742f89ed12b7bb3fa.jpg  \n",
            " extracting: train/Pias (541)_jpg.rf.5eda314bc74fb49b68711d35062991d8.jpg  \n",
            " extracting: train/Pias (542)_jpg.rf.f7839a5f809b4421cbddec02c9f81cf9.jpg  \n",
            " extracting: train/Pias (543)_jpg.rf.82f53bea5997b255b6f230db500c7f6b.jpg  \n",
            " extracting: train/Pias (546)_jpg.rf.253533e5840631fbad39fb3d71bd9b15.jpg  \n",
            " extracting: train/Pias (547)_jpg.rf.8320e20e06e09873f8f4eea6804ded6f.jpg  \n",
            " extracting: train/Pias (548)_jpg.rf.e7553c8212434328b253dcf9b88fd6ee.jpg  \n",
            " extracting: train/Pias (56)_jpg.rf.9428a1fc5f6ef41d04df39bfb7086be4.jpg  \n",
            " extracting: train/Pias (58)_jpg.rf.af97a165f2f12e728279bd80b21131f2.jpg  \n",
            " extracting: train/Pias (6)_jpg.rf.d307c077b098292d7ac36f6e4b20d0c9.jpg  \n",
            " extracting: train/Pias (60)_jpg.rf.7485f5bd13d23c230b69c07c0a028641.jpg  \n",
            " extracting: train/Pias (61)_jpg.rf.dc8d2863c7dfa846a3ddca6d682f35b3.jpg  \n",
            " extracting: train/Pias (62)_jpg.rf.157a9f3b2e0bac21842fa2358a8c8311.jpg  \n",
            " extracting: train/Pias (63)_jpg.rf.6655dc0f761731a9f3ddaa44b53e6041.jpg  \n",
            " extracting: train/Pias (64)_jpg.rf.455f2f75c52b1c037c8800af36f666c1.jpg  \n",
            " extracting: train/Pias (66)_jpg.rf.0f80b3a88f3db44b1c62ec229781cb92.jpg  \n",
            " extracting: train/Pias (67)_jpg.rf.19d7a74600a9be96f2784c10857fa963.jpg  \n",
            " extracting: train/Pias (68)_jpg.rf.c9ba65e8906297c829075f88dbdce5b3.jpg  \n",
            " extracting: train/Pias (69)_jpg.rf.11a928c5f41e1c4e7718c0e5079c3be5.jpg  \n",
            " extracting: train/Pias (7)_jpg.rf.1c005c85cf0d6686c210586b3d57e717.jpg  \n",
            " extracting: train/Pias (70)_jpg.rf.6f7fed17eaaaba4dbb73d3fb280cd959.jpg  \n",
            " extracting: train/Pias (71)_jpg.rf.4da7543ffcc9857c60a026793953681b.jpg  \n",
            " extracting: train/Pias (72)_jpg.rf.ee9519fa902fbe03af304487671c5b70.jpg  \n",
            " extracting: train/Pias (75)_jpg.rf.d0e655c1a86082fb2f1afc6a3fbb6c74.jpg  \n",
            " extracting: train/Pias (77)_jpg.rf.2581b3e110e9c0d4855ccaa56a63d3ad.jpg  \n",
            " extracting: train/Pias (78)_jpg.rf.da5746378a0c4ae1f65c43853de9e300.jpg  \n",
            " extracting: train/Pias (79)_jpg.rf.62f5cb1ad23a4959fe9becc1f0e7c859.jpg  \n",
            " extracting: train/Pias (8)_jpg.rf.3248c1ba9679b6d76940bc069447bc65.jpg  \n",
            " extracting: train/Pias (80)_jpg.rf.5b9772eed4338f138533926976bfd0ab.jpg  \n",
            " extracting: train/Pias (83)_jpg.rf.9b8fd260ac368d0fb7a515e59a3efb92.jpg  \n",
            " extracting: train/Pias (84)_jpg.rf.8a77ccb7bdc870dcb61421316b013f79.jpg  \n",
            " extracting: train/Pias (86)_jpg.rf.ef941567707e83c6d321f0248962e8e7.jpg  \n",
            " extracting: train/Pias (89)_jpg.rf.1519067e0d0eaed0588908f5cbc2d537.jpg  \n",
            " extracting: train/Pias (9)_jpg.rf.68e31faaf5301bb3df6b7a90fc26b2d7.jpg  \n",
            " extracting: train/Pias (90)_jpg.rf.3eeaa03446a96c9f70b7ee9136644e3c.jpg  \n",
            " extracting: train/Pias (91)_jpg.rf.acee2f422321659823179d5ee90a9fc2.jpg  \n",
            " extracting: train/Pias (92)_jpg.rf.e0fa1a0ed736b2292d40ea53037cdb2c.jpg  \n",
            " extracting: train/Pias (93)_jpg.rf.81e0403d3333edcab921618742366426.jpg  \n",
            " extracting: train/Pias (94)_jpg.rf.b81649bf1e8cb692aaf420908214500c.jpg  \n",
            " extracting: train/Pias (95)_jpg.rf.fe4620df6f0ed3e5e0cee15c41b94ff7.jpg  \n",
            " extracting: train/Pias (96)_jpg.rf.51f7f245116b7c200644ff437513d7c0.jpg  \n",
            " extracting: train/Pias (97)_jpg.rf.ffefe12747c8aa99b19e0b4ee2fc6da9.jpg  \n",
            " extracting: train/Pias (98)_jpg.rf.2d35f5400ec848114764e5bd78d9bb70.jpg  \n",
            " extracting: train/Pias (99)_jpg.rf.6c7ac532b7c7fa2e5f448a239b3b6621.jpg  \n",
            " extracting: train/_annotations.coco.json  \n",
            "   creating: valid/\n",
            " extracting: valid/05_jpg.rf.40146cc4db0386b538e34d81ea765872.jpg  \n",
            " extracting: valid/09_jpg.rf.75715f6b59eeee59cd95b2f7ccc1f59d.jpg  \n",
            " extracting: valid/10_jpg.rf.6831d208c5336916451d9e0fbb47ea60.jpg  \n",
            " extracting: valid/115_jpg.rf.7fd0437f2ba51291bf147d089277be2d.jpg  \n",
            " extracting: valid/121_jpg.rf.bee46d495c750746ecf0faef48c20c4f.jpg  \n",
            " extracting: valid/126_jpg.rf.1c543bf7090073db4153497d4b0d0290.jpg  \n",
            " extracting: valid/128_jpg.rf.6faefe3fa626ae2b42b12d6449eeb425.jpg  \n",
            " extracting: valid/133_jpg.rf.8b12f8e17d5ff825bfdd6caed8c7969a.jpg  \n",
            " extracting: valid/13_jpg.rf.511c9e0fb4ff3e8b0729f37d0324b482.jpg  \n",
            " extracting: valid/142_jpg.rf.af4e519dfcf65027abd8b9a64e08fd49.jpg  \n",
            " extracting: valid/145_jpg.rf.cfca60c521521e524f7b847bce341f29.jpg  \n",
            " extracting: valid/154_jpg.rf.fccc240261e3f2ec681e74a847beab7e.jpg  \n",
            " extracting: valid/15_jpg.rf.b98f0949186d1d3d9c0a9821430e759e.jpg  \n",
            " extracting: valid/160_jpg.rf.ebe423e4d170667af5e3a9b42df9f5f2.jpg  \n",
            " extracting: valid/164_jpg.rf.53f41f1e8cdd128e482b756b6a79d061.jpg  \n",
            " extracting: valid/175_jpg.rf.629bf924777015a530be40906f1ca941.jpg  \n",
            " extracting: valid/190_jpg.rf.89d4467c8e97e6e65881197382438c0c.jpg  \n",
            " extracting: valid/201_png.rf.f865630ea1dded7901be57f85fb020e5.jpg  \n",
            " extracting: valid/208_jpg.rf.22beaee329581bd843887464da1ad618.jpg  \n",
            " extracting: valid/209_jpg.rf.c9d9ac335a5a70656b5fe4ce43e339bd.jpg  \n",
            " extracting: valid/20_jpg.rf.bc12ecf4689613da6290c44eb4d98c4a.jpg  \n",
            " extracting: valid/216_jpg.rf.c2a71306f246ad049fe0edd47b442c4e.jpg  \n",
            " extracting: valid/218_jpg.rf.8ff2bc40ef8e6b7f4142c2fda31c1e70.jpg  \n",
            " extracting: valid/220_jpg.rf.4879fa98c5acc6793c909f75debceee9.jpg  \n",
            " extracting: valid/232_jpg.rf.dcbeca67ee02e1ff9894aaaf13f13bb1.jpg  \n",
            " extracting: valid/235_jpg.rf.21f68ea463fe3ba0f79d65ab623cf231.jpg  \n",
            " extracting: valid/29_jpg.rf.a0278f94e59625bd4dcd454c4c440843.jpg  \n",
            " extracting: valid/32_jpg.rf.fae82a095d5bbf9153c32a81653de7d4.jpg  \n",
            " extracting: valid/35_jpg.rf.a694832a58d04b3d1b4ddea3cbfa7861.jpg  \n",
            " extracting: valid/39_jpg.rf.4f208828d4ad3aaf21141f76508e9656.jpg  \n",
            " extracting: valid/60_jpg.rf.948ad5bc2a1cfb24bb50448aded96c52.jpg  \n",
            " extracting: valid/67_jpg.rf.1ddf49bea280ab2abf5257d932588cd9.jpg  \n",
            " extracting: valid/72_jpg.rf.46a970d2f61a215fa291c14358c873b3.jpg  \n",
            " extracting: valid/83_jpg.rf.ebbca0333fbbcb12e54de31e24df89d2.jpg  \n",
            " extracting: valid/91_jpg.rf.42124955f9e1f78028577130e37eecda.jpg  \n",
            " extracting: valid/97_jpg.rf.7971970ab551f7a8d8c7ce74b123abda.jpg  \n",
            " extracting: valid/Asraf_11_jpg.rf.fe836566072c834be23f430993b3d939.jpg  \n",
            " extracting: valid/Asraf_16_jpg.rf.8692051f0fae2e7ce26ef12dca8d3e73.jpg  \n",
            " extracting: valid/Asraf_18_jpg.rf.43e72e3b308657ac82305a8278543622.jpg  \n",
            " extracting: valid/Asraf_19_jpg.rf.80590620e49d3d51e735aa97cfff7e76.jpg  \n",
            " extracting: valid/Asraf_23_jpg.rf.145d163a87268aaa17221c23ab2804af.jpg  \n",
            " extracting: valid/Asraf_24_jpg.rf.7d8685fcc0e0b3ad37c4d011fd0a6e4b.jpg  \n",
            " extracting: valid/Asraf_37_jpg.rf.66b527a65034872d7bcdffd5a8ef032d.jpg  \n",
            " extracting: valid/Asraf_46_jpg.rf.99dc0785e9ead2dacd22fe0e75022dc4.jpg  \n",
            " extracting: valid/Asraf_56_jpg.rf.0500a74be50c570123ef7ea61a103d73.jpg  \n",
            " extracting: valid/Asraf_60_jpg.rf.4bced5d877b5cdd51d93274b87c58a82.jpg  \n",
            " extracting: valid/Dipto_ 102_jpg.rf.a1b5ed7392abf5fc5999ed7b68abb972.jpg  \n",
            " extracting: valid/Dipto_ 107_jpg.rf.997a4e6adf3caa6d40ae4f5ab0efc1b0.jpg  \n",
            " extracting: valid/Dipto_ 108_jpg.rf.1dceabf34961910abfb61033dc4941e9.jpg  \n",
            " extracting: valid/Dipto_ 112_jpg.rf.7438aaab632a90d0bec4e95cc2cafef8.jpg  \n",
            " extracting: valid/Dipto_ 115_jpg.rf.5201ecee266b4cf93ceef21696645dd9.jpg  \n",
            " extracting: valid/Dipto_ 116_jpg.rf.4779f5b18cab5f6307f4cc2e2851b056.jpg  \n",
            " extracting: valid/Dipto_ 119_jpg.rf.9b276d5c128388b907c06268098f1c9b.jpg  \n",
            " extracting: valid/Dipto_ 121_jpg.rf.45c535b23fe13621313573cf3e1ec86a.jpg  \n",
            " extracting: valid/Dipto_ 124_jpg.rf.14f61a75c285b62411e6010339ebf424.jpg  \n",
            " extracting: valid/Dipto_ 132_jpg.rf.7a4883887a8c6f5cd90519001e286615.jpg  \n",
            " extracting: valid/Dipto_ 135_jpg.rf.51811cf7325421c72db0c12510d0ca07.jpg  \n",
            " extracting: valid/Dipto_ 137_jpg.rf.58964c58dad4ca77830611640a52fc91.jpg  \n",
            " extracting: valid/Dipto_ 139_jpg.rf.a380a70031b87c8d9c32d0232782371c.jpg  \n",
            " extracting: valid/Dipto_ 140_jpg.rf.83a800e3618e4c45b63081bec8915ca0.jpg  \n",
            " extracting: valid/Dipto_ 141_jpg.rf.9901128f7d431feaaca1de6cb8fde022.jpg  \n",
            " extracting: valid/Dipto_ 142_jpg.rf.9ee8bc18e9ae29962ac95bb0ce346fc9.jpg  \n",
            " extracting: valid/Dipto_ 144_jpg.rf.6b57bc79bf007a163ce181707c3a260b.jpg  \n",
            " extracting: valid/Dipto_ 160_jpg.rf.980bd1e909e6f4da4ac7ff749aab8d78.jpg  \n",
            " extracting: valid/Dipto_ 161_jpg.rf.2d0f754d158650d3f76da7efd5970d50.jpg  \n",
            " extracting: valid/Dipto_ 175_jpg.rf.c94c19a17623c7855a1ea324b848eeb1.jpg  \n",
            " extracting: valid/Dipto_ 176_jpg.rf.ae62d23b9933d560a0ace74221008f5e.jpg  \n",
            " extracting: valid/Dipto_ 181_jpg.rf.38efd210c5a08431082f9137ff3324bf.jpg  \n",
            " extracting: valid/Dipto_ 185_jpg.rf.b8583c2ecb4e1d02aa30d00e1a927e3b.jpg  \n",
            " extracting: valid/Dipto_ 186_jpg.rf.03c226ae691aac1c832096533924ffd4.jpg  \n",
            " extracting: valid/Dipto_ 193_jpg.rf.c6565b24374628717ae22f49c77f5000.jpg  \n",
            " extracting: valid/Dipto_ 197_jpg.rf.aaa706c6b52ffbc30fd8ff7f8955a52d.jpg  \n",
            " extracting: valid/Dipto_ 200_jpg.rf.1a673d155bb52fc08e60f336d82ec0ac.jpg  \n",
            " extracting: valid/Dipto_ 218_jpg.rf.c8dd69144b61b1ab9cfaa738f535bf57.jpg  \n",
            " extracting: valid/Dipto_ 221_jpg.rf.158a51a534faa965fb129d038d018781.jpg  \n",
            " extracting: valid/Dipto_ 224_jpg.rf.800e5c62ccaea957002cfb0f4c9e79bc.jpg  \n",
            " extracting: valid/Dipto_ 237_jpg.rf.a246f2ec2e7d94668cba5e28628052ad.jpg  \n",
            " extracting: valid/Dipto_ 251_jpg.rf.6195de73755f9e1976eaa9303bf819be.jpg  \n",
            " extracting: valid/Dipto_ 253_jpg.rf.77d362b2514311a2a90875bc4384494b.jpg  \n",
            " extracting: valid/Dipto_ 255_jpg.rf.8e652a717e4e5143b57e7bce8934b119.jpg  \n",
            " extracting: valid/Dipto_ 256_jpg.rf.1214776f2a30e252b874b09a48775f93.jpg  \n",
            " extracting: valid/Dipto_ 259_jpg.rf.25a09d4e681f7cf9c8a3d7fc72f809b7.jpg  \n",
            " extracting: valid/Dipto_ 265_jpg.rf.099261029b2fca53d90b2e6adb564136.jpg  \n",
            " extracting: valid/Dipto_ 267_jpg.rf.80b3a73e86b87cf67fd3beebb63baeba.jpg  \n",
            " extracting: valid/Dipto_ 269_jpg.rf.10cbeef84141833d01b379606c569602.jpg  \n",
            " extracting: valid/Dipto_ 272_jpg.rf.273b82b80e9e27895ad1ddeecfd1e3fd.jpg  \n",
            " extracting: valid/Dipto_ 275_jpg.rf.dfef4976b15437bb05bf4ffafb9352ce.jpg  \n",
            " extracting: valid/Dipto_ 281_jpg.rf.abaa56f707e7a59fa6ffaddef4066d2f.jpg  \n",
            " extracting: valid/Dipto_ 287_jpg.rf.4e9aa3fd09fcedc7f67cbffb10a985dc.jpg  \n",
            " extracting: valid/Dipto_ 291_jpg.rf.e7595be11512ac5fc0c9533eaac66364.jpg  \n",
            " extracting: valid/Dipto_ 302_jpg.rf.6dc0c61be303f7c68dc8ec6e9958b161.jpg  \n",
            " extracting: valid/Dipto_ 306_jpg.rf.ef840ad24a8624b40887638048a34d78.jpg  \n",
            " extracting: valid/Dipto_ 316_jpg.rf.d5300168cabaa7999dff0aa4feeeb6f7.jpg  \n",
            " extracting: valid/Dipto_ 324_jpg.rf.6285e80d2e12b6a69c3de78cd6da3753.jpg  \n",
            " extracting: valid/Dipto_ 330_JPG.rf.b9ed498efbd6b4f960dee992293150eb.jpg  \n",
            " extracting: valid/Dipto_ 333_jpg.rf.86295b127dd59795bbf243154b5c7565.jpg  \n",
            " extracting: valid/Dipto_ 336_jpg.rf.c9f6cd7d2276ef66eb1164dcbd8ad44b.jpg  \n",
            " extracting: valid/Dipto_ 337_jpg.rf.e52128423484025a7d573da80a7294c3.jpg  \n",
            " extracting: valid/Dipto_ 42_jpg.rf.b0179793b287db99d40d2dcb01b78fa3.jpg  \n",
            " extracting: valid/Dipto_ 44_jpg.rf.90fe2448e43a3d8502f76e42715cf7e3.jpg  \n",
            " extracting: valid/Dipto_ 56_jpg.rf.84174702501f150cea7ca37a5fe4cc59.jpg  \n",
            " extracting: valid/Dipto_ 58_jpg.rf.64821036aa505dbd2e31616975e88587.jpg  \n",
            " extracting: valid/Dipto_ 60_jpg.rf.592ce6504046ebf66eccdd4ea0fa3f4e.jpg  \n",
            " extracting: valid/Dipto_ 66_jpg.rf.d318fbe41b88b01cfe3b060e20ebe830.jpg  \n",
            " extracting: valid/Dipto_ 69_jpg.rf.66c70304c0e72f85125820b4ce599a7d.jpg  \n",
            " extracting: valid/Dipto_ 70_jpg.rf.a1d5102b4f153463bf7df691a5ab9545.jpg  \n",
            " extracting: valid/Dipto_ 79_jpg.rf.b4571f8af89064484da51e74453f1217.jpg  \n",
            " extracting: valid/Dipto_ 84_jpg.rf.7284110f43c8c8cfacf6e82c324c7aa5.jpg  \n",
            " extracting: valid/Dipto_ 99_jpg.rf.30375e3cc2423c7b7462371c48f27b05.jpg  \n",
            " extracting: valid/Dipto_04_jpg.rf.f7222a5008ae29c13d93fa2cb93b07c1.jpg  \n",
            " extracting: valid/Dipto_09_jpg.rf.1e05c0985e41cb29de80f6aa0af55222.jpg  \n",
            " extracting: valid/Dipto_10_jpg.rf.72e36e3cbd350aee846f69ee1e233524.jpg  \n",
            " extracting: valid/Dipto_15_jpg.rf.105331cc88836149a26d2a997d0ffa97.jpg  \n",
            " extracting: valid/Dipto_171_jpg.rf.764a51936e1f3569f4530c11777c50c8.jpg  \n",
            " extracting: valid/Dipto_19_jpg.rf.09bb33aa4fe58a6c0402be41ba95cd69.jpg  \n",
            " extracting: valid/Dipto_24_jpg.rf.995d5b91a3b5d1cbd3c6650a79c425d7.jpg  \n",
            " extracting: valid/Dipto_28_jpg.rf.db303076335be5ca24e326ae1d06cff2.jpg  \n",
            " extracting: valid/Dipto_290_jpg.rf.f42250b709f067780077391b3d9d840f.jpg  \n",
            " extracting: valid/Dipto_30_jpg.rf.bf3ffdeba4fd2d6d589e21cc33897024.jpg  \n",
            " extracting: valid/Dipto_33_jpg.rf.b90b950f923137604a188282b3c26e7c.jpg  \n",
            " extracting: valid/Dipto_354_jpg.rf.07f329ff9d28c5f77ef3f3e4a059899e.jpg  \n",
            " extracting: valid/Dipto_368_jpg.rf.7c808f3844b06b2995498780742c93dc.jpg  \n",
            " extracting: valid/Dipto_372_jpg.rf.c64394098d381232e27911180d86dbd3.jpg  \n",
            " extracting: valid/Dipto_376_jpg.rf.e9b14455aa65f6ef6ac00b7e0107b5f3.jpg  \n",
            " extracting: valid/Dipto_379_jpg.rf.b0d2776f38658d5544d90e3198a5136f.jpg  \n",
            " extracting: valid/Dipto_380_jpg.rf.e04861f248cd640598f8c7f03ae4ae34.jpg  \n",
            " extracting: valid/Dipto_382_jpg.rf.db7be2ff4b3647e94f6331fcf2aefa5d.jpg  \n",
            " extracting: valid/Dipto_387_jpg.rf.49d67f051b8d3e9863eb77ecd3b321b2.jpg  \n",
            " extracting: valid/Dipto_396_jpg.rf.0ffcd3ac9ee85fd8a69332831f5d46c2.jpg  \n",
            " extracting: valid/Dipto_397_jpg.rf.68b0de3f4c0e27f372bbe7670c8df995.jpg  \n",
            " extracting: valid/Dipto_405_jpg.rf.3898251f97b2c7903ddd1cd339b903e4.jpg  \n",
            " extracting: valid/Dipto_427_jpg.rf.d1743c1b8ef66eee4dd700d9407adfe5.jpg  \n",
            " extracting: valid/Dipto_431_jpg.rf.04592f0dfbd4c367a7d61c946d8f2aa6.jpg  \n",
            " extracting: valid/Dipto_436_jpg.rf.666d9f84926b096e335495c8c58e3e52.jpg  \n",
            " extracting: valid/Dipto_440_jpg.rf.ace6013f2701145bfaf4bf71dbc2c415.jpg  \n",
            " extracting: valid/Dipto_458_jpg.rf.38df3b7930439a3b953d17aa91618af0.jpg  \n",
            " extracting: valid/Dipto_463_jpg.rf.6e7639323cdb583a0463f8cfc77b150d.jpg  \n",
            " extracting: valid/Dipto_468_jpg.rf.52bd8ed0b9c1015e6fa8f2e445517a22.jpg  \n",
            " extracting: valid/Dipto_471_jpg.rf.889ece2ef607f94a566a78af4fa75f42.jpg  \n",
            " extracting: valid/Dipto_473_jpg.rf.b1c547cfacbaf7f53809c106df941baa.jpg  \n",
            " extracting: valid/Dipto_474_jpg.rf.82037a4ba1ab2adddbdb988372f4ec77.jpg  \n",
            " extracting: valid/Dipto_479_jpg.rf.9048c5aba218f976cba1a571ca8069e3.jpg  \n",
            " extracting: valid/Dipto_484_jpg.rf.119d1b8f5a1977d2ac0d4e9f0ca2d4e0.jpg  \n",
            " extracting: valid/Dipto_509_jpg.rf.fa8a4abda295d56995a377a1ba276836.jpg  \n",
            " extracting: valid/Dipto_522_jpg.rf.4f410d21eb6d66130a8566e2ec13268c.jpg  \n",
            " extracting: valid/Dipto_524_jpg.rf.fb97f60b8e8b6d06ddb98b2d96c50ba4.jpg  \n",
            " extracting: valid/Dipto_527_JPG.rf.5a6832be8a2f2214ffa9144af4afd1d2.jpg  \n",
            " extracting: valid/Dipto_530_JPG.rf.90be9f2e8b2815fe8fe3104ba272fc5a.jpg  \n",
            " extracting: valid/Dipto_535_JPG.rf.e5ad6d1d56aca62f6d96dc9de61a8651.jpg  \n",
            " extracting: valid/Dipto_536_JPG.rf.07d86386bebd261cf437e96af04a5eba.jpg  \n",
            " extracting: valid/Dipto_550_jpg.rf.2a2f496b1fb5c2062349d400bcf9f7b2.jpg  \n",
            " extracting: valid/Dipto_552_jpg.rf.bf1b790b1f2ea100e6dfcb346db71cfd.jpg  \n",
            " extracting: valid/Dipto_562_jpg.rf.03a15c495fb0035603e0c7d0216831fe.jpg  \n",
            " extracting: valid/Dipto_565_jpg.rf.db5f8086114c69971792dcc8c283ed3e.jpg  \n",
            " extracting: valid/Dipto_580_jpg.rf.55ca855faf31fce2363702419d26e564.jpg  \n",
            " extracting: valid/Dipto_585_jpg.rf.d2530fa4e5ea6a986ba3c7f5ea9a939b.jpg  \n",
            " extracting: valid/Dipto_596_jpg.rf.bee5d187e4d34fffd643ac9c40c62ff7.jpg  \n",
            " extracting: valid/Dipto_614_jpg.rf.d8b232034971014856d5bb4ac99e4d50.jpg  \n",
            " extracting: valid/Dipto_617_jpg.rf.63f8dee03dae8f9a7870d11261e6df1d.jpg  \n",
            " extracting: valid/Dipto_623_jpg.rf.dbba27ce06552c12123b41d19fce0bb7.jpg  \n",
            " extracting: valid/Dipto_633_jpg.rf.0fcf136f6e4cdd26f6246de9c6f49c57.jpg  \n",
            " extracting: valid/Dipto_641_jpg.rf.011bead8a8d0e882cafc2e417e6f86d2.jpg  \n",
            " extracting: valid/Dipto_644_jpg.rf.0160bac5fb606ff34e8e510a530efa95.jpg  \n",
            " extracting: valid/Dipto_648_jpg.rf.5d9f1f316ed52ad522256ac56100a2db.jpg  \n",
            " extracting: valid/Dipto_649_jpg.rf.b3c38aa820054f1ce80aa3044170e6fc.jpg  \n",
            " extracting: valid/Dipto_651_jpg.rf.99737feea8e7464896ec39d3b3a1d5e8.jpg  \n",
            " extracting: valid/Dipto_656_jpg.rf.1ac35b8b1533293aabd33b6fa08e8109.jpg  \n",
            " extracting: valid/Dipto_666_jpg.rf.f26e79488afc41d496846a38c3431473.jpg  \n",
            " extracting: valid/Dipto_668_jpg.rf.17e0158bf4487f08f5a9931d41590f64.jpg  \n",
            " extracting: valid/Dipto_675_jpg.rf.d126dc7a8f5e4528673c163f92e18d41.jpg  \n",
            " extracting: valid/Dipto_680_jpg.rf.4a9bd2627d51652b15d3d60e5937af87.jpg  \n",
            " extracting: valid/Dipto_681_jpg.rf.caf58d37eceaf59c8a57cb632d789fce.jpg  \n",
            " extracting: valid/Dipto_684_jpg.rf.0bb6ca158974065bf7bccbb8113da418.jpg  \n",
            " extracting: valid/Dipto_691_jpg.rf.e048ab9d1ca83dd53a4a031bdd2c540d.jpg  \n",
            " extracting: valid/Dipto_701_jpg.rf.907a8e506dc16021c3004a691415cf61.jpg  \n",
            " extracting: valid/Dipto_707_jpg.rf.9ea79877090728d05811129b62036882.jpg  \n",
            " extracting: valid/Dipto_708_jpg.rf.4a5f57d9196f72f7f654671f762756c1.jpg  \n",
            " extracting: valid/Dipto_711_jpg.rf.13bd5d44a3c5800e732df0b4ccd22d0a.jpg  \n",
            " extracting: valid/Dipto_714_jpg.rf.cfd6dfb4dff7cdd6f9bb5562b67c4642.jpg  \n",
            " extracting: valid/Dipto_716_jpg.rf.9c4525d2ff87812e83802df7ab90fc9a.jpg  \n",
            " extracting: valid/Dipto_719_jpg.rf.406c3024873dd832773ff973da602940.jpg  \n",
            " extracting: valid/Dipto_726_jpg.rf.06fcb1e07df96158c7a63342f941a5fe.jpg  \n",
            " extracting: valid/Dipto_733_jpg.rf.2707d4998653a489a9108ab8a0a41c1f.jpg  \n",
            " extracting: valid/Dipto_734_jpg.rf.954de9af1b15ae7622005785e7cce418.jpg  \n",
            " extracting: valid/Dipto_739_jpg.rf.ffa2636152e9af81c8b0ce4e55b808ef.jpg  \n",
            " extracting: valid/Dipto_740_jpg.rf.b9a89210e5bf35c5190f915cf37f7f7d.jpg  \n",
            " extracting: valid/Dipto_745_jpg.rf.2d6eab251d8dca03d0623f228fe1d164.jpg  \n",
            " extracting: valid/Dipto_750_jpg.rf.f7458ab4ae4c1e25dd025033f7002d3c.jpg  \n",
            " extracting: valid/Dipto_753_jpg.rf.7268c587119b8f870917f0bb964037c5.jpg  \n",
            " extracting: valid/Dipto_755_jpg.rf.5dc8a75681aeb26ab5e7650ce50a894a.jpg  \n",
            " extracting: valid/Dipto_757_jpg.rf.f24be14b93cd7c902c99f74af7de592e.jpg  \n",
            " extracting: valid/Dipto_759_jpg.rf.0c58624b17a61accdba71593a69fceba.jpg  \n",
            " extracting: valid/Dipto_767_jpg.rf.5b89b9d60a96c3f8ddf4e3646647e937.jpg  \n",
            " extracting: valid/Dipto_779_jpg.rf.0f9650f4f9417f9678051e88a926c9a9.jpg  \n",
            " extracting: valid/Dipto_780_jpg.rf.f5297d5c32881095e44d7a52b7f96898.jpg  \n",
            " extracting: valid/Dipto_781_jpg.rf.4a94acc2560fbb3fa736ac08b87b9c05.jpg  \n",
            " extracting: valid/Dipto_793_jpg.rf.deedc1f07672ced567573e27405eb67b.jpg  \n",
            " extracting: valid/Dipto_796_jpg.rf.9143de6858b8c43df052c640681c6f6e.jpg  \n",
            " extracting: valid/Dipto_810_jpg.rf.7959ae8445e08d1e2bbadaa9e677f8c6.jpg  \n",
            " extracting: valid/Dipto_811_jpg.rf.75cd288671a1bb871a169f30ca2b6c48.jpg  \n",
            " extracting: valid/Dipto_815_jpg.rf.32ef9156b9388f6e8587061d46f204a4.jpg  \n",
            " extracting: valid/Dipto_819_jpg.rf.84a01bb5e13a14699ac9efa81580d3d4.jpg  \n",
            " extracting: valid/Dipto_832_jpg.rf.b10612c74d1e7352316b36d07c94bfe5.jpg  \n",
            " extracting: valid/Dipto_847_jpg.rf.6888ba27ec5b51ee3df3d916a19fddca.jpg  \n",
            " extracting: valid/Dipto_850_jpg.rf.b0409b7b0a765bea1bb7265a67e89289.jpg  \n",
            " extracting: valid/Dipto_853_jpg.rf.b6804588f06ba7e2d4b468766c70865e.jpg  \n",
            " extracting: valid/Dipto_856_jpg.rf.97cefc1fe9615592e5678c0721b3140d.jpg  \n",
            " extracting: valid/Dipto_857_jpg.rf.1177ff0db6aba8955bb09f294e2ebeb9.jpg  \n",
            " extracting: valid/Navid_06_jpg.rf.27b9e5828b6efdffef441f6e42c0c478.jpg  \n",
            " extracting: valid/Navid_09_jpg.rf.a55c5e3132cd765c4bf62065307d7ed3.jpg  \n",
            " extracting: valid/Navid_113_jpg.rf.879335efb4db04600b19f053046b64a8.jpg  \n",
            " extracting: valid/Navid_116_jpg.rf.97f8d800830e2a8689191479750a513f.jpg  \n",
            " extracting: valid/Navid_131_jpg.rf.b4173e95dfa00cfbabc7bd6c8086c2fb.jpg  \n",
            " extracting: valid/Navid_143_jpg.rf.43b2248c1ec5b86168d86440f255153d.jpg  \n",
            " extracting: valid/Navid_14_jpg.rf.d6a2db0a74bb68a2d581f0764dd76531.jpg  \n",
            " extracting: valid/Navid_150_jpg.rf.2ff0b8000f820b9ba4fd5e74fdad2c5b.jpg  \n",
            " extracting: valid/Navid_152_jpg.rf.b885b1ab3044d34cf56fe6fac16dfb4b.jpg  \n",
            " extracting: valid/Navid_155_jpg.rf.2bff631e7691e83c1431040fd32ca553.jpg  \n",
            " extracting: valid/Navid_158_jpg.rf.a697fc9116bb138134837ff0f7b7aabc.jpg  \n",
            " extracting: valid/Navid_173_jpg.rf.ffe56fa028b4979ccf83211ca81ee337.jpg  \n",
            " extracting: valid/Navid_180_jpg.rf.ed2091a08af39bf570d1c9850618bd1c.jpg  \n",
            " extracting: valid/Navid_186_jpg.rf.9ec73d30cb7451251392d9ead9e7efc4.jpg  \n",
            " extracting: valid/Navid_197_jpg.rf.c95289539048f2534308a859efd1cad6.jpg  \n",
            " extracting: valid/Navid_19_jpg.rf.b4d166491a45a7eecf4fe06b1652f3a0.jpg  \n",
            " extracting: valid/Navid_202_jpg.rf.bec4844f7e0b1d225608b276972de558.jpg  \n",
            " extracting: valid/Navid_203_jpg.rf.e02a45ad6bb37c550c0ab209da01484b.jpg  \n",
            " extracting: valid/Navid_209_jpg.rf.e8b5ec8777af5247161c7277b8d0c9b0.jpg  \n",
            " extracting: valid/Navid_214_jpg.rf.c543fc67d790751abecb7a8627e21391.jpg  \n",
            " extracting: valid/Navid_218_jpg.rf.9e06d241aa64af9df883dcc54c817795.jpg  \n",
            " extracting: valid/Navid_21_jpg.rf.f704e6f1a02439cdd1076bc118adb361.jpg  \n",
            " extracting: valid/Navid_22_jpg.rf.2a84b7daf16ce8ea6eed7026bbb2819a.jpg  \n",
            " extracting: valid/Navid_234_jpg.rf.0461b275dc7c3d6bb73a874679f503e2.jpg  \n",
            " extracting: valid/Navid_235_jpg.rf.45586265806115df04ccf023f29d70a9.jpg  \n",
            " extracting: valid/Navid_241_jpg.rf.7bf6bb53ac04fc84ba078d4730f25c07.jpg  \n",
            " extracting: valid/Navid_249_jpg.rf.fb325d0737a5d0ec26b9cc663781ea7f.jpg  \n",
            " extracting: valid/Navid_251_jpg.rf.57ad28fad50785ca1b9200446a1f2baf.jpg  \n",
            " extracting: valid/Navid_257_jpg.rf.4369f52e4360fac8c32a00f00a74fb04.jpg  \n",
            " extracting: valid/Navid_270_jpg.rf.cccf480592c2ae051c266aa88bb63cdb.jpg  \n",
            " extracting: valid/Navid_278_jpg.rf.3c096ffc9aeb4acd2fadf82f594e94a1.jpg  \n",
            " extracting: valid/Navid_282_jpg.rf.91db91991e605b1b0768d5a99d0154f9.jpg  \n",
            " extracting: valid/Navid_299_jpg.rf.dc47bf3c02699b6b1efd16de3f2a1f1b.jpg  \n",
            " extracting: valid/Navid_29_jpg.rf.024374a903a185dd39709fac6b6e90f8.jpg  \n",
            " extracting: valid/Navid_305_jpg.rf.34946b154b5b1bd5ce8646bc34ba6876.jpg  \n",
            " extracting: valid/Navid_310_jpg.rf.c2b9605d2ba89a87f405ec40d4141167.jpg  \n",
            " extracting: valid/Navid_312_jpg.rf.83337aacfe3a3a78ef4bdf0aa93dbeb9.jpg  \n",
            " extracting: valid/Navid_315_jpg.rf.e2b7e4859779fc2fb2102f2179ca81a2.jpg  \n",
            " extracting: valid/Navid_319_jpg.rf.9272d9be83f30f59ababc04ec2d1388b.jpg  \n",
            " extracting: valid/Navid_322_jpg.rf.eeb2722427ee563187fadcf8d77565f3.jpg  \n",
            " extracting: valid/Navid_349_jpg.rf.46a20827b2d34326799d1844a8fa1eab.jpg  \n",
            " extracting: valid/Navid_353_JPG.rf.95e9910fd945b80ae10cd0409f322d52.jpg  \n",
            " extracting: valid/Navid_354_JPG.rf.b1b770a84b03b5a33cd7ce6f372fba21.jpg  \n",
            " extracting: valid/Navid_358_jpg.rf.20ee59c847bf723c187b2f9361dea5b2.jpg  \n",
            " extracting: valid/Navid_366_jpg.rf.2c916e6f0d6b8de6b74cbc262ed3641b.jpg  \n",
            " extracting: valid/Navid_386_jpg.rf.72f53a5467f346bb5ba6d8bdf36bcc42.jpg  \n",
            " extracting: valid/Navid_388_jpg.rf.12eae51c01e6cb7238eec55dd4edc836.jpg  \n",
            " extracting: valid/Navid_399_jpg.rf.9d486f3e077ab6c21a0bdb360a252429.jpg  \n",
            " extracting: valid/Navid_411_jpg.rf.a65aa12db112ea54a46153708a373cb2.jpg  \n",
            " extracting: valid/Navid_417_jpg.rf.c2b4fa5a4cb5ca1b706340aed90bd236.jpg  \n",
            " extracting: valid/Navid_423_jpg.rf.d1acfb5d0f04356572f1f8f35be44d9b.jpg  \n",
            " extracting: valid/Navid_424_jpg.rf.d3be9e7a3b20425bbedcc0eb1077d4a1.jpg  \n",
            " extracting: valid/Navid_425_jpg.rf.71431352a74cf2c486b3a3d5a2266558.jpg  \n",
            " extracting: valid/Navid_428_jpg.rf.f2870ca3b5b2c6c2f95dfa90fef13c63.jpg  \n",
            " extracting: valid/Navid_42_jpg.rf.14c7f7cf054522f64c1965b164a12d9d.jpg  \n",
            " extracting: valid/Navid_433_jpg.rf.5bad0aa04d1ca65513dd17921e3fd768.jpg  \n",
            " extracting: valid/Navid_434_jpg.rf.c4d4e21b4d2be684364360992945b1cf.jpg  \n",
            " extracting: valid/Navid_435_jpg.rf.4ff539d65552f01b8aff7f1a8decc59a.jpg  \n",
            " extracting: valid/Navid_43_jpg.rf.6f8cd2c14d31f94824801a2e7fd3a7f7.jpg  \n",
            " extracting: valid/Navid_446_jpg.rf.72e7eb4c9cddb4207b037755899b33dc.jpg  \n",
            " extracting: valid/Navid_447_jpg.rf.bd482a68c8bc6bb2031d8d04e1340455.jpg  \n",
            " extracting: valid/Navid_462_jpg.rf.dd8acfad41110bc89cc2720f97c4e4e6.jpg  \n",
            " extracting: valid/Navid_464_jpg.rf.390caad0160c7ce2a8e0abdb75be632b.jpg  \n",
            " extracting: valid/Navid_465_jpg.rf.a7f7629f046e2e1bae53f3035cfe97c1.jpg  \n",
            " extracting: valid/Navid_46_jpg.rf.6375e47d082398f97b4be98580d377aa.jpg  \n",
            " extracting: valid/Navid_471_jpg.rf.e9db07567bef5faa44a38749ea315fe1.jpg  \n",
            " extracting: valid/Navid_479_jpg.rf.b62af94363e3d7e16901c8145f49cfc8.jpg  \n",
            " extracting: valid/Navid_480_jpg.rf.027d53a710cbda0bd7c1c1b53a19b9f2.jpg  \n",
            " extracting: valid/Navid_486_jpg.rf.a0b6255f70af115b863ca9415ee34def.jpg  \n",
            " extracting: valid/Navid_487_jpg.rf.6658f52096c5f0d7ea3b6769479c2f6a.jpg  \n",
            " extracting: valid/Navid_489_jpg.rf.d219e9bef47886322e548de085a700f2.jpg  \n",
            " extracting: valid/Navid_493_jpg.rf.ddd41192beb4cf5116e261bc33b2df4a.jpg  \n",
            " extracting: valid/Navid_502_jpg.rf.3b102f204279cb8b008f41ddb8ceaf2b.jpg  \n",
            " extracting: valid/Navid_506_jpg.rf.de9fe53acaf3785e57b26b9c6c5a648a.jpg  \n",
            " extracting: valid/Navid_508_jpg.rf.85e0d08fe8e13d40f5ef423912d3f3c1.jpg  \n",
            " extracting: valid/Navid_509_jpg.rf.87cfefb1fccba7784a07780fea1d82e1.jpg  \n",
            " extracting: valid/Navid_520_jpg.rf.0f273254d15c8f251c809b831598d744.jpg  \n",
            " extracting: valid/Navid_521_jpg.rf.b24af2a0e599f03f11bba0e6a1aabf8b.jpg  \n",
            " extracting: valid/Navid_530_jpg.rf.6c3d122845257cc2e333052f9f43707b.jpg  \n",
            " extracting: valid/Navid_538_jpg.rf.1792bbd2c1c60a15a0ddd9a0b2ea143c.jpg  \n",
            " extracting: valid/Navid_539_jpg.rf.a30221b215f27b9dfa22df11238dd346.jpg  \n",
            " extracting: valid/Navid_540_jpg.rf.df25d4c225f70bc971838d18d3fe4902.jpg  \n",
            " extracting: valid/Navid_549_jpg.rf.97aecf98acdb486a6662e9145b6ff532.jpg  \n",
            " extracting: valid/Navid_556_jpg.rf.ae9293f746abc22eabe58e4a4b50d766.jpg  \n",
            " extracting: valid/Navid_557_jpg.rf.33ff6ddc03ba4decf94e1af67319297d.jpg  \n",
            " extracting: valid/Navid_561_jpg.rf.70d85fa5b30f32bcbb2732ab4f4b0a23.jpg  \n",
            " extracting: valid/Navid_578_JPG.rf.7d45dfbf337784681d799252105cc074.jpg  \n",
            " extracting: valid/Navid_585_JPG.rf.0e221a38fd0e4cd9a74e28c4560b40b8.jpg  \n",
            " extracting: valid/Navid_599_JPG.rf.87870ed75593cc82756ac4e01978eecf.jpg  \n",
            " extracting: valid/Navid_603_JPG.rf.3cc43e081627dbc9df9507a06e48fc71.jpg  \n",
            " extracting: valid/Navid_609_JPG.rf.d032c315f8c8094e92989ff19514fc30.jpg  \n",
            " extracting: valid/Navid_618_JPG.rf.e85409d0baf553833af7e71377726ef4.jpg  \n",
            " extracting: valid/Navid_61_jpg.rf.c53d9a557dc4a97c76c5984e7cebdd1e.jpg  \n",
            " extracting: valid/Navid_626_JPG.rf.dd974f2a3839adc0906dc0db9858a392.jpg  \n",
            " extracting: valid/Navid_632_JPG.rf.5030229a7d85d1ca38829ff0c5e1cd12.jpg  \n",
            " extracting: valid/Navid_641_JPG.rf.2a6597c7b43d7fb4748b6c5428721a2c.jpg  \n",
            " extracting: valid/Navid_656_JPG.rf.330c5f1e3bbe79ae38b98e062446c436.jpg  \n",
            " extracting: valid/Navid_663_jpg.rf.10a0a92c03af0b96a5c2ad10f1eb1a6e.jpg  \n",
            " extracting: valid/Navid_665_jpg.rf.4f26df1830da778e8a55e46b54219089.jpg  \n",
            " extracting: valid/Navid_666_jpg.rf.bad4601c7bb6e6852a7e7ddf5ca627b6.jpg  \n",
            " extracting: valid/Navid_670_jpg.rf.01c1ec04666c6367b4f070f4e6b9e369.jpg  \n",
            " extracting: valid/Navid_676_jpg.rf.9933f8a8367640fe5b097dba24934d12.jpg  \n",
            " extracting: valid/Navid_680_jpg.rf.896574200f376e9fe675771da7e68bca.jpg  \n",
            " extracting: valid/Navid_685_jpg.rf.297b7de7101d913d249c52b1361e6be7.jpg  \n",
            " extracting: valid/Navid_698_jpg.rf.3c800b1e5a17f679c7293882b6dfa435.jpg  \n",
            " extracting: valid/Navid_704_jpg.rf.c73b8d64d3d566a7ea1fa6a9ea4ed40c.jpg  \n",
            " extracting: valid/Navid_709_jpg.rf.b265fbf7700a10a983affe834b953a0c.jpg  \n",
            " extracting: valid/Navid_70_jpg.rf.fc98aa578adb4cdd89d9516d07fa936b.jpg  \n",
            " extracting: valid/Navid_711_jpg.rf.19cb8122de3f339c6609550637949372.jpg  \n",
            " extracting: valid/Navid_721_jpg.rf.6f1a7541d640d2ea78a195e6dac80945.jpg  \n",
            " extracting: valid/Navid_725_jpg.rf.fb89a5d2766c46f500393b47852ccac5.jpg  \n",
            " extracting: valid/Navid_736_jpg.rf.10b007d396803b8e6dadb325f51cade1.jpg  \n",
            " extracting: valid/Navid_73_jpg.rf.829d74940325b6aecb2b7afc6ea092e5.jpg  \n",
            " extracting: valid/Navid_741_jpg.rf.36fc68aa511b3e4be4929772833d8c41.jpg  \n",
            " extracting: valid/Navid_745_jpg.rf.c5e8f957c913f60566d0f0c806a42725.jpg  \n",
            " extracting: valid/Navid_763_jpg.rf.32011303d856289cb75699ed35623c7e.jpg  \n",
            " extracting: valid/Navid_771_jpg.rf.a6527f6493db47680acebb27f0535e43.jpg  \n",
            " extracting: valid/Navid_77_jpg.rf.4278a0ab899a2b3535add9a7f6ad876a.jpg  \n",
            " extracting: valid/Navid_780_jpg.rf.b64b215dc0b71c27634eced42fc77380.jpg  \n",
            " extracting: valid/Navid_781_jpg.rf.be93b35c33b68eb4bc9687473e5f91f6.jpg  \n",
            " extracting: valid/Navid_784_jpg.rf.80fc283bd3fcc45d7583498c40856812.jpg  \n",
            " extracting: valid/Navid_785_jpg.rf.b5c81c2772ee4a95ea1e5f46094fafa0.jpg  \n",
            " extracting: valid/Navid_787_jpg.rf.0e7873b430d9a5bfbc435cd76b30b1d1.jpg  \n",
            " extracting: valid/Navid_798_jpg.rf.71838e79b629c37acd5bc5c77cbcca02.jpg  \n",
            " extracting: valid/Navid_799_jpg.rf.a4aa627615fd95dfbf89f3b887c2e3c4.jpg  \n",
            " extracting: valid/Navid_804_jpg.rf.08218c8f015f26ded47050ea25389921.jpg  \n",
            " extracting: valid/Navid_80_jpg.rf.38022a934dc1a4fafcbe9fa8345b89af.jpg  \n",
            " extracting: valid/Navid_82_jpg.rf.2ecaf5c2cd012a7384d7c71ee452026d.jpg  \n",
            " extracting: valid/Navid_91_jpg.rf.8fa228c532515616afd6c1547b8c1884.jpg  \n",
            " extracting: valid/Navid_93_jpg.rf.05d2a3428c6bafcef726bb5883d13b76.jpg  \n",
            " extracting: valid/Navid_96_jpg.rf.9fa711567c5671062f1ff964f649d7cc.jpg  \n",
            " extracting: valid/Numan_ (11)_jpg.rf.92c7070799d3e6e45f87e1d5668d43a4.jpg  \n",
            " extracting: valid/Numan_ (12)_jpg.rf.b954dfe3d69c2ddc66bcfc33b52c2484.jpg  \n",
            " extracting: valid/Numan_ (13)_jpg.rf.82989509135e75e858fe7e546a7d3dd5.jpg  \n",
            " extracting: valid/Numan_ (14)_jpg.rf.11967172a09887ab183590cdac4515cd.jpg  \n",
            " extracting: valid/Numan_ (19)_jpg.rf.8a9a661dc09e7d5b5740d47a6951b8c6.jpg  \n",
            " extracting: valid/Numan_ (20)_jpg.rf.1882f7c144095e043f6d96698e9d663a.jpg  \n",
            " extracting: valid/Numan_ (21)_jpg.rf.7027e386d18f2ff89f5f8a6591f19e72.jpg  \n",
            " extracting: valid/Numan_ (24)_jpg.rf.a3c105a20227731ee766b826cc92b0ad.jpg  \n",
            " extracting: valid/Numan_ (26)_jpg.rf.41717473b36d295030128596e85e287e.jpg  \n",
            " extracting: valid/Numan_ (30)_jpg.rf.14b34b83912f4aa11daba39f5379c15c.jpg  \n",
            " extracting: valid/Numan_ (5)_jpg.rf.2b83c6f7d3eb0e814fabec831ac531ed.jpg  \n",
            " extracting: valid/Numan_ (7)_jpg.rf.6616c981cd0de11f7048dec27dfe2afe.jpg  \n",
            " extracting: valid/Numan_ (9)_jpg.rf.42e812d29b889b5f843001ad068224ad.jpg  \n",
            " extracting: valid/Numan_(107)_jpg.rf.6feb7432e38b8d09c720e3bbd434fb9f.jpg  \n",
            " extracting: valid/Numan_(111)_jpg.rf.f33e14cddb9662f1ac8730bd9ed1ec6c.jpg  \n",
            " extracting: valid/Numan_(115)_jpg.rf.daa873ffa8cd4a05f1ad6ffffb93d941.jpg  \n",
            " extracting: valid/Numan_(131)_jpg.rf.0ed41d237a21ee989da53ad9cb098ddf.jpg  \n",
            " extracting: valid/Numan_(137)_jpg.rf.ec705c92dfa3d16a61b0666ba618a3f8.jpg  \n",
            " extracting: valid/Numan_(144)_jpg.rf.669e9c733fa1724b663f270ddef2d633.jpg  \n",
            " extracting: valid/Numan_(152)_jpg.rf.76b9d2f5b7b24fb77ef4337b06f850d4.jpg  \n",
            " extracting: valid/Numan_(157)_jpg.rf.24bed5ba1aeed5be169f524d5ded24ca.jpg  \n",
            " extracting: valid/Numan_(159)_jpg.rf.99d6c327feaa0bce275df4ee5e7b1c3b.jpg  \n",
            " extracting: valid/Numan_(166)_jpg.rf.e1bd0b3d824abbffe5cebd57bb849438.jpg  \n",
            " extracting: valid/Numan_(174)_jpg.rf.a5ab1fefcc8484f136d6df259ec6fa6a.jpg  \n",
            " extracting: valid/Numan_(180)_jpg.rf.94b7252dcf6d048e89a8ccffa3566c94.jpg  \n",
            " extracting: valid/Numan_(183)_jpg.rf.08dd5f03a4aeb21e26d477a58b9e65e9.jpg  \n",
            " extracting: valid/Numan_(189)_jpg.rf.6d780d1f62b4fdafdf265d8b439df4cb.jpg  \n",
            " extracting: valid/Numan_(211)_jpg.rf.048151e4044a6e3dedfe126ada31d9f3.jpg  \n",
            " extracting: valid/Numan_(215)_jpg.rf.faecdbe0c4b7208d19d7b7474df5dd4a.jpg  \n",
            " extracting: valid/Numan_(219)_jpg.rf.8400aa73d76f545d358226bb0ad9d4e3.jpg  \n",
            " extracting: valid/Numan_(224)_jpg.rf.c8706b30948a4bf63dfb2b23b4e4845d.jpg  \n",
            " extracting: valid/Numan_(230)_jpg.rf.80deac89b89860eddedb0c7fb16d4b9f.jpg  \n",
            " extracting: valid/Numan_(238)_jpg.rf.93f7f9bbce7fc811058c7e107be95b7a.jpg  \n",
            " extracting: valid/Numan_(245)_jpg.rf.90bd00ba97f50a376453006c41348a65.jpg  \n",
            " extracting: valid/Numan_(250)_jpg.rf.254ee93c137ea58ea50ea4317859203e.jpg  \n",
            " extracting: valid/Numan_(251)_jpg.rf.ea67b67a3a93baf8ec934dfa4e49722d.jpg  \n",
            " extracting: valid/Numan_(254)_jpg.rf.fb67cf262db8fea63f89232df41f873f.jpg  \n",
            " extracting: valid/Numan_(259)_jpg.rf.79e44118456a66e307652aee00f9db4e.jpg  \n",
            " extracting: valid/Numan_(268)_jpg.rf.50ca4e7fbf5fe6fbd268e193bd681c19.jpg  \n",
            " extracting: valid/Numan_(274)_jpg.rf.92658e9660f6a48d265f9c006b116d3d.jpg  \n",
            " extracting: valid/Numan_(276)_jpg.rf.1032289c553b77226e89978b7b4de412.jpg  \n",
            " extracting: valid/Numan_(277)_jpg.rf.6ac9c1a18f2647129ebdd3214a3a3e1f.jpg  \n",
            " extracting: valid/Numan_(279)_jpg.rf.61fa70b30735d7aeb257752c87cfccc5.jpg  \n",
            " extracting: valid/Numan_(284)_jpg.rf.33c2d9144762ce9a3f62f9cbd3a406ca.jpg  \n",
            " extracting: valid/Numan_(294)_JPG.rf.0290afff2e2ff7207a965fe3be2cc754.jpg  \n",
            " extracting: valid/Numan_(299)_JPG.rf.f4e7185554d1b035d1cd304000a4fc27.jpg  \n",
            " extracting: valid/Numan_(303)_JPG.rf.0bcd2fc227283e47cad35dfccd8c9197.jpg  \n",
            " extracting: valid/Numan_(317)_jpg.rf.1833207dcc7de1c168da76c8a7b2f374.jpg  \n",
            " extracting: valid/Numan_(320)_jpg.rf.563620be729dde729bc38d4fdd4e68a7.jpg  \n",
            " extracting: valid/Numan_(321)_jpg.rf.24391366ac3c28f1cdd35548bf267b76.jpg  \n",
            " extracting: valid/Numan_(331)_jpg.rf.79b64f0053c74c6e037061c766138118.jpg  \n",
            " extracting: valid/Numan_(335)_jpg.rf.44464251857ccab3cb5393247e204cd7.jpg  \n",
            " extracting: valid/Numan_(341)_jpg.rf.2587e83d957ab64122f7ef6d4cac6c4a.jpg  \n",
            " extracting: valid/Numan_(355)_jpg.rf.fa93ee8312783c291c30166a51602428.jpg  \n",
            " extracting: valid/Numan_(358)_jpg.rf.9b6e63c9d8e9f1992cd92f53c8842ba4.jpg  \n",
            " extracting: valid/Numan_(360)_jpg.rf.4e288bbca5f2020133ad6a02f1768a4b.jpg  \n",
            " extracting: valid/Numan_(361)_jpg.rf.22577d6110d608e47c9129651e5fa1c2.jpg  \n",
            " extracting: valid/Numan_(366)_jpg.rf.69292a6bbacf2080b198da05ae28c6c9.jpg  \n",
            " extracting: valid/Numan_(370)_jpg.rf.b16ddfe4f132ae6c061ceacd9890a015.jpg  \n",
            " extracting: valid/Numan_(372)_jpg.rf.bfc811cc399c730c6f217653f24da48e.jpg  \n",
            " extracting: valid/Numan_(374)_jpg.rf.f7495efdada724b0048e0e2dd9be0ff0.jpg  \n",
            " extracting: valid/Numan_(377)_jpg.rf.d7539ede10b15ae29bf9aa6b7ea81c9f.jpg  \n",
            " extracting: valid/Numan_(381)_jpg.rf.26f584a4be6baf35a6b56a64750b422f.jpg  \n",
            " extracting: valid/Numan_(386)_jpg.rf.fcd236d4e8ecac365ecbdc57ccba5004.jpg  \n",
            " extracting: valid/Numan_(398)_jpg.rf.fbd246a5c4fa69f69cc4509f161465c8.jpg  \n",
            " extracting: valid/Numan_(403)_jpg.rf.13428b2c63a0bc120146ab7f8f3bffdf.jpg  \n",
            " extracting: valid/Numan_(409)_jpg.rf.bfe0459e5124c018a18acf29dfd86df6.jpg  \n",
            " extracting: valid/Numan_(427)_jpg.rf.07de84aaabe953c191da8bdb3f39b7e6.jpg  \n",
            " extracting: valid/Numan_(431)_jpg.rf.314a86ffd6fdd2c573a4fe977f7dc70d.jpg  \n",
            " extracting: valid/Numan_(437)_jpg.rf.ffa71c531128555bf6d62e9e88cf2601.jpg  \n",
            " extracting: valid/Numan_(438)_jpg.rf.a3f7072b5f7b4a287488e097d2aed4bf.jpg  \n",
            " extracting: valid/Numan_(44)_jpg.rf.935e897aef885d37e13f8194fb4cba44.jpg  \n",
            " extracting: valid/Numan_(444)_jpg.rf.6cd41ee2b2f18825467add311a3da3ba.jpg  \n",
            " extracting: valid/Numan_(450)_jpg.rf.41f5b5b8cfe5fe5939b93204b7184ec3.jpg  \n",
            " extracting: valid/Numan_(453)_jpg.rf.91d5046b537bed73810ff1106afba5b8.jpg  \n",
            " extracting: valid/Numan_(454)_jpg.rf.eda24d45ab82d5d846de34b32a0c9d27.jpg  \n",
            " extracting: valid/Numan_(46)_jpg.rf.019712f2c22ac11f330bbff5f9425a95.jpg  \n",
            " extracting: valid/Numan_(464)_jpg.rf.973415d1475c409a49e8925e4f929fc9.jpg  \n",
            " extracting: valid/Numan_(471)_jpg.rf.7e0b8a65026b527f79ad31b6ac5de166.jpg  \n",
            " extracting: valid/Numan_(474)_jpg.rf.492010a970e36be4c77a1474ab253244.jpg  \n",
            " extracting: valid/Numan_(483)_jpg.rf.3a3e065c8a071421aca834ed58197fd0.jpg  \n",
            " extracting: valid/Numan_(484)_jpg.rf.3b6e1dd2e869078c73610f976677b3a1.jpg  \n",
            " extracting: valid/Numan_(49)_jpg.rf.101d7b57c20ac15d3ac9c43a7ad455f0.jpg  \n",
            " extracting: valid/Numan_(493)_jpg.rf.7ff09512f2577222f935683ed1e0a474.jpg  \n",
            " extracting: valid/Numan_(494)_jpg.rf.c2b215f5927b088d10b12ff6226c9b10.jpg  \n",
            " extracting: valid/Numan_(499)_jpg.rf.4930e7d4cbdf45c5d42d05145ebd9d70.jpg  \n",
            " extracting: valid/Numan_(500)_jpg.rf.f36901ce7e685b428dc9778af5ba3cf7.jpg  \n",
            " extracting: valid/Numan_(51)_jpg.rf.b38eef94a058ea4086fe7d39b92cf8a2.jpg  \n",
            " extracting: valid/Numan_(54)_jpg.rf.74acb17774447147b09e87e4b7d59f50.jpg  \n",
            " extracting: valid/Numan_(59)_jpg.rf.a544f1086bfb0a0951439dafe79fe0f4.jpg  \n",
            " extracting: valid/Numan_(74)_jpg.rf.0407f0d47788cf67b7b38b334b3b3734.jpg  \n",
            " extracting: valid/Numan_(75)_jpg.rf.226e7de0b959876f38f4c25d3913008d.jpg  \n",
            " extracting: valid/Numan_(80)_jpg.rf.fc76e7964b84d2b8c03704fa516e9830.jpg  \n",
            " extracting: valid/Numan_(85)_jpg.rf.ea22263bb7ba1cfae8a012c297b1cbd5.jpg  \n",
            " extracting: valid/Numan_(92)_jpg.rf.3039cdf3a2150111b692f363a65d958e.jpg  \n",
            " extracting: valid/Pias (102)_jpg.rf.d45522d508096512802e68950f1c4af3.jpg  \n",
            " extracting: valid/Pias (104)_jpg.rf.095d7bcc22343b742d089cf64f193a5b.jpg  \n",
            " extracting: valid/Pias (112)_jpg.rf.ad349c9f1fe52c6aa25fd0955689de7c.jpg  \n",
            " extracting: valid/Pias (116)_jpg.rf.e5eb423e378cde8b7eeb5af6c5f37f1a.jpg  \n",
            " extracting: valid/Pias (117)_jpg.rf.0e63a3310934f94113c66f864f699a44.jpg  \n",
            " extracting: valid/Pias (119)_jpg.rf.7ac2273a271687d8134f201a858e6301.jpg  \n",
            " extracting: valid/Pias (12)_jpg.rf.7f4a4d20a1d4cd372fbd6fdac6b6b353.jpg  \n",
            " extracting: valid/Pias (14)_jpg.rf.b48a5bee0d7afcc3a80f3b6ad62ca9da.jpg  \n",
            " extracting: valid/Pias (145)_jpg.rf.5cfa3660c0a9830fdcb406bbd4af4d45.jpg  \n",
            " extracting: valid/Pias (156)_jpg.rf.a3cd41057ba443125bd857960951ce73.jpg  \n",
            " extracting: valid/Pias (157)_jpg.rf.1eb612882d7c0bea29e84b5725953923.jpg  \n",
            " extracting: valid/Pias (159)_jpg.rf.61120995c1c3d2e3f5b313a05a44c152.jpg  \n",
            " extracting: valid/Pias (17)_jpg.rf.5c3835d7a1774649617158a55386a3d8.jpg  \n",
            " extracting: valid/Pias (183)_jpg.rf.92ed714edf0da4ef3ca720457977e34c.jpg  \n",
            " extracting: valid/Pias (19)_jpg.rf.8a052bc5352e2d7aeea0af824a8a3fc6.jpg  \n",
            " extracting: valid/Pias (191)_jpg.rf.16ffff1326cb4162d6c5a3a83e309803.jpg  \n",
            " extracting: valid/Pias (194)_jpg.rf.3fb83065182a28467ce7ec641bf67d53.jpg  \n",
            " extracting: valid/Pias (2)_jpg.rf.f516127a9b7207751d28d337697d90ee.jpg  \n",
            " extracting: valid/Pias (203)_jpg.rf.8858e1d717a7e3b6dee01c53d02bae78.jpg  \n",
            " extracting: valid/Pias (205)_jpg.rf.df6a2adfeae13a00589c70a381037da5.jpg  \n",
            " extracting: valid/Pias (211)_jpg.rf.db6854e5ee1b6e44fca73b14c9b65c7d.jpg  \n",
            " extracting: valid/Pias (214)_jpg.rf.a83c2aef281c1d0bfa7bfaac10687f17.jpg  \n",
            " extracting: valid/Pias (22)_jpg.rf.51cec217c847281359335eb7b0d22bf8.jpg  \n",
            " extracting: valid/Pias (229)_jpg.rf.bedab67c713366c977e4411a25813e38.jpg  \n",
            " extracting: valid/Pias (23)_jpg.rf.bfd9969d01b406fd25b363297b547b01.jpg  \n",
            " extracting: valid/Pias (239)_jpg.rf.aec518c6af2f541438a01c62727dafaa.jpg  \n",
            " extracting: valid/Pias (242)_jpg.rf.5c8f8356036c2fc283013581eed7bf60.jpg  \n",
            " extracting: valid/Pias (243)_jpg.rf.d6702746ec6dec7f8189542a06753ae6.jpg  \n",
            " extracting: valid/Pias (249)_jpg.rf.6df0a574d97c5055d38eab087233bd7b.jpg  \n",
            " extracting: valid/Pias (255)_jpg.rf.10b5d1f0f89327385804f1cdaf89f33f.jpg  \n",
            " extracting: valid/Pias (260)_jpg.rf.8ee689ac473a04665a2419265e5aabcc.jpg  \n",
            " extracting: valid/Pias (261)_jpg.rf.c9f8dbb0bf03f1d9278c0f6babab9672.jpg  \n",
            " extracting: valid/Pias (267)_jpg.rf.15748fa1ecbd47f191c8c77f9042db1e.jpg  \n",
            " extracting: valid/Pias (268)_jpg.rf.abe182352bdc714b19d0be80b4825d1e.jpg  \n",
            " extracting: valid/Pias (270)_jpg.rf.a63521c52c41d79621dd54996dcec69f.jpg  \n",
            " extracting: valid/Pias (274)_jpg.rf.e67ee94b1cb671b9411ce6ff0f429e98.jpg  \n",
            " extracting: valid/Pias (279)_jpg.rf.38b4f58aaec2db57e22742c349f42ce1.jpg  \n",
            " extracting: valid/Pias (282)_jpg.rf.07e9a619c8dce5b907051a1ecc343c9e.jpg  \n",
            " extracting: valid/Pias (286)_jpg.rf.5ebf3eec34c7bfd02253a8dc1a166252.jpg  \n",
            " extracting: valid/Pias (294)_jpg.rf.09aabe497ab0d931859bbf3aeecea630.jpg  \n",
            " extracting: valid/Pias (299)_jpg.rf.be61c794b3830f3b1d8954a0f207ccf6.jpg  \n",
            " extracting: valid/Pias (303)_jpg.rf.566f6ca9dd6eda8b02430afdd96708e0.jpg  \n",
            " extracting: valid/Pias (305)_jpg.rf.b2f3206b28b2ba926e0a8df85342edf7.jpg  \n",
            " extracting: valid/Pias (312)_jpg.rf.844cb4240f4c2f7a44ce25d8b1c8e13a.jpg  \n",
            " extracting: valid/Pias (314)_jpg.rf.8c839411e783fea0e4e0ddb245daea65.jpg  \n",
            " extracting: valid/Pias (32)_jpg.rf.5dcbf4e1b5ba3d072ce37f62c15d9beb.jpg  \n",
            " extracting: valid/Pias (329)_jpg.rf.db3be33f06bd483eccddb367c0dd44ba.jpg  \n",
            " extracting: valid/Pias (331)_jpg.rf.6a5071f2599c5e7c15b1a2e3b5c44cf4.jpg  \n",
            " extracting: valid/Pias (334)_jpg.rf.e34d546ab2e396366c6edb66e7ce3763.jpg  \n",
            " extracting: valid/Pias (343)_jpg.rf.7b9cd6cfdc63974d7025228ff85cf4ba.jpg  \n",
            " extracting: valid/Pias (346)_jpg.rf.fce519ef72b2b175cf41c084bb6952eb.jpg  \n",
            " extracting: valid/Pias (353)_jpg.rf.e385eccdb32f8c96b93572239b15b48b.jpg  \n",
            " extracting: valid/Pias (356)_jpg.rf.7a3e0583e78b524b93619da1c72c4bfd.jpg  \n",
            " extracting: valid/Pias (362)_jpg.rf.5c61e7c62b883974030d314822d2662e.jpg  \n",
            " extracting: valid/Pias (364)_jpg.rf.2db572db0a0ee7865df75692ca89283b.jpg  \n",
            " extracting: valid/Pias (366)_jpg.rf.e587733c08478136c752d3440450716b.jpg  \n",
            " extracting: valid/Pias (370)_jpg.rf.82b6b27df08de68473755069d2448c30.jpg  \n",
            " extracting: valid/Pias (373)_jpg.rf.e2251a2c5154b85d228678786c455bd5.jpg  \n",
            " extracting: valid/Pias (389)_jpg.rf.fc6ef137cd9e57c6b130c08f5fc82e4d.jpg  \n",
            " extracting: valid/Pias (397)_jpg.rf.acb324244d244062353faba32b7df954.jpg  \n",
            " extracting: valid/Pias (398)_jpg.rf.7c854c925520152f68dde2cc0b08de7a.jpg  \n",
            " extracting: valid/Pias (4)_jpg.rf.72d8b29db8efe4041b841a0bcbe9084b.jpg  \n",
            " extracting: valid/Pias (406)_jpg.rf.ced88b76d41643d4398001f3d5ffc7f1.jpg  \n",
            " extracting: valid/Pias (411)_jpg.rf.725e5fee6bab55648016fc3a7d92f2c3.jpg  \n",
            " extracting: valid/Pias (414)_jpg.rf.5b387e584b7d9afcbe38f1de26812cd7.jpg  \n",
            " extracting: valid/Pias (421)_jpg.rf.b6d9639f7aab2f3f4708eed1b02eb0e1.jpg  \n",
            " extracting: valid/Pias (424)_jpg.rf.f4d04d6e61b2cc7592be14b242cb0b80.jpg  \n",
            " extracting: valid/Pias (427)_jpg.rf.551653ea933f5f94522fda0142f5c0bb.jpg  \n",
            " extracting: valid/Pias (43)_jpg.rf.5f4001688ef2693f265d421fdfae539d.jpg  \n",
            " extracting: valid/Pias (434)_jpg.rf.411685719092ab27c83a001829a455a5.jpg  \n",
            " extracting: valid/Pias (437)_jpg.rf.4ef17e54ac128e33bd80a3c3006e1d70.jpg  \n",
            " extracting: valid/Pias (438)_jpg.rf.23c35a5be66fe03b9f332cf05e79ed9c.jpg  \n",
            " extracting: valid/Pias (44)_jpg.rf.c3ba822aafe025655116d117b1d7b36f.jpg  \n",
            " extracting: valid/Pias (442)_jpg.rf.994420f0185f19e9df9f95ab87c68a65.jpg  \n",
            " extracting: valid/Pias (446)_jpg.rf.880382df3fd0a330da6fbbd98ca0ac12.jpg  \n",
            " extracting: valid/Pias (448)_jpg.rf.49c58dd492fad44f79bc0f85fa970ced.jpg  \n",
            " extracting: valid/Pias (453)_jpg.rf.4306812d2bbb43d35e400d92cf53ad15.jpg  \n",
            " extracting: valid/Pias (454)_jpg.rf.61ed0eb5fb5de978d43678e633333683.jpg  \n",
            " extracting: valid/Pias (46)_jpg.rf.a2fe0a46cd361fb84e7a00341b957d9d.jpg  \n",
            " extracting: valid/Pias (460)_jpg.rf.cc374198fe1a1d848a15eeb241b90d52.jpg  \n",
            " extracting: valid/Pias (462)_jpg.rf.5da40a6bf9e21bbc6cf2e8dc7f230cb3.jpg  \n",
            " extracting: valid/Pias (471)_jpg.rf.8551bfdbe7e22cebe56c018c2658a8b0.jpg  \n",
            " extracting: valid/Pias (473)_jpg.rf.be6a6fd14854b4d5782173d244a3e535.jpg  \n",
            " extracting: valid/Pias (480)_jpg.rf.f7f767fead6825cdebd62871ec218081.jpg  \n",
            " extracting: valid/Pias (483)_jpg.rf.3ca85ccf30f1e3f0d619e3f098d1f8b4.jpg  \n",
            " extracting: valid/Pias (485)_jpg.rf.1f8e4919a2c3912b8e7dbcf52a67e9ef.jpg  \n",
            " extracting: valid/Pias (486)_jpg.rf.be89d27b988f81ff0841a30c9e918681.jpg  \n",
            " extracting: valid/Pias (488)_jpg.rf.f63db1766bbbbb47fb52bebeb6ee67a7.jpg  \n",
            " extracting: valid/Pias (5)_jpg.rf.511695ecf372c98cb16d29f54c726067.jpg  \n",
            " extracting: valid/Pias (50)_jpg.rf.bd0186f37c327e1984d39b6984def14c.jpg  \n",
            " extracting: valid/Pias (508)_jpg.rf.005e557ab2a667a5550955c7a992fbe4.jpg  \n",
            " extracting: valid/Pias (515)_jpg.rf.7ea34b1cfcf26773848e212c085769b6.jpg  \n",
            " extracting: valid/Pias (518)_jpg.rf.811988c14e59ff3228603344a0a3e4cb.jpg  \n",
            " extracting: valid/Pias (522)_jpg.rf.b592018a8ba90e9a397850d78fab7c35.jpg  \n",
            " extracting: valid/Pias (523)_jpg.rf.055442920d3c2ed4b00d58f5ac704117.jpg  \n",
            " extracting: valid/Pias (524)_jpg.rf.0c48ae7f0e53172bec3a07ab61543017.jpg  \n",
            " extracting: valid/Pias (544)_jpg.rf.787b1e8b28741e143751dab97cfdc7ac.jpg  \n",
            " extracting: valid/Pias (545)_jpg.rf.e75c65d36f61e44ea80c834ee073b37c.jpg  \n",
            " extracting: valid/Pias (55)_jpg.rf.440fbf35a6b1d32073b5ab167437fc51.jpg  \n",
            " extracting: valid/Pias (65)_jpg.rf.e6dfaf6425c884fd1be38dcf80e9445a.jpg  \n",
            " extracting: valid/Pias (73)_jpg.rf.d2f5b216f4472684681fd5d8793d3b66.jpg  \n",
            " extracting: valid/Pias (76)_jpg.rf.01c9083951d50944cf1a3737878de8e8.jpg  \n",
            " extracting: valid/Pias (85)_jpg.rf.0f684f3a8a1c5f0f878f0f0e3c7577a5.jpg  \n",
            " extracting: valid/Pias (87)_jpg.rf.defe2c5d3c36665adcd52c5136ec006a.jpg  \n",
            " extracting: valid/_annotations.coco.json  \n"
          ],
          "name": "stdout"
        }
      ]
    },
    {
      "cell_type": "code",
      "metadata": {
        "id": "nspgbsjTdSjZ"
      },
      "source": [
        "#let's take a look at our directory\n",
        "#notice the data came down in train, valid, test, splits - this is pre set during the dataset upload process\n",
        "%ls"
      ],
      "execution_count": null,
      "outputs": []
    },
    {
      "cell_type": "code",
      "metadata": {
        "colab": {
          "base_uri": "https://localhost:8080/"
        },
        "id": "4tZCaH-bdUnP",
        "outputId": "c5051ecd-d30f-4505-ca2b-b95007038846"
      },
      "source": [
        "#let's take a peak in train\n",
        "#jpg images and some coco json annotations\n",
        "%ls train"
      ],
      "execution_count": null,
      "outputs": [
        {
          "output_type": "stream",
          "text": [
            " 01_jpg.rf.1e00515689652811dba31a9c69257302.jpg\n",
            " 03_jpg.rf.17e339cc8a2fa253e40848d15c568c5a.jpg\n",
            " 04_jpg.rf.452aef3d00d9560fe5b591f8a1845fea.jpg\n",
            " 06_jpeg.rf.5a4bb3d080b2f480a709a19bcb760cb2.jpg\n",
            " 07_jpg.rf.3a3282d860139cf4b13a32d1a4e67979.jpg\n",
            " 08_jpg.rf.e7fd91c0e4e08db49d532971cd283e6a.jpg\n",
            " 101_jpg.rf.114ca6ef9492ae25ca81ec7288aaa851.jpg\n",
            " 105_jpg.rf.62b4678f801a0042b935810d762bcd23.jpg\n",
            " 107_jpg.rf.ce67f454a0429403679fb988e752826f.jpg\n",
            " 108_jpg.rf.fdf2583b7f0e307a1eb7801c3b0d4e21.jpg\n",
            " 109_jpg.rf.4040711424445249704d78ea661a9794.jpg\n",
            " 110_jpg.rf.cc2c422bdda5aa9771b320c7f25c3331.jpg\n",
            " 111_jpg.rf.5fe8e0b750b8e2c5cb470fe540ab3ab6.jpg\n",
            " 116_jpg.rf.55a8f4a6523aa4fc70caf3af59ce0a4a.jpg\n",
            " 117_jpg.rf.1dc9eac69c27935bcc9fb61a24628967.jpg\n",
            " 119_jpg.rf.781c1c261d650703ae1991b17f8a0403.jpg\n",
            " 122_jpg.rf.112a57bac883f92eaf2edc4c140ce3e8.jpg\n",
            " 123_jpg.rf.1319b1ca682da01586e68f8f1395eaf5.jpg\n",
            " 124_jpg.rf.d049d64436d9dd3e6d5577540f0a4ad7.jpg\n",
            " 125_jpg.rf.3e5d2b7ff62870578fbfe6b7b16e3a82.jpg\n",
            " 127_jpg.rf.10e52fa23296ab62e463daacc749c9d6.jpg\n",
            " 129_jpg.rf.95db19bc9543d92b41eb7894c5238efb.jpg\n",
            " 12_jpg.rf.276aa50a70e4560f9d046149fb2b2368.jpg\n",
            " 130_jpg.rf.0c0aa254184f73f23e64462649c47e05.jpg\n",
            " 131_jpg.rf.959bb5858cf5387a806c7cba3a6dd466.jpg\n",
            " 134_jpg.rf.201982535154a31cdc553786fff05273.jpg\n",
            " 135_jpg.rf.3f3dbb4ecf60407323e8fc51bcfc3baa.jpg\n",
            " 136_jpg.rf.c5c7d04e70652dfe5039957a26df2c35.jpg\n",
            " 137_jpg.rf.b7d88447ab0c580f4a2520762584c9dd.jpg\n",
            " 138_jpg.rf.b3c557255ce3f25a4b29fb18eeac0071.jpg\n",
            " 139_jpg.rf.f351214401671625544a9a74da151259.jpg\n",
            " 140_jpg.rf.cf122e9ba49656d0e6f9c397b0ef42c7.jpg\n",
            " 141_jpg.rf.58f336fb4d97b57892678c9752d55e3d.jpg\n",
            " 143_jpg.rf.c22fae671d7cdefaf1ee387f0a212347.jpg\n",
            " 144_jpg.rf.7d24b37fc8c91884c71c0b60cd24341a.jpg\n",
            " 146_jpg.rf.36763bf8432862267ab313674fcc7ae3.jpg\n",
            " 148_jpg.rf.0e185edf0b59bf1007b9492053d77efa.jpg\n",
            " 149_jpg.rf.10055a4d3ed9d119e5301f712fcf9767.jpg\n",
            " 14_jpg.rf.d869fe5ed6762cd7c6f82822200e80ba.jpg\n",
            " 150_jpg.rf.60cb23198ea593cf2dde3ea224d436b6.jpg\n",
            " 152_jpg.rf.cebe6296b7b4d769e24e8d3b7c5e7109.jpg\n",
            " 153_jpg.rf.b807b1a2d28d714c945b1e87f67fae7f.jpg\n",
            " 155_jpg.rf.24f13284b795cff5a05f5955b35c558c.jpg\n",
            " 156_jpg.rf.ca2555ba4a309546398b9f345da1aca9.jpg\n",
            " 157_jpg.rf.f2d491f8b232fae29754650a9eba61da.jpg\n",
            " 158_jpg.rf.80f91e5adcbbea8ef26dab96f0f20152.jpg\n",
            " 159_jpg.rf.a3a14fd99d2027091663dd22727748f9.jpg\n",
            " 161_jpg.rf.57f552473155e577cbb0e288da8c3e03.jpg\n",
            " 162_jpg.rf.39196547274197b095ea0adcde46076f.jpg\n",
            " 165_jpg.rf.3b544daacbc3ce14365ca50f9365eab0.jpg\n",
            " 166_jpg.rf.83e1e729329bb3163e4545fa0f66a2ee.jpg\n",
            " 167_jpg.rf.1b3574770e243abee8ad6aa218c3145a.jpg\n",
            " 168_jpg.rf.82a4876b5ce71179821da4313e82b1df.jpg\n",
            " 169_jpg.rf.f243e56bc0ee91834d17af79e5de679f.jpg\n",
            " 16_jpg.rf.22bc2651b999b790a7797853a8bcb3b8.jpg\n",
            " 170_jpg.rf.e91139d2009b13733ef17f98754852ea.jpg\n",
            " 171_jpg.rf.6dad0c30175dde54ff5eef15fb135419.jpg\n",
            " 172_jpg.rf.f5977625782de1cc7954049aff1eed89.jpg\n",
            " 174_jpg.rf.2bfa7f5c54033d57d233218900234a21.jpg\n",
            " 176_jpg.rf.8b421a8409bc2a72ff0d41e50ea0da5d.jpg\n",
            " 177_jpg.rf.3fbc0f796156da19cca3cde5b40ffed9.jpg\n",
            " 178_jpg.rf.589de49883d18114a3e012981d4cff47.jpg\n",
            " 179_jpg.rf.27bbaaee37fa51927d64eb188f20dda6.jpg\n",
            " 17_jpg.rf.57f6c2f0e0d899ab44766ef4d21f21a6.jpg\n",
            " 180_jpg.rf.5cfcdf0b5c16b868f299a67116847588.jpg\n",
            " 181_jpg.rf.ad202bcb7c162548c3c2a3c838232952.jpg\n",
            " 182_jpg.rf.6e2090f856e66657e00eff28c3caedd1.jpg\n",
            " 183_jpg.rf.8a8349ef2b26fcda5c05a83529f3b200.jpg\n",
            " 186_jpg.rf.439699642b1481683a23dfa2b86fb872.jpg\n",
            " 187_jpg.rf.65941f493da56afb14c67dd936e7204a.jpg\n",
            " 188_jpg.rf.623fd0fefdcd88534e06bc608fc7cc53.jpg\n",
            " 189_jpg.rf.823643bfa603342bd4bf807b16dc3de4.jpg\n",
            " 18_jpg.rf.85bd70c8569db4286d4ee930a409df6f.jpg\n",
            " 192_jpg.rf.3559d32571deddfd514f9fcddc787ddc.jpg\n",
            " 193_png.rf.93996ff36d688607e7eec8051d1212bf.jpg\n",
            " 195_png.rf.02c042a8b9ff3cf816ad474ebc914246.jpg\n",
            " 196_png.rf.ae542b67f82aef0afc3a754367124cb6.jpg\n",
            " 197_png.rf.731a5dec0e430089a86ebdaca776b519.jpg\n",
            " 199_png.rf.bf52bf9bf5557d891a633f4171da111a.jpg\n",
            " 19_jpg.rf.a7647d8617fcc4549f9bb6e345c63733.jpg\n",
            " 200_png.rf.a4e48d3fd92b4f4442c3684e74414dfb.jpg\n",
            " 202_png.rf.c5c22586b56b09c56133928d8ddde854.jpg\n",
            " 203_png.rf.6265fd3b998a9701dc97a30c6dd91742.jpg\n",
            " 204_png.rf.4f3c258db9fd4f049e005bd2db86633c.jpg\n",
            " 205_png.rf.eb70cb9d0c01578eafc356f4535fd595.jpg\n",
            " 206_jpg.rf.a1904e44311f05b746f7dc78a09bff47.jpg\n",
            " 207_jpg.rf.458f568400b40ba5cd90270e380cd2dd.jpg\n",
            " 211_jpg.rf.2703610f622a2d783135395124beb402.jpg\n",
            " 213_jpg.rf.63fa974971acd2c1002ca57401086275.jpg\n",
            " 214_jpg.rf.96d3ba30050b5f05535f5f215fc91d37.jpg\n",
            " 215_jpg.rf.091eaabfe76ea1f64186dc12cb73d000.jpg\n",
            " 217_jpg.rf.a40d2b8a7e3eb88acd65dace0b28f916.jpg\n",
            " 219_jpg.rf.34099ed3f8988fda8ccb759432946f9e.jpg\n",
            " 21_jpg.rf.bb95bf20899aaa2b53eaa44d1a972cb6.jpg\n",
            " 221_jpg.rf.428f1749f13e8825effa603fe2f66942.jpg\n",
            " 222_jpg.rf.35a305753109fee1d24ad83ced08d921.jpg\n",
            " 223_jpg.rf.0a2c87b26df1592a27599f8d3f738615.jpg\n",
            " 224_jpg.rf.7efb1bc654a14e1af4391c667cf83ca9.jpg\n",
            " 225_jpg.rf.b35d803b3294a26cafd816dadeed8894.jpg\n",
            " 226_jpg.rf.88e49d401f1a59fbf58b5350f46d3a60.jpg\n",
            " 227_jpg.rf.6c6f32cf5035c7568dbb57c3b634e8a5.jpg\n",
            " 228_jpg.rf.23743ec22854adcf77182e24c90b2d42.jpg\n",
            " 229_jpg.rf.fbab098d28b9cf3f475e3d47a560bfc5.jpg\n",
            " 22_jpg.rf.3607344fbecfc8bf30c44914e6405e91.jpg\n",
            " 230_jpg.rf.fce786d795abd5ce782859aa7ec3dd8f.jpg\n",
            " 233_jpg.rf.54d0e405c61611b12e85a22a91822cdc.jpg\n",
            " 236_jpg.rf.c0c66b456d4298823acfd02719b1e78d.jpg\n",
            " 237_jpg.rf.de321372210208076f39564de48a843f.jpg\n",
            " 238_jpg.rf.d04daba781b41a5c627391661ea63839.jpg\n",
            " 23_jpg.rf.04fe4e3e9e21b260eafbcaf6fadf2700.jpg\n",
            " 24_jpg.rf.ca4435f131b62128b4f06289b761b786.jpg\n",
            " 25_jpg.rf.0fe3b1593c7636a5b56e28bce0b50133.jpg\n",
            " 27_jpg.rf.2012f7c119f96e7817b28db03b6d9ef6.jpg\n",
            " 30_jpg.rf.c94fbfa969a9ef8013170d002f77d06c.jpg\n",
            " 31_jpg.rf.6e2a5e24f16f0d71029fdcc982933a9e.jpg\n",
            " 33_jpg.rf.df67d245860f4f1e4abdb305078db684.jpg\n",
            " 34_jpg.rf.120de29deb4e8d8684567ac6019877f5.jpg\n",
            " 36_jpg.rf.e1b153dd4fbab49cf7171b30cc17d336.jpg\n",
            " 37_jpg.rf.0b4893d646396f64af0fb6800479c577.jpg\n",
            " 38_jpg.rf.8dbdae89a59d8b02a9b0bf6e5c481972.jpg\n",
            " 40_jpg.rf.ef7943e3cd053512f1e415f01fb10aa8.jpg\n",
            " 41_jpg.rf.cc8c4262a45132d18888d482ae6c884e.jpg\n",
            " 42_jpg.rf.f79efea9cbebb0663774e4f69667fbb0.jpg\n",
            " 43_jpg.rf.765400d080bf3b1704a69bc293d651aa.jpg\n",
            " 45_jpg.rf.502193b8ce7cec3122198e6c9e74480c.jpg\n",
            " 46_jpg.rf.781407b3a588905c43df90185156bddf.jpg\n",
            " 47_jpg.rf.864d5a8fd75dc558b2636023aa77e8ba.jpg\n",
            " 48_jpg.rf.d715770710a30ddd2e3ddbab581aa12c.jpg\n",
            " 50_jpg.rf.90b6f615239eb312f8524c3f71e0086b.jpg\n",
            " 51_jpg.rf.db42ce23c4ad98b451c6fa67646790c3.jpg\n",
            " 52_jpg.rf.0fd05678355d635b5dec7af8784c7a05.jpg\n",
            " 53_jpg.rf.97062f42df60dc0d680a61462cb5e8c4.jpg\n",
            " 54_jpg.rf.effa08694240a9b553f6a8977c432e7a.jpg\n",
            " 55_jpg.rf.37d4f497e49bfb7518a86c18eb9b3da0.jpg\n",
            " 56_jpg.rf.5073194aaa3b7bb1ef5cb82548b0c2ca.jpg\n",
            " 57_jpg.rf.cffb5498ab022519f82a08dde2a41568.jpg\n",
            " 58_jpg.rf.271979050835d7c331c0a773ff73e8cf.jpg\n",
            " 59_jpg.rf.29d32da262dd38b75b0c07db63d59be8.jpg\n",
            " 62_jpg.rf.44bc5931a1f6675095ea7ffe6ffc3181.jpg\n",
            " 63_jpg.rf.6d6d92889d7152b4bd076a4e5deb2276.jpg\n",
            " 64_jpg.rf.422a2b86a32d186468c7e11add186e85.jpg\n",
            " 65_jpeg.rf.cbde7fc6576cdceba632018673045e78.jpg\n",
            " 66_jpg.rf.dbf837e53b3ff763fec3c68d35979b82.jpg\n",
            " 68_jpg.rf.f7a44ce06e44a08beeb833e31e9d42b2.jpg\n",
            " 69_jpg.rf.3be0ea095034cafb443c2a1fa6fc4aa0.jpg\n",
            " 70_jpg.rf.839443371d5d3ab46cd5d9172bf13b25.jpg\n",
            " 71_jpg.rf.989244b68f8934abee15aa7418a22187.jpg\n",
            " 73_jpg.rf.65b9dca6c4c12180c35abd42f8e543bb.jpg\n",
            " 74_jpg.rf.2460c3d201b5ad3d8eae5a472e1fbc30.jpg\n",
            " 75_jpg.rf.e21954b027c6337625a7184995aee960.jpg\n",
            " 76_jpg.rf.6cf405d9781a3029aaf8dbb6f47a7098.jpg\n",
            " 77_jpg.rf.27a84b8f7a1ba8710893b7b796233db4.jpg\n",
            " 78_jpg.rf.1426d467a5fa666b7c943355e0cf177a.jpg\n",
            " 79_jpg.rf.a322340f9849481e2267f21e8ed87763.jpg\n",
            " 80_jpg.rf.a61711dd7a7b8df4f84143e1c906d210.jpg\n",
            " 81_jpg.rf.1647e65d5055a92fcf8aedd039a7dbe8.jpg\n",
            " 82_jpg.rf.3d4c2a1db1f79cc46cfb4b6a7860394c.jpg\n",
            " 86_JPG.rf.8679ae7786f2ae269c9100475eeb2064.jpg\n",
            " 87_JPG.rf.6a1c298f048328704fddaa8ffeafe52e.jpg\n",
            " 88_JPG.rf.266610ca3c2b5a9dfbb8a4db4d73c312.jpg\n",
            " 89_jpg.rf.4833f8152418844c6b047cdd521712bf.jpg\n",
            " 90_jpg.rf.4a2dc68087b25f83b2360558f73fe944.jpg\n",
            " 92_jpg.rf.321aacd6059299ce794d3272521751c0.jpg\n",
            " 93_jpg.rf.60b0e35d45a7b65052a63fbef22a39cc.jpg\n",
            " 95_jpg.rf.cc80c6a4ead016dfda5ca34b1b0be59d.jpg\n",
            " 96_jpg.rf.5836bf72c3a385365803449eefef9ef8.jpg\n",
            " 98_jpg.rf.149fc5e5025421128e25e5dae2fb7613.jpg\n",
            " 99_jpg.rf.b1b121b22dacda1543660ee6477c5a55.jpg\n",
            " _annotations.coco.json\n",
            " Asraf_01_jpg.rf.a270d90282b4233ca5458b7e1111dfc9.jpg\n",
            " Asraf_02_jpg.rf.ed60db8dbb235d61085d71fe104e5679.jpg\n",
            " Asraf_03_jpg.rf.fcce3d7712cec73a95fa67cfc2677cb2.jpg\n",
            " Asraf_04_jpg.rf.e2c83e226a8d6ce67558986481779319.jpg\n",
            " Asraf_05_jpg.rf.447bbec7e4270c56eec0647bd5629d78.jpg\n",
            " Asraf_06_jpg.rf.ce8ba2475267acb31f3c0004355b58cf.jpg\n",
            " Asraf_07_jpg.rf.be7624b7ec840a475d13b6e6b0753a37.jpg\n",
            " Asraf_09_jpg.rf.bbc6f924fe06334cedbb6f9f40030bd7.jpg\n",
            " Asraf_10_jpg.rf.a61915957b814bceee54459c77215d3d.jpg\n",
            " Asraf_12_jpg.rf.2ae27a959585120ae17ad4059bc0e7fd.jpg\n",
            " Asraf_14_jpg.rf.0f88e7e41edfd1f338b46d25d6b8c340.jpg\n",
            " Asraf_15_jpg.rf.be449b7835126f9f0a05c90dbd2dad85.jpg\n",
            " Asraf_17_jpg.rf.0b43462f927a780fc13808db2fd6a220.jpg\n",
            " Asraf_20_jpg.rf.4ec7446b6b722e240c6016209274852c.jpg\n",
            " Asraf_21_jpg.rf.b50495070d5f5b4b59adab07b1a81862.jpg\n",
            " Asraf_22_jpg.rf.364ba6fd65f73530eb6939a6a8218620.jpg\n",
            " Asraf_25_jpg.rf.d9be4f77dd15802d5db24db8917a3b97.jpg\n",
            " Asraf_26_jpg.rf.40c2be8eca160b283b7a3ea873d66fd6.jpg\n",
            " Asraf_28_jpg.rf.578c9cff39527dfa3c80e2c223ab920f.jpg\n",
            " Asraf_29_jpg.rf.16109808823a4f294c4f5cc8c98fe888.jpg\n",
            " Asraf_30_jpg.rf.6848644a8efca688c432b4af06bfadc4.jpg\n",
            " Asraf_31_jpg.rf.ebb89e1c39b327e74122c3871e58028c.jpg\n",
            " Asraf_33_jpg.rf.32ec7ca608d594166dd877c4b474c9be.jpg\n",
            " Asraf_34_jpg.rf.40e644193c7a344685be6840e1a53532.jpg\n",
            " Asraf_35_jpg.rf.202738043b37f0a1bbd254879021d540.jpg\n",
            " Asraf_36_jpg.rf.415998bf00c883f30a7f5ae9882c8f45.jpg\n",
            " Asraf_38_jpg.rf.35fd047b287c1af1cbb5171bf5907af8.jpg\n",
            " Asraf_39_jpg.rf.c03aa70cfbfff827681216c911e84e2e.jpg\n",
            " Asraf_40_jpg.rf.36c330be55eef1f70a3737306f67b208.jpg\n",
            " Asraf_41_jpg.rf.a1cf602f2cd6ffce07aab1219c4fb237.jpg\n",
            " Asraf_42_jpg.rf.1cd0dc6a63845d0cf23a50e83fcab30b.jpg\n",
            " Asraf_44_jpg.rf.2d1d16fea8a4bbddaf27bb21b52042c8.jpg\n",
            " Asraf_45_jpg.rf.c1167f6f0103319f9cb31fb568f50d66.jpg\n",
            " Asraf_47_jpg.rf.e15c976f4c1473f9dcfdb7e9b06844b5.jpg\n",
            " Asraf_49_jpg.rf.41b3caf3be49654054ebb914da7f88d3.jpg\n",
            " Asraf_54_jpg.rf.5ccba983778ab7965aa55af03e09484a.jpg\n",
            " Asraf_55_jpg.rf.5c87bc458ffe21cd09278e85d8b5e93e.jpg\n",
            " Asraf_57_jpg.rf.bf2df94cd960a2ae465c3dcc87086949.jpg\n",
            " Asraf_58_jpg.rf.e0b6519d84f9d957f04d14d547001cba.jpg\n",
            " Asraf_59_jpg.rf.66e77a85c44e47dd6b301d5a25005faa.jpg\n",
            " Asraf_61_jpg.rf.a7a53602d0c5813bf58ad6a3ee845fe8.jpg\n",
            " Asraf_62_jpg.rf.f8abb8850a8e81731d39e7b2ce567614.jpg\n",
            " Asraf_63_jpg.rf.5753a805dd5d5498e940e682933740d4.jpg\n",
            " Dipto_01_jpg.rf.7fe6ccc44ff8e67fa87f01c28043f820.jpg\n",
            " Dipto_03_jpg.rf.3b11a4fee28c2a8033decbf72a6734e5.jpg\n",
            " Dipto_05_jpg.rf.f5bd5e6379542707390bc9f19db59dff.jpg\n",
            " Dipto_06_jpg.rf.063fa6e8cff77af63eff62f473d2195e.jpg\n",
            " Dipto_08_jpg.rf.8c546061adaf319ccf84a12dfbce233b.jpg\n",
            "'Dipto_ 100_jpg.rf.1f383b1452187577a97a7ef6f519c63f.jpg'\n",
            "'Dipto_ 101_jpg.rf.47e67a51429fcf4367dd2742909e41f8.jpg'\n",
            "'Dipto_ 103_jpg.rf.8b93871cb2d29f6165234eea825a954f.jpg'\n",
            "'Dipto_ 105_jpg.rf.6b2f65066d0eb35722542f70f2e53182.jpg'\n",
            "'Dipto_ 106_jpg.rf.a4933325d7aa51b65847a2201dd19c7b.jpg'\n",
            "'Dipto_ 109_jpg.rf.1125349ddc9ae0d0ff866371d865866a.jpg'\n",
            "'Dipto_ 113_jpg.rf.a967550d7bfc0e9a80b1c8bd43e41a04.jpg'\n",
            "'Dipto_ 114_jpg.rf.c526aa648991700e46437bb3b55d2e52.jpg'\n",
            "'Dipto_ 117_jpg.rf.2205cfd14ed4b45f45d742e7ebb6a3f4.jpg'\n",
            "'Dipto_ 118_jpg.rf.2d4ba32aae7003b5d17b86d8fa318a00.jpg'\n",
            " Dipto_11_jpg.rf.da4aec1c1d8294dc8b1d112d442db3c6.jpg\n",
            "'Dipto_ 120_jpg.rf.dc52b46d72846238c5110c4de15ae33d.jpg'\n",
            "'Dipto_ 123_jpg.rf.c3f7199d1574c6638984d82def28ad86.jpg'\n",
            "'Dipto_ 125_jpg.rf.a8102d5f4986d628fe2b4d1117376a07.jpg'\n",
            "'Dipto_ 126_jpg.rf.2bfd00fcd4e4b8b0c143c85454220437.jpg'\n",
            "'Dipto_ 127_jpg.rf.a97100e1c190f9b074f3687c9ca3330d.jpg'\n",
            "'Dipto_ 128_jpg.rf.7d2a552112bd13dbec94a8a0dacc0624.jpg'\n",
            "'Dipto_ 129_jpg.rf.18703c07e5d54cb33e51641846436253.jpg'\n",
            " Dipto_12_jpg.rf.388fbd0f8cbc27d878fad6b3e934bbb3.jpg\n",
            "'Dipto_ 130_jpg.rf.43de4a5d3a8e53e86037a1de4a51453b.jpg'\n",
            "'Dipto_ 133_jpg.rf.5b7b9473e07e0da5a05e56ab2db1f965.jpg'\n",
            "'Dipto_ 134_jpg.rf.85a38df909d96f8e5ed19123a48df58c.jpg'\n",
            "'Dipto_ 136_jpg.rf.a301445be737c5a58b987cb4127a4d49.jpg'\n",
            "'Dipto_ 138_jpg.rf.9bc6d6fed78ed363630272136a8e1ab8.jpg'\n",
            " Dipto_13_jpg.rf.e2067470a5a04caa79094b24363233b6.jpg\n",
            "'Dipto_ 143_jpg.rf.77784894e5c0811ad05083ef23f1b5d6.jpg'\n",
            "'Dipto_ 145_jpg.rf.c249c153c0ec68af7e28ecda514a5825.jpg'\n",
            "'Dipto_ 146_jpg.rf.1c5ef0c2d2ef155ce9980f3f570e613d.jpg'\n",
            "'Dipto_ 147_jpg.rf.25324676a1b724c84eda286b10027874.jpg'\n",
            "'Dipto_ 148_jpg.rf.42efeb5625727685778b2f89f4cbf9a2.jpg'\n",
            " Dipto_14_jpg.rf.a1d82cb59177530ce82aa27acbb509a2.jpg\n",
            "'Dipto_ 152_jpg.rf.d6f9bab81008e97bb7db8c140d6d5d4f.jpg'\n",
            "'Dipto_ 153_jpg.rf.b1987123a4c65c0275e9c5ba43efcc24.jpg'\n",
            "'Dipto_ 156_jpg.rf.0006481b95873e47a9d8f26607d4d089.jpg'\n",
            "'Dipto_ 157_jpg.rf.e912c49a294959086b90739cd75aff29.jpg'\n",
            "'Dipto_ 158_jpg.rf.27a0577b2274a5ad3400e8ee033261c9.jpg'\n",
            "'Dipto_ 159_jpg.rf.331b9897521867bb3927576c86ed1020.jpg'\n",
            "'Dipto_ 163_jpg.rf.0d41a92c1ebd666dce70a630c3c8fea8.jpg'\n",
            "'Dipto_ 164_jpg.rf.d4dcfa81c6b88f894d847b0dd5ec4230.jpg'\n",
            "'Dipto_ 165_jpg.rf.d93debdcaa6ca1490ac069a6b3883b6f.jpg'\n",
            "'Dipto_ 166_jpg.rf.f6129c9034104c4b8fedaffea88e8def.jpg'\n",
            "'Dipto_ 167_jpg.rf.d79798b9adc070789bd777a44b10dd04.jpg'\n",
            "'Dipto_ 168_jpg.rf.85fd847a31017b70a96e7c13fbe4f234.jpg'\n",
            "'Dipto_ 169_jpg.rf.2e9ddc8fd5f08175349ee4b6a083e799.jpg'\n",
            " Dipto_16_jpg.rf.75ce9e85b66c5641a9c2a3d76074cd52.jpg\n",
            "'Dipto_ 172_jpg.rf.aeb9848b180ec94e7fbb609497cafabf.jpg'\n",
            "'Dipto_ 173_jpg.rf.98af2b9ffdf5061684abf91bc6569e7a.jpg'\n",
            "'Dipto_ 174_jpg.rf.cd9f3b5e156fe17bdcdd73867d49f9b1.jpg'\n",
            "'Dipto_ 177_jpg.rf.785e336c29c64765d5434390f07d2322.jpg'\n",
            "'Dipto_ 178_jpg.rf.0c9fb8780e04b24a8c4e4b3521ffc730.jpg'\n",
            "'Dipto_ 179_jpg.rf.9d1e38c1bdeef22011360572c5b3964f.jpg'\n",
            " Dipto_17_jpg.rf.ef85ba5d9c64bc72180c644689616048.jpg\n",
            "'Dipto_ 180_jpg.rf.c8592a66e600a01ccd8d9e5783f14bcb.jpg'\n",
            "'Dipto_ 182_jpg.rf.07d180c4e24005fd18d3ad426a6a0ebc.jpg'\n",
            " Dipto_183_jpg.rf.5f41687b9bc9ae35da7d9e6318789468.jpg\n",
            "'Dipto_ 184_jpg.rf.69f5160e8e8eb273e02a3c09da443860.jpg'\n",
            "'Dipto_ 187_jpg.rf.1884411dc73f86adeb1140a0e6c89079.jpg'\n",
            "'Dipto_ 188_jpg.rf.677ea8949cb5a92bc6db8936ab445146.jpg'\n",
            "'Dipto_ 189_jpg.rf.bf0b90514c814ada1d9a1e9a060ceade.jpg'\n",
            " Dipto_18_jpg.rf.86eccbe81b7102fd7e2f0ae599bf7041.jpg\n",
            "'Dipto_ 190_jpg.rf.8c411b2b16a72f5a1c283829a7631071.jpg'\n",
            "'Dipto_ 191_jpg.rf.3fa4b13a8bd74248ca942a66b19d326b.jpg'\n",
            "'Dipto_ 192_jpg.rf.bbc65a554caea489e9c786d592a3b1b6.jpg'\n",
            "'Dipto_ 194_jpg.rf.e67054216f0340a0b8ff65d8d2f391af.jpg'\n",
            "'Dipto_ 195_jpg.rf.522a87409ecbd168cd37754fcb975f23.jpg'\n",
            "'Dipto_ 196_jpg.rf.18b68e323f5754b277dc2be8488a3df1.jpg'\n",
            "'Dipto_ 198_jpg.rf.0726bcad6f8337423cad3a71e1e880a8.jpg'\n",
            "'Dipto_ 199_jpg.rf.7255a1daeee077aff61a894cc0ba3d47.jpg'\n",
            "'Dipto_ 201_jpg.rf.9e8de4eec41ce163780e85b69793a176.jpg'\n",
            "'Dipto_ 202_jpg.rf.05360b7ce905dc2e60f6a31c4ac8f13d.jpg'\n",
            "'Dipto_ 203_jpg.rf.22db86bbbb027329364a0d919038f4f6.jpg'\n",
            "'Dipto_ 204_jpg.rf.72662d6d0ac2e59d58471d29bc667220.jpg'\n",
            "'Dipto_ 205_jpg.rf.6b7adbe3a7d2a5603ae63e1607a8bd8b.jpg'\n",
            "'Dipto_ 206_jpg.rf.08a8ddeb61ea217182e1e86c3669519e.jpg'\n",
            "'Dipto_ 207_jpg.rf.9bcb386715d9c46cd2d24e57618a982f.jpg'\n",
            "'Dipto_ 208_jpg.rf.b3863e9e61e1d49a5547c35fe6459544.jpg'\n",
            "'Dipto_ 209_jpg.rf.7dcd04f7b6712f6659e71bf5dfee52e0.jpg'\n",
            "'Dipto_ 210_jpg.rf.797be897c5130b0981869ba456cfdd22.jpg'\n",
            "'Dipto_ 211_jpg.rf.ca0f6d643e67df0c6a6573967b7f44bc.jpg'\n",
            "'Dipto_ 212_jpg.rf.477b5464007f6f2e1288eaed0cb57e53.jpg'\n",
            "'Dipto_ 213_jpg.rf.9d0fb71defda15c2802968f0159bcb34.jpg'\n",
            "'Dipto_ 214_jpg.rf.dd2772a697fd241388104c9a27398a4b.jpg'\n",
            "'Dipto_ 215_jpg.rf.396fb30e8c3227947ee05442791fe8e7.jpg'\n",
            "'Dipto_ 216_jpg.rf.7d43237bd210181148131341b342776a.jpg'\n",
            "'Dipto_ 219_jpg.rf.a5ca6a07db4eba610e67e9d5fa4fe173.jpg'\n",
            " Dipto_21_jpg.rf.61c015023cd5b2a1bbcdfb186c54264d.jpg\n",
            "'Dipto_ 222_jpg.rf.9ebbf088be9e71d686263f616d1511f3.jpg'\n",
            "'Dipto_ 223_jpg.rf.d24d37850131e8c01d120c33b31dd635.jpg'\n",
            "'Dipto_ 225_jpg.rf.d0a006cc38b216ea1c19b9dd1d534ba9.jpg'\n",
            "'Dipto_ 227_jpg.rf.e212f4e6271d2824a9c720c5d0833db8.jpg'\n",
            "'Dipto_ 228_jpg.rf.b128e1d663619ac566ddae1c03cf521f.jpg'\n",
            "'Dipto_ 229_jpg.rf.e5d8963b32f639cf84b72a42a534927b.jpg'\n",
            "'Dipto_ 230_jpg.rf.bfc44210286fa0f4d3bb150e08c3fd7a.jpg'\n",
            "'Dipto_ 231_jpg.rf.83df7153d84158d636508beda0619bf1.jpg'\n",
            "'Dipto_ 233_jpg.rf.0aa6240e8b50e8d2621d9840158c5ef9.jpg'\n",
            " Dipto_234_jpg.rf.50acbb1de65df2bd19e72a254e8a7dd5.jpg\n",
            "'Dipto_ 236_jpg.rf.916def2ae199e32cca00c83abff19f43.jpg'\n",
            "'Dipto_ 239_jpg.rf.d741cbab6ee9f99425249082e35abe85.jpg'\n",
            " Dipto_23_jpg.rf.c037c7c89aadded44e914e16d940c224.jpg\n",
            "'Dipto_ 240_jpg.rf.deda1ff66664844c387c9381f8ffc044.jpg'\n",
            "'Dipto_ 241_jpg.rf.183f6d5c6cb1b1f4ad49b74aaf43d470.jpg'\n",
            "'Dipto_ 242_jpg.rf.e11b24854c986ab95e3b2a36b11e853c.jpg'\n",
            "'Dipto_ 243_jpg.rf.83cecbf03e669913b7564b40ff2d5967.jpg'\n",
            "'Dipto_ 244_jpg.rf.baa424cbe1afd25d70c78150b9f90942.jpg'\n",
            "'Dipto_ 245_jpg.rf.4be984c754410fef300fcabf668665e9.jpg'\n",
            "'Dipto_ 246_jpg.rf.c03dcc95f403ffcf589e215efa50f2cc.jpg'\n",
            "'Dipto_ 247_jpg.rf.0b5950646bd41bb901b7fa9cc6425421.jpg'\n",
            "'Dipto_ 248_jpg.rf.5dfa6937d4270206152d4094fdeb8b7c.jpg'\n",
            "'Dipto_ 249_jpg.rf.cae67d8257b46a9bd5868b4fa4ff87bc.jpg'\n",
            "'Dipto_ 250_jpg.rf.8505f6118bbe1c24d3d128b8b9285fe4.jpg'\n",
            "'Dipto_ 252_jpg.rf.6549a227c0e77df5e72b8ce2130fa235.jpg'\n",
            "'Dipto_ 257_jpg.rf.2fba5413e4e63cec06584a39886ed6c8.jpg'\n",
            "'Dipto_ 258_jpg.rf.8696c99e4ef281ea07c28a375d6690fc.jpg'\n",
            " Dipto_25_jpg.rf.ecdc7df781c2aea234f34b982933241f.jpg\n",
            "'Dipto_ 260_jpg.rf.3e680e85fe7786fff45f79017b2c9ac0.jpg'\n",
            "'Dipto_ 261_jpg.rf.c6980f75c80e8d0cfc3438dc230599b4.jpg'\n",
            "'Dipto_ 262_jpg.rf.aa529123d26b39fbeab85c0f5775dbb1.jpg'\n",
            "'Dipto_ 263_jpg.rf.90262d08f864e234aad5a1ea99890ac9.jpg'\n",
            "'Dipto_ 264_jpg.rf.ca0e4879c06e92e46e9914b009558f81.jpg'\n",
            "'Dipto_ 266_jpg.rf.d3b2b8be5bbaa96277117acc91b6ab7e.jpg'\n",
            "'Dipto_ 268_jpg.rf.943fb5282c9d2bba963268c0a6ff3493.jpg'\n",
            " Dipto_26_jpg.rf.cdff10753f108fc4895604014342d92c.jpg\n",
            "'Dipto_ 270_jpg.rf.91d1454bd96bded5b200cd83675c2702.jpg'\n",
            "'Dipto_ 271_jpg.rf.304ee3b66c4c798de4e0e00b2924469a.jpg'\n",
            "'Dipto_ 273_jpg.rf.f1f967906dad4b2bf646909da6e0eabc.jpg'\n",
            "'Dipto_ 274_jpg.rf.e0ee442bb64381313a16a9607cf577da.jpg'\n",
            "'Dipto_ 277_jpg.rf.9dd6b7d7d24f72905cb91f5bc616f0fe.jpg'\n",
            "'Dipto_ 278_jpg.rf.65b3acdac28869d879d638bc78b7845e.jpg'\n",
            "'Dipto_ 279_jpg.rf.183a6cef2ebcbb70ec85c4bf79ce2362.jpg'\n",
            "'Dipto_27)_jpg.rf.20803b734db480a7195ffec2d70d73c8.jpg'\n",
            "'Dipto_ 280_jpg.rf.46b8b88405995302e1c040b1c27557a0.jpg'\n",
            "'Dipto_ 282_jpg.rf.09644ebe0bb3d09c4fb080a417876574.jpg'\n",
            "'Dipto_ 283_jpg.rf.214c301338b79c7411ae27a4c748b609.jpg'\n",
            "'Dipto_ 284_jpg.rf.f2804b88290e74dd8e8e8bcc430d70e6.jpg'\n",
            "'Dipto_ 285_jpg.rf.5943d3a31001cef3a15a26b10205c402.jpg'\n",
            "'Dipto_ 286_jpg.rf.c2309ec7d10c0acfb59b0fd0e913f84c.jpg'\n",
            "'Dipto_ 288_jpg.rf.c9874e18546bbf4baa828332bf0fcf55.jpg'\n",
            "'Dipto_ 289_jpg.rf.81fc109be58818f26f24f5ecf92c85cb.jpg'\n",
            "'Dipto_ 292_jpg.rf.045a111e1510f60e8054da9bf16d2183.jpg'\n",
            "'Dipto_ 293_jpg.rf.c5d702819c21588f6a7731d74a79632f.jpg'\n",
            "'Dipto_ 294_jpg.rf.7bd9d71fbb05dee1d039fb42cfd5c660.jpg'\n",
            "'Dipto_ 295_jpg.rf.ece10ea49f7c404c4e955e621a7e1dea.jpg'\n",
            "'Dipto_ 296_jpg.rf.f1e5103a126ddaedf7bf3775f2e0dc31.jpg'\n",
            "'Dipto_ 298_jpg.rf.38cd8b8079e386e4a6c55bd7c3938d4a.jpg'\n",
            " Dipto_29_jpg.rf.a77c4a7b363693f2e37ae0f7715651ea.jpg\n",
            "'Dipto_ 300_jpg.rf.5bc72ec5d21c9119ed60e4d0cdc2ecd6.jpg'\n",
            "'Dipto_ 301_jpg.rf.714515478354dc2cdb87f5d995cd4ba2.jpg'\n",
            "'Dipto_ 303_jpg.rf.18347e73004fc1be0d8735556465083c.jpg'\n",
            "'Dipto_ 304_jpg.rf.4d77b3a75d7c9965b39887c6ea0e6ed3.jpg'\n",
            "'Dipto_ 308_jpg.rf.321edf3fd7a3b7edbbe31aa035534686.jpg'\n",
            "'Dipto_ 310_jpg.rf.6d260745747f448a8b303b1280711c2e.jpg'\n",
            "'Dipto_ 312_jpg.rf.d5028e713c49950b93e444c873d00d8f.jpg'\n",
            "'Dipto_ 313_jpg.rf.fdd093a34709225af0bbd4fb4702db52.jpg'\n",
            "'Dipto_ 315_jpg.rf.db95b322e7390ae2521eae5ef6b4aa7b.jpg'\n",
            "'Dipto_ 317_jpg.rf.d809454f7ac50baf4c51d8b11521dc40.jpg'\n",
            "'Dipto_ 318_jpg.rf.6f0c60da4f1ab17b84f32cfdcb8742f1.jpg'\n",
            "'Dipto_ 319_jpg.rf.af3e76017ba55c4eb8a5f2e621034f21.jpg'\n",
            " Dipto_31_jpg.rf.57df4e3f0b30a58d3b56c630cfdecba5.jpg\n",
            "'Dipto_ 320_jpg.rf.6f40b4a1bf72bf92cd07c32cd000efc4.jpg'\n",
            "'Dipto_ 322_jpg.rf.25137d4fcc703f132e718eb3748110af.jpg'\n",
            "'Dipto_ 323_jpg.rf.b9cbc357c4f5f7d8ed9a4b047845c504.jpg'\n",
            "'Dipto_ 325_jpg.rf.d01680f96792fd2cddac02531f0c933d.jpg'\n",
            "'Dipto_ 326_jpg.rf.a31836cc7187c18a59e94803201b01ac.jpg'\n",
            "'Dipto_ 327_jpg.rf.7cbf2398fdc5143c1ff4a81ffa722eca.jpg'\n",
            "'Dipto_ 328_jpg.rf.8d3d172581d1607264cbcab7e07cd035.jpg'\n",
            "'Dipto_ 329_jpg.rf.10471cc62ddcabcb2d5bcbf34f298c12.jpg'\n",
            "'Dipto_ 331_jpg.rf.5683fc694b5f1180976ed4d309acd2e2.jpg'\n",
            "'Dipto_ 332_jpg.rf.7c2a475a202d15b631f92c65c46aebd4.jpg'\n",
            "'Dipto_ 334_jpg.rf.53b7e39bc0f46f61c72e407528b4f4fb.jpg'\n",
            "'Dipto_ 335_jpg.rf.dc38ddf52c30421175baaf9505c40a9f.jpg'\n",
            "'Dipto_ 338_jpg.rf.9bed5d58e448a87020906ca1bc782f4f.jpg'\n",
            "'Dipto_ 339_jpg.rf.7e9ca86bc75ec2012aea0a8002078a05.jpg'\n",
            "'Dipto_ 340_jpg.rf.657332105606e4af2afc37ecddfc7487.jpg'\n",
            "'Dipto_ 341_jpg.rf.1f4a77ca78f08d65fea3943c8d88aefe.jpg'\n",
            "'Dipto_ 342_jpg.rf.df2cad9692b773849e8010cfaf80e501.jpg'\n",
            "'Dipto_ 343_jpg.rf.463612286622e66a37bb9a08dd730656.jpg'\n",
            " Dipto_344_JPG.rf.7f8ec1b74d09ae8d56650ef08364777e.jpg\n",
            " Dipto_345_JPG.rf.fd1b16d5ca7841d0335d78e1587a3743.jpg\n",
            " Dipto_346_JPG.rf.9f9b399e84702ed43f9b67eb424d2b79.jpg\n",
            " Dipto_347_JPG.rf.1a02436ecd914a2d8720017c2dae777d.jpg\n",
            " Dipto_349_JPG.rf.9c8691cf7804a1de6f55411f023926c9.jpg\n",
            " Dipto_34_jpg.rf.1bef6de590140a28fae23f2e5dca028f.jpg\n",
            " Dipto_350_JPG.rf.6213bb0257e0692628647c9ec8f9786c.jpg\n",
            " Dipto_351_jpg.rf.95594b758a58af2922c0aeaf13553bbf.jpg\n",
            " Dipto_352_jpg.rf.9dc7c270cdc16245dc56ec51a1b9ec01.jpg\n",
            " Dipto_353_jpg.rf.3a4c5adf3ab6066d814b8beec6b2148a.jpg\n",
            " Dipto_355_jpg.rf.6bf05b3510682a7405d59b156140d6ab.jpg\n",
            " Dipto_357_jpg.rf.4f5152c5225bb993bb8b42997f45cee6.jpg\n",
            " Dipto_358_jpg.rf.5dc569410daca2cd2592920e4aeb345c.jpg\n",
            " Dipto_359_jpg.rf.466845111c190c5e9219b6ee4e0fae91.jpg\n",
            " Dipto_35_jpg.rf.41c768d7307ec2bcf25e123b3a1fcddb.jpg\n",
            " Dipto_360_jpg.rf.a586cb61a394642210bf697f2d65ec82.jpg\n",
            " Dipto_361_jpg.rf.edbf3db920f7ecd9245824129f283272.jpg\n",
            " Dipto_362_jpg.rf.6b5a57b2b55818bd535864666bccd675.jpg\n",
            " Dipto_363_jpg.rf.c5e12c5bccd0930c08242793968ea8a0.jpg\n",
            " Dipto_364_jpg.rf.7f47fd1add22ab3687c8574131627c71.jpg\n",
            " Dipto_365_jpg.rf.e796bb3e2550daa96ef53ca8d1c54255.jpg\n",
            " Dipto_369_jpg.rf.9afbefdbf88dc1d0a3eec78a181c9d69.jpg\n",
            " Dipto_36_jpg.rf.036127d3ee2b7b24b57d59279479e4e9.jpg\n",
            " Dipto_370_jpg.rf.e4a819a232862db80e149ab124fee34c.jpg\n",
            " Dipto_371_jpg.rf.bfe44df1c05581f363e2b75b85587ac2.jpg\n",
            " Dipto_373_jpg.rf.96226c11b272d712cd8a5bd2cf1db4cb.jpg\n",
            " Dipto_374_jpg.rf.c8657eb97cfc83c94dbbebdee1734bbb.jpg\n",
            " Dipto_375_jpg.rf.1e7f6a119d37a69efc576a7af2a981a9.jpg\n",
            " Dipto_377_jpg.rf.d043c0ea2166f7f7cdca53bd4b4ad524.jpg\n",
            " Dipto_378_jpg.rf.12e15c26bb4cda4a3d689115b3b73791.jpg\n",
            " Dipto_37_jpg.rf.baee1cad8f1648f3ad840d831a885859.jpg\n",
            " Dipto_381_jpg.rf.a1b445e21dc7c607d3e46bd43e7f183a.jpg\n",
            " Dipto_383_jpg.rf.c246904b9dbad65fbde24b595835b839.jpg\n",
            " Dipto_384_jpg.rf.8206593b50fcdb1a1fd8a691cd3b5811.jpg\n",
            " Dipto_386_jpg.rf.8142e75193a54781ed3f05b3ebe4ce0b.jpg\n",
            " Dipto_388_jpg.rf.c05f1d763ce11ff9e314f68c26173fb8.jpg\n",
            " Dipto_389_jpg.rf.015e8bcde187a6b2a8f3252966f95741.jpg\n",
            " Dipto_38_jpg.rf.58e62f39b7ef236a4cc831fcd6540e18.jpg\n",
            " Dipto_390_jpg.rf.f66cdb06a620277da77287853ee43da6.jpg\n",
            " Dipto_392_jpg.rf.e826d4c2f259f1a4cd6a3bfc69cc649c.jpg\n",
            " Dipto_393_jpg.rf.e946963ffe427eb08d9f5affcb635ef4.jpg\n",
            " Dipto_395_jpg.rf.13b603e1736bb75e29010b2fc0a1ae36.jpg\n",
            " Dipto_398_jpg.rf.055a4368ca8176b06a2f3b2c8027b54e.jpg\n",
            " Dipto_399_jpg.rf.5cd36b9d02afa58cdcbbd15060231026.jpg\n",
            " Dipto_400_jpg.rf.c07a0188db0e63330e0f7e297cc94c6d.jpg\n",
            " Dipto_401_jpg.rf.a00ee3d67026e34451b1a0407b14545c.jpg\n",
            " Dipto_402_jpg.rf.e6d5ff84d1c6cc8e0d6b0b936c82fa07.jpg\n",
            " Dipto_403_jpg.rf.f36a2a34fa702a261e41f816da0e2bc4.jpg\n",
            " Dipto_404_jpg.rf.bd1e159cd051ab57afcd64bd33cac645.jpg\n",
            " Dipto_407_jpg.rf.474e3b436644b6e9ba564ce39df354ca.jpg\n",
            " Dipto_408_jpg.rf.e4891dd67292b6e43c4f389bb2c4d4fd.jpg\n",
            " Dipto_409_jpg.rf.959a4c933fbce67d55fb2104110a8eb5.jpg\n",
            "'Dipto_ 40_jpg.rf.6efdec4a331800c09f165dbfef61e317.jpg'\n",
            " Dipto_411_jpg.rf.6c1c77a6ca29cc6d609cdd554711850d.jpg\n",
            " Dipto_412_jpg.rf.1a8d3c704535f7de03fac6017fc92a88.jpg\n",
            " Dipto_413_jpg.rf.8d3c8f6c68ef99ac79e8d7cc904183aa.jpg\n",
            " Dipto_414_jpg.rf.dbc7106174abc7f230089d5e1d6964ec.jpg\n",
            " Dipto_415_jpg.rf.6a5dcc9811aca71f37bce64cfcc62b26.jpg\n",
            " Dipto_416_jpg.rf.68f4a5c8d6c6109445caaa39311512df.jpg\n",
            " Dipto_417_jpg.rf.6e4c0c976209054dce3472e562be9431.jpg\n",
            " Dipto_418_jpg.rf.a8d67910c0e21f7cce0cd8fc2002019b.jpg\n",
            " Dipto_419_jpg.rf.82a2309410e8c5ba5ca8367378c5e62d.jpg\n",
            "'Dipto_ 41_jpg.rf.e7862526b2c7d7e286feb16f20ce6cc9.jpg'\n",
            " Dipto_420_jpg.rf.4106279ae89cdc05b18a1d07ccdd1fb8.jpg\n",
            " Dipto_421_jpg.rf.d281e1013b30874994abad3269e40bdc.jpg\n",
            " Dipto_422_jpg.rf.88b575dbafc7b2d97c43cfac0f0fcbb0.jpg\n",
            " Dipto_423_jpg.rf.c8ac7a1bc384bec4d4d03e4f36dd0d24.jpg\n",
            " Dipto_424_jpg.rf.e2d5d2ab032d77a5d2d978cc8b3313f8.jpg\n",
            " Dipto_425_jpg.rf.1d6a1a6ec415c0dae0f6504d9218e28e.jpg\n",
            " Dipto_426_jpg.rf.4b7a3ca5f9719acaae29afbcc6278aa2.jpg\n",
            " Dipto_428_jpg.rf.be374d5c39c9c1087fac346756c43172.jpg\n",
            " Dipto_429_jpg.rf.4e40b45495f0b68fcc3ef0ebaf3e03e2.jpg\n",
            " Dipto_430_jpg.rf.fcd763b16d3f7919481dcc9f4b8c7639.jpg\n",
            " Dipto_434_jpg.rf.8cbe2ed6837ba9e3a68be7907a179646.jpg\n",
            " Dipto_435_jpg.rf.df4bbf6aa6ce7e707eb271711f7b1e08.jpg\n",
            " Dipto_437_jpg.rf.8608b06259d049aa7e0cf12dc6807ffd.jpg\n",
            " Dipto_438_jpg.rf.5ef8d07899a9e9ee500a676a6c22e9c8.jpg\n",
            " Dipto_439_jpg.rf.1dab915f992d1f99f4961fb428c371e2.jpg\n",
            " Dipto_441_jpg.rf.45a36b7036462e73133a18f24f75c94c.jpg\n",
            " Dipto_442_jpg.rf.a4a59682d5f846ae33d908008338f37a.jpg\n",
            " Dipto_443_jpg.rf.504226a1e857a4c0350ac1996f4a43a8.jpg\n",
            " Dipto_444_jpg.rf.6026d99b047f55f2b3ad8c9373438fda.jpg\n",
            " Dipto_445_jpg.rf.c3f82716e6527ad51343682aacb93bf4.jpg\n",
            " Dipto_447_jpg.rf.a3c79ce355bbe8be86d07f94cb820c4f.jpg\n",
            " Dipto_448_jpg.rf.58c2a43cd5101ecfb361181a23f3df0c.jpg\n",
            " Dipto_449_jpg.rf.ccd4d1a537e88dc9d44b3390f8163ccd.jpg\n",
            " Dipto_450_jpg.rf.018bf67e76f614c2865191c296b818fa.jpg\n",
            " Dipto_452_jpg.rf.ce21c1371a971c05f6c6fad2b109611a.jpg\n",
            " Dipto_453_jpg.rf.426e3d01328fb0a9155e24a036e474c9.jpg\n",
            " Dipto_455_jpg.rf.64a56312e9d8ebfba8e086dcdd4b04eb.jpg\n",
            " Dipto_456_jpg.rf.c83ef7c605a359faf29498f41c39f472.jpg\n",
            " Dipto_457_jpg.rf.495846f5f08ea35151e242bb62671e71.jpg\n",
            " Dipto_459_jpg.rf.c63de66677f0fcb0fde02477482acdbd.jpg\n",
            "'Dipto_ 45_jpg.rf.06060f5fff615a977b088bfcc976c1e1.jpg'\n",
            " Dipto_460_jpg.rf.d6287486d92c5efaac9a865f713f1b5e.jpg\n",
            " Dipto_462_jpg.rf.c592a82a1edaa501ff5ba966cc6f966e.jpg\n",
            " Dipto_464_jpg.rf.dec6aa0e4888d56bf1b5afeb7326ba3b.jpg\n",
            " Dipto_466_jpg.rf.0014bbf3d6614c48c750d99b0f06c9f3.jpg\n",
            " Dipto_467_jpg.rf.3ffa357498a64f5e3ab81545536fa0da.jpg\n",
            " Dipto_469_jpg.rf.263c9ffe48d9881186443e29a0fec18a.jpg\n",
            " Dipto_470_jpg.rf.42b6617ec9984b09d9e5076b09dbeeb5.jpg\n",
            " Dipto_472_jpg.rf.77e88c80e5c30b26067bfe51c6924216.jpg\n",
            " Dipto_475_jpg.rf.3e5a5466f33be744c11579de5b0c5ddf.jpg\n",
            " Dipto_476_jpg.rf.5bf96ae0c8201406cd2d90931836d24a.jpg\n",
            " Dipto_477_jpg.rf.8eef425c29e31c6da84a4264c25c01d3.jpg\n",
            "'Dipto_ 47_jpg.rf.e1b20ce93590a3b1476ff08b9bbe6e1f.jpg'\n",
            " Dipto_480_jpg.rf.7405e4d970b47d6bb828b5b62ca9a9dd.jpg\n",
            " Dipto_481_jpg.rf.4672bad1e55bec89b98adee860a49b0e.jpg\n",
            " Dipto_482_jpg.rf.3ab368cb3db75c843d8bec4aa7584a5a.jpg\n",
            " Dipto_483_jpg.rf.687dfb0fce7553269d33cdd5c3df2869.jpg\n",
            " Dipto_485_jpg.rf.c0fdf1f4c8ea2e101acd6345db4bf9ce.jpg\n",
            " Dipto_486_jpg.rf.5b39acaecd2637f3b24004d057fc2895.jpg\n",
            " Dipto_487_jpg.rf.2fc1502c944bceb1543c449375748445.jpg\n",
            " Dipto_488_jpg.rf.b782b8c3708a71d829f2f915f1812bc4.jpg\n",
            " Dipto_489_jpg.rf.0a12f2662731e02247ba5f3ad965d809.jpg\n",
            "'Dipto_ 48_jpg.rf.47df63019bbe6daa6740c6c6406f3739.jpg'\n",
            " Dipto_490_jpg.rf.dc8ae1c21a33c1682cbcc67bcbc5f221.jpg\n",
            " Dipto_491_jpg.rf.ee0f3ad3c4d28ad4b4dae016da241953.jpg\n",
            " Dipto_492_jpg.rf.4710b354868c4ad9858a29eb51cd3e07.jpg\n",
            " Dipto_493_jpg.rf.845ef19dc89aaf5072f993358547ae2c.jpg\n",
            " Dipto_494_jpg.rf.6fabc535a3f5e8539b98b00390d80654.jpg\n",
            " Dipto_495_jpg.rf.17139719150b5b94fbbe2c36b681a542.jpg\n",
            " Dipto_496_jpg.rf.a807e7fc18324cd2be61ae2dc57a9704.jpg\n",
            " Dipto_497_jpg.rf.de739ff63d85e2521fb4f7199309603a.jpg\n",
            " Dipto_498_jpg.rf.a4765742675ebedc9c18ecfac1b659c9.jpg\n",
            " Dipto_499_jpg.rf.5337e5e8db8ced36ec9d285332aa4ec1.jpg\n",
            "'Dipto_ 49_jpg.rf.a16ef5468a8c7e926c3dd15bcb1efafc.jpg'\n",
            " Dipto_500_jpg.rf.6ccc3563c7ca84c8b099d5f8530dd531.jpg\n",
            " Dipto_501_jpg.rf.3a5df97f5aecd0342bc0feed07f79f88.jpg\n",
            " Dipto_502_jpg.rf.929b58417796283f3fb42a5cd30d916c.jpg\n",
            " Dipto_503_jpg.rf.6bc88fbe415ad3e5bf987f303869c20b.jpg\n",
            " Dipto_504_jpg.rf.b700c92a31741c76daee793ec00c7f75.jpg\n",
            " Dipto_505_jpg.rf.fdade068fd9e3e289e8c179fc3ea2dbb.jpg\n",
            " Dipto_506_jpg.rf.7014be520cc886ef9b6f526d77f74edf.jpg\n",
            " Dipto_507_jpg.rf.cd3267d1aeeebfa773f0722e6e8fb91c.jpg\n",
            " Dipto_508_jpg.rf.a57faba8c271fab70e7aa0ebbe548fcf.jpg\n",
            "'Dipto_ 50_jpg.rf.8c5ed6e3e8ad738d6f2e8ffec13a0421.jpg'\n",
            " Dipto_510_jpg.rf.c04a8aee208e6fa287080cb1a8b0d497.jpg\n",
            " Dipto_511_jpg.rf.4daf6828c1372f7de43de5d177b5c4b0.jpg\n",
            " Dipto_512_jpg.rf.8684fab1e9c096842e33e245ccc2b7ac.jpg\n",
            " Dipto_514_jpg.rf.9d3097635f7ad751269f7d95e7b26779.jpg\n",
            " Dipto_515_jpg.rf.fd0fe7454407a085e6d12934a7336a66.jpg\n",
            " Dipto_516_jpg.rf.c36b3bdbccd0a3762e0d7fff3f054093.jpg\n",
            " Dipto_517_jpg.rf.6f45c66db48cd6731d17de9bbdf4d05d.jpg\n",
            " Dipto_518_jpg.rf.c8e18b057ba54d201108c3c8dd0261c4.jpg\n",
            " Dipto_519_jpg.rf.502e5e848edc3fe2340981eec59aa07c.jpg\n",
            "'Dipto_ 51_jpg.rf.0cfe6c4983a0a2df20f77db638840d97.jpg'\n",
            " Dipto_520_jpg.rf.6f421a609fffe1a1373b9b7fbe9aa003.jpg\n",
            " Dipto_521_jpg.rf.06cea63f950633113c3c35e3cf788fc1.jpg\n",
            " Dipto_523_jpg.rf.2bc14be79effde1c9d3a1201aa5aa69e.jpg\n",
            " Dipto_525_JPG.rf.1d2d593e1dae4b99b5da4b131ed6f4c1.jpg\n",
            " Dipto_526_JPG.rf.5d41c536d14e27fd10ea050bab59e7cd.jpg\n",
            " Dipto_528_JPG.rf.7f987ef6d8c9a9f7de6a2fb6580297fb.jpg\n",
            " Dipto_531_JPG.rf.dbba2ecdbe9fb64725d4eb908aa3501c.jpg\n",
            " Dipto_532_JPG.rf.cb4fbdb5ad8332d6cb2af92dfff9b8c2.jpg\n",
            " Dipto_533_JPG.rf.9b2323daab29be5898fa5173f5d804c6.jpg\n",
            " Dipto_534_JPG.rf.a64fc7313bb6d353abaf00a8d0234b48.jpg\n",
            " Dipto_537_JPG.rf.dc17e7afd5dd85954a9e5afc277ad5c8.jpg\n",
            " Dipto_538_JPG.rf.5d1869cdaab1228f5d2f08568874ca41.jpg\n",
            " Dipto_539_JPG.rf.14dbb9ceee509beeef20171e8bf482d0.jpg\n",
            "'Dipto_ 53_jpg.rf.fa5470a2c42d20fb2fa371b391d90685.jpg'\n",
            " Dipto_540_JPG.rf.5194c8c91943e454d2974c9729c58f43.jpg\n",
            " Dipto_541_JPG.rf.907bc8a9146e24b5537f6b377054f291.jpg\n",
            " Dipto_542_JPG.rf.72ab6b372c58e41a6466161b2cad0f71.jpg\n",
            " Dipto_543_JPG.rf.e5d7a1a0baf43cd2e59f7091aeb3a402.jpg\n",
            " Dipto_544_JPG.rf.b8157310ed0348de598b73cc376cdf85.jpg\n",
            " Dipto_545_jpg.rf.234620de229aa123fd7336c59a967b73.jpg\n",
            " Dipto_546_jpg.rf.b06e05c97dac82f21b442e2591a82e42.jpg\n",
            " Dipto_547_jpg.rf.41cbd77022cd40bc34edcd8d090f421e.jpg\n",
            " Dipto_548_jpg.rf.fee36c973a9a3109313c54db52bbdf95.jpg\n",
            "'Dipto_ 54_jpg.rf.d20e3778233c8a1c32cf5508360f55ee.jpg'\n",
            " Dipto_551_jpg.rf.858c03a531ee7c021e2747897301c042.jpg\n",
            " Dipto_553_jpg.rf.4c3f46b2fb40f997ddbf8c4b0b503d8f.jpg\n",
            " Dipto_554_jpg.rf.f622e5928725f26b4a8b41fa4bc6373b.jpg\n",
            " Dipto_555_jpg.rf.e9ca24ce1bb7580ddfabee565e0c8d3c.jpg\n",
            " Dipto_556_jpg.rf.6c39710269fcd6f2534aa6d666ae5b8d.jpg\n",
            " Dipto_557_jpg.rf.9ea81c8b85bbffef1616934db2ed4c03.jpg\n",
            " Dipto_559_jpg.rf.13059ef83500169063dfbbf6fb76929e.jpg\n",
            "'Dipto_ 55_jpg.rf.b5d96b558951709f3fb85b832bbcc474.jpg'\n",
            " Dipto_560_jpg.rf.cae60128f260f74f12e675264d730133.jpg\n",
            " Dipto_563_jpg.rf.d3f02d4933755dc56e3f6d6dc9aaf643.jpg\n",
            " Dipto_564_jpg.rf.f7d4be7589cbcf597c9d69a33cabc022.jpg\n",
            " Dipto_566_jpg.rf.e0b9145c0990a7a533a39b93ec753577.jpg\n",
            " Dipto_568_jpg.rf.75f7e31fd12fd77290575a3215c70dc7.jpg\n",
            " Dipto_569_jpg.rf.94e8a8573b1242b98543843d6402a69e.jpg\n",
            " Dipto_571_jpg.rf.3f63e60feb86aeaa00c152b27d4691ef.jpg\n",
            " Dipto_574_jpg.rf.a227d2f8b4116ebd9f21dcd6f20e249b.jpg\n",
            " Dipto_576_jpg.rf.6cec54a056d3f096480ab59efdd6f73b.jpg\n",
            " Dipto_578_jpg.rf.9afe7a996ecd5bf1b1363dd8fa794b1d.jpg\n",
            " Dipto_579_jpg.rf.621c646c0f325d5890623946a7737343.jpg\n",
            "'Dipto_ 57_jpg.rf.535a6e0689eea88e66742104dd02b986.jpg'\n",
            " Dipto_581_jpg.rf.62ae1e829176040458c9ced112514c59.jpg\n",
            " Dipto_582_jpg.rf.e7cbc77ca14ac05dd43a4bc83b848257.jpg\n",
            " Dipto_584_jpg.rf.ae8cda7dc7feb80713c30b9823a1409c.jpg\n",
            " Dipto_586_jpg.rf.db67e1660c2e7d34c69ea7d187f0ada9.jpg\n",
            " Dipto_587_jpg.rf.b76b93f245bf7cced007e25338314fd7.jpg\n",
            " Dipto_589_jpg.rf.52b076cc731446c9fdf2e3677eb4427a.jpg\n",
            " Dipto_590_jpg.rf.4a23a8a661b1f39446052788043b28e9.jpg\n",
            " Dipto_591_jpg.rf.3138e92e48e6f6054d0cd4768e915126.jpg\n",
            " Dipto_593_jpg.rf.9d0f17549de293d12084e27a76bbf310.jpg\n",
            " Dipto_594_jpg.rf.266dbcd741ce3f523a58902617c8541d.jpg\n",
            " Dipto_595_jpg.rf.97ea92eb9df87082cf1dae4086bd0949.jpg\n",
            " Dipto_597_jpg.rf.d7d040a905b1d3e0596ffa57a7a6d3df.jpg\n",
            " Dipto_598_jpg.rf.dc86c5729695994f7384b42a6e86a2d8.jpg\n",
            " Dipto_600_jpg.rf.133746ecface601cfa70e7d8e2fcf00d.jpg\n",
            " Dipto_601_jpg.rf.41a2dfc37fc4e9d5489a15072b0cae77.jpg\n",
            " Dipto_602_jpg.rf.343afc608926407564f0960e986b90c4.jpg\n",
            " Dipto_603_jpg.rf.fe29d8aac0b7c839f2af8e0eec11d78f.jpg\n",
            " Dipto_604_jpg.rf.dd0d44c9e62c4baa36bfecca5668efb7.jpg\n",
            " Dipto_605_jpg.rf.d2d0e8dd2644665fda6d91017bb6d8e2.jpg\n",
            " Dipto_606_jpg.rf.bb21be2ef0c2aeb0c442eabc2d66a6ec.jpg\n",
            " Dipto_607_jpg.rf.123ae1965478dcc3ed9c701120fedc28.jpg\n",
            " Dipto_608_jpg.rf.d4d05a5e2830135ad36703cb71331be2.jpg\n",
            " Dipto_610_jpg.rf.9e95dc9992b46b23bdb8912ee1a739e9.jpg\n",
            " Dipto_612_jpg.rf.1b39897ceddf2b2b545a9a317d6f2a3a.jpg\n",
            " Dipto_613_jpg.rf.fba524e945431a6f08625287245a46fd.jpg\n",
            " Dipto_616_jpg.rf.4264e4215201c2a4219260e7abd109a6.jpg\n",
            " Dipto_618_jpg.rf.9bbda218947d0fb99a785943d9f0f8ea.jpg\n",
            " Dipto_619_jpg.rf.bb053cec04d63e59597655f35cfbb50b.jpg\n",
            "'Dipto_ 61_jpg.rf.4aff5d853fd2df46858823c10946611e.jpg'\n",
            " Dipto_620_jpg.rf.e5cd8903599c9dd448f0fa508622e6ac.jpg\n",
            " Dipto_621_jpg.rf.d655d88b656d48eec6321f3624c16dbb.jpg\n",
            " Dipto_624_jpg.rf.cba84d8be5fe48bba6a291303fded029.jpg\n",
            " Dipto_625_jpg.rf.9fc83713cd248b619bdb806fe7ef7da4.jpg\n",
            " Dipto_626_jpg.rf.64a5d233c4d5df862391d86567160f05.jpg\n",
            " Dipto_627_jpg.rf.1cd9ec70d0ee848cd0a5bb58bd116c72.jpg\n",
            " Dipto_629_jpg.rf.2c18a351c98473ff5518f1e072bb2f9d.jpg\n",
            "'Dipto_ 62_jpg.rf.220a6e30fc064c355179ac38d296d337.jpg'\n",
            " Dipto_630_jpg.rf.d961fca308a2d395bc68b48b4ba4ca19.jpg\n",
            " Dipto_631_jpg.rf.a72ec0927f7bf4418b368fde73993eb3.jpg\n",
            " Dipto_634_jpg.rf.4513dc85b4b2dd06eb5f8f684550a32a.jpg\n",
            " Dipto_635_jpg.rf.1fd8ce5e02373687d8a575f559681185.jpg\n",
            " Dipto_636_jpg.rf.176d9a6d92d7056369295d7af2370bca.jpg\n",
            " Dipto_637_jpg.rf.8c1085ef0b436042eb98bf0e13591e7e.jpg\n",
            " Dipto_638_jpg.rf.de5b2eb73d017150e9cb1e04b61df22a.jpg\n",
            " Dipto_639_jpg.rf.acd4a24be9c2070f492b0da1b66425fb.jpg\n",
            "'Dipto_ 63_jpg.rf.cac20eac2c86f2c29b229dcc2f061a3c.jpg'\n",
            " Dipto_640_jpg.rf.e384ae1586bff81bb9cfd42164967354.jpg\n",
            " Dipto_642_jpg.rf.b06638541910db8e550d39256d2a26d1.jpg\n",
            " Dipto_643_jpg.rf.66162ff72dc60a570ea0e46a0e8d85e9.jpg\n",
            " Dipto_645_jpg.rf.6736511d09d07b2d81ffc8d8d2cc3f98.jpg\n",
            " Dipto_646_jpg.rf.2301cdc9b285cca3998da1cea9a8d90b.jpg\n",
            " Dipto_647_jpg.rf.111605712e12aa82ba3338395de283e8.jpg\n",
            " Dipto_650_jpg.rf.af2467be7edaa16c07912ca37fff7f96.jpg\n",
            " Dipto_652_jpg.rf.609789fd050205418cae95b9b2ad1d37.jpg\n",
            " Dipto_653_jpg.rf.934fc1d289e544a2a42e6a0bb5fc9ade.jpg\n",
            " Dipto_654_jpg.rf.5378258e3cdcaad55ef38a8f25513594.jpg\n",
            " Dipto_655_jpg.rf.fb03cb18362dd1eaa1d746a33e55f3c6.jpg\n",
            " Dipto_657_jpg.rf.b55a5f8f6b169e3f8c9b0e36a2adb353.jpg\n",
            " Dipto_658_jpg.rf.9015816c92b749761a50122af6e1c491.jpg\n",
            " Dipto_659_jpg.rf.e6481a7f5573a37ea4c2ce87f0301cea.jpg\n",
            "'Dipto_ 65_jpg.rf.9549fcf227df60fe62a605ed0eff8296.jpg'\n",
            " Dipto_661_jpg.rf.64bb89c2f1f8085cc90524f75139af14.jpg\n",
            " Dipto_662_jpg.rf.91b9df9ddeae72afa854f43c1ed260ff.jpg\n",
            " Dipto_663_jpg.rf.ab5156a6439bb87be1d7a19f5371ed70.jpg\n",
            " Dipto_664_jpg.rf.0eb3dc68e727a65898ed6efb1611bf20.jpg\n",
            " Dipto_665_jpg.rf.26bcc80dc106c92ebdf2f57c23aa7bfe.jpg\n",
            " Dipto_667_jpg.rf.ab1207856d9c122733c8c86342b256ab.jpg\n",
            " Dipto_669_jpg.rf.3225aef3122b214bc064888c8151da38.jpg\n",
            " Dipto_670_jpg.rf.b0a0f4542e6f578da1e779539eecc6fd.jpg\n",
            " Dipto_671_jpg.rf.2d43772aa4b62a13f4d03548c2d3bd75.jpg\n",
            " Dipto_672_jpg.rf.25371d47c2e7777f99164e52f308d0b6.jpg\n",
            " Dipto_673_jpg.rf.176c8a8aabfa257a7d0d435a1b1ecf6d.jpg\n",
            " Dipto_676_jpg.rf.20e675fdf7fb2f53084d7ed13d46867a.jpg\n",
            " Dipto_677_jpg.rf.6efed4a289032146b18f5db44a5f16da.jpg\n",
            " Dipto_678_jpg.rf.d54911477733430761272142ce7c6bff.jpg\n",
            " Dipto_679_jpg.rf.eba603caef2b4971b93302e70eec1a01.jpg\n",
            "'Dipto_ 67_jpg.rf.fb95697cd251f71be5aaf4ee986942aa.jpg'\n",
            " Dipto_682_jpg.rf.0e652ffacafecb3913336040fef8c5c4.jpg\n",
            " Dipto_683_jpg.rf.ec345b89495c4be34947dceb52cd5eb2.jpg\n",
            " Dipto_685_jpg.rf.827fb1afa3f73b369f9f304860aeaab6.jpg\n",
            " Dipto_686_jpg.rf.c39fab22e9742bfd707a1334e4923ac7.jpg\n",
            " Dipto_687_jpg.rf.18f2e4252281665ce1c13986284cafd8.jpg\n",
            " Dipto_688_jpg.rf.8ea95e355bd4998a77404b1698076121.jpg\n",
            "'Dipto_ 68_jpg.rf.048f9e2a8325a2f9be29dc80c8053db7.jpg'\n",
            " Dipto_690_jpg.rf.852128aa01ac04e41f17481f0123f107.jpg\n",
            " Dipto_692_jpg.rf.a7e6edaf8a5a89e7cd9a22d781b5df8d.jpg\n",
            " Dipto_693_jpg.rf.8fc64bd36f5f49230549609d87fad180.jpg\n",
            " Dipto_694_jpg.rf.2cd6f6a3ecb5c6f0eb5f074f49767007.jpg\n",
            " Dipto_696_jpg.rf.53fd28e2ebae846264e845f37653f581.jpg\n",
            " Dipto_697_jpg.rf.2e41d0a7f7ebabb51648415287d30295.jpg\n",
            " Dipto_698_jpg.rf.a350b8674ceb72503a1fc9f9ecc0b905.jpg\n",
            " Dipto_699_jpg.rf.9a058d1ab8f20d60e8c0a2dd1392db46.jpg\n",
            " Dipto_700_jpg.rf.fbc4e788fad74860adc7198b61e9b086.jpg\n",
            " Dipto_703_jpg.rf.4afe68be2eb226b5bc2e3f8cd5f175fc.jpg\n",
            " Dipto_704_jpg.rf.cb4eef0a97b7239816be07deee544ffd.jpg\n",
            " Dipto_706_jpg.rf.f801b22d267d665d3b7ecd5f71f60707.jpg\n",
            " Dipto_709_jpg.rf.c9c718831065d68e9614bea14fbac611.jpg\n",
            " Dipto_710_jpg.rf.628ba882500ece2a5e0a9dc2229a95d4.jpg\n",
            " Dipto_712_jpg.rf.fe743c4fefc9bf2c13efebf5b302cc58.jpg\n",
            " Dipto_713_jpg.rf.517c087e9b41fe2a87bab39f7f2cf65c.jpg\n",
            " Dipto_715_jpg.rf.75244cf32fc5114a372eb47d3215fe60.jpg\n",
            " Dipto_717_jpg.rf.bed22d4e8f80cab199bf68f5d4adfd19.jpg\n",
            " Dipto_718_jpg.rf.656ab0350ba06ec3ad012ba57fd7037c.jpg\n",
            "'Dipto_ 71_jpg.rf.32f4afbf15aac61425d6353a18a39d45.jpg'\n",
            " Dipto_720_jpg.rf.0128e4b94c3417444e06cb17ed935836.jpg\n",
            " Dipto_721_jpg.rf.f2541bfda4b25dfb1037949313a4d25d.jpg\n",
            " Dipto_723_jpg.rf.adc599cd9575219123c1e3bff09293f7.jpg\n",
            " Dipto_724_jpg.rf.37b18fffe2f7e988b47d28845bdb59f9.jpg\n",
            " Dipto_727_jpg.rf.c585cb13b0b47c3548224cd1ac521967.jpg\n",
            " Dipto_728_jpg.rf.081bacdb169291f6875574107617e7f0.jpg\n",
            " Dipto_729_jpg.rf.d0eadef503a015e169e461f4be4439dc.jpg\n",
            "'Dipto_ 72_jpg.rf.f3185f3c97f53f8fcf5a708cb4bbb583.jpg'\n",
            " Dipto_730_jpg.rf.02423ea7f59369420367a4b900cb2fb9.jpg\n",
            " Dipto_731_jpg.rf.67f76387c841113907cc19976e2355b2.jpg\n",
            " Dipto_732_jpg.rf.6c74d83fa4ad2e6c91d3716e9136868a.jpg\n",
            " Dipto_736_jpg.rf.30bfabd3274505620cdb1278135634fc.jpg\n",
            " Dipto_737_jpg.rf.0dfb68a392e741df489dd5f9b5b7ffd0.jpg\n",
            "'Dipto_ 73_jpg.rf.cc0564ed2d1eede2f685889ffefab906.jpg'\n",
            " Dipto_741_jpg.rf.0273675d0f52fd0b84bcf39e51483a10.jpg\n",
            " Dipto_742_jpg.rf.10bd5547fb0c9f59e8e637b44710b013.jpg\n",
            " Dipto_744_jpg.rf.6386ec12b426ca301faae218e5e2a0e6.jpg\n",
            " Dipto_747_jpg.rf.aa6ebb781700bdb832491bc49304cd2c.jpg\n",
            " Dipto_748_jpg.rf.d3b8700884bd40044c5addf6ed9431b5.jpg\n",
            " Dipto_749_jpg.rf.e7f51e9cb4688b4bfe5666de5e918c19.jpg\n",
            "'Dipto_ 74_jpg.rf.baf638fb1a3f902f24575cd21fc848d7.jpg'\n",
            " Dipto_751_jpg.rf.51bf1cad25123c6e632667bac16bd3ec.jpg\n",
            " Dipto_752_jpg.rf.b48fd7bc21b05853b472b029b6b65f2d.jpg\n",
            " Dipto_754_jpg.rf.74709bf1fabe85e22293848bf63b0374.jpg\n",
            " Dipto_758_jpg.rf.08daa1e217256880c1ca62a757a851d8.jpg\n",
            "'Dipto_ 75_jpg.rf.8e11df823b113d35f61c1d1695bd893c.jpg'\n",
            " Dipto_760_jpg.rf.284665df3c536ae3976fe34e54195d9d.jpg\n",
            " Dipto_761_jpg.rf.dcf8af57c5a4a16ae112bfd76d01e0af.jpg\n",
            " Dipto_762_jpg.rf.239682aebfa00a4efa31542a276ac5f5.jpg\n",
            " Dipto_763_jpg.rf.83c710c8ae6a5d7f4a415dabbf5246d5.jpg\n",
            " Dipto_764_jpg.rf.e043db79191a167de7b854c9b4c3606d.jpg\n",
            " Dipto_765_jpg.rf.77cfda29a3e69a662a4b30ee312dc253.jpg\n",
            " Dipto_766_jpg.rf.28f56ccb62e2d6145733600ff6ce726c.jpg\n",
            " Dipto_768_jpg.rf.777bd436547fbc9633d79ef68dffea30.jpg\n",
            " Dipto_769_jpg.rf.10590504906eeac5c1d67e13fa5e7c5e.jpg\n",
            "'Dipto_ 76_jpg.rf.94f9241f63767d3a693da619c5e6efa1.jpg'\n",
            " Dipto_770_jpg.rf.4acf9e408786a70666fb653574fcb928.jpg\n",
            " Dipto_771_jpg.rf.f35f64c08b801f61cece9778f5266ffc.jpg\n",
            " Dipto_772_jpg.rf.0dbac0654b538b6ba5d0dabf944a3ba7.jpg\n",
            " Dipto_774_jpg.rf.a339ca5954e0fb8f7e038116c5a19f59.jpg\n",
            " Dipto_775_jpg.rf.3f400218ee538dc45d238cbe41dc98c8.jpg\n",
            " Dipto_776_jpg.rf.409d93904f04d7dca04e0c7ab26f1320.jpg\n",
            " Dipto_777_jpg.rf.0bf6a73ab5388588bf35c1b45f5c51ae.jpg\n",
            " Dipto_778_jpg.rf.e53a6a734321c1fae7c9d532f504e12f.jpg\n",
            "'Dipto_ 77_jpg.rf.903d32cf1b291d79829ff8ee34ed1ac4.jpg'\n",
            " Dipto_782_jpg.rf.2288ff3456f72b532d162a6f9805cf2e.jpg\n",
            " Dipto_784_jpg.rf.7f9ff795bb42bd4c6c961dd9d17c1f9e.jpg\n",
            " Dipto_785_jpg.rf.a8667e11506513d834dd93f716b05ef8.jpg\n",
            " Dipto_786_jpg.rf.2b5958baf695e5267d098c42d345c0a8.jpg\n",
            " Dipto_787_jpg.rf.4ecc0c1c823aa0196d5195ee4d82480c.jpg\n",
            " Dipto_788_jpg.rf.c68320b8e4eb50e1d5962f3b3b4f995a.jpg\n",
            "'Dipto_ 78_jpg.rf.e32cdf5cfd3c07f274bf29958c0d6548.jpg'\n",
            " Dipto_790_jpg.rf.766557c174daebc5823cda663148fd38.jpg\n",
            " Dipto_791_jpg.rf.5abd8071b62031dbbe1e93215aafa309.jpg\n",
            " Dipto_792_jpg.rf.00eb1c4627a0aeddf04aede007238e9c.jpg\n",
            " Dipto_794_jpg.rf.3710919e96d5ddd1bcc856b9f5934f39.jpg\n",
            " Dipto_795_jpg.rf.1e0a41f5f597f34b31bdb7465176f5f8.jpg\n",
            " Dipto_798_jpg.rf.7c14bf08b2f727844b9d509c3b812b26.jpg\n",
            " Dipto_799_jpg.rf.30c2d56c7fe47afa97d44db005112500.jpg\n",
            " Dipto_801_jpg.rf.45461387c1e23c048111949a8a52d091.jpg\n",
            " Dipto_802_jpg.rf.f220c96dd8ba6a7a922b4adf5dbfcf28.jpg\n",
            " Dipto_803_jpg.rf.9978c2b66a932454c4ba513b1bcb49cc.jpg\n",
            " Dipto_804_jpg.rf.6ff947344144fc24eddd27670365b3f6.jpg\n",
            " Dipto_805_jpg.rf.a5daaaf25f4c37d52c2181ab9600c21a.jpg\n",
            " Dipto_806_jpg.rf.072a7a8d938c662af35312a58a4fc9ed.jpg\n",
            " Dipto_807_jpg.rf.3217d2595fb379c4bbb2b9944f6ba0ca.jpg\n",
            " Dipto_808_jpg.rf.bf50dcca5da66cddfad42f34761a5f02.jpg\n",
            " Dipto_809_jpg.rf.98d4b06af4ca866bcbff82b6f97496c0.jpg\n",
            "'Dipto_ 80_jpg.rf.a32c35c41af2af44f8c9d8578388f520.jpg'\n",
            " Dipto_812_jpg.rf.366136ae929fdd980ab1d757d2a5c00a.jpg\n",
            " Dipto_813_jpg.rf.f21b8557f780f849d05ae98cc1e9c46a.jpg\n",
            " Dipto_814_jpg.rf.321427b760ba2142f28c3b7bcd5c7e77.jpg\n",
            " Dipto_816_jpg.rf.f6570777daa1d2528decabea5a07bf16.jpg\n",
            " Dipto_817_jpg.rf.42b5865096c72b5bc9bb139fe2aa6788.jpg\n",
            " Dipto_818_jpg.rf.8a1de07bb3cc1a9fdede8cd0afd042cf.jpg\n",
            "'Dipto_ 81_jpg.rf.64d72980a597858046bdb96b46d59c75.jpg'\n",
            " Dipto_821_jpg.rf.11d56aeb5a42e2e86444dd0161ee24af.jpg\n",
            " Dipto_822_jpg.rf.7b273521e15807a82ea0fcd10ee4ef08.jpg\n",
            " Dipto_823_jpg.rf.6f9122b48d6601438802a0e3e6afc987.jpg\n",
            " Dipto_827_jpg.rf.6c3964a050193070cf79ad1634a347ca.jpg\n",
            " Dipto_828_jpg.rf.4da646a03e447ded61f18ad8507d977e.jpg\n",
            " Dipto_829_jpg.rf.95d1bf26686739d731eee5f9b24af669.jpg\n",
            "'Dipto_ 82_jpg.rf.6ae6d099b3d5db13485eb606f3074895.jpg'\n",
            " Dipto_830_jpg.rf.30b1afac68502c016f5fff881f5a3e8f.jpg\n",
            " Dipto_833_jpg.rf.7d68a4ed55a08c051d9de440d404fc8f.jpg\n",
            " Dipto_834_jpg.rf.1bc4537b595205274c6b5b14a9d6252c.jpg\n",
            " Dipto_835_jpg.rf.00c5cb0b040d5d1b1285e5a6828fd5be.jpg\n",
            " Dipto_836_jpg.rf.71995cd8df9519f1487d1cc37a92970f.jpg\n",
            " Dipto_837_jpg.rf.00fd0bb78c1fcdf95e690d759a69f411.jpg\n",
            " Dipto_838_jpg.rf.3eaf2ef9523c708c01e00d58e8370200.jpg\n",
            " Dipto_839_jpg.rf.a4b26cddf5424c7dfcfca0a7131879f3.jpg\n",
            "'Dipto_ 83_jpg.rf.8eec253216c1914ae893c9e2b2fd3ce8.jpg'\n",
            " Dipto_840_jpg.rf.4690ad1e10361c580f9bdc5253aefbf4.jpg\n",
            " Dipto_842_jpg.rf.ad73d5ae80f6114034c4582b16ca2da0.jpg\n",
            " Dipto_844_jpg.rf.f5f580b13c476189edaa21b42523fd22.jpg\n",
            " Dipto_845_jpg.rf.ba61f1b3d7fd509026d5e1bf9cb4204a.jpg\n",
            " Dipto_846_jpg.rf.f37c1901c49cf500a148228259fcee67.jpg\n",
            " Dipto_848_jpg.rf.b5122b26313bb498703683ad5ec6ad42.jpg\n",
            " Dipto_849_jpg.rf.239222a84af33673719058f3aa381df5.jpg\n",
            " Dipto_851_jpg.rf.d6139481a4680e312943f0966a3775c0.jpg\n",
            " Dipto_852_jpg.rf.543af1669c4583e74605bf89df43a173.jpg\n",
            " Dipto_854_jpg.rf.9c7426c08264a8619f55851c2cbdad3e.jpg\n",
            " Dipto_855_jpg.rf.ff6c727bf2c2af70f8c8bf74ed873dc4.jpg\n",
            " Dipto_858_jpg.rf.6d7bf096f372689883228077b797f086.jpg\n",
            "'Dipto_ 85_jpg.rf.5814c158584e0d43b43025b5e67f5cac.jpg'\n",
            "'Dipto_ 86_jpg.rf.0f5d7c090100f87d809737d43bf32a5b.jpg'\n",
            "'Dipto_ 88_jpg.rf.2f372133a5d1ae7a4ecd39e504474443.jpg'\n",
            "'Dipto_ 89_jpg.rf.34caa200d1084b54082f28f29b78779a.jpg'\n",
            "'Dipto_ 90_jpg.rf.13d494a41dc8335f4269d79ca6c715e7.jpg'\n",
            "'Dipto_ 91_jpg.rf.9d92fe8ea64e352afde67bba70c43240.jpg'\n",
            "'Dipto_ 92_jpg.rf.3c194a82a80c8621a11fbea43fae7020.jpg'\n",
            "'Dipto_ 93_jpg.rf.8004320644c12ac5961d4e2c6924081f.jpg'\n",
            "'Dipto_ 94_jpg.rf.8ef3d992d7b5d551d54b18988cce9e18.jpg'\n",
            "'Dipto_ 95_jpg.rf.c5423234f17e2cb7e2f7ef2bfca2c3de.jpg'\n",
            "'Dipto_ 96_jpg.rf.93e76ba01f8ef4c51e01fc4b0010e2f9.jpg'\n",
            "'Dipto_ 97_jpg.rf.9d007b5b2faf10d1da4a6e7980f56d2d.jpg'\n",
            "'Dipto_ 98_jpg.rf.5017d62e13236693cade95dc40cc1c73.jpg'\n",
            " Navid_01_jpg.rf.350c9f4c722e2550a18a6bb2fef022b3.jpg\n",
            " Navid_02_jpg.rf.72eb8b46208423394f9d5789c99e1acf.jpg\n",
            " Navid_03_jpg.rf.8bf13faaa1741062467677600c485d21.jpg\n",
            " Navid_04_jpg.rf.3aa9f69626215b31a4acce142f8cc280.jpg\n",
            " Navid_05_jpg.rf.2fba21609861b03c59a2bce5e2a3d293.jpg\n",
            " Navid_07_jpg.rf.1e53dd6f9aa12532c056ade4f8be0738.jpg\n",
            " Navid_08_jpg.rf.eaf51ec48685b27ceef9dc426d088063.jpg\n",
            " Navid_100_jpg.rf.1fc8bb0e6c14311f340a5dfe2e4e53a2.jpg\n",
            " Navid_101_jpg.rf.ddc197342a46584d56fce65138f41730.jpg\n",
            " Navid_102_jpg.rf.0ba46a3ec450070afbdf849f7442ffb8.jpg\n",
            " Navid_103_jpg.rf.6b7d7065c163792f43b66201581e38fe.jpg\n",
            " Navid_104_jpg.rf.125da61fe086f73f5bfe35f8d8c0d284.jpg\n",
            " Navid_105_jpg.rf.37bc62d7a47203f77648cf1af9e2b0a2.jpg\n",
            " Navid_106_jpg.rf.159eea05092615d706b893cf27fc2fdf.jpg\n",
            " Navid_107_jpg.rf.eeeb6ca69448a599883e13a9e32e9451.jpg\n",
            " Navid_108_jpg.rf.36607ddb93d5be87e528ea5c141c7058.jpg\n",
            " Navid_109_jpg.rf.7b63caa60341889e09f2fe5ea4be9d5b.jpg\n",
            " Navid_110_jpg.rf.28591b3c5f37761f146ca8191fb6121a.jpg\n",
            " Navid_111_jpg.rf.e7854b31c950d81c5c5431f5c4a03cd1.jpg\n",
            " Navid_112_jpg.rf.4b29cae8782af355df3c82c9da9f8d90.jpg\n",
            " Navid_114_jpg.rf.1ff8a13667f8d10c18c1b323d9833e6e.jpg\n",
            " Navid_115_jpg.rf.26f98b6057e140575b495e1848b5fc16.jpg\n",
            " Navid_117_jpg.rf.549f93c85a426d820728884da8318c2b.jpg\n",
            " Navid_118_jpg.rf.f802ac6c85b5c8121b1bb43a90c05655.jpg\n",
            " Navid_119_jpg.rf.9ea184ef71b73888c80b6d1295c2cbca.jpg\n",
            " Navid_120_jpg.rf.73cf741b523fc0029908f37c659d93e3.jpg\n",
            " Navid_121_jpg.rf.ea3aa2c77cea81aba2e93ea1458a5a15.jpg\n",
            " Navid_122_jpg.rf.5a0117101ed867fb32fd6d7a6f9d6fdd.jpg\n",
            " Navid_123_jpg.rf.a697a3d556e9d7314f7b9b918d2b87b5.jpg\n",
            " Navid_124_jpg.rf.2245bbfff4d3be43cf5f6eee6f812305.jpg\n",
            " Navid_125_jpg.rf.879e21ab0e74be3bc1a6f7923933ad4b.jpg\n",
            " Navid_126_jpg.rf.cdfdc7ec3b877ba599944e70c2823e2c.jpg\n",
            " Navid_127_jpg.rf.6da709fd6f3b3875f440afe8534c5c9e.jpg\n",
            " Navid_128_jpg.rf.8e958c686646ef27c707c54f11125886.jpg\n",
            " Navid_129_jpg.rf.2c6316a2493a610046be257850390fb8.jpg\n",
            " Navid_12_jpg.rf.9ddee9f8724708106f5c52b9cf9a8b99.jpg\n",
            " Navid_132_jpg.rf.a01239677e5503c1b39aef3b654a631f.jpg\n",
            " Navid_133_jpg.rf.8c20612ae621de79c7484dbe479b996b.jpg\n",
            " Navid_135_jpg.rf.3caee0b1a089cdb8709852696b01a83d.jpg\n",
            " Navid_136_jpg.rf.bd62dcdfbdf945baac33fbd62502a354.jpg\n",
            " Navid_137_jpg.rf.a33043e136f1d2d0920e099c29b158f9.jpg\n",
            " Navid_138_jpg.rf.c97adc1f9515c98726494c6b86151e84.jpg\n",
            " Navid_139_jpg.rf.c49aa53f525908c3946f49b5a5650717.jpg\n",
            " Navid_13_jpg.rf.166e46c0003892667c72fda9cf30c0e1.jpg\n",
            " Navid_140_jpg.rf.aa90f66607997a30441681a60a9a9be3.jpg\n",
            " Navid_142_jpg.rf.d1a898960d6ddc43dc903fe0b2d9cef2.jpg\n",
            " Navid_144_jpg.rf.9d216ba0109409d21453e4bd994b7c1e.jpg\n",
            " Navid_145_jpg.rf.0e70864663984d07da72e5d728aa9944.jpg\n",
            " Navid_146_jpg.rf.ed927d9b54ab9a03498c9d43a9ce9b2f.jpg\n",
            " Navid_147_jpg.rf.6b8e8beb87bb4d67e27eeff39f20d674.jpg\n",
            " Navid_148_jpg.rf.5774051dfc3300c02eade8e45104221e.jpg\n",
            " Navid_149_jpg.rf.5fca21aa8f49c4ba90d34cfd3162c672.jpg\n",
            " Navid_151_jpg.rf.672922bd33f8570c7cb91883cc2574fe.jpg\n",
            " Navid_153_jpg.rf.cc4e0d9ce27de0449b37e772d2995a3f.jpg\n",
            " Navid_154_jpg.rf.6654b3191b7d265784c72d26211bae31.jpg\n",
            " Navid_156_jpg.rf.42712f4e6f8d4f9ff8d61d7d7388944b.jpg\n",
            " Navid_157_jpg.rf.53a6cda163f8d00a3c6faf2395275aff.jpg\n",
            " Navid_159_jpg.rf.9c438b6a7a93aa36022e9ebcc9efdd0f.jpg\n",
            " Navid_15_jpg.rf.f95cf172b738ac0dc46717d9ab5a7cf0.jpg\n",
            " Navid_160_jpg.rf.580742511a2ab9691e3fd975f240e39f.jpg\n",
            " Navid_161_jpg.rf.3c0677a0248a7cb5b05a07afc0b836a8.jpg\n",
            " Navid_162_jpg.rf.aa59e9b02bf95a3cf7a959a15ff7bbb7.jpg\n",
            " Navid_163_jpg.rf.bb89bc4a890a157f78ed4b1ac94a8ae5.jpg\n",
            " Navid_164_jpg.rf.83dd8e8f6744571d1b4cbf5b21c234bd.jpg\n",
            " Navid_166_jpg.rf.14e3e49ad44378eb7e01802da27e9528.jpg\n",
            " Navid_167_jpg.rf.56b2ca6c55ccdc826440ac02b8489e09.jpg\n",
            " Navid_169_jpg.rf.bf5068dda670d190c373d190c679032d.jpg\n",
            " Navid_16_jpg.rf.f1868571d32a6f3194d726a09431a2b7.jpg\n",
            " Navid_170_jpg.rf.20a58922867f37c94c910fd7dcb79d13.jpg\n",
            " Navid_171_jpg.rf.7b3532fe044ed6926345d4fd3ee8a449.jpg\n",
            " Navid_172_jpg.rf.49c19bc7241e3e9f4e832d4dbabfbd2d.jpg\n",
            " Navid_175_jpg.rf.96beddfaa9d01d35ed6ccef0fc850e55.jpg\n",
            " Navid_176_jpg.rf.69f5ec0bcd28c35663ad50d05c5eaf67.jpg\n",
            " Navid_177_jpg.rf.8a6594e483c55178d79b52bf5715bc27.jpg\n",
            " Navid_178_jpg.rf.1f361f35cdd21c20438928d59757f23f.jpg\n",
            " Navid_179_jpg.rf.e9867a01c40270d61b9da19be3a49f1e.jpg\n",
            " Navid_17_jpg.rf.2dcb6d797d5901d0d8b4ddca4153647c.jpg\n",
            " Navid_181_jpg.rf.470bb95971f31b3b7549395ae71d442d.jpg\n",
            " Navid_182_jpg.rf.e7c2a1bc35cc1822b33db464d13a30e9.jpg\n",
            " Navid_183_jpg.rf.c48e861e3b73378c0e4dadb42a4f6629.jpg\n",
            " Navid_184_jpg.rf.36e6c61f5844d99a7a879a56bfa71363.jpg\n",
            " Navid_185_jpg.rf.0ac76f15a34acc0000b3973bc81437a3.jpg\n",
            " Navid_187_jpg.rf.6f94b7a8ab5622a0b39c4ca2d5bc3527.jpg\n",
            " Navid_188_jpg.rf.a36b9a5763926ded7069311a2dccb236.jpg\n",
            " Navid_189_jpg.rf.424ffc67d5908ce1c24bbdc9319af1f9.jpg\n",
            " Navid_18_jpg.rf.debc887726f10b09826c0c081fbf4574.jpg\n",
            " Navid_190_jpg.rf.221e008b65311831fd7005931fc568ca.jpg\n",
            " Navid_194_jpg.rf.a04c55795b74ebbada51b7b726469170.jpg\n",
            " Navid_195_jpg.rf.ae136af18735743a5f8894bf5d5635a7.jpg\n",
            " Navid_196_jpg.rf.16d98cc6d09ff6a074e8223c5f16f43e.jpg\n",
            " Navid_198_jpg.rf.a08bea6448efffe897888ca823e1fbbb.jpg\n",
            " Navid_199_jpg.rf.36af53d976493f061c29b2d9d7a76f26.jpg\n",
            " Navid_200_jpg.rf.7e66c2803e6dc7cee995fb6b82a6c190.jpg\n",
            " Navid_201_jpg.rf.23bb7f4d97957e4aadf7919b5e3ab866.jpg\n",
            " Navid_206_jpg.rf.7b2640575b5e3833b50f248be89db40e.jpg\n",
            " Navid_207_jpg.rf.af8418d8ecc766b2a1b0588926a1d826.jpg\n",
            " Navid_208_jpg.rf.64b813f73a5dc0bbd8d391019b3f5486.jpg\n",
            " Navid_20_jpg.rf.26f4f42fe0ec1b9f83d5f4aa67f38396.jpg\n",
            " Navid_211_jpg.rf.c6844726ee46b30128c6c8a9a4945176.jpg\n",
            " Navid_212_jpg.rf.4b6ddcb06f7cd7ce59fbd81d9ceefdd2.jpg\n",
            " Navid_213_jpg.rf.312ba33b909cea4147d4beb8a5919396.jpg\n",
            " Navid_215_jpg.rf.647072bf98f84abe987b40b6fce7b0e7.jpg\n",
            " Navid_216_jpg.rf.779e6cc1cf74e88bba9412922bf7fc07.jpg\n",
            " Navid_217_jpg.rf.434c94cb36ff40dd7c99566b0bc10b1d.jpg\n",
            " Navid_221_jpg.rf.9ce8e221182ab0bb1c9fd7fa8fe7931b.jpg\n",
            " Navid_222_jpg.rf.c9b5811f78abde2b8e6f6eeda9db67ba.jpg\n",
            " Navid_223_jpg.rf.dd2f5d8d4aaebe6318eed276bee664b1.jpg\n",
            " Navid_224_jpg.rf.06c7738050314ee51a6921dfe925f6cb.jpg\n",
            " Navid_225_jpg.rf.0c13238f91f652b948cbb94ba492ae5e.jpg\n",
            " Navid_226_jpg.rf.4f2fd1a56cebbffb4bce4701c5ed13a4.jpg\n",
            " Navid_227_jpg.rf.57f97a5257cae98608a410ef33cad8f5.jpg\n",
            " Navid_228_jpg.rf.d47b7fae4e042dac1c7f4ab5d249db14.jpg\n",
            " Navid_229_jpg.rf.adb28e48d0a5a3de1d08a553b2685844.jpg\n",
            " Navid_232_jpg.rf.055e0dfc117c8a2a7bfe013f143d22d0.jpg\n",
            " Navid_233_jpg.rf.5317549057d967786cf41b8bf963dff9.jpg\n",
            " Navid_236_jpg.rf.5b9dfcc84214cb1d83b8453ad3d7b3fc.jpg\n",
            " Navid_237_jpg.rf.3a28d4da1fabe7438981998d7f261230.jpg\n",
            " Navid_238_jpg.rf.2e0fc522559ebad9a65c8162302dbca2.jpg\n",
            " Navid_239_jpg.rf.dbb3fee2b4a27434abf2d12a3426d8cc.jpg\n",
            " Navid_23_jpg.rf.07a760346b9aaf941ad4169a6c89ca4b.jpg\n",
            " Navid_240_jpg.rf.bc8ef5555e6d21f7427fb9675d2b2bd2.jpg\n",
            " Navid_242_jpg.rf.08151652c3d40a8900fde261464d3b8b.jpg\n",
            " Navid_243_jpg.rf.4e7dd61dcfa31f3f3f9518b6a399d6a0.jpg\n",
            " Navid_244_jpg.rf.cd4318bfcc2f878afd627aa9bed36b84.jpg\n",
            " Navid_245_jpg.rf.8b2cb55e4ec137a1682d1dbb4ee0486a.jpg\n",
            " Navid_246_jpg.rf.31ef645afb9afaf9a25dd8cc3772dabf.jpg\n",
            " Navid_247_jpg.rf.5b79cce31b5c2d358040e0b32fe7cc76.jpg\n",
            " Navid_248_jpg.rf.345bb36c15b7c733dfed56033aafdbbd.jpg\n",
            " Navid_24_jpg.rf.42fda882a53c94026bbed06eaffa6248.jpg\n",
            " Navid_250_jpg.rf.7e76484ae5011e4ebb75c8fc71213b7a.jpg\n",
            " Navid_253_jpg.rf.eae9fdc8f2db9c903e7be3e15a19b5eb.jpg\n",
            " Navid_254_jpg.rf.e841188585d36e801b71cf5ff57f240b.jpg\n",
            " Navid_255_jpg.rf.2db59f2fbea01fe2065a4827c163e26c.jpg\n",
            " Navid_256_jpg.rf.ce4ed850459169f12ff23c383e4ddb8e.jpg\n",
            " Navid_258_jpg.rf.ee5d797a668afcc4cf2224bd042068f8.jpg\n",
            " Navid_259_jpg.rf.1c9a31e70208144bb0e6bc2987ac2113.jpg\n",
            " Navid_25_jpg.rf.2917bdd83d63404a861544e9e17cea2b.jpg\n",
            " Navid_260_jpg.rf.7245d553db960f3f8cb8adc874393753.jpg\n",
            " Navid_261_jpg.rf.5573e00719d244da74e863300e5cd19b.jpg\n",
            " Navid_262_jpg.rf.ee8738c7b360d4b12adf2f853b96544d.jpg\n",
            " Navid_263_jpg.rf.c501af66a08679bb9db5030512bc0f61.jpg\n",
            " Navid_265_jpg.rf.4388c3c5ca9c7b695302361233c6c99e.jpg\n",
            " Navid_266_jpg.rf.fe71b4a74e6ef5da4b220bc579559ea7.jpg\n",
            " Navid_267_jpg.rf.bb03ccb14875d8bc6d25c59a8eef98c6.jpg\n",
            " Navid_269_jpg.rf.857758f83808904aca745b524b78b14a.jpg\n",
            " Navid_26_jpg.rf.b6fb268964068ea4017bbb1306b4c14c.jpg\n",
            " Navid_271_jpg.rf.cec2006fa01320add30564f76c8e7dc0.jpg\n",
            " Navid_272_jpg.rf.281cdd8db688e865ae98f0c1d2144b7b.jpg\n",
            " Navid_273_jpg.rf.2434f8c035711dfed52c065eb48d6be4.jpg\n",
            " Navid_274_jpg.rf.522edf29553ac21e1f6bd46770baa769.jpg\n",
            " Navid_275_jpg.rf.36116d224b67082166d6ddc18cc27154.jpg\n",
            " Navid_276_jpg.rf.cf79544e415f5864e7be7f5468688fda.jpg\n",
            " Navid_277_jpg.rf.3556638b15af512ff8d1634ff50fccd1.jpg\n",
            " Navid_279_jpg.rf.f1f9182a6b33ebd66eb96e4efa98777c.jpg\n",
            " Navid_27_jpg.rf.d06f8ee7fb16ab337485863167f76aea.jpg\n",
            " Navid_280_jpg.rf.022f22f1d4f956712ca10d00302a6ec4.jpg\n",
            " Navid_283_jpg.rf.46b00a2ecb574b10fbd7791df31cbfa4.jpg\n",
            " Navid_284_jpg.rf.d8cf0cb269cbf1c41a740ea0f4b81b45.jpg\n",
            " Navid_286_jpg.rf.86505bb483f217d22567fdcca13f11c8.jpg\n",
            " Navid_289_jpg.rf.8343364a1f7168eaf9fac9e69e984305.jpg\n",
            " Navid_28_jpg.rf.ab837bb2596ab4f0870005d07c17c081.jpg\n",
            " Navid_290_jpg.rf.b4a908ff63e36614b06df0406f667b45.jpg\n",
            " Navid_291_jpg.rf.1354806bcd211f1f759411fd3087ba2f.jpg\n",
            " Navid_292_jpg.rf.1b1e6661e44105822facfff0e14a0205.jpg\n",
            " Navid_293_jpg.rf.02644d877c891157be1153c5c8caa7fd.jpg\n",
            " Navid_294_jpg.rf.e14c4fb82dfdfad8a63fe3f6eb0d48f3.jpg\n",
            " Navid_295_jpg.rf.fbd8b43fd68d68cfd65f91d21296eacb.jpg\n",
            " Navid_296_jpg.rf.acf9a4990dbc25f58949150cadf1479d.jpg\n",
            " Navid_298_jpg.rf.79d002dfca753e0041107cbdbd4ab6d8.jpg\n",
            " Navid_300_jpg.rf.dfd4195b7c2fba0f28a74a1e7c9a9b8e.jpg\n",
            " Navid_302_jpg.rf.701c29572f7d21a26177febffc0bc8cc.jpg\n",
            " Navid_303_jpg.rf.720db26852dd247c620cef04793cd2be.jpg\n",
            " Navid_304_jpg.rf.06558c9c2bbb3001584ad925141b592e.jpg\n",
            " Navid_306_jpg.rf.fd1315e786940d16d8bc8def8afa9b9c.jpg\n",
            " Navid_307_jpg.rf.b0f958c5b6cc3aeecb634239dc622417.jpg\n",
            " Navid_308_jpg.rf.bd50ad1fadee6cb5ad3a286650657b27.jpg\n",
            " Navid_309_jpg.rf.7f5f864cfdca53a4b5dcca188ecd5b19.jpg\n",
            " Navid_30_jpg.rf.1cb04d25bd914974e3d3bfaf6c7307b5.jpg\n",
            " Navid_311_jpg.rf.e0b64de57112ceb44d0abc98038d9856.jpg\n",
            " Navid_313_jpg.rf.dad1be745ee2c3cb6e9aced8cf38cd49.jpg\n",
            " Navid_314_jpg.rf.03a9f3c793a79369f3a542791d2eab9e.jpg\n",
            " Navid_316_jpg.rf.50be10359e0bf0098bde4878ceb2f032.jpg\n",
            " Navid_317_jpg.rf.f85654a36e7fd5739a3fcdf465a588a9.jpg\n",
            " Navid_318_jpg.rf.cb75c1747e07a6031cb098af496d78d0.jpg\n",
            " Navid_31_jpg.rf.c41a696994f0d9adf855f1539e46e67d.jpg\n",
            " Navid_321_jpg.rf.3f2337c68a4477a4583f0240aa08bd5a.jpg\n",
            " Navid_323_jpg.rf.0973ac30378dbedfd5423c13aed7df36.jpg\n",
            " Navid_324_jpg.rf.2977495cd8c9f32349dff61938d173d0.jpg\n",
            " Navid_325_jpg.rf.cb1c16a435152d9b72f2d6b9d50b5ac0.jpg\n",
            " Navid_326_jpg.rf.74ee38303a400e256e9fd15bd4977174.jpg\n",
            " Navid_328_jpg.rf.a9dc0a9997f218c4d7ae027ec0a1f908.jpg\n",
            " Navid_329_jpg.rf.ebee0d45f781525ad530e80989334fc2.jpg\n",
            " Navid_32_jpg.rf.2c78cf3dd04e380602bfe59d544a9a5d.jpg\n",
            " Navid_330_jpg.rf.653b1174a5907973313dbf7f32d7910b.jpg\n",
            " Navid_331_jpg.rf.5115113ef3d329c179bcc7fb5d049a70.jpg\n",
            " Navid_332_jpg.rf.b75fc277c7288d95840686d533d3ba53.jpg\n",
            " Navid_333_jpg.rf.25b4a36ca8321e8ac4394fd23bf66dd9.jpg\n",
            " Navid_334_jpg.rf.f4b3fa0c7ea67a8e09ba849b6c56c062.jpg\n",
            " Navid_335_jpg.rf.59b5ef0651df946d2858da3c4ed15801.jpg\n",
            " Navid_336_jpg.rf.b579af64a56111ca4130d573a3d96c8b.jpg\n",
            " Navid_337_jpg.rf.bec0ddec81065b4b9e71893895e62f27.jpg\n",
            " Navid_338_jpg.rf.a58e85620dd284ce603c540e51887d1a.jpg\n",
            " Navid_339_jpg.rf.53edcf911ccb7bc86836013f7352d00b.jpg\n",
            " Navid_33_jpg.rf.6fb2c5cf3ddb0e629f65a30134a4a7e5.jpg\n",
            " Navid_340_jpg.rf.112ff5390869815ece248f2bb05b7367.jpg\n",
            " Navid_341_jpg.rf.a9fec058ec6a47fe898679345c227884.jpg\n",
            " Navid_342_jpg.rf.9666f013a2198170d7ab2999ae065e4b.jpg\n",
            " Navid_343_jpg.rf.463ca7f1ffe85c9bf13d3b57583b3282.jpg\n",
            " Navid_344_jpg.rf.372ec1e9a51074b49091bfd84ad7d344.jpg\n",
            " Navid_345_jpg.rf.58b4426be9c9c986dfe1b3419fff84bd.jpg\n",
            " Navid_346_jpg.rf.b5299caf5081883dc3d09303bbfa7c6b.jpg\n",
            " Navid_347_jpg.rf.4e20ccfff3a53b8dc6fb88c9aa525123.jpg\n",
            " Navid_348_jpg.rf.d0a269346bc6bc4a49e6939c8f1d4295.jpg\n",
            " Navid_34_jpg.rf.b6ef48cf8d1c49fd147967b89a1352f0.jpg\n",
            " Navid_350_jpg.rf.3a0fe17038d0dceefed61b8d75fbaa13.jpg\n",
            " Navid_351_JPG.rf.7d452386a2daee3b68b9401ed0e81fc5.jpg\n",
            " Navid_352_JPG.rf.0c33391ea6e0d565f18bf9bdd68e87ea.jpg\n",
            " Navid_355_JPG.rf.59503dbfe32f024a56da50c934efe5b3.jpg\n",
            " Navid_356_jpg.rf.2166eeb1a82da0059ded026a2b01feee.jpg\n",
            " Navid_357_jpg.rf.3a7ae739d3b7c36c7b30678c79a6bc1e.jpg\n",
            " Navid_359_jpg.rf.7f265eb8509f18d189beac733351daa8.jpg\n",
            " Navid_35_jpg.rf.1b51b7a99179ac6aa0b97ad0c2591b4b.jpg\n",
            " Navid_360_jpg.rf.7678b35fb0ab90835027e297412221b2.jpg\n",
            " Navid_362_jpg.rf.01ccd0b176dc250b132fa7db1994986e.jpg\n",
            " Navid_363_jpg.rf.2cb22b9658c139bb842689728b2cd037.jpg\n",
            " Navid_365_jpg.rf.72d3029a825de692a206cfcd0d87395f.jpg\n",
            " Navid_368_jpg.rf.c1e9cca989d01e71528d6111bd8a46f1.jpg\n",
            " Navid_369_jpg.rf.a7eb202b80be485d018858d1a1f20f3a.jpg\n",
            " Navid_36_jpg.rf.14c522363f5f30e84d2b0b0ede2a5b6b.jpg\n",
            " Navid_370_jpg.rf.40ec1040ade2023e2b90795f9ed295c5.jpg\n",
            " Navid_371_jpg.rf.72a6a1d63d8934c217f6bf65bae2525f.jpg\n",
            " Navid_372_jpg.rf.82d9cdd7ac30c4648274b18edcada854.jpg\n",
            " Navid_373_jpg.rf.5d2d91e7c44b8edcd23c3939a1523b77.jpg\n",
            " Navid_374_jpg.rf.5cab6faf22741ca946fff67ea7384568.jpg\n",
            " Navid_375_jpg.rf.67a9dafef86b4a6ed5671dd11942fbea.jpg\n",
            " Navid_376_jpg.rf.32a898bb8a8e776b3ea3f9031cfe4048.jpg\n",
            " Navid_377_jpg.rf.30f70b811b5abfdaef76f35888f9eb63.jpg\n",
            " Navid_378_jpg.rf.aeb1fedae4e879a352b3e116a38c3b78.jpg\n",
            " Navid_379_jpg.rf.6b9124218293c447cd6dec336d7c2eba.jpg\n",
            " Navid_380_jpg.rf.1b2b096bcb5de07407db2e331f6faf65.jpg\n",
            " Navid_381_jpg.rf.2794956b823b3045a5dc4450fe60d16d.jpg\n",
            " Navid_382_jpg.rf.6bc4f3f7c48deddde36f5c8ccb6e9d2d.jpg\n",
            " Navid_383_jpg.rf.1e8072becb8d292f9cca3bf8a543a279.jpg\n",
            " Navid_384_jpg.rf.f69dd8e9963e248418f0a9b1a1307e42.jpg\n",
            " Navid_385_jpg.rf.ee4c25534a27a81b3cb60b079826c7bb.jpg\n",
            " Navid_387_jpg.rf.50a6d4375b58e1d0da432d34db4de1b8.jpg\n",
            " Navid_389_jpg.rf.30cd2947ad3a7b60fbb2a99a6248101d.jpg\n",
            " Navid_38_jpg.rf.f7987335c4a3920abd9d51d211e7ee35.jpg\n",
            " Navid_390_jpg.rf.550780edcf4f533d662f0a1705f52aa9.jpg\n",
            " Navid_392_jpg.rf.da77f28e651b3f492caa7369d95d3442.jpg\n",
            " Navid_393_jpg.rf.ca98cfd643fb569fc2aa2216bcc271c0.jpg\n",
            " Navid_394_jpg.rf.ca0b2a559543cf5e0399944d31fc354a.jpg\n",
            " Navid_395_JPG.rf.d225ac98426f1feb540a619941e0d86d.jpg\n",
            " Navid_397_jpg.rf.b6fc0f62b43ab293537e353813f1ea40.jpg\n",
            " Navid_398_jpg.rf.5a9ea91e2de404749aebcaf1e3d7ff94.jpg\n",
            " Navid_39_jpg.rf.bc422ab0ebb3f3e11f9f3044c3de9368.jpg\n",
            " Navid_400_jpg.rf.c3ab072406b5bbdb421a7a17176a3caf.jpg\n",
            " Navid_401_jpg.rf.01e52920286a8e4a6e01e12a46b2f628.jpg\n",
            " Navid_402_jpg.rf.5d4009783217050069b482d931a795c9.jpg\n",
            " Navid_403_jpg.rf.2ed71993f941642e82ef3033f6266842.jpg\n",
            " Navid_404_jpg.rf.96fbe00621042326bf05543d60cb4254.jpg\n",
            " Navid_405_jpg.rf.08bd37391abcffb61cc7575653deb94a.jpg\n",
            " Navid_406_jpg.rf.e72c9902a1ec3aabb09eea59dbbcb3c0.jpg\n",
            " Navid_407_jpg.rf.d3e931b4e6a6913eaf0225c6b2bf930c.jpg\n",
            " Navid_408_jpg.rf.fecb6e3f6b8abd77dee0d4b1dfca1b59.jpg\n",
            " Navid_409_jpg.rf.a72c14f64d6c7f88ff4150e2ea9c5b3f.jpg\n",
            " Navid_40_jpg.rf.34741b289536675d1ce45532718d2fb7.jpg\n",
            " Navid_410_jpg.rf.8d5f45c934790c39583ad5d8a4f0abcb.jpg\n",
            " Navid_412_jpg.rf.17c33a628bbd22e2145798f50b972950.jpg\n",
            " Navid_413_jpg.rf.aff401cb5951e9b41f6e9747a8d52957.jpg\n",
            " Navid_414_jpg.rf.0853f799640c2cf93bff7ee314f37437.jpg\n",
            " Navid_415_jpg.rf.892d662143f20ac9221ce079c7dc58e8.jpg\n",
            " Navid_418_jpg.rf.ba1c0dacded558865de6b730c530235a.jpg\n",
            " Navid_419_jpg.rf.59175c6761718371353e60469da8baf6.jpg\n",
            " Navid_41_jpg.rf.34902ffad8f12b1170001e2d5c66149a.jpg\n",
            " Navid_420_jpg.rf.59e0fb07c2f0db3dc21178f19f20667d.jpg\n",
            " Navid_421_jpg.rf.6170db9ce5f3ee0689e4e12ce4a57c8e.jpg\n",
            " Navid_422_jpg.rf.65607f5ffe463027aff52a5d3caa5da9.jpg\n",
            " Navid_426_jpg.rf.0628bd27bb92128dde44413af54fa8b3.jpg\n",
            " Navid_427_jpg.rf.dd75511c313c6c0d06c983e5c0f4659d.jpg\n",
            " Navid_430_jpg.rf.d8561917ce0b2b05d66c18b9cb17e8bb.jpg\n",
            " Navid_431_jpg.rf.b49b1abefd94c495a9c1aa755addc6f2.jpg\n",
            " Navid_432_jpg.rf.5a995973646cb8202d4da5bfe5022223.jpg\n",
            " Navid_436_jpg.rf.9b28b57d3e1f49026be93fe5f331a374.jpg\n",
            " Navid_437_jpg.rf.4a24e1b12103c20c2be21a7965c32e4d.jpg\n",
            " Navid_438_jpg.rf.e4ce02b319e5a79b4f0b522629dc4de1.jpg\n",
            " Navid_439_jpg.rf.f9bc56b7b8d35231b19ba3c90ae1c13a.jpg\n",
            " Navid_440_jpg.rf.fca51e3aa998aa987652ff26b33bbe62.jpg\n",
            " Navid_441_jpg.rf.d7320d2190db3f3cd5f33c49d9366175.jpg\n",
            " Navid_442_jpg.rf.771b28b7e5b6a9e9898b13ed0387fc7e.jpg\n",
            " Navid_444_jpg.rf.de3a1b1fe74c3581cadb660268fc9114.jpg\n",
            " Navid_445_jpg.rf.573373d853b3f825bddad13e6c7907c0.jpg\n",
            " Navid_448_jpg.rf.af3ce21acff0fd2224f0bd83c9d5226c.jpg\n",
            " Navid_449_jpg.rf.c67403173364caec6fa4d667d5e7786b.jpg\n",
            " Navid_450_jpg.rf.1879eb7df96a71bf957383cafc1f9d00.jpg\n",
            " Navid_451_jpg.rf.48550ff47715cfb45e9c5ff15508a9f3.jpg\n",
            " Navid_452_jpg.rf.eef95151720d11c5db86176d66a97516.jpg\n",
            " Navid_453_jpg.rf.71c1d9919ce1e366ecb48b69d4c3f2db.jpg\n",
            " Navid_454_jpg.rf.960877e31e1c9f5e97d30fa3b438e66a.jpg\n",
            " Navid_455_jpg.rf.bf5d629150805b9492a8d82ee4ec03bc.jpg\n",
            " Navid_456_jpg.rf.5b884572d3b936e140ee77ef6a34e078.jpg\n",
            " Navid_457_jpg.rf.c98e82fb21ced8831df79a6d50cd9eae.jpg\n",
            " Navid_458_jpg.rf.263265813609a697eb25628472011531.jpg\n",
            " Navid_459_jpg.rf.ed2c592b762b5e1fbb6327561b687c6f.jpg\n",
            " Navid_45_jpg.rf.df86468424d4671f4f38f2f65b814df8.jpg\n",
            " Navid_461_jpg.rf.9ba8892a76aea57062fff88ca7b7cce6.jpg\n",
            " Navid_463_jpg.rf.31a0c4d3b949f578052449ba528f24b9.jpg\n",
            " Navid_466_jpg.rf.0ea2b464cce477f85440c560de82d27e.jpg\n",
            " Navid_467_jpg.rf.2ee823cbb8ba79996ba9431248fd9dfe.jpg\n",
            " Navid_468_jpg.rf.5438af950c2d347270e44fab376e7c61.jpg\n",
            " Navid_469_jpg.rf.7650233aeb04192784219a5405273e17.jpg\n",
            " Navid_470_jpg.rf.1af0a600ef5a1de200507075f56a9e7a.jpg\n",
            " Navid_472_jpg.rf.96d8cdd4b63a3dc01863945ad9f5292f.jpg\n",
            " Navid_473_jpg.rf.1113868573e222bd3b71393d4a0235ba.jpg\n",
            " Navid_474_jpg.rf.8363f8aa4ab9098c47f0e8d5f8cc2402.jpg\n",
            " Navid_476_jpg.rf.577797d4d0c41a37ffda01e96587783b.jpg\n",
            " Navid_477_jpg.rf.5985ac60bd6795a4a92eef1042def040.jpg\n",
            " Navid_478_jpg.rf.a6abc9e39934ca9f46470bfc42e296d8.jpg\n",
            " Navid_47_jpg.rf.6750b6c008a08b66cb197497d3ad7d18.jpg\n",
            " Navid_481_jpg.rf.2bc684e603c98f894a9c45bfdaf2b985.jpg\n",
            " Navid_482_jpg.rf.d438f3ee9bdb6d9281d1c0c3a20d0793.jpg\n",
            " Navid_483_jpg.rf.2c489f6b83e0cea20866ca4001125c0a.jpg\n",
            " Navid_484_jpg.rf.456a9e1e95b7513692ec714823e2e97c.jpg\n",
            " Navid_485_jpg.rf.92fb0b9fdde23c1bc43f4be9565fd4b2.jpg\n",
            " Navid_488_jpg.rf.a1cee42b0ad3ebdb2afb445c22cc86eb.jpg\n",
            " Navid_48_jpg.rf.6ccc77ebb5e289695517a5e3c796a03a.jpg\n",
            " Navid_490_jpg.rf.946e433b35eeec07787d02eabf8326f7.jpg\n",
            " Navid_491_jpg.rf.b442c78384a1f1a522103ce9ff77c1c5.jpg\n",
            " Navid_492_jpg.rf.87caaac0ea67ff5f0ffa1b0cec90cf35.jpg\n",
            " Navid_494_jpg.rf.923c2d709fbbc52a536ac1319ef5167d.jpg\n",
            " Navid_495_jpg.rf.4e79aa74f1fe4d63e6ec740214fc1437.jpg\n",
            " Navid_496_jpg.rf.ab8dab41bf9274293aa3d7ec7cfa1213.jpg\n",
            " Navid_497_jpg.rf.4ef1a7d45ef9220459aa1300c047fbef.jpg\n",
            " Navid_499_jpg.rf.5b1d472d481e1d646a9ec87d01f14056.jpg\n",
            " Navid_49_jpg.rf.9907e8082a1e5b66b730615135863276.jpg\n",
            " Navid_500_jpg.rf.338d901bd8f243a766f8488722207e4e.jpg\n",
            " Navid_501_jpg.rf.30d2acc2bd02e6e6acbab70ad814f8e0.jpg\n",
            " Navid_504_jpg.rf.1dc3b017ecfc645bd58e6c1cdd27dbdb.jpg\n",
            " Navid_505_jpg.rf.4b9f561a0703348266de5e32916c60cc.jpg\n",
            " Navid_507_jpg.rf.fc8b6830d1f469e0a05ad15fc065c59a.jpg\n",
            " Navid_50_jpg.rf.3c386815ead1728f448958de1fc6355c.jpg\n",
            " Navid_510_jpg.rf.66d12afb7e4ef919ca641c3f22b690f0.jpg\n",
            " Navid_511_jpg.rf.c831704da50a40398f1b66331ee1ccec.jpg\n",
            " Navid_512_jpg.rf.600f8207875848b32cd62eee6affec18.jpg\n",
            " Navid_513_jpg.rf.711387038f89dde8c2339ea06bed7768.jpg\n",
            " Navid_515_jpg.rf.798ae04dccc2ee4857ddf390d2829701.jpg\n",
            " Navid_516_jpg.rf.938757df9c2006e01c0671a8183d9d8a.jpg\n",
            " Navid_517_jpg.rf.6e21a8fd737678c2991954f6160317c5.jpg\n",
            " Navid_518_jpg.rf.8fb124ee44070d8c59192a0d117e657e.jpg\n",
            " Navid_519_jpg.rf.e731928f4be04e6bb8de5555131e7d0b.jpg\n",
            " Navid_51_jpg.rf.1670c388ed7201421a79d3af78dc23d6.jpg\n",
            " Navid_522_jpg.rf.4b22eefba253f4da81d8d293bf87c797.jpg\n",
            " Navid_523_jpg.rf.786913105daa0c91b36ca6e212210497.jpg\n",
            " Navid_524_jpg.rf.cce5baf336b507c05320445b4a0d8c04.jpg\n",
            " Navid_525_jpg.rf.dd3ccec151d0bc75fda7394896e6f299.jpg\n",
            " Navid_527_jpg.rf.34bc59b7d8ad9afcdba02859c74b2f84.jpg\n",
            " Navid_528_jpg.rf.d91bac9f9fbfe4c8ebc3834a074c02d9.jpg\n",
            " Navid_52_jpg.rf.9b51823182f8d5335c73554a16855d1d.jpg\n",
            " Navid_531_jpg.rf.55287bf7cc9188740d15211e9a3b2676.jpg\n",
            " Navid_532_jpg.rf.7804910abb09d419b7cadff26c0e0892.jpg\n",
            " Navid_533_jpg.rf.e2bdb1e8c2c03289d4fcb9c9e2510d27.jpg\n",
            " Navid_534_jpg.rf.6a9a2daabd8cf68055d616a097815175.jpg\n",
            " Navid_535_jpg.rf.ae63c2bd0ee4bb0322dd9eb52b8b8c30.jpg\n",
            " Navid_536_jpg.rf.235ad6ad9c9ad588ad5eea555935579f.jpg\n",
            " Navid_537_jpg.rf.b3ac1794db7a55beaecadc0450f1a46b.jpg\n",
            " Navid_53_jpg.rf.bb2c7b669bb64068c986e5809b1ef98e.jpg\n",
            " Navid_541_jpg.rf.523962a3018bb6cb7120eaec345d81f1.jpg\n",
            " Navid_542_jpg.rf.2d07b2802d7b18289617ad44a78ecad5.jpg\n",
            " Navid_543_jpg.rf.76a77b313050df03218a1aa64f864926.jpg\n",
            " Navid_544_jpg.rf.8b3b89926fae8244d3df0b1519ee2408.jpg\n",
            " Navid_545_jpg.rf.18fa4edc4b6d94bfab33838a740a8492.jpg\n",
            " Navid_546_jpg.rf.fe23d65ac0688d553a8979839f05e08e.jpg\n",
            " Navid_54_jpg.rf.804bdb3c89ca72b809fa78274f1e5466.jpg\n",
            " Navid_550_jpg.rf.1e55376047fa9a660440e6d727d92c4c.jpg\n",
            " Navid_551_jpg.rf.65400bb2b61527ce2078b26fd35ba347.jpg\n",
            " Navid_552_jpg.rf.1cb110c4e151212aac44dca7ec0753f5.jpg\n",
            " Navid_553_jpg.rf.a2fa46bc34878a8da57f955b9c78f712.jpg\n",
            " Navid_555_jpg.rf.b7f55605fa26c10cb8f371ed6bcffc0d.jpg\n",
            " Navid_558_jpg.rf.3390634923877723e616eceed6612eef.jpg\n",
            " Navid_559_jpg.rf.f05ef3709c7bf7b3a8203cbe009838e0.jpg\n",
            " Navid_55_jpg.rf.e7784b795bbbbd07d554f69c679d43a9.jpg\n",
            " Navid_560_jpg.rf.2c0a0a69a96438db8ed963c6a761f1f8.jpg\n",
            " Navid_562_jpg.rf.bdc1750a7d0039d40a06b0477eb083f0.jpg\n",
            " Navid_563_jpg.rf.5e846f9c23e1965bd4955f34c7eeaf4a.jpg\n",
            " Navid_564_jpg.rf.d150f73e1dcbb6ecfb9c598e5071c68d.jpg\n",
            " Navid_565_jpg.rf.ed824af0bf145be3089af6cd49fca4fe.jpg\n",
            " Navid_566_jpg.rf.11f3980166eec2baba0a953e77cf27a4.jpg\n",
            " Navid_567_jpg.rf.73b42c54f116edc676c93afb83723765.jpg\n",
            " Navid_568_jpg.rf.79a79edf4dcc855250798644063108d9.jpg\n",
            " Navid_569_jpg.rf.c8ac8b45ab0ae968bcb333079c2db0a6.jpg\n",
            " Navid_56_jpg.rf.4965b00cc2c0897008a13083eecd665a.jpg\n",
            " Navid_570_jpg.rf.49999d26bd2954230d4cfb8838e9ffe2.jpg\n",
            " Navid_572_jpg.rf.fb38784f8933877e7aeb2083cb271561.jpg\n",
            " Navid_573_jpg.rf.69944a3e675a1d1798991fd0cb095f0a.jpg\n",
            " Navid_574_jpg.rf.c488f81bccdb15fbb2aaea50bb8385d2.jpg\n",
            " Navid_575_jpg.rf.4ffa9ffa03c6990b4f2f0b973ea75791.jpg\n",
            " Navid_576_jpg.rf.66390a7a258fd1340ca3720815cb8ce5.jpg\n",
            " Navid_577_jpg.rf.0a9a82bc5ad1c886dd7a4d800d22fa34.jpg\n",
            " Navid_579_JPG.rf.210611ca953a261f763ec0651b563c5b.jpg\n",
            " Navid_57_jpg.rf.e7196582517169407b7a85b62a97cde0.jpg\n",
            " Navid_580_JPG.rf.fccda2689e3ee22b8b0be494187c78f4.jpg\n",
            " Navid_582_JPG.rf.e8dbf68a168d710cb944ed0ddb92e275.jpg\n",
            " Navid_583_JPG.rf.959249b1d86e67bc4fd94997b2281fe0.jpg\n",
            " Navid_584_JPG.rf.faccee641d637e00c5960c36f0ebf841.jpg\n",
            " Navid_586_JPG.rf.902bc25f7e015374cb923d8a77069bc3.jpg\n",
            " Navid_587_JPG.rf.8601cbe21027f1d1801afecab3bd8a37.jpg\n",
            " Navid_588_JPG.rf.f4f824b7812b48dd4ddb940e88fed1d4.jpg\n",
            " Navid_589_JPG.rf.3bb512a9d096ece2be7acdb69f7716fc.jpg\n",
            " Navid_58_jpg.rf.b3ca886ba63bbc95e1d89895232cb183.jpg\n",
            " Navid_590_JPG.rf.dec75c705f0ac96fc7db08d4bd2ff1f4.jpg\n",
            " Navid_591_JPG.rf.7dc12683316c7390135dde4e63b2d82f.jpg\n",
            " Navid_592_JPG.rf.91b8e9470bbc138889adf1ea070c3176.jpg\n",
            " Navid_593_JPG.rf.1252be324830cf383f713c1391c889ea.jpg\n",
            " Navid_594_JPG.rf.31ac012e1fdafb57dca9e67e6fbbbf51.jpg\n",
            " Navid_595_JPG.rf.d57066389e9186eb52d2feb43cb4ef31.jpg\n",
            " Navid_596_JPG.rf.ceb8fc780cafa4dedc726529009736ab.jpg\n",
            " Navid_597_JPG.rf.337faeb6aaacac134c8ea76010f51d7f.jpg\n",
            " Navid_598_JPG.rf.d81f2063ee8277cc3d9a9d67dd1ff681.jpg\n",
            " Navid_59_jpg.rf.a93ca6a343c6d0facff1c6a30328a01c.jpg\n",
            " Navid_600_JPG.rf.150347ce0b4a76f8a5a8b495a1e51d5a.jpg\n",
            " Navid_601_JPG.rf.0cf24889bbf77771ccc315388bd76ffd.jpg\n",
            " Navid_602_JPG.rf.ab0ddae5590b53df314a3aaad26b4874.jpg\n",
            " Navid_604_JPG.rf.253b0349647981f40bfc5649a301ae72.jpg\n",
            " Navid_605_JPG.rf.d8e9a52525754ca65eca23cacb7a7622.jpg\n",
            " Navid_606_JPG.rf.e692d3856a8c8102b946e969323aefd0.jpg\n",
            " Navid_607_JPG.rf.01f6947fb916367b6e3594871c54f050.jpg\n",
            " Navid_608_JPG.rf.2f6320db71e1a8339c590c7cd43732f0.jpg\n",
            " Navid_60_jpg.rf.84d283fc8ef0ff755698353d9758d3d8.jpg\n",
            " Navid_610_JPG.rf.79e8398e7aafb61023fbd5c45d3af34c.jpg\n",
            " Navid_611_JPG.rf.51952888cd5e74c634511a86efe78c68.jpg\n",
            " Navid_612_JPG.rf.9942cac387f4bf314506fa0eb375809c.jpg\n",
            " Navid_614_JPG.rf.641c5ded7ba36a97de4fd4ecb632f5f3.jpg\n",
            " Navid_615_JPG.rf.d94c197b56eec5a49cf4ec6be4ec68ca.jpg\n",
            " Navid_616_JPG.rf.4e0a69c9a8572b42fc2e157253704f52.jpg\n",
            " Navid_617_JPG.rf.5834d2cf0dac4ade13ab50b0354ca12e.jpg\n",
            " Navid_619_JPG.rf.d1be8a96050f32b07d88016c04cb5baf.jpg\n",
            " Navid_620_JPG.rf.0c70b3ccb848b8af7900a41ad3236e9c.jpg\n",
            " Navid_621_JPG.rf.2548b1c7738e242f992f102eeed7f2ec.jpg\n",
            " Navid_622_JPG.rf.9206f210e42d2e3b0bb2a4a48a2da6bb.jpg\n",
            " Navid_623_JPG.rf.4979a0ea3c844c472e17d48fb5b15097.jpg\n",
            " Navid_624_JPG.rf.fc3674a3a930844f43b67247d024bd5e.jpg\n",
            " Navid_625_JPG.rf.316eccc44577c3bbd5f0134c2d9b1944.jpg\n",
            " Navid_627_JPG.rf.cee52624d4d2119226f40d432e61875a.jpg\n",
            " Navid_628_JPG.rf.eee7eac858f6122adf481bcd409acbb5.jpg\n",
            " Navid_629_JPG.rf.61f4ee1d220fddf5b30500d89d59463b.jpg\n",
            " Navid_62_jpg.rf.b8f6ffaee7402842560c9beb57ad369f.jpg\n",
            " Navid_630_JPG.rf.f4bdb2a3737e8db5a74604ff3abf9864.jpg\n",
            " Navid_631_JPG.rf.e41d66a0b29ac7f0b988f60397d1e39b.jpg\n",
            " Navid_633_JPG.rf.a69d30209aa18fb265b62929a3c6250f.jpg\n",
            " Navid_634_JPG.rf.7e16d9f05110b9592dfe38144f750b4e.jpg\n",
            " Navid_635_JPG.rf.27f2fefb39b0182e9c8f5c57d148caf0.jpg\n",
            " Navid_636_JPG.rf.3107efdcdb834fd67377de4e4b4cdfe4.jpg\n",
            " Navid_637_JPG.rf.e7f1167300140ceb0c44a75fa5dbb84e.jpg\n",
            " Navid_638_JPG.rf.2b8f56f0279a337d5bde965237b16485.jpg\n",
            " Navid_639_JPG.rf.8fcae609af231551a8fde84a67f0b8a1.jpg\n",
            " Navid_63_jpg.rf.2caf22bb51bdfc60980a76c67f548a1b.jpg\n",
            " Navid_640_JPG.rf.d05903ff7b460345a5a889e8a7295b36.jpg\n",
            " Navid_642_JPG.rf.fcfa5b3e4740254ed9c09fb05c32713c.jpg\n",
            " Navid_643_JPG.rf.4ec937bfe20a99a2f26043ad6e300cd5.jpg\n",
            " Navid_644_JPG.rf.e4bcb586c8e2cefe3c4c727e322d08ae.jpg\n",
            " Navid_645_JPG.rf.b452776d78bf16c75ce216c45683815c.jpg\n",
            " Navid_646_JPG.rf.d44e69f7d6376f8ae9bc4e76a161572c.jpg\n",
            " Navid_647_JPG.rf.564ded86e4e2792d3bbb1fbbff1b0934.jpg\n",
            " Navid_648_JPG.rf.243048c474e7e1a07f1ceaebd704ff50.jpg\n",
            " Navid_649_JPG.rf.c64c60b11322d6d9250c6ac4fa36b799.jpg\n",
            " Navid_64_jpg.rf.5f571843ae0120f45b38c0fad68f7d60.jpg\n",
            " Navid_650_JPG.rf.62681c23b06ef38ab93ed834a90f5b35.jpg\n",
            " Navid_651_JPG.rf.92952bc8f9360a86753448a9d2a8fc7d.jpg\n",
            " Navid_652_JPG.rf.0877676b1c1e2ffb2a0e4b1febfa0d74.jpg\n",
            " Navid_653_JPG.rf.eef2da2f6f179948aa643a8b61612913.jpg\n",
            " Navid_654_JPG.rf.630c24904c46789d8566bf5c4079a68a.jpg\n",
            " Navid_655_JPG.rf.42fd9d6a404f6d01981d51f4c33b4346.jpg\n",
            " Navid_657_JPG.rf.209d90a1c937287d6448b1c6da3f77a7.jpg\n",
            " Navid_658_JPG.rf.01b4d8bc82234afb8eafedcb441df2f4.jpg\n",
            " Navid_660_JPG.rf.e0b22974e2fda6e833d9d02fda727dd8.jpg\n",
            " Navid_661_JPG.rf.02d5905a1da9eb1345111306377aa481.jpg\n",
            " Navid_662_JPG.rf.76143dd9390e2e56096c8606e352f06c.jpg\n",
            " Navid_664_jpg.rf.3a90239f5ecd7d50386b81f1109f0113.jpg\n",
            " Navid_668_jpg.rf.ff03311f60bf36f726c4e370560ee936.jpg\n",
            " Navid_669_jpg.rf.478feb30d3d7ef61a53dcaea61b41a47.jpg\n",
            " Navid_66_jpg.rf.3a512501b4cd43ee7eef64b7e61523ff.jpg\n",
            " Navid_671_jpg.rf.797b6b5560ec8be41f2dbc59fe4def4d.jpg\n",
            " Navid_672_jpg.rf.4263abcf74750469ff017f98a0a99372.jpg\n",
            " Navid_673_jpg.rf.72fde1dfae528cf166b6c8972f969b46.jpg\n",
            " Navid_675_jpg.rf.53c145fc0c98cada297eed0d0a0ed004.jpg\n",
            " Navid_677_jpg.rf.39722cb145e87687dec606b72809c532.jpg\n",
            " Navid_678_jpg.rf.77f8129113285c63c011c1c6baf54160.jpg\n",
            " Navid_679_jpg.rf.7b0476112c7d3d1bb7d751e09a7c0c77.jpg\n",
            " Navid_67_jpg.rf.f6def1cd7d74329a411cb358aa84c4e7.jpg\n",
            " Navid_681_jpg.rf.638f6f3f84dd3504423a465f879ff630.jpg\n",
            " Navid_682_jpg.rf.34275849ac8dcb22b1fba27b869efba0.jpg\n",
            " Navid_683_jpg.rf.6e4ead6c02b11262bb3098b57db0f66e.jpg\n",
            " Navid_684_jpg.rf.0121858373f5c5e98373c4d72ef15a6a.jpg\n",
            " Navid_686_jpg.rf.e3cc007cc3c928eb30dae25a34c2e9d2.jpg\n",
            " Navid_687_jpg.rf.02e7a15b5721a0e1b866e3950e276064.jpg\n",
            " Navid_688_jpg.rf.ef0ce470715d5975e7a4f21447d88fa2.jpg\n",
            " Navid_689_jpg.rf.0298657a3a2d5bd2e846843c876273d9.jpg\n",
            " Navid_68_jpg.rf.188fba195c5da65d2c473b7228ce8876.jpg\n",
            " Navid_690_jpg.rf.943a6ce4dd52103000606e24b953e16b.jpg\n",
            " Navid_691_jpg.rf.da244d3c91976bab176b779643cac98d.jpg\n",
            " Navid_692_jpg.rf.27d413590517515b89943abdf7b9b166.jpg\n",
            " Navid_693_jpg.rf.8dd3c7794e3717c2196d3815a1d183b3.jpg\n",
            " Navid_695_jpg.rf.29e18c7f837646149ebd140cff3626ce.jpg\n",
            " Navid_697_jpg.rf.c1e0b64b2db80cff4164ce42d9ba5990.jpg\n",
            " Navid_699_jpg.rf.355a2715f442d717014a946e1052c8ec.jpg\n",
            " Navid_69_jpg.rf.3d1eddcdb0e9b757dc51484c563a1fb0.jpg\n",
            " Navid_700_jpg.rf.4d98489bc9726e9fe7d0f408c877b214.jpg\n",
            " Navid_701_jpg.rf.621224b5fa5da217c3c06fa3d968cd95.jpg\n",
            " Navid_702_jpg.rf.a76e82dfb2c3a59e365222aea77cb522.jpg\n",
            " Navid_703_jpg.rf.6964b6a04311a69e1125545dc422777b.jpg\n",
            " Navid_705_jpg.rf.c5b3a9f7e32482e993ed3b3fbedd6f40.jpg\n",
            " Navid_706_jpg.rf.ee98475325fdea905b005384cc35fbd6.jpg\n",
            " Navid_707_jpg.rf.5324d32dadccce2ec762600b78716ff1.jpg\n",
            " Navid_708_jpg.rf.e237920482b6577654b7fb0bbbc627dc.jpg\n",
            " Navid_710_jpg.rf.3bd54af45b488c1256b83ba7b3e50617.jpg\n",
            " Navid_712_jpg.rf.ebfb5bb1b2a98db564add3ccb9cdda98.jpg\n",
            " Navid_713_jpg.rf.ae35698def30e04f6a976b35661a1e53.jpg\n",
            " Navid_714_jpg.rf.ad56a092d6e43badf9844340b4c6c54b.jpg\n",
            " Navid_715_jpg.rf.c38b08708542aad06776fbaf097a9f7e.jpg\n",
            " Navid_716_jpg.rf.9412041b7d75d2edc18c7eda4d164c85.jpg\n",
            " Navid_717_jpg.rf.5395fd9fcf208d5f65d036b7c032174e.jpg\n",
            " Navid_719_jpg.rf.7d9a8d62db912f7e48c6bcd47b27ebda.jpg\n",
            " Navid_722_jpg.rf.5ee7e8e1937e9eb8c5cc30b93feda825.jpg\n",
            " Navid_723_jpg.rf.6eecb76250369ca97c43754a18e2b24d.jpg\n",
            " Navid_724_jpg.rf.5a2fec18a28cbddf944c315e55e1c930.jpg\n",
            " Navid_726_jpg.rf.37bb36b7a957fa67777066fa038a19a3.jpg\n",
            " Navid_727_jpg.rf.92d48649e27629bab1bb005487f78d2d.jpg\n",
            " Navid_728_jpg.rf.8f60d64e77bc1243ae3755bc56a9f5f5.jpg\n",
            " Navid_729_jpg.rf.f52b737b4c427ab9a734d06f8ae5b036.jpg\n",
            " Navid_72_jpg.rf.61b8cef1678e5a2e2d97a3a29b84ef85.jpg\n",
            " Navid_730_jpg.rf.6a3ead6548b36aaf1d2e370632cced6a.jpg\n",
            " Navid_731_jpg.rf.e609367daaa079136ac68043516df81c.jpg\n",
            " Navid_732_jpg.rf.5083f4bcd5b55fc7ac27f08f99156c45.jpg\n",
            " Navid_733_jpg.rf.fc57ef5e55b9c4653b1de95296fc185a.jpg\n",
            " Navid_734_jpg.rf.973936017336c120c16694f09f682dba.jpg\n",
            " Navid_735_jpg.rf.8d47a63281d2805274d47e9833ecce10.jpg\n",
            " Navid_737_jpg.rf.3d0fd4adcac637a68ed193185e8420f4.jpg\n",
            " Navid_738_jpg.rf.298054d11f575e5ef449996988465e5b.jpg\n",
            " Navid_739_jpg.rf.cb6e37ec2e010a31e2e9335469631607.jpg\n",
            " Navid_742_jpg.rf.e096dd82eb97fa243fb8aeb8208e664a.jpg\n",
            " Navid_744_jpg.rf.1cfa8686c0a580444d2211c37d08ed58.jpg\n",
            " Navid_746_jpg.rf.8bc309f33958e0771bb04e67d04de81c.jpg\n",
            " Navid_747_jpg.rf.070469d0ef69b51e7150be917ad51d76.jpg\n",
            " Navid_748_jpg.rf.2a335181771c316289c02e1f5bb08fc0.jpg\n",
            " Navid_74_jpg.rf.921da812c6614935ed768c5b5d457acd.jpg\n",
            " Navid_750_jpg.rf.8a37b19f3afa0ba857250621f1ec17b2.jpg\n",
            " Navid_751_jpg.rf.fa7d70a466522901618bec5aa7cdbb0c.jpg\n",
            " Navid_752_jpg.rf.e9789c5096e33bd3e7deea6b464e7c8a.jpg\n",
            " Navid_754_jpg.rf.d77f05e63b0275078c18922749327d71.jpg\n",
            " Navid_755_jpg.rf.a93244bf4c00de64423138d6e5f68841.jpg\n",
            " Navid_756_jpg.rf.a62d97eef6ff9b367790aa7c8d84087f.jpg\n",
            " Navid_757_jpg.rf.80f68772a21017b0426e3850f2f54f45.jpg\n",
            " Navid_758_jpg.rf.a58a5c29bea84bb4abf1c946aa531f08.jpg\n",
            " Navid_759_jpg.rf.6d04af36e095d172995d2a0d8c99c064.jpg\n",
            " Navid_75_jpg.rf.4e373dae6530c2276083ff4589d1921f.jpg\n",
            " Navid_761_jpg.rf.82036de632ac816dfe2c3573b838ee14.jpg\n",
            " Navid_762_jpg.rf.f0e81a894e611d181e4157abcb33c4ae.jpg\n",
            " Navid_764_jpg.rf.2ceefd159f2f95fe21d14c3c5bd9ba6d.jpg\n",
            " Navid_765_jpg.rf.da4cf6b3cc97b8e8ce999a37f7c2dccc.jpg\n",
            " Navid_767_jpg.rf.aac96513d9d6f1708d4177336268dc7e.jpg\n",
            " Navid_769_jpg.rf.5d8a26776af649705aac121f7eeaabae.jpg\n",
            " Navid_76_jpg.rf.1102994d14f5ea95420be1adc897d7f9.jpg\n",
            " Navid_772_jpg.rf.a893e9d3ba260123733a7a0e2946b4c3.jpg\n",
            " Navid_773_jpg.rf.00a523d7e28b4431739e2e638873d005.jpg\n",
            " Navid_774_jpg.rf.f79ee3e943725ce83b45aca3a1137d03.jpg\n",
            " Navid_775_jpg.rf.729a297315cf267719271ce2d87d002b.jpg\n",
            " Navid_776_jpg.rf.5c21603db94b737d7bfb1d13382d2ca9.jpg\n",
            " Navid_777_jpg.rf.06421a6de4bbf2ca7291231e5441a9b9.jpg\n",
            " Navid_778_jpg.rf.2746bbddcc105479e3b257cd89c5c4e3.jpg\n",
            " Navid_779_jpg.rf.b2de146040e16d127f0409a33ade8cf2.jpg\n",
            " Navid_782_jpg.rf.0f9e3fd6cedc3968a21344b386e212e8.jpg\n",
            " Navid_783_jpg.rf.dec0ab92f675f7032cde7c7de528fef4.jpg\n",
            " Navid_786_jpg.rf.4d4b829a382cf5ebe376fbe073bbd0df.jpg\n",
            " Navid_788_jpg.rf.6db48c3c3f330ee71c1fe2f83326b1de.jpg\n",
            " Navid_789_jpg.rf.f0e5c18a5661d57ff266e3eb31bc6547.jpg\n",
            " Navid_78_jpg.rf.39e1a3e63754212ab817906df41297b2.jpg\n",
            " Navid_790_jpg.rf.3351ba90528fc3097659e54458693bcf.jpg\n",
            " Navid_791_jpg.rf.46bc28c41352ef78dac59033ae8fd339.jpg\n",
            " Navid_792_jpg.rf.eda03a3db0d6bd556825ecfbdb7d6dc2.jpg\n",
            " Navid_794_jpg.rf.da5a665d9a317d76dc0d7993ae685b77.jpg\n",
            " Navid_795_jpg.rf.80541f5c5429a87504622db625df5023.jpg\n",
            " Navid_796_jpg.rf.7082c7fa792014d27faf04b1f1be33ed.jpg\n",
            " Navid_797_jpg.rf.fb4adb1e573a72035173dd99679dcedc.jpg\n",
            " Navid_79_jpg.rf.de5b2caea2c5fe718ccef3867738ec15.jpg\n",
            " Navid_800_jpg.rf.a8a020f6f2325db75d84cd2599de62af.jpg\n",
            " Navid_802_jpg.rf.205ac5a9b1ac32f4a242db6619b58a21.jpg\n",
            " Navid_803_jpg.rf.2fc3ea89a3886b5bf6f641a8d957c474.jpg\n",
            " Navid_805_jpg.rf.2be83fb698df0a93882f850301b4a6ee.jpg\n",
            " Navid_806_jpg.rf.8d7ddaf497d508752aa717119d0233af.jpg\n",
            " Navid_807_jpg.rf.75fb120d1b57c4e6fc98feb3682e3602.jpg\n",
            " Navid_81_jpg.rf.49b28b35bbb88b3127d40ecf66dbb727.jpg\n",
            " Navid_83_jpg.rf.7e0081573ee01efca8482aa1e2400a88.jpg\n",
            " Navid_84_jpg.rf.36dced443be1746c7d196db92b9c80e9.jpg\n",
            " Navid_85_jpg.rf.74d8d4374a9761d6d02d885c1d3828af.jpg\n",
            " Navid_86_jpg.rf.94ac00fbd9f7405ed264a5bd3f40676a.jpg\n",
            " Navid_87_jpg.rf.b8b3e7eff2e4040e711160bcda47c3e6.jpg\n",
            " Navid_88_jpg.rf.d9828cee679f152d2277daaced376cbd.jpg\n",
            " Navid_89_jpg.rf.c985f24b57a16d402d6049f447049740.jpg\n",
            " Navid_90_jpg.rf.ceb43ed20bde3e69ee02121db09d52b2.jpg\n",
            " Navid_92_jpg.rf.9107f96443d4d2e24ad0b7f5bfc4e0d7.jpg\n",
            " Navid_94_jpg.rf.5aaf23e34867b7d64c956a6f1513c071.jpg\n",
            " Navid_95_jpg.rf.e65af6ea4a40da947530e71e0c8b3d23.jpg\n",
            " Navid_97_jpg.rf.91f82088b44b346e297518cba5ee572d.jpg\n",
            " Navid_98_jpg.rf.2a2a2d0148e94e1fb080b76a1033aeb5.jpg\n",
            " Navid_99_jpg.rf.8fb918824652e5d7574868a461e60656.jpg\n",
            "'Numan_(100)_jpg.rf.e377e8cd6cf826c65e5ee67212d27d54.jpg'\n",
            "'Numan_(101)_jpg.rf.faf4b12d36a2bada2ba668c234a9ed12.jpg'\n",
            "'Numan_(102)_jpg.rf.399f78413137f65b55456657f81593ed.jpg'\n",
            "'Numan_(103)_jpg.rf.e982b66f456bd40feb4649d5d59283b0.jpg'\n",
            "'Numan_(104)_jpg.rf.85e4488ed508969671553429c9109bfe.jpg'\n",
            "'Numan_(105)_jpg.rf.25568d0ba6acde7a9366edca5e175f5c.jpg'\n",
            "'Numan_(106)_jpg.rf.7fba6e25392f7957851b91d44ad00e5c.jpg'\n",
            "'Numan_(108)_jpg.rf.c75e2428678be6ed6d729fe85a1e998a.jpg'\n",
            "'Numan_(109)_jpg.rf.506d4de6dcd40adc29647f19264ec0c5.jpg'\n",
            "'Numan_ (10)_jpg.rf.86c647b50ecb70cda0bc98ba5a9054e2.jpg'\n",
            "'Numan_(110)_jpg.rf.880815fc80d4488a95f5f8fa3929df85.jpg'\n",
            "'Numan_(112)_jpg.rf.d1c709acc0d826cb5e8dd05e3ca6093f.jpg'\n",
            "'Numan_(113)_jpg.rf.490ba6b631f22889d0e1e23931a8f5ea.jpg'\n",
            "'Numan_(114)_jpg.rf.ac9bdb444718489f0590ad3c43d2282b.jpg'\n",
            "'Numan_(116)_jpg.rf.0feed6178a5d9a6701859b9bb3814dfd.jpg'\n",
            "'Numan_(118)_jpg.rf.7d909e55ac399d4ad254e2d0612f4e25.jpg'\n",
            "'Numan_(119)_jpg.rf.63e56275c2a4be04db769e2a4b3fd0a4.jpg'\n",
            "'Numan_(120)_jpg.rf.f5194c2c892d01ce09c1672bf3451e87.jpg'\n",
            "'Numan_(121)_jpg.rf.8b1bdd22405d436527af757bf539219c.jpg'\n",
            "'Numan_(124)_jpg.rf.20f6479501a6f2b53ae909a0952566d9.jpg'\n",
            "'Numan_(125)_jpg.rf.b7ee68cdcc54ba9d4fb1dbf223b2b202.jpg'\n",
            "'Numan_(126)_jpg.rf.4b960d0298ac3864297fa9ae5f13ad27.jpg'\n",
            "'Numan_(127)_jpg.rf.777ff514ec7896769728121463f797f5.jpg'\n",
            "'Numan_(128)_jpg.rf.e73ee782a920f4b8bad2c040e5996bf0.jpg'\n",
            "'Numan_(129)_jpg.rf.c68bcb93cb0fefcc808f416a7ec55048.jpg'\n",
            "'Numan_(130)_jpg.rf.dd6982de94abe94f69b3327846151625.jpg'\n",
            "'Numan_(132)_jpg.rf.7859d75673ff8a1ab111967ff4e948fe.jpg'\n",
            "'Numan_(133)_jpg.rf.e2cb1df019e4b754b194f07cefedec70.jpg'\n",
            "'Numan_(134)_jpg.rf.e6137fa17d7e1d5c3ea4b0fade28bae8.jpg'\n",
            "'Numan_(135)_jpg.rf.ee721096afa83f452be61b9d56743d3b.jpg'\n",
            "'Numan_(138)_jpg.rf.e4118e7587a5053dd88f9c2102e2e813.jpg'\n",
            "'Numan_(139)_jpg.rf.0e4a309505953f0e3af829a0c4bd6b41.jpg'\n",
            "'Numan_(140)_jpg.rf.3300245576f0ba923c0346446aa20acc.jpg'\n",
            "'Numan_(141)_jpg.rf.0d6e87922a136c2de9fe1bae0872bfd6.jpg'\n",
            "'Numan_(142)_jpg.rf.79f97d976d59040d614c6aff7b6e9e3b.jpg'\n",
            "'Numan_(143)_jpg.rf.5a24b5cd33cced72c28af5d2627668d7.jpg'\n",
            "'Numan_(145)_jpg.rf.bc590e88f7afc034f79204eee516eb78.jpg'\n",
            "'Numan_(146)_jpg.rf.7563d88fac9834319634ec2054fed480.jpg'\n",
            "'Numan_(147)_jpg.rf.fc9cea3041a82e675bddf28948c3530f.jpg'\n",
            "'Numan_(148)_jpg.rf.389ee437d0cb870fd0f7f50d9cd481f2.jpg'\n",
            "'Numan_(149)_jpg.rf.4ac26f657daf7dde502bdbdfa140426f.jpg'\n",
            "'Numan_(150)_jpg.rf.899ab917db98d2949faefa6275f3119b.jpg'\n",
            "'Numan_(151)_jpg.rf.be961c11b864d825c3e9c8f395ec182c.jpg'\n",
            "'Numan_(154)_jpg.rf.045954645ffc7665cffdad08eed99123.jpg'\n",
            "'Numan_(155)_jpg.rf.7c720c579b01bc309790f4dc4f45881b.jpg'\n",
            "'Numan_(156)_jpg.rf.400845e59a2c669caeedf80dd552b16a.jpg'\n",
            "'Numan_(158)_jpg.rf.8d2ae30c885ff885f9a5d9df56d81508.jpg'\n",
            "'Numan_ (15)_jpg.rf.064987a341190d3bcc349f1b9757529c.jpg'\n",
            "'Numan_(160)_jpg.rf.921decb7266f39aad73f1548e9dcf554.jpg'\n",
            "'Numan_(161)_jpg.rf.260ba86db50d370646f2a394f611c088.jpg'\n",
            "'Numan_(162)_jpg.rf.be17966d9276b283d5e118ba6d3a9bcb.jpg'\n",
            "'Numan_(163)_jpg.rf.8a303de8a145643b99e69edf31fbab3a.jpg'\n",
            "'Numan_(164)_jpg.rf.6d05133224e2d4b352c83121da88c4f9.jpg'\n",
            "'Numan_(165)_jpg.rf.a908031967640bb9768e05f16e0e94d1.jpg'\n",
            "'Numan_(167)_jpg.rf.a22ca93ed3794c854064b6b9dc9fb931.jpg'\n",
            "'Numan_(168)_jpg.rf.4b05690d893dcccd959fe313973d0221.jpg'\n",
            "'Numan_(169)_jpg.rf.181581e286b23cd72aaf55e78d243379.jpg'\n",
            "'Numan_ (16)_jpg.rf.ee7db69de4ff557b720fdef0c31fbae7.jpg'\n",
            "'Numan_(170)_jpg.rf.761a00908660a908a1adad3fa09a016c.jpg'\n",
            "'Numan_(172)_jpg.rf.946106614eab19e402a12ea82b30daa5.jpg'\n",
            "'Numan_(173)_jpg.rf.79ace9d094ec27dfe8d54e9f8d421a08.jpg'\n",
            "'Numan_(175)_jpg.rf.e2b0aafadde4defa29452b249901f14b.jpg'\n",
            "'Numan_(177)_jpg.rf.061fee5a339db21b802e4a5e5b05d1c3.jpg'\n",
            "'Numan_(178)_jpg.rf.4de9a4fc3921ae4314ff1a514ea1c2f1.jpg'\n",
            "'Numan_(179)_jpg.rf.ae2a14963b4fffafb2533957f81367d8.jpg'\n",
            "'Numan_ (17)_jpg.rf.1db9211065eeabcf891a67ed4c8d8111.jpg'\n",
            "'Numan_(181)_jpg.rf.5abac1ef49debce2a0edfb737de67aa7.jpg'\n",
            "'Numan_(182)_jpg.rf.a43ae2bcaaa4cee3b5315e6a828bd681.jpg'\n",
            "'Numan_(184)_jpg.rf.fc80aefb8544d0496e327fddc388ab9a.jpg'\n",
            "'Numan_(185)_jpg.rf.8085d26618628fb981e08731952a31e1.jpg'\n",
            "'Numan_(187)_jpg.rf.8c30347538a81078175c52352b9e1bea.jpg'\n",
            "'Numan_(188)_jpg.rf.4180f2add824c7d6e7b9e57c3dcb2a88.jpg'\n",
            "'Numan_ (18)_jpg.rf.23d3585922b5cdc0c790bbe2bc95701c.jpg'\n",
            "'Numan_(190)_jpg.rf.37907f7971fe8053b778b2a8be11beea.jpg'\n",
            "'Numan_(191)_jpg.rf.54987d75fa03854a96596726a362d286.jpg'\n",
            "'Numan_(192)_jpg.rf.009d79124174190758f04c1fdb81da0c.jpg'\n",
            "'Numan_(193)_jpg.rf.9c34a4b061fefaf0ed16d28cfed77edc.jpg'\n",
            "'Numan_(195)_jpg.rf.3c10efc6c243e76ce2c773acfa0fcf6b.jpg'\n",
            "'Numan_(196)_jpg.rf.e279bdaf9282a2de6470f51cf35aea58.jpg'\n",
            "'Numan_(197)_jpg.rf.ad47eca98dfd0d7646dff551f1cbc6be.jpg'\n",
            "'Numan_(199)_jpg.rf.fa86d80f404b05cc7cd73176d9f13b0d.jpg'\n",
            "'Numan_(200)_jpg.rf.e9aabfc7616fc5d2f6f1e216a9ce7a10.jpg'\n",
            "'Numan_(201)_jpg.rf.c801fbe43c2574b77ef40ab7c8d58cd7.jpg'\n",
            "'Numan_(202)_jpg.rf.511f549ef94a24e31f6712f3b0080b2c.jpg'\n",
            "'Numan_(203)_jpg.rf.f7d1d7f6af7bacd337668bbf7ff6dd87.jpg'\n",
            "'Numan_(204)_jpg.rf.a4c59674923f8d6c82bfab35cd36e3f3.jpg'\n",
            "'Numan_(205)_jpg.rf.f869f698f17b2fa71d2b2b224a72d4c0.jpg'\n",
            "'Numan_(206)_jpg.rf.53620c8aee6a2f0408fe069c29fa67e4.jpg'\n",
            "'Numan_(207)_jpg.rf.5ade67c2743acee55b75f5198a862b89.jpg'\n",
            "'Numan_(208)_jpg.rf.130c23d796d2e1f205924f48ffe2fea9.jpg'\n",
            "'Numan_(209)_jpg.rf.aea60e29bb92afb549e1d5205ad1bcbb.jpg'\n",
            "'Numan_(210)_jpg.rf.364a94926acf9681faaf19ef83801e63.jpg'\n",
            "'Numan_(212)_jpg.rf.42bb2ce4a73b597cd37115c536a38b68.jpg'\n",
            "'Numan_(214)_jpg.rf.a1d24b4c31ef2f18550c2a633bee85ec.jpg'\n",
            "'Numan_(216)_jpg.rf.b5a3ca984607746ad7ec13448d2cfc5c.jpg'\n",
            "'Numan_(217)_jpg.rf.44d8165837ca8e72224261900556754b.jpg'\n",
            "'Numan_(218)_jpg.rf.8fc3fbd84e4f0d9bc75cfb9930104a25.jpg'\n",
            "'Numan_(220)_jpg.rf.4e43a1f7608200c0a4da2c97fcdfff98.jpg'\n",
            "'Numan_(221)_jpg.rf.828385e5347c8c94ffadcd1f59883705.jpg'\n",
            "'Numan_(222)_jpg.rf.91b5620a055719734a92dfa1dfa4e85c.jpg'\n",
            "'Numan_(223)_jpg.rf.1a5907e2da8f7f9c063dbb4ac6c4dc80.jpg'\n",
            "'Numan_(225)_jpg.rf.7350a2bfbbcaea144241b6651a402bdf.jpg'\n",
            "'Numan_(226)_jpg.rf.ac266db346fd69efb5608fad00e92c32.jpg'\n",
            "'Numan_(227)_jpg.rf.151fb2d1052daa33f797a6017d676d84.jpg'\n",
            "'Numan_(228)_jpg.rf.7aed2664038d08bd42821ed299f8f9b5.jpg'\n",
            "'Numan_(229)_jpg.rf.09367ade608f7e18c3928b772108795c.jpg'\n",
            "'Numan_(231)_jpg.rf.2e718b5cfefc18a10ea8c8f43402fc55.jpg'\n",
            "'Numan_(232)_jpg.rf.3e3ee0dc5c44ab2e21e1a14c08fbde11.jpg'\n",
            "'Numan_(233)_jpg.rf.36f1f78402fc265cfe8231d818bafeea.jpg'\n",
            "'Numan_(234)_jpg.rf.c701eaf78f2941a64d7dc4da2cfde788.jpg'\n",
            "'Numan_(235)_jpg.rf.854d93137202e57baa5294910f7fa5ce.jpg'\n",
            "'Numan_(236)_jpg.rf.eaa4a20388564ca7b0d00b40b6fd6c0d.jpg'\n",
            "'Numan_ (23)_jpg.rf.d9b58e76a65817f3a2f1a581572eb29e.jpg'\n",
            "'Numan_(240)_jpg.rf.d390114783a4cd6b20e7ac610450d4e6.jpg'\n",
            "'Numan_(241)_jpg.rf.8b240b1a9e2390cbd8e3534c9bc8147c.jpg'\n",
            "'Numan_(242)_jpg.rf.f4b397b7ee6b531101200f8358d333a8.jpg'\n",
            "'Numan_(243)_jpg.rf.5e1cf49cd6bb029b1fcba9e58ad7df1c.jpg'\n",
            "'Numan_(244)_jpg.rf.ae5ebc5d5a1b34e03dc45300b61be637.jpg'\n",
            "'Numan_(246)_jpg.rf.c1f48e7443c24eb8bf2422697591cdef.jpg'\n",
            "'Numan_(247)_jpg.rf.1b38a94074839fa462ab50f68e2cb374.jpg'\n",
            "'Numan_(248)_jpg.rf.645f21943fe59f6f3ca9205efc683770.jpg'\n",
            "'Numan_(249)_jpg.rf.763734624adc3004b3dc73debe3fc490.jpg'\n",
            "'Numan_(252)_jpg.rf.4f29f97423eeb82a2524f59bc72d92dc.jpg'\n",
            "'Numan_(253)_jpg.rf.1fe07e181e807fee1155499ec241d8fc.jpg'\n",
            "'Numan_(257)_jpg.rf.bc564fa94131b3b7c5eced8e718b3bee.jpg'\n",
            "'Numan_(258)_jpg.rf.b866f627e765962836ae5d8a237361fa.jpg'\n",
            "'Numan_ (25)_jpg.rf.22f2b36135b956d9e6321f9546a21a0d.jpg'\n",
            "'Numan_(260)_jpg.rf.3458d68edfcd8e7bbed83c2e8463b544.jpg'\n",
            "'Numan_(261)_jpg.rf.1d8b06bc1b7098d65c93d1fe73f02b9c.jpg'\n",
            "'Numan_(263)_jpg.rf.bb4c868d889776087df64179d5f079b2.jpg'\n",
            "'Numan_(264)_jpg.rf.c80c25f6f0e30d24aa9bf84a325c6674.jpg'\n",
            "'Numan_(265)_jpg.rf.efbd6a3d89086c7acfcbf43d80f08b9a.jpg'\n",
            "'Numan_(266)_jpg.rf.6a864da3a3a6b3e30e9aaf210150c104.jpg'\n",
            "'Numan_(270)_jpg.rf.b7ac222a3a360755f2c81cf6dc52700a.jpg'\n",
            "'Numan_(273)_jpg.rf.6d2e4393e1b3b02f951d50b8ebb50992.jpg'\n",
            "'Numan_(275)_jpg.rf.366706c80f7dd60c36ce83392511498b.jpg'\n",
            "'Numan_(278)_jpg.rf.e81e5de0b3e189ed38083b04fe0eba8f.jpg'\n",
            "'Numan_ (27)_jpg.rf.270a11fd9c3c0cb75f904f8b31f8b78a.jpg'\n",
            "'Numan_(280)_jpg.rf.49c027c98316bfb3c1c5f5ca9de37479.jpg'\n",
            "'Numan_(281)_jpg.rf.e1058474f5e6a31688d3aaca13a98210.jpg'\n",
            "'Numan_(282)_jpg.rf.7a08556cdf55c034cb7d3ab05759b9f4.jpg'\n",
            "'Numan_(283)_jpg.rf.68a839027dabcd2db964fae3d019262a.jpg'\n",
            "'Numan_(285)_jpg.rf.eba7119bc0a27104b0db08eab1f0f6f7.jpg'\n",
            "'Numan_(286)_jpg.rf.6b2ea8e9de16b5aad0d4e883fd81feff.jpg'\n",
            "'Numan_(287)_jpg.rf.ed501187aeddf396576caa1890f1d0da.jpg'\n",
            "'Numan_(288)_jpg.rf.ade464c0b6cc8d54caad323d4061fa7d.jpg'\n",
            "'Numan_(289)_jpg.rf.be37fc77f23706d43029ceb4a0f4c833.jpg'\n",
            "'Numan_ (28)_jpg.rf.a59854be260e0a04f73e6444a10e56a6.jpg'\n",
            "'Numan_(290)_jpg.rf.0cd1953bde7e6831f1c8bc50529f7637.jpg'\n",
            "'Numan_(291)_jpg.rf.b20cfd513a2478ee1ab246a60c15fc5b.jpg'\n",
            "'Numan_(292)_jpg.rf.52edf9cf1a834a86a627765ed3922628.jpg'\n",
            "'Numan_(293)_JPG.rf.ef45d818387161f1ae59077b18bc31ce.jpg'\n",
            "'Numan_(295)_JPG.rf.730ab7dccaa101fdf0b6523198594d84.jpg'\n",
            "'Numan_(297)_JPG.rf.4a56b12edda99fd58cf04f26178843c8.jpg'\n",
            "'Numan_(298)_JPG.rf.c7d2e43ed020651b5a69a8041de2dda3.jpg'\n",
            "'Numan_ (29)_jpg.rf.6d7adfcea6020be8c208af09107cf6d3.jpg'\n",
            "'Numan_ (2)_jpg.rf.39b793556432285929d9bc3d960dd6ce.jpg'\n",
            "'Numan_(300)_JPG.rf.08048c186cd2eb3cbb9b2a9180fc6455.jpg'\n",
            "'Numan_(301)_JPG.rf.3b41220839f98edca31ef70664c5227b.jpg'\n",
            "'Numan_(302)_JPG.rf.521118ddc6ea9c9e373c73f85761fbdf.jpg'\n",
            "'Numan_(304)_JPG.rf.3444c5803c597671984ddb67310e04c4.jpg'\n",
            "'Numan_(305)_JPG.rf.588b525286165f938597b9d8190768fa.jpg'\n",
            "'Numan_(306)_JPG.rf.244d627fb5b536700aa08182aed9132d.jpg'\n",
            "'Numan_(307)_JPG.rf.06cedcadad7f6a74383dfa395bb0c872.jpg'\n",
            "'Numan_(308)_JPG.rf.8b46f937e81139ec3ac1bd85bbc83942.jpg'\n",
            "'Numan_(309)_JPG.rf.1e06351d95022f49902b69cb3d6a14f6.jpg'\n",
            "'Numan_(310)_JPG.rf.ca43ea069ab6fa7c8892973141d454bf.jpg'\n",
            "'Numan_(311)_JPG.rf.baa6bf6d4708dceec3ed452ecf675f45.jpg'\n",
            "'Numan_(312)_JPG.rf.1f014f9c278970829ee5cfb055b9ab4d.jpg'\n",
            "'Numan_(313)_jpg.rf.aecd1b7e61925c3963b3b476c1c94af0.jpg'\n",
            "'Numan_(314)_jpg.rf.d949b579d23d49c917886244048e05dd.jpg'\n",
            "'Numan_(315)_jpg.rf.a4394abc191312832d12570d0c29128d.jpg'\n",
            "'Numan_(316)_jpg.rf.050df11e5c365c9fe70c22028a4d2015.jpg'\n",
            "'Numan_(318)_jpg.rf.5e95cfb6e2a8ebdaca3298e695219684.jpg'\n",
            "'Numan_ (31)_jpg.rf.f4267df3e04de51124a372d4a56d3f30.jpg'\n",
            "'Numan_(323)_jpg.rf.4b8a01f44a87550140689a09d31bdf91.jpg'\n",
            "'Numan_(324)_jpg.rf.fa3664f74c2aaebc690fea757ef7fdfc.jpg'\n",
            "'Numan_(325)_jpg.rf.013669b171d34137a3155f0609b34988.jpg'\n",
            "'Numan_(327)_jpg.rf.6869618e004a6cfa77b22d35d5b3e078.jpg'\n",
            "'Numan_(328)_jpg.rf.089a1abd778dea79aff51d92d13dab48.jpg'\n",
            "'Numan_(329)_jpg.rf.3729d5ef379f485f983bf3a25cab2bb4.jpg'\n",
            "'Numan_ (32)_jpg.rf.d76a6c2a91d897cb57d0127bb8506812.jpg'\n",
            "'Numan_(330)_jpg.rf.a53f80d05d6652996560ec764b274899.jpg'\n",
            "'Numan_(332)_jpg.rf.58bfcf098f97d372c377f1074e9358dc.jpg'\n",
            "'Numan_(334)_jpg.rf.4a4a3e002c76468077e10c9e3dcccc01.jpg'\n",
            "'Numan_(336)_jpg.rf.8e5963524015c5f1dd5ee3dcb0b28123.jpg'\n",
            "'Numan_(337)_jpg.rf.c01f1e4c3ae090f4f114d8fe8fdaa0dd.jpg'\n",
            "'Numan_(338)_jpg.rf.9bd8288a15597b69eaa76b28ebce9866.jpg'\n",
            "'Numan_(339)_jpg.rf.7834700994bf3a36c3bdc5107702b6e1.jpg'\n",
            "'Numan_ (33)_jpg.rf.0cf12f896f8bb6abe5052874df21e47a.jpg'\n",
            "'Numan_(340)_jpg.rf.15b2f092f372496a3c7a11e5ffeaee32.jpg'\n",
            "'Numan_(342)_jpg.rf.6b0a30dd25017db4d259aa31cebbc4eb.jpg'\n",
            "'Numan_(343)_jpg.rf.b343c5998f5188523c7d607fb0716f75.jpg'\n",
            "'Numan_(344)_jpg.rf.382cc09fa25680bf1592ef2b2f0f4434.jpg'\n",
            "'Numan_(345)_jpg.rf.f03796580e6761eefef21b6fd2d53db6.jpg'\n",
            "'Numan_(346)_jpg.rf.6905b7393eff9c328c009bd090569280.jpg'\n",
            "'Numan_(347)_jpg.rf.6ab709008fc5ab406a37afbb3bb257d4.jpg'\n",
            "'Numan_(348)_jpg.rf.1a744eae9809cf0e2f066c6108652d4e.jpg'\n",
            "'Numan_(349)_jpg.rf.f6d34606df3c99452439cd81490114d2.jpg'\n",
            "'Numan_ (34)_jpg.rf.6b98d9a6a887e6dc6b603b3b11215723.jpg'\n",
            "'Numan_(350)_jpg.rf.a5553b1fae430ded1bfc916911617fc3.jpg'\n",
            "'Numan_(351)_jpg.rf.42307c49e57389c4553f5b4e0d83b371.jpg'\n",
            "'Numan_(352)_jpg.rf.da6e643adef1fd0139a35331f80ce3a5.jpg'\n",
            "'Numan_(353)_jpg.rf.316b36a26f9ac8697e97f5f19679ea64.jpg'\n",
            "'Numan_(354)_jpg.rf.535c8f0a880924d27832c42442a947b8.jpg'\n",
            "'Numan_(356)_jpg.rf.0d108ef47f5fd7101eba13d58f89d8ff.jpg'\n",
            "'Numan_(359)_jpg.rf.8aec4c38ec7744eb7e506dbcfe58540a.jpg'\n",
            "'Numan_ (35)_jpg.rf.c77ad8cd02222666c9c1a79406196c6e.jpg'\n",
            "'Numan_(362)_jpg.rf.94e3f004fc59d466a478fd7132731e96.jpg'\n",
            "'Numan_(363)_jpg.rf.ab45d0e0013fb1a0902c5658dbdea3ce.jpg'\n",
            "'Numan_(364)_jpg.rf.4f2b0e852a4924540ce22ea416a26b70.jpg'\n",
            "'Numan_(367)_jpg.rf.deb68c8bfaeac21c891e3151695e0d36.jpg'\n",
            "'Numan_(368)_jpg.rf.499927f3beee3b915b087cf41a8cc037.jpg'\n",
            "'Numan_(369)_jpg.rf.a483605abe9b741815d62ad431676a95.jpg'\n",
            "'Numan_(36)_jpg.rf.def31f9a0c89581f4b42d20c6d8c9e51.jpg'\n",
            "'Numan_(373)_jpg.rf.e4ca38f2ef9afbeaf3a59b0861fb271b.jpg'\n",
            "'Numan_(375)_jpg.rf.159e24e1eed3510ccf64592bfc5e5154.jpg'\n",
            "'Numan_(376)_jpg.rf.991b4aa862712f31033978c5d265f1e6.jpg'\n",
            "'Numan_(379)_jpg.rf.0925522b961c4a0712cc88198e360f29.jpg'\n",
            "'Numan_(380)_jpg.rf.2749c60bff761a5645a2aceea27d5967.jpg'\n",
            "'Numan_(382)_jpg.rf.88406ffd91666578419b1aa5230c58ce.jpg'\n",
            "'Numan_(383)_jpg.rf.6ed882a4afed5a2b92130571b2ef0b7b.jpg'\n",
            "'Numan_(384)_jpg.rf.a60a925f666220389212f4dd348fc766.jpg'\n",
            "'Numan_(385)_jpg.rf.a577529623600a3a5f202739c98bf7fc.jpg'\n",
            "'Numan_(387)_jpg.rf.0ad6477ed6cd0650ea3559fd7c63f17a.jpg'\n",
            "'Numan_(388)_jpg.rf.a955d1ef623af27dd14da7763914c8a3.jpg'\n",
            "'Numan_(389)_jpg.rf.685242211c893dc86164e70201922b5b.jpg'\n",
            "'Numan_(390)_jpg.rf.d16972a96792f9d90264c492997299cf.jpg'\n",
            "'Numan_(391)_jpg.rf.5a5a944958f60a4f3dd6e410604cd3cb.jpg'\n",
            "'Numan_(392)_jpg.rf.c400c218c7c34eb1c5dfd4816c08cec6.jpg'\n",
            "'Numan_(393)_jpg.rf.62e4b50320dfa98a6d8264402ee0775d.jpg'\n",
            "'Numan_(394)_jpg.rf.af00f9bd6085d4c0a50dd28013f26dd4.jpg'\n",
            "'Numan_(395)_jpg.rf.13ab68a6e974fe9c64e8b4c95328c07a.jpg'\n",
            "'Numan_(396)_jpg.rf.5c28ad4da7dee9b06d72c9ae44f61a8c.jpg'\n",
            "'Numan_(397)_jpg.rf.9d9aa44106c22090e36272d7f9cdd444.jpg'\n",
            "'Numan_(399)_jpg.rf.661e5fa96dab2e68ad0e113aa40d7cc2.jpg'\n",
            "'Numan_(39)_jpg.rf.fa8dc0ad1caa79d05edbf1d81f8a15cc.jpg'\n",
            "'Numan_ (3)_jpg.rf.75bf07f27f297eeb08e8689f2a8b1765.jpg'\n",
            "'Numan_(401)_jpg.rf.71ab1d239124445ad966550d59d4455d.jpg'\n",
            "'Numan_(402)_jpg.rf.edc4804ee6b8fa97669a326ba929c224.jpg'\n",
            "'Numan_(404)_jpg.rf.6871f2ab84949141436feb8f470e6ec1.jpg'\n",
            "'Numan_(405)_jpg.rf.3e7b13f2795e57fb97ee5a613f09c6de.jpg'\n",
            "'Numan_(406)_jpg.rf.5160d79d189202ddd370375c6a0fdd32.jpg'\n",
            "'Numan_(407)_jpg.rf.4cd7940a25ed42350ea2019baeffc6d1.jpg'\n",
            "'Numan_(408)_jpg.rf.09d8ac5e6bc23e740e91d7b491d297d7.jpg'\n",
            "'Numan_(40)_jpg.rf.362c647df33b79c5ed98c6f4e1a6c070.jpg'\n",
            "'Numan_(410)_jpg.rf.632d418ad20a0a10f5b902caeda6ddde.jpg'\n",
            "'Numan_(411)_jpg.rf.8dcaf2bc24468185585bb91ca9c3be68.jpg'\n",
            "'Numan_(412)_jpg.rf.e41262227e04b16733f25285870e25ff.jpg'\n",
            "'Numan_(413)_jpg.rf.4f156fc63761a3a590b856bf0755d9ad.jpg'\n",
            "'Numan_(414)_jpg.rf.4a792e42474e107e27928d3663b18306.jpg'\n",
            "'Numan_(415)_jpg.rf.449c25f58843488ff66d0fa5e1810ede.jpg'\n",
            "'Numan_(416)_jpg.rf.194c6042c7355b84edbaaed2ac856a56.jpg'\n",
            "'Numan_(417)_jpg.rf.e2a278b520dbc7dfb2078da99d4f651c.jpg'\n",
            "'Numan_(418)_jpg.rf.51728c670744cb263cb8cfc7450a48b5.jpg'\n",
            "'Numan_(419)_jpg.rf.2531ed96e58286a6b9aadd680cba837b.jpg'\n",
            "'Numan_(41)_jpg.rf.b4ee6e80d07594c14c4b98ef2cf0718c.jpg'\n",
            "'Numan_(420)_jpg.rf.91f0fa78a4cf142a75009b0f728d86cf.jpg'\n",
            "'Numan_(421)_jpg.rf.8d8ec6e3ce5be58fb8785c59d08e08c2.jpg'\n",
            "'Numan_(422)_jpg.rf.6ae4a30ff2a42ab2a85912073528e4c8.jpg'\n",
            "'Numan_(423)_jpg.rf.f54ff2e2755864706d28aac2407d4f8f.jpg'\n",
            "'Numan_(424)_jpg.rf.2de2144c2511c9cfe808904939d18248.jpg'\n",
            "'Numan_(425)_jpg.rf.776cf4525ddd147ddd96da79504b7bda.jpg'\n",
            "'Numan_(426)_jpg.rf.ec9d3016e17091b044ebb2e1b5211d65.jpg'\n",
            "'Numan_(428)_jpg.rf.2d050a7aaf4cc6bb53f1dbd3a88e9a6f.jpg'\n",
            "'Numan_(429)_jpg.rf.bc6d1fe5166bda37a755959aa3d36f07.jpg'\n",
            "'Numan_(42)_jpg.rf.c438e62b4d166c0ac20224678c033c15.jpg'\n",
            "'Numan_(430)_jpg.rf.b5975c4a4bb460a9eb4449915b7cfc90.jpg'\n",
            "'Numan_(432)_jpg.rf.45b84c947de2e1fa7e15200b815e6dbf.jpg'\n",
            "'Numan_(433)_jpg.rf.f6cbfbc95d5921410d14a1ccfab13e17.jpg'\n",
            "'Numan_(434)_jpg.rf.ea5ba06bc51025f33ea144a7224a8468.jpg'\n",
            "'Numan_(435)_jpg.rf.44e686a8f2f3d0a724667163398610f1.jpg'\n",
            "'Numan_(436)_jpg.rf.aa817cd6d6bd4dad8ba7207be3076c3b.jpg'\n",
            "'Numan_(439)_jpg.rf.ad28d4616b1762cad0b041481627338f.jpg'\n",
            "'Numan_(43)_jpg.rf.1fb6e94d1664341356efb79ef344088b.jpg'\n",
            "'Numan_(440)_jpg.rf.c4df1c954174f0640e2b0eb9f2523035.jpg'\n",
            "'Numan_(441)_jpg.rf.d99e9fabfa90a1295edbf0d0c8194d0f.jpg'\n",
            "'Numan_(442)_jpg.rf.15a993b8336e90c07899df29968baec8.jpg'\n",
            "'Numan_(445)_jpg.rf.6f5ac8472f45057dc6021d3275bdbfe0.jpg'\n",
            "'Numan_(447)_jpg.rf.f6eee0affa616df17f759860cc6bca21.jpg'\n",
            "'Numan_(448)_jpg.rf.2c8e2d3760db76497f73f668ff97b5a7.jpg'\n",
            "'Numan_(449)_jpg.rf.8b276b8e0d1e7b9dab7cf4ffa4c54ee4.jpg'\n",
            "'Numan_(451)_jpg.rf.acffdaec44b0a92c2f5430f2f86e0ace.jpg'\n",
            "'Numan_(452)_jpg.rf.4adcf403d06b084f1c65a41448a19abf.jpg'\n",
            "'Numan_(455)_jpg.rf.22a634b9b0836a1b8e07e7720e85da53.jpg'\n",
            "'Numan_(456)_jpg.rf.3e4c556aebc0f870e572cb76c11750bb.jpg'\n",
            "'Numan_(457)_jpg.rf.264561019fbf5c011994fd422b84dd36.jpg'\n",
            "'Numan_(458)_jpg.rf.5bff48d1776a6bf4871ef68e6478b10d.jpg'\n",
            "'Numan_(459)_jpg.rf.74bb922fd5675985ac92d624a05b825a.jpg'\n",
            "'Numan_(45)_jpg.rf.eaed55672957f1220ebe1f0fef65467a.jpg'\n",
            "'Numan_(461)_jpg.rf.8ba3f0f3f563a24c787a45490c059cda.jpg'\n",
            "'Numan_(462)_jpg.rf.796b56f64c59d073084b0896c79280db.jpg'\n",
            "'Numan_(463)_jpg.rf.1f28bd822305748a4517b47380b940f0.jpg'\n",
            "'Numan_(465)_jpg.rf.4c7f6c64866b3a22cfcbb021782f73cb.jpg'\n",
            "'Numan_(466)_jpg.rf.861868fc842332efdd64b3bd7a0c9d6a.jpg'\n",
            "'Numan_(468)_jpg.rf.f43c281284b266931aa05fc3b06d3971.jpg'\n",
            "'Numan_(469)_jpg.rf.7dd045f9d67bebf73b9ca8f62a03e603.jpg'\n",
            "'Numan_(470)_jpg.rf.bdc623a9b74ea93628a4c0ab91022aae.jpg'\n",
            "'Numan_(472)_jpg.rf.d2fc2b8967eb9563b488596c972c65f6.jpg'\n",
            "'Numan_(473)_jpg.rf.365268049efc3e4813841d4173ee4911.jpg'\n",
            "'Numan_(476)_jpg.rf.27d57b522e6108a87329d12ce1ca454f.jpg'\n",
            "'Numan_(477)_jpg.rf.684d334f8faf1bfd37a05183338532a6.jpg'\n",
            "'Numan_(478)_jpg.rf.fdf4e8cb4b43c5b8c7f290690e5d4ba2.jpg'\n",
            "'Numan_(479)_jpg.rf.219e82cc6eeec774eddd9a2df604cd31.jpg'\n",
            "'Numan_(47)_jpg.rf.3c014ed1d008bade441ae6a77bb24f60.jpg'\n",
            "'Numan_(480)_jpg.rf.3a4908bebf2fb18588242323b7719a61.jpg'\n",
            "'Numan_(481)_jpg.rf.d2241cfa9e466df3acf64095a9505f70.jpg'\n",
            "'Numan_(482)_jpg.rf.731573915aee2a642f1ada10f10d9444.jpg'\n",
            "'Numan_(485)_jpg.rf.c082ea6304e9342271794cb51c7e44fb.jpg'\n",
            "'Numan_(486)_jpg.rf.bad689663f1188adb29b070676ee60a2.jpg'\n",
            "'Numan_(488)_jpg.rf.a6173115b1a328588bee267b24a5b7ae.jpg'\n",
            "'Numan_(48)_jpg.rf.9b8746a21f7c5b86f8af3cbd7bea2b1d.jpg'\n",
            "'Numan_(490)_jpg.rf.f154882be69eb5f057e5740fb0d894e3.jpg'\n",
            "'Numan_(491)_jpg.rf.47f060a1fa51a427364e161231965959.jpg'\n",
            "'Numan_(492)_jpg.rf.6cc469bef9ca98ea4afc0310c52eecdc.jpg'\n",
            "'Numan_(495)_jpg.rf.e0c6763ecc4198412c21ec89ffefccb2.jpg'\n",
            "'Numan_(496)_jpg.rf.381460f0ca319af9f9c73c0ccb8994d9.jpg'\n",
            "'Numan_(497)_jpg.rf.a2a2d1f598d490ed3aff0b6a91552d73.jpg'\n",
            "'Numan_(498)_jpg.rf.91db387e70901bbf65a31c63627cd9b0.jpg'\n",
            "'Numan_(501)_jpg.rf.fb23a077fb7eeafa7ace711496d0d9af.jpg'\n",
            "'Numan_(50)_jpg.rf.985469879699e8afe7373d34f593c9e7.jpg'\n",
            "'Numan_(52)_jpg.rf.6e55553ace63fa888f1ace09464465f2.jpg'\n",
            "'Numan_(53)_jpg.rf.3623023368e92412ba88550c165e0ff7.jpg'\n",
            "'Numan_(55)_jpg.rf.24c03c39b159b690087face71f761ce6.jpg'\n",
            "'Numan_(57)_jpg.rf.6c8aebcf790d47af1fe3248e738b5a03.jpg'\n",
            "'Numan_(58)_jpg.rf.2c31d08c1b340b002eb45125f11387ea.jpg'\n",
            "'Numan_(61)_jpg.rf.72549209094db1e283016c0fe36c2a47.jpg'\n",
            "'Numan_(62)_jpg.rf.5c25063370a8c2cfac682eed16b23842.jpg'\n",
            "'Numan_(64)_jpg.rf.91d77eb3423ee5d0df8d98fe39cfc590.jpg'\n",
            "'Numan_(65)_jpg.rf.049d8da62f5501d22ee2cdb2c74a6b3a.jpg'\n",
            "'Numan_(66)_jpg.rf.15123accb8e10a7c577f1135178a06f2.jpg'\n",
            "'Numan_(67)_jpg.rf.770988cbcbb9ca3770a36c3e45f7ce30.jpg'\n",
            "'Numan_(68)_jpg.rf.67bdbb0f89adc8185a6ceabcbb98bc9b.jpg'\n",
            "'Numan_(69)_jpg.rf.e5da52efc5fc54a1ece66b5099b10687.jpg'\n",
            "'Numan_ (6)_jpg.rf.dbca1c8d0f5e2e468ef5fe6419b64e65.jpg'\n",
            "'Numan_(71)_jpg.rf.89e1c23ba27101a1da4f80d95ef740b0.jpg'\n",
            "'Numan_(72)_jpg.rf.8b3af28c3feaf363d4ca57dd5bd0dc00.jpg'\n",
            "'Numan_(73)_jpg.rf.2f2ed0d4b2f6f7a48913c031795c2ad0.jpg'\n",
            "'Numan_(76)_jpg.rf.d2f09c56826fe08d07a6f0d1f969764d.jpg'\n",
            "'Numan_(77)_jpg.rf.5cbb8f8855bd81e34491593010505f03.jpg'\n",
            "'Numan_(79)_jpg.rf.dd4fff744be6a4346ebbd5e72f5e4934.jpg'\n",
            "'Numan_(82)_jpg.rf.13d380ecf40a7813e2e7705a87793bd6.jpg'\n",
            "'Numan_(83)_jpg.rf.9f5f50cff6e6d20395170a2e8667fdc1.jpg'\n",
            "'Numan_(84)_jpg.rf.32f0c4aa476999f9c509beabb50a5790.jpg'\n",
            "'Numan_(86)_jpg.rf.1466e7d73ebe7111fd2839e144b89e8a.jpg'\n",
            "'Numan_(87)_jpg.rf.0f2dbbd67fe9d827658f2dc04eaa090d.jpg'\n",
            "'Numan_(89)_jpg.rf.0983a3405c4a88d91b420829509e10b2.jpg'\n",
            "'Numan_ (8)_jpg.rf.71bbe88958bc89a6522fb239c8698a83.jpg'\n",
            "'Numan_(90)_jpg.rf.22052a6b194db5d0d052368887ce77b6.jpg'\n",
            "'Numan_(94)_jpg.rf.3f0f1aab0dec3c9ad51bde4f87e12963.jpg'\n",
            "'Numan_(95)_jpg.rf.29de21c4137a8bc53e967def52ecc528.jpg'\n",
            "'Numan_(96)_jpg.rf.3ab75f7ae6160a2027c02135c8b9b0ee.jpg'\n",
            "'Numan_(97)_jpg.rf.6f2a4546efd1190a438fd7d3888129e4.jpg'\n",
            "'Numan_(98)_jpg.rf.20fad1f331c9fc46863fd57cdcd8b2ce.jpg'\n",
            "'Numan_(99)_jpg.rf.bc62fcc8c0ad623ebf259476de32e240.jpg'\n",
            "'Pias (100)_jpg.rf.e8f41d458645ccd92eb7f604668823a4.jpg'\n",
            "'Pias (101)_jpg.rf.4de7df215a4dab1140ef369d41493864.jpg'\n",
            "'Pias (103)_jpg.rf.ebb2002102f139881ef3e76445331c0a.jpg'\n",
            "'Pias (105)_jpg.rf.2db941d86d61e48fac590c7a688e3b43.jpg'\n",
            "'Pias (106)_jpg.rf.828ceef26eb91851f414f6b1cad8fda6.jpg'\n",
            "'Pias (107)_jpg.rf.6b2eb40ab7bd2baff5c054c72de162fc.jpg'\n",
            "'Pias (108)_jpg.rf.70820b2a12f0f1de7b45cdd1c12b32b6.jpg'\n",
            "'Pias (109)_jpg.rf.5089631f880b6fa7b43b93755963daa0.jpg'\n",
            "'Pias (10)_jpg.rf.ffd1cf94377e33eb6c67446e7014d231.jpg'\n",
            "'Pias (110)_jpg.rf.7d80771f899e664ccc4e477037d95e16.jpg'\n",
            "'Pias (111)_jpg.rf.790d3a2cd9267ffa65c1094b87e64b56.jpg'\n",
            "'Pias (113)_jpg.rf.38cf8d500c8c35bec22caf1689f6fabc.jpg'\n",
            "'Pias (114)_jpg.rf.c5ae53898f0c3a2b94275342fbb4b50d.jpg'\n",
            "'Pias (115)_jpg.rf.f64b72666c63a07fa1d0aa1352b3ebb4.jpg'\n",
            "'Pias (118)_jpg.rf.28b73537e49f088b9164f701e85ce8c7.jpg'\n",
            "'Pias (11)_jpg.rf.71121dafa4ccdfa406a34a9a2577e2dc.jpg'\n",
            "'Pias (120)_jpg.rf.602abd66b35eab0ca241fe416bf0c77a.jpg'\n",
            "'Pias (121)_jpg.rf.5400b10d137a9b71fbefc905be3c05dc.jpg'\n",
            "'Pias (122)_jpg.rf.efd023693d57abdb031b8d1053363272.jpg'\n",
            "'Pias (123)_jpg.rf.3b3bf6a80bf8cc9e8ad161aaa420b692.jpg'\n",
            "'Pias (124)_jpg.rf.79e9caed1245e0daf986bcd8468144d0.jpg'\n",
            "'Pias (125)_jpg.rf.51822e09de841e82144ecec748c054b3.jpg'\n",
            "'Pias (126)_jpg.rf.dde3fe68334e00cd95fe768c2913ba08.jpg'\n",
            "'Pias (127)_jpg.rf.f4c3d2c79e04f0ff1ac395bbfafa7c7d.jpg'\n",
            "'Pias (128)_jpg.rf.47e125deb4d7b5e51ce59c8e60e63d2e.jpg'\n",
            "'Pias (131)_jpg.rf.6d21686150ad54f2f7f59da471a531f9.jpg'\n",
            "'Pias (132)_jpg.rf.6b29fc8b167a2435eef1f4f880261a80.jpg'\n",
            "'Pias (133)_jpg.rf.e780ac5ed1e9703f8fe70e71c8dfd353.jpg'\n",
            "'Pias (134)_jpg.rf.031374652e2face48a1626c11f16365e.jpg'\n",
            "'Pias (135)_jpg.rf.65f59f23b9687e95cd167fc6a0237ed7.jpg'\n",
            "'Pias (136)_jpg.rf.c52ac985076ec7b1d45e128204a04b32.jpg'\n",
            "'Pias (137)_jpg.rf.0ff1349ed7fcbfb19a3cde9febaf82c6.jpg'\n",
            "'Pias (138)_jpg.rf.2cda067bf5f87d346a7372c80fce3f7c.jpg'\n",
            "'Pias (139)_jpg.rf.9c6b21141aedce524bfc1f43cc2bb2a7.jpg'\n",
            "'Pias (13)_jpg.rf.a1bc6ebd987330c8f7c356ab1f91d990.jpg'\n",
            "'Pias (140)_jpg.rf.bfbdd73764c9cb52e944297635bc3aca.jpg'\n",
            "'Pias (141)_jpg.rf.cf42ca755ed90a5bc2764ca08990b76d.jpg'\n",
            "'Pias (142)_jpg.rf.7dd742ab7c02359edfbac3197a092317.jpg'\n",
            "'Pias (143)_jpg.rf.0443dfd450ec494a553ab2732f0e6dcb.jpg'\n",
            "'Pias (144)_jpg.rf.23fe640974391e68c87d5c30ed8993cb.jpg'\n",
            "'Pias (146)_jpg.rf.d229e2830c9589e2160bacb01df9306b.jpg'\n",
            "'Pias (147)_jpg.rf.f064a54246c2095878367543f510e9e6.jpg'\n",
            "'Pias (148)_jpg.rf.4c0f5be8ca234a94066d985d909944ce.jpg'\n",
            "'Pias (149)_jpg.rf.d23da91d44ab1740ce17ef8870b56f61.jpg'\n",
            "'Pias (150)_jpg.rf.495c25c9789c9f64497221807d0d4654.jpg'\n",
            "'Pias (151)_jpg.rf.024eab62fd64eabf27a27d7325f8c02f.jpg'\n",
            "'Pias (152)_jpg.rf.65f04bc6fc5ccbeb0c054e1fc355e789.jpg'\n",
            "'Pias (154)_jpg.rf.b7285d0836d1e239bfd6e2dbfa5fd90d.jpg'\n",
            "'Pias (155)_jpg.rf.89be728e6cca02d6e85bcc64db5caf71.jpg'\n",
            "'Pias (15)_jpg.rf.bec72bcbda575fcc661d8007d01fb58d.jpg'\n",
            "'Pias (160)_jpg.rf.9d9f52eddc39cdfe8dbc6d7d7cb30589.jpg'\n",
            "'Pias (162)_jpg.rf.554b89912a9740f411e289bcffc00f8c.jpg'\n",
            "'Pias (163)_jpg.rf.360c1a77a8bb2706bf22814f61bc6685.jpg'\n",
            "'Pias (164)_jpg.rf.9ac8f5f357e8d37673d9a36fc2eb7e2a.jpg'\n",
            "'Pias (165)_jpg.rf.04d83916292211c1ba8701b7f1e6049f.jpg'\n",
            "'Pias (166)_jpg.rf.e402592b6c2b81aec7f29fb99b1ce415.jpg'\n",
            "'Pias (16)_jpg.rf.4702c68215563e14eab7c0305f6966bb.jpg'\n",
            "'Pias (170)_jpg.rf.b1aa36469f9b55839f4855492227946e.jpg'\n",
            "'Pias (171)_jpg.rf.1c4e2e37470ccc0f870702c4c6ce748a.jpg'\n",
            "'Pias (172)_jpg.rf.4daa0b473e5c8ab667e23246516f25eb.jpg'\n",
            "'Pias (173)_jpg.rf.04e86eb7874778744dc8198e69ffde69.jpg'\n",
            "'Pias (174)_jpg.rf.7f4291d8d4f2cecc6c58bdfcdbcf8dd9.jpg'\n",
            "'Pias (175)_jpg.rf.533696c9514278317be2b72f893151b5.jpg'\n",
            "'Pias (176)_jpg.rf.cde9cbda53a66a71ece86596ce5a90a5.jpg'\n",
            "'Pias (177)_jpg.rf.7b32c37cfdfcd1e9f505713977877c0d.jpg'\n",
            "'Pias (178)_jpg.rf.904fb2a1dfbe1253fb96f611265a7125.jpg'\n",
            "'Pias (179)_jpg.rf.d4b7e052851e2156bba128823fa03d6f.jpg'\n",
            "'Pias (180)_jpg.rf.03a40df2e728ab3b5dffc81b2475b198.jpg'\n",
            "'Pias (181)_jpg.rf.ba8e2747e2e0acc46013e93bdba8d5dd.jpg'\n",
            "'Pias (182)_jpg.rf.79374dc9576d15e53aa8135629adb3b7.jpg'\n",
            "'Pias (184)_jpg.rf.901cd3306e6c4c6bd6d9a3c230a3e567.jpg'\n",
            "'Pias (185)_jpg.rf.e63f5f07b7cacbae507d29138cf57bc4.jpg'\n",
            "'Pias (186)_jpg.rf.a9fc02f8add3cc91c709b3b7bb4b9492.jpg'\n",
            "'Pias (187)_jpg.rf.d0e1f4ad32eccfd8138743bec1fbe84f.jpg'\n",
            "'Pias (188)_jpg.rf.05824bb178e460b05bcadbd0f6f10092.jpg'\n",
            "'Pias (189)_jpg.rf.1005404419e303c3a65b398776ed2a43.jpg'\n",
            "'Pias (18)_jpg.rf.c7b5165c956d78ab18330171470ed3fb.jpg'\n",
            "'Pias (190)_jpg.rf.1a88112ab8c9e8f38a1481b673da3862.jpg'\n",
            "'Pias (192)_jpg.rf.1a17739741493aa52c41de2c0ea23430.jpg'\n",
            "'Pias (193)_jpg.rf.bc3739d50df27a1a0e75863d0d2180d6.jpg'\n",
            "'Pias (195)_jpg.rf.f63a42e22fa5455f2530064b52a58643.jpg'\n",
            "'Pias (197)_jpg.rf.0ced8fd8a6e4f91a9d8f75fefee05085.jpg'\n",
            "'Pias (198)_jpg.rf.4c9c4f60f02b9759e3d4d7739a382e7a.jpg'\n",
            "'Pias (199)_jpg.rf.3c4b49a4517ae98b02f1c81a8b237516.jpg'\n",
            "'Pias (200)_jpg.rf.b76dc4985e4229836aabb316777e0da6.jpg'\n",
            "'Pias (202)_jpg.rf.c581f5ccddbe5a161ea4abf547f78ad6.jpg'\n",
            "'Pias (204)_jpg.rf.78dc52ee7e1cf717e1651ebe292ea545.jpg'\n",
            "'Pias (206)_jpg.rf.45ab374ff8e72a43f7ccc860fba2d03d.jpg'\n",
            "'Pias (207)_jpg.rf.90099686103ba11ea474eb29d60678be.jpg'\n",
            "'Pias (208)_jpg.rf.7170a39760fb5546c3930a542da7ff11.jpg'\n",
            "'Pias (209)_jpg.rf.7db63486d0afc662b2341f84abb89e60.jpg'\n",
            "'Pias (20)_jpg.rf.65f47c71e52998c7ef248a6ba86b240a.jpg'\n",
            "'Pias (212)_jpg.rf.447049d6f878d9b85c478b35c7b8b487.jpg'\n",
            "'Pias (213)_jpg.rf.a427a9d10f13159b3fbf265359a9e506.jpg'\n",
            "'Pias (215)_jpg.rf.6a71124318e535ebaefa173daaf254b6.jpg'\n",
            "'Pias (216)_jpg.rf.5c6ad83c434239ebf5511fb5966ed9a6.jpg'\n",
            "'Pias (218)_jpg.rf.21f5d6edc81fe8ec75e52d4cd544e63c.jpg'\n",
            "'Pias (219)_jpg.rf.97ea3a04f375b2ca1dca0c5d2304565c.jpg'\n",
            "'Pias (21)_jpg.rf.47f15d5d47729616927c3c2c85ae30b5.jpg'\n",
            "'Pias (220)_jpg.rf.66666a175889b8533edc0a9d7972b809.jpg'\n",
            "'Pias (222)_jpg.rf.7ed4fc1f900e5f963bcb8a98f3000b98.jpg'\n",
            "'Pias (224)_jpg.rf.9f4f066c927e382ae7a0c1ad9a668f40.jpg'\n",
            "'Pias (225)_jpg.rf.8dc412f7c677a2b512a79ad17ae86348.jpg'\n",
            "'Pias (226)_jpg.rf.aeac67413b426bc27df2b79a8cb536d4.jpg'\n",
            "'Pias (227)_jpg.rf.9412ec968bdd51b102a83ccce4df3525.jpg'\n",
            "'Pias (228)_jpg.rf.765b4caacf84c190c5ababbb5f2f5893.jpg'\n",
            "'Pias (230)_jpg.rf.40d2b20c2d208f53851167ce1dcfd040.jpg'\n",
            "'Pias (231)_jpg.rf.ecc5841c32213c894a0dc6553d1fb079.jpg'\n",
            "'Pias (232)_jpg.rf.c4710b2c932818010156bf58fdd9ab01.jpg'\n",
            "'Pias (233)_jpg.rf.cd635d4cff91c50e76fec31024afadf4.jpg'\n",
            "'Pias (234)_jpg.rf.b5b099d9a55db65baf6b614dd957e2b8.jpg'\n",
            "'Pias (236)_jpg.rf.3820dc7be385788e837f72d48bf675c3.jpg'\n",
            "'Pias (237)_jpg.rf.133cc73e809a02f42ffaddd19acf0fad.jpg'\n",
            "'Pias (238)_jpg.rf.893b4dbfc14acfea49918593e4284990.jpg'\n",
            "'Pias (240)_jpg.rf.7478c0cd54e396dad2f5f4df4c35d0a3.jpg'\n",
            "'Pias (241)_jpg.rf.7a485518122ded01ef3729396111e2b0.jpg'\n",
            "'Pias (244)_jpg.rf.8751f99a22908d131daf7e9b6592e725.jpg'\n",
            "'Pias (245)_jpg.rf.062509b66167217219a23b762d80a097.jpg'\n",
            "'Pias (246)_jpg.rf.dd734b0204bd50012a62d7cbd80ae4ef.jpg'\n",
            "'Pias (247)_jpg.rf.a04f7fd47ec21d94823964d003a82615.jpg'\n",
            "'Pias (248)_jpg.rf.8ae04b043d6e26600b1147f800888af5.jpg'\n",
            "'Pias (24)_jpg.rf.413cc48a9b131347cca51346bed99418.jpg'\n",
            "'Pias (252)_jpg.rf.1952b0860545e553efc037a411e4f288.jpg'\n",
            "'Pias (254)_jpg.rf.f387463654cf81f49364fb78fc54991b.jpg'\n",
            "'Pias (256)_jpg.rf.b866604e69f7c5aa3569999b1c51137f.jpg'\n",
            "'Pias (257)_jpg.rf.c6e0cc65ea05b3164b1328246666ede6.jpg'\n",
            "'Pias (258)_jpg.rf.e2417b2b7539bc405f05bacad138558b.jpg'\n",
            "'Pias (259)_jpg.rf.925b70e0fdba063fed926af6507fcdfb.jpg'\n",
            "'Pias (25)_jpg.rf.d78fa592a844d5d3a69363d6855bc907.jpg'\n",
            "'Pias (262)_jpg.rf.572f24abbe874ba2eab5255f61640af6.jpg'\n",
            "'Pias (263)_jpg.rf.58bae1b467a191cc1b43b50a44729b92.jpg'\n",
            "'Pias (264)_jpg.rf.2aa11ba444def017ccf82ac0a71931d3.jpg'\n",
            "'Pias (266)_jpg.rf.27be2f1ba0aa38a593a90b99525b57a3.jpg'\n",
            "'Pias (269)_jpg.rf.d28e56018187fd594bffff5c2a44ef9b.jpg'\n",
            "'Pias (26)_jpg.rf.126bd9d698f3b80a255622db12ca7f12.jpg'\n",
            "'Pias (271)_jpg.rf.4aa8c49c71d225389ed3427e088ca897.jpg'\n",
            "'Pias (273)_jpg.rf.6ad1143991675cede8fdae7f28f768fc.jpg'\n",
            "'Pias (275)_jpg.rf.4fdb010dbfe75c89398eeb6d5f3840f4.jpg'\n",
            "'Pias (276)_jpg.rf.5bb1d5f8cc92aab30854926e1f4885a5.jpg'\n",
            "'Pias (277)_jpg.rf.5108678106cf46a84dc612653a949988.jpg'\n",
            "'Pias (278)_jpg.rf.26062c0f682d663bcd880d489d1c766a.jpg'\n",
            "'Pias (27)_jpg.rf.202f23656e50cd2926d963976259a98f.jpg'\n",
            "'Pias (280)_jpg.rf.09feb1de4384c1d471e70879a97b8ab0.jpg'\n",
            "'Pias (281)_jpg.rf.15e77ca6d5d6ce931dfdf232887d2ca5.jpg'\n",
            "'Pias (284)_jpg.rf.41ce62be35a3c33403b474a10b21658f.jpg'\n",
            "'Pias (285)_jpg.rf.02d2bb3d9898fe3d110e400fa626be0d.jpg'\n",
            "'Pias (287)_jpg.rf.f24509946c243843938a2bc418b6de0f.jpg'\n",
            "'Pias (288)_jpg.rf.30cd759711e3b6b85ddb0c69f83511f3.jpg'\n",
            "'Pias (289)_jpg.rf.c9aa8d5bb3a55083b5b57176d20347fc.jpg'\n",
            "'Pias (28)_jpg.rf.03432c76e9687d277dbe817e6a0cc67e.jpg'\n",
            "'Pias (290)_jpg.rf.a0ddd4ad0623ad6f4c1c5a15690ed913.jpg'\n",
            "'Pias (291)_jpg.rf.8364a5e82bd37778b6614a526212d224.jpg'\n",
            "'Pias (292)_jpg.rf.11f9e61a6956654b363efa7960bf6f9f.jpg'\n",
            "'Pias (293)_jpg.rf.8c765908c143efe3633ccf474a398eca.jpg'\n",
            "'Pias (295)_jpg.rf.ba97e0fd5701992e53a6b4c7d1dbf89c.jpg'\n",
            "'Pias (296)_jpg.rf.918eac5b52c0f2bcb13753e7197f1555.jpg'\n",
            "'Pias (298)_jpg.rf.4ceba218ca755b9a9d8c018fddd76b35.jpg'\n",
            "'Pias (29)_jpg.rf.7cd72963c9d2bba0a9a33ec5a2bf0188.jpg'\n",
            "'Pias (300)_jpg.rf.ac3a38725c6cb19beb5f02222c991407.jpg'\n",
            "'Pias (301)_jpg.rf.c92d3682b08a39e8f07c86eeb5dd4cae.jpg'\n",
            "'Pias (302)_jpg.rf.d1fb1b52ae27f7c5d4f1755f71ac65a9.jpg'\n",
            "'Pias (304)_jpg.rf.663813c90628bd2e8fc57009ab5bb3b4.jpg'\n",
            "'Pias (306)_jpg.rf.3e5eb38b81896cd93027a94d62e01c02.jpg'\n",
            "'Pias (307)_jpg.rf.45b62200834823f87052c24c960dd7a3.jpg'\n",
            "'Pias (308)_jpg.rf.42a9228644a67d4d465f5f3a9d7dbdcc.jpg'\n",
            "'Pias (309)_jpg.rf.d6f6cee7a1dbadec8a1598c81b54710c.jpg'\n",
            "'Pias (30)_jpg.rf.5bb4cc48c66eea980e34652974805a34.jpg'\n",
            "'Pias (310)_jpg.rf.60421d5e4907482d4e3cf5a515c8e896.jpg'\n",
            "'Pias (311)_jpg.rf.d3572133491022aac1af2c087811feb6.jpg'\n",
            "'Pias (313)_jpg.rf.5809f27b051453cc3859e50d00fe922a.jpg'\n",
            "'Pias (315)_jpg.rf.56b00f3256fea78a5400b3bbfab56b3a.jpg'\n",
            "'Pias (316)_jpg.rf.e6ce6ac731c794fdf5ba46dcde9e2536.jpg'\n",
            "'Pias (317)_jpg.rf.25ca78e38b61ddb3a67fa3aeb40a3f0e.jpg'\n",
            "'Pias (318)_jpg.rf.4b3028646b9bbc03fe0b3b0f2177d4d7.jpg'\n",
            "'Pias (319)_jpg.rf.50e750c6d5b6f71639ad0a7ea923820d.jpg'\n",
            "'Pias (31)_jpg.rf.2b7f44d3e9061e697ce053ff22aee9cf.jpg'\n",
            "'Pias (322)_jpg.rf.bd0f663f1ce5441b1d3db40c3f20b82a.jpg'\n",
            "'Pias (323)_jpg.rf.f2bb9a2fffd9866f794a519ba483621c.jpg'\n",
            "'Pias (324)_jpg.rf.d5d8674b99e1a9b838d5fd919ae1276a.jpg'\n",
            "'Pias (325)_jpg.rf.4e9bc30d3e0ff3e226560295d49b03c2.jpg'\n",
            "'Pias (326)_jpg.rf.38f8e8438eca534476f02c9230cc23ab.jpg'\n",
            "'Pias (330)_jpg.rf.7e6f0784aede16fe437c3c86cd09c03e.jpg'\n",
            "'Pias (332)_jpg.rf.d23e3b8b1c13b974e6298fe06e5de3b7.jpg'\n",
            "'Pias (335)_jpg.rf.2a586936922ec806fa75f302f476e290.jpg'\n",
            "'Pias (336)_jpg.rf.4b2d0484af245a05da427da8aeab5261.jpg'\n",
            "'Pias (337)_jpg.rf.cbcf8fb105617c117012749740cd7f91.jpg'\n",
            "'Pias (338)_jpg.rf.74bf0650ceed15f0db4e9547246115df.jpg'\n",
            "'Pias (339)_jpg.rf.c03ea1855ed4e804073eefd9ecf72f64.jpg'\n",
            "'Pias (33)_jpg.rf.34c67ae6bc6f945fe8429dafa617e0c2.jpg'\n",
            "'Pias (340)_jpg.rf.14bcd0fb41f0f88efa6f697e27e380af.jpg'\n",
            "'Pias (341)_jpg.rf.f721cd544fec1c7334f91efcfd93fd05.jpg'\n",
            "'Pias (342)_jpg.rf.84bb8df5f57a7ac958d22fb90e2c1394.jpg'\n",
            "'Pias (344)_jpg.rf.3059e46620a6f6e9b25040457959fea3.jpg'\n",
            "'Pias (345)_jpg.rf.ecd650cf730403ea96178a4c1aa19f6e.jpg'\n",
            "'Pias (347)_jpg.rf.63ff8cb8bdc09e17fd2f6221e81c6dd1.jpg'\n",
            "'Pias (348)_jpg.rf.3fe54c60b47490c9a6c991dba7f46284.jpg'\n",
            "'Pias (349)_jpg.rf.55e284a4e402af250b0a5fae5df8569f.jpg'\n",
            "'Pias (34)_jpg.rf.c3a6466791f2ab8d276ac7e789a942c3.jpg'\n",
            "'Pias (350)_jpg.rf.222ac555c4b6c5cbcec26986ce2da2be.jpg'\n",
            "'Pias (351)_jpg.rf.c294e32699c41e9b6538867bb63f4d68.jpg'\n",
            "'Pias (352)_jpg.rf.1dc1d20a2c01b1e70a9f1efbe35da002.jpg'\n",
            "'Pias (354)_jpg.rf.06e5647db3ae35944f426e407812e41f.jpg'\n",
            "'Pias (355)_jpg.rf.fa4b3e427e5c9933a8f9fe42f9eeffeb.jpg'\n",
            "'Pias (357)_jpg.rf.40204bd85b5fa363e30c075898dc5e66.jpg'\n",
            "'Pias (358)_jpg.rf.d9da4104d14e3888a658256d75f761b3.jpg'\n",
            "'Pias (359)_PNG.rf.b4c64aa110d5c9b154a29267d14088b1.jpg'\n",
            "'Pias (35)_jpg.rf.15f55f83b6118a5cd2c677257bb774a9.jpg'\n",
            "'Pias (360)_PNG.rf.0a7b00b866e78fe791465b8232d428c9.jpg'\n",
            "'Pias (361)_jpg.rf.6d0c6fe8c52c11eca507d12819e6064f.jpg'\n",
            "'Pias (363)_jpg.rf.e18d63ff835e6fad7c48b16669bdef38.jpg'\n",
            "'Pias (365)_jpg.rf.f6d36c248a250603a0a14eb097daf535.jpg'\n",
            "'Pias (367)_jpg.rf.3cdeeebb9aa46c19f152bb5030319c29.jpg'\n",
            "'Pias (368)_jpg.rf.983f0022d1965c6cd55637c9e6ab17ac.jpg'\n",
            "'Pias (369)_jpg.rf.988eaa80f154f0d5103302f04ff72c64.jpg'\n",
            "'Pias (36)_jpg.rf.8c91f601a267b2dd3282433d0379f172.jpg'\n",
            "'Pias (371)_jpg.rf.2cfeae29881ad987c7e18415a178b918.jpg'\n",
            "'Pias (372)_jpg.rf.d1103e905831a5490df6f77e66142ed5.jpg'\n",
            "'Pias (374)_jpg.rf.e231c20b5a724ab1e86ccb618b2f297b.jpg'\n",
            "'Pias (375)_jpg.rf.8a3128fc6ff46c6a99478f36ba20668d.jpg'\n",
            "'Pias (376)_jpg.rf.41d3a20d14199b375d453e8aa20bf419.jpg'\n",
            "'Pias (377)_jpg.rf.279863c6c354d991c189f4bbae420531.jpg'\n",
            "'Pias (378)_jpg.rf.5330b8a89beea5445709ebbee39612c2.jpg'\n",
            "'Pias (379)_jpg.rf.3616986e2d3e8417e3f93acbc890cf9b.jpg'\n",
            "'Pias (37)_jpg.rf.beb5ea4ba72a760214c0ab92b866909b.jpg'\n",
            "'Pias (380)_jpg.rf.1c0bcd21e4b9afc7080344bbc56bb96e.jpg'\n",
            "'Pias (381)_jpg.rf.21a7201b26ed33ff7d159f6c67a2df68.jpg'\n",
            "'Pias (382)_jpg.rf.ba16aff03080cba409be9e49e70bc7c7.jpg'\n",
            "'Pias (383)_jpg.rf.61c4204a1631f16f5910e35f53c5bd07.jpg'\n",
            "'Pias (384)_jpg.rf.312263edce5de637c8805155948b57f9.jpg'\n",
            "'Pias (386)_jpg.rf.364103b5422f0ba8cf2eb1cdd281b0d3.jpg'\n",
            "'Pias (387)_jpg.rf.c4f429e9082fd75812daba504503d9c5.jpg'\n",
            "'Pias (388)_jpg.rf.37a2c296871d1110a75861fecfe17fcc.jpg'\n",
            "'Pias (38)_jpg.rf.2a3a95ea4117ed5853d04d1d70883e07.jpg'\n",
            "'Pias (390)_jpg.rf.36765cb1aca8f9ef616baa0f9646dd07.jpg'\n",
            "'Pias (391)_jpg.rf.fa31de998cd7e2b7fb75bfcfacab9ba6.jpg'\n",
            "'Pias (392)_jpg.rf.d6a7a582525e5116cc135c30ad9b9dd5.jpg'\n",
            "'Pias (393)_jpg.rf.15acda2d3827f25d7188b04a152b1b20.jpg'\n",
            "'Pias (394)_jpg.rf.91b05b208301cbaa21a9bafdc99cd99a.jpg'\n",
            "'Pias (395)_jpg.rf.c2618f6e9ab6a4de593e0160601340e9.jpg'\n",
            "'Pias (396)_jpg.rf.b1f760db136d1b2e1999226d8264b8b3.jpg'\n",
            "'Pias (399)_jpg.rf.34c41a5eafd83d7f582c0d26022217b0.jpg'\n",
            "'Pias (39)_jpg.rf.1afb55029f99414dde7c608af41c6002.jpg'\n",
            "'Pias (3)_jpg.rf.0b4dc2f69241d15d325dd3081834fa86.jpg'\n",
            "'Pias (400)_jpg.rf.a7e64dcd26529f91a7d46824e9efed8b.jpg'\n",
            "'Pias (401)_jpg.rf.87c5feb6da913f988381af61a288b9e2.jpg'\n",
            "'Pias (402)_jpg.rf.1f3598cd14b1d49d414630442606b70b.jpg'\n",
            "'Pias (403)_jpg.rf.f44ecaabcb8713023f3a22d5c2a019c9.jpg'\n",
            "'Pias (404)_jpg.rf.d31338a5b70fe84041d6921e9f7173a3.jpg'\n",
            "'Pias (405)_jpg.rf.136b2198c5c1bf89bd637ca81fed5274.jpg'\n",
            "'Pias (407)_jpg.rf.168b2438bc804fe8b72b1c51a21a792f.jpg'\n",
            "'Pias (408)_jpg.rf.9e2e86ff4e09be43c6dc3e8990c03a98.jpg'\n",
            "'Pias (409)_jpg.rf.fbe8bb56414490500ca159278201de1c.jpg'\n",
            "'Pias (40)_jpg.rf.e24effe29e3d9124873dc9dd9e21629f.jpg'\n",
            "'Pias (410)_jpg.rf.d8ab19eecafb0c67a5a9059a05453ffa.jpg'\n",
            "'Pias (412)_jpg.rf.450229957495c4736de2789da62d13fb.jpg'\n",
            "'Pias (413)_jpg.rf.3db7e1a8eb8b30dad61ccc9e845a5314.jpg'\n",
            "'Pias (415)_jpg.rf.7fb64cde521bb4484ff6e247e10dae77.jpg'\n",
            "'Pias (416)_jpg.rf.857bcfde0cf33347679ab5275089758d.jpg'\n",
            "'Pias (418)_jpg.rf.7caf4d74ff040f4bf4a02ad139bad65e.jpg'\n",
            "'Pias (41)_jpg.rf.753d30d60c53c16b7a92b410f6feff0d.jpg'\n",
            "'Pias (420)_jpg.rf.0a9521e438c4a4b9b9f6fc3d2b60fdf4.jpg'\n",
            "'Pias (422)_jpg.rf.9d1ab9f5b0debaf35124dc3b90714106.jpg'\n",
            "'Pias (423)_jpg.rf.ea6a412c4ed3c697ba78f620a4eeeabf.jpg'\n",
            "'Pias (425)_jpg.rf.d9ca83b23cb5ed8112bf5f7cd364eb1b.jpg'\n",
            "'Pias (428)_jpg.rf.cabaaabb19ca3d52d6a0aae3e1f315b9.jpg'\n",
            "'Pias (429)_jpg.rf.d3f02097c899f44384d5c1b94ea90e03.jpg'\n",
            "'Pias (42)_jpg.rf.cee08dfdb7d632fb8fc3172ca3f4b4aa.jpg'\n",
            "'Pias (430)_jpg.rf.9e5a9b304c3a607175d71cfcc724316f.jpg'\n",
            "'Pias (431)_jpg.rf.fa7ee62f8a99c3ab29e4b36bf6641d54.jpg'\n",
            "'Pias (432)_jpg.rf.d44b073565f1df61f67a7bf69af23ed4.jpg'\n",
            "'Pias (433)_jpg.rf.08f3b754ba00baaa7909af52d4383bb7.jpg'\n",
            "'Pias (435)_jpg.rf.6ac3520a29794e09927cb230cd2372a8.jpg'\n",
            "'Pias (436)_jpg.rf.afee8c2ed124a00fe5cc7f9f28bd01cf.jpg'\n",
            "'Pias (439)_jpg.rf.7f1fb2f0290daf735d26e400a8eeecdf.jpg'\n",
            "'Pias (440)_jpg.rf.4081bb11b43f1fe56c3dc206c73b9f09.jpg'\n",
            "'Pias (441)_jpg.rf.44b34c1057552245ca8403fde89d40f5.jpg'\n",
            "'Pias (443)_jpg.rf.e450eda91d2b9502aa215f881721ee7f.jpg'\n",
            "'Pias (444)_jpg.rf.6c625192a385483e7674e972c910eb40.jpg'\n",
            "'Pias (445)_jpg.rf.30cde321d987669d53991aa1001f22e3.jpg'\n",
            "'Pias (447)_jpg.rf.d7da0c200d2b60fd99e312d0dd2479ce.jpg'\n",
            "'Pias (449)_jpg.rf.93a6eb0e2fc8369e4483dd885357c02a.jpg'\n",
            "'Pias (450)_jpg.rf.d78384cf490fbe3826ec51167c3cd3b0.jpg'\n",
            "'Pias (451)_jpg.rf.74d8d5371998f44540e0778bf75e99de.jpg'\n",
            "'Pias (452)_jpg.rf.03493b0afdecb423a8885933c131586e.jpg'\n",
            "'Pias (455)_jpg.rf.c689b5d3415419360dc4294a90fdad89.jpg'\n",
            "'Pias (456)_jpg.rf.856dec7b8640219d68395fb63541aa01.jpg'\n",
            "'Pias (457)_jpg.rf.2e6d81eff09e264fdcb8ee52eae0501c.jpg'\n",
            "'Pias (458)_jpg.rf.dc08d39fd337035b8cbf4c173df8ca27.jpg'\n",
            "'Pias (459)_jpg.rf.e23c23f9b0bb63c223cb044a4e172f7f.jpg'\n",
            "'Pias (45)_jpg.rf.45eb55e5b72c23ff13f1c6c9163ee48b.jpg'\n",
            "'Pias (461)_jpg.rf.6557e8956182cacc35333c43f1b9a771.jpg'\n",
            "'Pias (463)_jpg.rf.e5a1efc231d7b58ca35535fc35f04a29.jpg'\n",
            "'Pias (464)_jpg.rf.ffacee0fbdf27a0183cca772444bb6c1.jpg'\n",
            "'Pias (465)_jpg.rf.4355efb3e5ee565c941a9732bb5cf531.jpg'\n",
            "'Pias (467)_jpg.rf.442e763c95d804313bca0a889c34d3a8.jpg'\n",
            "'Pias (468)_jpg.rf.bfdc35a09b124c7fb81ce5adb74c4f9f.jpg'\n",
            "'Pias (469)_jpg.rf.409871da2ccd8575caafc48b7ff6f94b.jpg'\n",
            "'Pias (470)_jpg.rf.f735aacabeac690eec4ba45687a71f24.jpg'\n",
            "'Pias (472)_jpg.rf.28e2e461c629337b19584e9af3fb2321.jpg'\n",
            "'Pias (474)_jpg.rf.fe5696e532031c3c0de20e168cd546cc.jpg'\n",
            "'Pias (475)_jpg.rf.5eb035c22fe0e488685c91ee1394e5d5.jpg'\n",
            "'Pias (476)_jpg.rf.cce4909a0dab8e6b9427b6f3c58ab537.jpg'\n",
            "'Pias (477)_jpg.rf.ebd99c729f99d5250d0f4a685c011343.jpg'\n",
            "'Pias (478)_jpg.rf.c384d4c057ba0aa8590a6b5de8ea4d7d.jpg'\n",
            "'Pias (479)_jpg.rf.5f749985f6b39311cce83e1b46f9ab6f.jpg'\n",
            "'Pias (482)_jpg.rf.c1b7d963fb6c0d6f999415da29a19b66.jpg'\n",
            "'Pias (484)_jpg.rf.9fdc7ec14036b6521e7a2a2fc5120639.jpg'\n",
            "'Pias (489)_jpg.rf.1a00c237c6d66d1986082cf06d7709c9.jpg'\n",
            "'Pias (48)_jpg.rf.dace224383bf56bb18637fc2a18aa010.jpg'\n",
            "'Pias (490)_jpg.rf.fc07dc82ee448dbb2dcdc7b8a4c081e7.jpg'\n",
            "'Pias (491)_jpg.rf.de3dbd5915b88c75aaeebbf5d40d0ce9.jpg'\n",
            "'Pias (492)_jpg.rf.86d5d7147a54a27f0f40af29ead4b431.jpg'\n",
            "'Pias (493)_jpg.rf.39eb587f54afc92a04d973f54e0a0079.jpg'\n",
            "'Pias (494)_jpg.rf.f57cd02447deefcfe2f22273f6160cd6.jpg'\n",
            "'Pias (495)_jpg.rf.272886de08d864ec91c3ebd7865f422e.jpg'\n",
            "'Pias (496)_jpg.rf.b053fc5ed7e5145a7878bc7d8c65df5d.jpg'\n",
            "'Pias (497)_jpg.rf.346825105ae1f9658b1b2c27fe324535.jpg'\n",
            "'Pias (499)_jpg.rf.b96a332b70bc768fc064c76e89ab6014.jpg'\n",
            "'Pias (49)_jpg.rf.9ad54a9f6aa13a01bad3fde383db8a21.jpg'\n",
            "'Pias (500)_jpg.rf.b9ec2523f7baccb82567e7094c67e496.jpg'\n",
            "'Pias (501)_jpg.rf.20f7b95211135c780558793d6def7baf.jpg'\n",
            "'Pias (503)_jpg.rf.488b9510fce6f80b32ee6e1ba37e649b.jpg'\n",
            "'Pias (504)_jpg.rf.3b6303a52556ea08be3cff7e16758b38.jpg'\n",
            "'Pias (505)_jpg.rf.b3c328b5c7fc6fdb9eadec36df3d536f.jpg'\n",
            "'Pias (506)_jpg.rf.e4393137bc38765d9aaae56f6d1538ce.jpg'\n",
            "'Pias (507)_jpg.rf.27f29ecead9d8e6e1da81febaaf34279.jpg'\n",
            "'Pias (510)_jpg.rf.9fd35aef4c6970453869905c8ac15e5c.jpg'\n",
            "'Pias (511)_jpg.rf.e6b05769956107f89d0ec2db43be95dc.jpg'\n",
            "'Pias (512)_jpg.rf.ae60c5217dc7cb4aef3473e1dc352ac1.jpg'\n",
            "'Pias (514)_jpg.rf.933faf4a02d28673edadb47023e323be.jpg'\n",
            "'Pias (517)_jpg.rf.98137a0ffd1358db4ab0879c731f1fae.jpg'\n",
            "'Pias (519)_jpg.rf.5f115f0be6f32caff7699b66ccfe3165.jpg'\n",
            "'Pias (51)_jpg.rf.0888ea2a4e328243eaa2105d9b27f85e.jpg'\n",
            "'Pias (520)_jpg.rf.66c212745832a3da4aed8b563167e146.jpg'\n",
            "'Pias (521)_jpg.rf.96fb9c7b14bcc982ae9f8f44ae81ad69.jpg'\n",
            "'Pias (525)_jpg.rf.1140246278afb55be9704de1bda98b8a.jpg'\n",
            "'Pias (527)_jpg.rf.fb500718ce694bfb885635358fad007e.jpg'\n",
            "'Pias (529)_jpg.rf.828f79079293015b6cbd55b44f57ff9d.jpg'\n",
            "'Pias (52)_jpg.rf.44a44c6dee186124a7c6789bdf78676a.jpg'\n",
            "'Pias (530)_jpg.rf.59ad04258bedd15101eb7e39e54e7c2c.jpg'\n",
            "'Pias (531)_jpg.rf.d3762fb73534fffebd604769e3c29d93.jpg'\n",
            "'Pias (532)_jpg.rf.ae03e284e863c41810312c6d22067a37.jpg'\n",
            "'Pias (533)_jpg.rf.77335194813a8cb048f5b78c0fee4787.jpg'\n",
            "'Pias (534)_jpg.rf.bcf47d25809ce256464b9757584653d2.jpg'\n",
            "'Pias (535)_jpg.rf.fbbba9275df9526282f6d210844d15d7.jpg'\n",
            "'Pias (536)_jpg.rf.980c8d1938a695f78db3a828c2f148c4.jpg'\n",
            "'Pias (537)_jpg.rf.4cce0be5ba65ef9fdb4db69d434a2210.jpg'\n",
            "'Pias (538)_jpg.rf.6bcb3139893c849b3d81a53f397c9ac4.jpg'\n",
            "'Pias (539)_jpg.rf.385d13bcf4fbafa8bc24408f0968bf13.jpg'\n",
            "'Pias (53)_jpg.rf.5315df1d585a2b110178e68b3bbc8517.jpg'\n",
            "'Pias (541)_jpg.rf.5eda314bc74fb49b68711d35062991d8.jpg'\n",
            "'Pias (542)_jpg.rf.f7839a5f809b4421cbddec02c9f81cf9.jpg'\n",
            "'Pias (543)_jpg.rf.82f53bea5997b255b6f230db500c7f6b.jpg'\n",
            "'Pias (546)_jpg.rf.253533e5840631fbad39fb3d71bd9b15.jpg'\n",
            "'Pias (547)_jpg.rf.8320e20e06e09873f8f4eea6804ded6f.jpg'\n",
            "'Pias (548)_jpg.rf.e7553c8212434328b253dcf9b88fd6ee.jpg'\n",
            "'Pias (54)_jpg.rf.6bd3b4a3e110a81742f89ed12b7bb3fa.jpg'\n",
            "'Pias (56)_jpg.rf.9428a1fc5f6ef41d04df39bfb7086be4.jpg'\n",
            "'Pias (58)_jpg.rf.af97a165f2f12e728279bd80b21131f2.jpg'\n",
            "'Pias (60)_jpg.rf.7485f5bd13d23c230b69c07c0a028641.jpg'\n",
            "'Pias (61)_jpg.rf.dc8d2863c7dfa846a3ddca6d682f35b3.jpg'\n",
            "'Pias (62)_jpg.rf.157a9f3b2e0bac21842fa2358a8c8311.jpg'\n",
            "'Pias (63)_jpg.rf.6655dc0f761731a9f3ddaa44b53e6041.jpg'\n",
            "'Pias (64)_jpg.rf.455f2f75c52b1c037c8800af36f666c1.jpg'\n",
            "'Pias (66)_jpg.rf.0f80b3a88f3db44b1c62ec229781cb92.jpg'\n",
            "'Pias (67)_jpg.rf.19d7a74600a9be96f2784c10857fa963.jpg'\n",
            "'Pias (68)_jpg.rf.c9ba65e8906297c829075f88dbdce5b3.jpg'\n",
            "'Pias (69)_jpg.rf.11a928c5f41e1c4e7718c0e5079c3be5.jpg'\n",
            "'Pias (6)_jpg.rf.d307c077b098292d7ac36f6e4b20d0c9.jpg'\n",
            "'Pias (70)_jpg.rf.6f7fed17eaaaba4dbb73d3fb280cd959.jpg'\n",
            "'Pias (71)_jpg.rf.4da7543ffcc9857c60a026793953681b.jpg'\n",
            "'Pias (72)_jpg.rf.ee9519fa902fbe03af304487671c5b70.jpg'\n",
            "'Pias (75)_jpg.rf.d0e655c1a86082fb2f1afc6a3fbb6c74.jpg'\n",
            "'Pias (77)_jpg.rf.2581b3e110e9c0d4855ccaa56a63d3ad.jpg'\n",
            "'Pias (78)_jpg.rf.da5746378a0c4ae1f65c43853de9e300.jpg'\n",
            "'Pias (79)_jpg.rf.62f5cb1ad23a4959fe9becc1f0e7c859.jpg'\n",
            "'Pias (7)_jpg.rf.1c005c85cf0d6686c210586b3d57e717.jpg'\n",
            "'Pias (80)_jpg.rf.5b9772eed4338f138533926976bfd0ab.jpg'\n",
            "'Pias (83)_jpg.rf.9b8fd260ac368d0fb7a515e59a3efb92.jpg'\n",
            "'Pias (84)_jpg.rf.8a77ccb7bdc870dcb61421316b013f79.jpg'\n",
            "'Pias (86)_jpg.rf.ef941567707e83c6d321f0248962e8e7.jpg'\n",
            "'Pias (89)_jpg.rf.1519067e0d0eaed0588908f5cbc2d537.jpg'\n",
            "'Pias (8)_jpg.rf.3248c1ba9679b6d76940bc069447bc65.jpg'\n",
            "'Pias (90)_jpg.rf.3eeaa03446a96c9f70b7ee9136644e3c.jpg'\n",
            "'Pias (91)_jpg.rf.acee2f422321659823179d5ee90a9fc2.jpg'\n",
            "'Pias (92)_jpg.rf.e0fa1a0ed736b2292d40ea53037cdb2c.jpg'\n",
            "'Pias (93)_jpg.rf.81e0403d3333edcab921618742366426.jpg'\n",
            "'Pias (94)_jpg.rf.b81649bf1e8cb692aaf420908214500c.jpg'\n",
            "'Pias (95)_jpg.rf.fe4620df6f0ed3e5e0cee15c41b94ff7.jpg'\n",
            "'Pias (96)_jpg.rf.51f7f245116b7c200644ff437513d7c0.jpg'\n",
            "'Pias (97)_jpg.rf.ffefe12747c8aa99b19e0b4ee2fc6da9.jpg'\n",
            "'Pias (98)_jpg.rf.2d35f5400ec848114764e5bd78d9bb70.jpg'\n",
            "'Pias (99)_jpg.rf.6c7ac532b7c7fa2e5f448a239b3b6621.jpg'\n",
            "'Pias (9)_jpg.rf.68e31faaf5301bb3df6b7a90fc26b2d7.jpg'\n"
          ],
          "name": "stdout"
        }
      ]
    },
    {
      "cell_type": "code",
      "metadata": {
        "id": "ArXUsWVwdbdQ"
      },
      "source": [
        "#let's take a peek at the annotations\n",
        "#class categories, and bounding boxes are provided for our train set\n",
        "#%pycat train/_annotations.coco.json"
      ],
      "execution_count": null,
      "outputs": []
    },
    {
      "cell_type": "code",
      "metadata": {
        "id": "5DtDu-7Hlk_O"
      },
      "source": [
        "#in the next three cells, we move the data into a structure that the image detection library will be expecting\n",
        "#but no file data manipulation is necessary\n",
        "#images can also be segmented into class folders, but we combine all classes here\n",
        "!mkdir Chess\n",
        "!mkdir Chess/annotations\n",
        "!mkdir Chess/Annotations\n",
        "!mkdir Chess/Images"
      ],
      "execution_count": null,
      "outputs": []
    },
    {
      "cell_type": "code",
      "metadata": {
        "id": "3uZzGiw_mrRI"
      },
      "source": [
        "%cp train/_annotations.coco.json Chess/annotations/instances_Images.json"
      ],
      "execution_count": null,
      "outputs": []
    },
    {
      "cell_type": "code",
      "metadata": {
        "id": "NLzZXkkhrvx4"
      },
      "source": [
        "%cp train/*.jpg Chess/Images/"
      ],
      "execution_count": null,
      "outputs": []
    },
    {
      "cell_type": "markdown",
      "metadata": {
        "id": "wBi3RS1_fd4N"
      },
      "source": [
        "# Training\n",
        "\n",
        "In this section we set up the efficientDet-d0 model from backbone and train to our custom case"
      ]
    },
    {
      "cell_type": "code",
      "metadata": {
        "id": "Fvfo6x7Vdw6i"
      },
      "source": [
        "import os\n",
        "import sys\n",
        "sys.path.append(\"Monk_Object_Detection/4_efficientdet/lib/\");"
      ],
      "execution_count": null,
      "outputs": []
    },
    {
      "cell_type": "code",
      "metadata": {
        "id": "21o9flNqfP-8"
      },
      "source": [
        "from train_detector import Detector"
      ],
      "execution_count": null,
      "outputs": []
    },
    {
      "cell_type": "code",
      "metadata": {
        "id": "c35tC0dCfoky"
      },
      "source": [
        "gtf = Detector();"
      ],
      "execution_count": null,
      "outputs": []
    },
    {
      "cell_type": "code",
      "metadata": {
        "id": "aYKeGqpqgvN4"
      },
      "source": [
        "#directs the model towards file structure\n",
        "root_dir = \"./\";\n",
        "coco_dir = \"Chess\";\n",
        "img_dir = \"./\";\n",
        "set_dir = \"Images\";"
      ],
      "execution_count": null,
      "outputs": []
    },
    {
      "cell_type": "code",
      "metadata": {
        "id": "T6epk9-HkBwJ"
      },
      "source": [
        "#smells like some free compute from Colab, nice\n",
        "gtf.Train_Dataset(root_dir, coco_dir, img_dir, set_dir, batch_size=16, image_size=704, use_gpu=True)"
      ],
      "execution_count": null,
      "outputs": []
    },
    {
      "cell_type": "code",
      "metadata": {
        "colab": {
          "base_uri": "https://localhost:8080/",
          "height": 106
        },
        "id": "O0-xLOmisU9P",
        "outputId": "a803fc77-9d03-4bf8-f4e6-7fc243a230f4"
      },
      "source": [
        "gtf.Model();"
      ],
      "execution_count": null,
      "outputs": [
        {
          "output_type": "stream",
          "text": [
            "Downloading: \"https://github.com/lukemelas/EfficientNet-PyTorch/releases/download/1.0/efficientnet-b0-355c32eb.pth\" to /root/.cache/torch/hub/checkpoints/efficientnet-b0-355c32eb.pth\n"
          ],
          "name": "stderr"
        },
        {
          "output_type": "display_data",
          "data": {
            "text/html": [
              "<div style=\"display:flex;flex-direction:row;\"><span></span><progress style='margin:2px 4px;' max='21388428' value='21388428'></progress>100% 20.4M/20.4M [00:00&lt;00:00, 22.0MB/s]</div>"
            ],
            "text/plain": [
              "<tqdm._fake_ipywidgets.HBox object>"
            ]
          },
          "metadata": {
            "tags": []
          }
        },
        {
          "output_type": "stream",
          "text": [
            "\n",
            "Loaded pretrained weights for efficientnet-b0\n"
          ],
          "name": "stdout"
        }
      ]
    },
    {
      "cell_type": "code",
      "metadata": {
        "id": "y3XsPHdxsXsH"
      },
      "source": [
        "gtf.Set_Hyperparams(lr=0.0001, val_interval=1, es_min_delta=0.0, es_patience=0)"
      ],
      "execution_count": null,
      "outputs": []
    },
    {
      "cell_type": "code",
      "metadata": {
        "id": "YPb0GvYoRlTl"
      },
      "source": [
        "import torch\n",
        "print('Setup complete. Using torch %s %s' % (torch.__version__, torch.cuda.get_device_properties(0) if torch.cuda.is_available() else 'CPU'))"
      ],
      "execution_count": null,
      "outputs": []
    },
    {
      "cell_type": "code",
      "metadata": {
        "colab": {
          "base_uri": "https://localhost:8080/",
          "height": 1000
        },
        "id": "d7vtQ28fsc9K",
        "outputId": "68eced6d-66d0-4a99-d833-5a425e0d5ca6"
      },
      "source": [
        "%%time\n",
        "gtf.Train(num_epochs=500, model_output_dir=\"trained/\");"
      ],
      "execution_count": null,
      "outputs": [
        {
          "output_type": "display_data",
          "data": {
            "text/html": [
              "<div style=\"display:flex;flex-direction:row;\"><span>Epoch: 1/500. Iteration: 134/134. Cls loss: 0.74009. Reg loss: 0.92407. Batch loss: 1.66416 Total loss: 1.82686</span><progress style='margin:2px 4px;description_width:initial;' max='134' value='134'></progress>100% 134/134 [02:36&lt;00:00,  1.14it/s]</div>"
            ],
            "text/plain": [
              "<tqdm._fake_ipywidgets.HBox object>"
            ]
          },
          "metadata": {
            "tags": []
          }
        },
        {
          "output_type": "stream",
          "text": [
            "\n"
          ],
          "name": "stdout"
        },
        {
          "output_type": "stream",
          "text": [
            "Monk_Object_Detection/4_efficientdet/lib/src/model.py:251: TracerWarning: Converting a tensor to a Python index might cause the trace to be incorrect. We can't record the data flow of Python values, so this value will be treated as a constant in the future. This means that the trace might not generalize to other inputs!\n",
            "  if len(inputs) == 2:\n",
            "Monk_Object_Detection/4_efficientdet/lib/src/utils.py:84: TracerWarning: Converting a tensor to a Python integer might cause the trace to be incorrect. We can't record the data flow of Python values, so this value will be treated as a constant in the future. This means that the trace might not generalize to other inputs!\n",
            "  image_shape = np.array(image_shape)\n",
            "Monk_Object_Detection/4_efficientdet/lib/src/utils.py:96: TracerWarning: torch.from_numpy results are registered as constants in the trace. You can safely ignore this warning if you use this function to create tensors out of constant variables that would be the same every time you call this function. In any other case, this might cause the trace to be incorrect.\n",
            "  anchors = torch.from_numpy(all_anchors.astype(np.float32))\n",
            "Monk_Object_Detection/4_efficientdet/lib/src/model.py:282: TracerWarning: Converting a tensor to a Python boolean might cause the trace to be incorrect. We can't record the data flow of Python values, so this value will be treated as a constant in the future. This means that the trace might not generalize to other inputs!\n",
            "  if scores_over_thresh.sum() == 0:\n"
          ],
          "name": "stderr"
        },
        {
          "output_type": "display_data",
          "data": {
            "text/html": [
              "<div style=\"display:flex;flex-direction:row;\"><span>Epoch: 2/500. Iteration: 134/134. Cls loss: 0.66558. Reg loss: 0.79746. Batch loss: 1.46304 Total loss: 1.44588</span><progress style='margin:2px 4px;description_width:initial;' max='134' value='134'></progress>100% 134/134 [02:33&lt;00:00,  1.14it/s]</div>"
            ],
            "text/plain": [
              "<tqdm._fake_ipywidgets.HBox object>"
            ]
          },
          "metadata": {
            "tags": []
          }
        },
        {
          "output_type": "stream",
          "text": [
            "\n"
          ],
          "name": "stdout"
        },
        {
          "output_type": "display_data",
          "data": {
            "text/html": [
              "<div style=\"display:flex;flex-direction:row;\"><span>Epoch: 3/500. Iteration: 134/134. Cls loss: 0.55951. Reg loss: 0.68919. Batch loss: 1.24870 Total loss: 1.26219</span><progress style='margin:2px 4px;description_width:initial;' max='134' value='134'></progress>100% 134/134 [02:30&lt;00:00,  1.15it/s]</div>"
            ],
            "text/plain": [
              "<tqdm._fake_ipywidgets.HBox object>"
            ]
          },
          "metadata": {
            "tags": []
          }
        },
        {
          "output_type": "stream",
          "text": [
            "\n"
          ],
          "name": "stdout"
        },
        {
          "output_type": "display_data",
          "data": {
            "text/html": [
              "<div style=\"display:flex;flex-direction:row;\"><span>Epoch: 4/500. Iteration: 134/134. Cls loss: 0.53027. Reg loss: 0.67062. Batch loss: 1.20088 Total loss: 1.15453</span><progress style='margin:2px 4px;description_width:initial;' max='134' value='134'></progress>100% 134/134 [02:30&lt;00:00,  1.17it/s]</div>"
            ],
            "text/plain": [
              "<tqdm._fake_ipywidgets.HBox object>"
            ]
          },
          "metadata": {
            "tags": []
          }
        },
        {
          "output_type": "stream",
          "text": [
            "\n"
          ],
          "name": "stdout"
        },
        {
          "output_type": "display_data",
          "data": {
            "text/html": [
              "<div style=\"display:flex;flex-direction:row;\"><span>Epoch: 5/500. Iteration: 134/134. Cls loss: 0.52706. Reg loss: 0.70781. Batch loss: 1.23486 Total loss: 1.08619</span><progress style='margin:2px 4px;description_width:initial;' max='134' value='134'></progress>100% 134/134 [02:30&lt;00:00,  1.15it/s]</div>"
            ],
            "text/plain": [
              "<tqdm._fake_ipywidgets.HBox object>"
            ]
          },
          "metadata": {
            "tags": []
          }
        },
        {
          "output_type": "stream",
          "text": [
            "\n"
          ],
          "name": "stdout"
        },
        {
          "output_type": "display_data",
          "data": {
            "text/html": [
              "<div style=\"display:flex;flex-direction:row;\"><span>Epoch: 6/500. Iteration: 134/134. Cls loss: 0.47913. Reg loss: 0.60336. Batch loss: 1.08249 Total loss: 1.03220</span><progress style='margin:2px 4px;description_width:initial;' max='134' value='134'></progress>100% 134/134 [02:30&lt;00:00,  1.15it/s]</div>"
            ],
            "text/plain": [
              "<tqdm._fake_ipywidgets.HBox object>"
            ]
          },
          "metadata": {
            "tags": []
          }
        },
        {
          "output_type": "stream",
          "text": [
            "\n"
          ],
          "name": "stdout"
        },
        {
          "output_type": "display_data",
          "data": {
            "text/html": [
              "<div style=\"display:flex;flex-direction:row;\"><span>Epoch: 7/500. Iteration: 134/134. Cls loss: 0.41625. Reg loss: 0.56164. Batch loss: 0.97789 Total loss: 0.98588</span><progress style='margin:2px 4px;description_width:initial;' max='134' value='134'></progress>100% 134/134 [02:31&lt;00:00,  1.15it/s]</div>"
            ],
            "text/plain": [
              "<tqdm._fake_ipywidgets.HBox object>"
            ]
          },
          "metadata": {
            "tags": []
          }
        },
        {
          "output_type": "stream",
          "text": [
            "\n"
          ],
          "name": "stdout"
        },
        {
          "output_type": "display_data",
          "data": {
            "text/html": [
              "<div style=\"display:flex;flex-direction:row;\"><span>Epoch: 8/500. Iteration: 134/134. Cls loss: 0.44326. Reg loss: 0.58883. Batch loss: 1.03209 Total loss: 0.94888</span><progress style='margin:2px 4px;description_width:initial;' max='134' value='134'></progress>100% 134/134 [02:30&lt;00:00,  1.15it/s]</div>"
            ],
            "text/plain": [
              "<tqdm._fake_ipywidgets.HBox object>"
            ]
          },
          "metadata": {
            "tags": []
          }
        },
        {
          "output_type": "stream",
          "text": [
            "\n"
          ],
          "name": "stdout"
        },
        {
          "output_type": "display_data",
          "data": {
            "text/html": [
              "<div style=\"display:flex;flex-direction:row;\"><span>Epoch: 9/500. Iteration: 134/134. Cls loss: 0.40016. Reg loss: 0.46542. Batch loss: 0.86558 Total loss: 0.91453</span><progress style='margin:2px 4px;description_width:initial;' max='134' value='134'></progress>100% 134/134 [02:30&lt;00:00,  1.16it/s]</div>"
            ],
            "text/plain": [
              "<tqdm._fake_ipywidgets.HBox object>"
            ]
          },
          "metadata": {
            "tags": []
          }
        },
        {
          "output_type": "stream",
          "text": [
            "\n"
          ],
          "name": "stdout"
        },
        {
          "output_type": "display_data",
          "data": {
            "text/html": [
              "<div style=\"display:flex;flex-direction:row;\"><span>Epoch: 10/500. Iteration: 134/134. Cls loss: 0.39322. Reg loss: 0.49678. Batch loss: 0.89000 Total loss: 0.88878</span><progress style='margin:2px 4px;description_width:initial;' max='134' value='134'></progress>100% 134/134 [02:30&lt;00:00,  1.16it/s]</div>"
            ],
            "text/plain": [
              "<tqdm._fake_ipywidgets.HBox object>"
            ]
          },
          "metadata": {
            "tags": []
          }
        },
        {
          "output_type": "stream",
          "text": [
            "\n"
          ],
          "name": "stdout"
        },
        {
          "output_type": "display_data",
          "data": {
            "text/html": [
              "<div style=\"display:flex;flex-direction:row;\"><span>Epoch: 11/500. Iteration: 134/134. Cls loss: 0.40208. Reg loss: 0.48956. Batch loss: 0.89165 Total loss: 0.85371</span><progress style='margin:2px 4px;description_width:initial;' max='134' value='134'></progress>100% 134/134 [02:29&lt;00:00,  1.16it/s]</div>"
            ],
            "text/plain": [
              "<tqdm._fake_ipywidgets.HBox object>"
            ]
          },
          "metadata": {
            "tags": []
          }
        },
        {
          "output_type": "stream",
          "text": [
            "\n"
          ],
          "name": "stdout"
        },
        {
          "output_type": "display_data",
          "data": {
            "text/html": [
              "<div style=\"display:flex;flex-direction:row;\"><span>Epoch: 12/500. Iteration: 134/134. Cls loss: 0.39618. Reg loss: 0.47878. Batch loss: 0.87496 Total loss: 0.82826</span><progress style='margin:2px 4px;description_width:initial;' max='134' value='134'></progress>100% 134/134 [02:29&lt;00:00,  1.16it/s]</div>"
            ],
            "text/plain": [
              "<tqdm._fake_ipywidgets.HBox object>"
            ]
          },
          "metadata": {
            "tags": []
          }
        },
        {
          "output_type": "stream",
          "text": [
            "\n"
          ],
          "name": "stdout"
        },
        {
          "output_type": "display_data",
          "data": {
            "text/html": [
              "<div style=\"display:flex;flex-direction:row;\"><span>Epoch: 13/500. Iteration: 134/134. Cls loss: 0.39951. Reg loss: 0.44847. Batch loss: 0.84798 Total loss: 0.80879</span><progress style='margin:2px 4px;description_width:initial;' max='134' value='134'></progress>100% 134/134 [02:29&lt;00:00,  1.16it/s]</div>"
            ],
            "text/plain": [
              "<tqdm._fake_ipywidgets.HBox object>"
            ]
          },
          "metadata": {
            "tags": []
          }
        },
        {
          "output_type": "stream",
          "text": [
            "\n"
          ],
          "name": "stdout"
        },
        {
          "output_type": "display_data",
          "data": {
            "text/html": [
              "<div style=\"display:flex;flex-direction:row;\"><span>Epoch: 14/500. Iteration: 134/134. Cls loss: 0.33628. Reg loss: 0.40319. Batch loss: 0.73946 Total loss: 0.78600</span><progress style='margin:2px 4px;description_width:initial;' max='134' value='134'></progress>100% 134/134 [02:28&lt;00:00,  1.16it/s]</div>"
            ],
            "text/plain": [
              "<tqdm._fake_ipywidgets.HBox object>"
            ]
          },
          "metadata": {
            "tags": []
          }
        },
        {
          "output_type": "stream",
          "text": [
            "\n"
          ],
          "name": "stdout"
        },
        {
          "output_type": "display_data",
          "data": {
            "text/html": [
              "<div style=\"display:flex;flex-direction:row;\"><span>Epoch: 15/500. Iteration: 134/134. Cls loss: 0.38066. Reg loss: 0.40451. Batch loss: 0.78517 Total loss: 0.76703</span><progress style='margin:2px 4px;description_width:initial;' max='134' value='134'></progress>100% 134/134 [02:29&lt;00:00,  1.16it/s]</div>"
            ],
            "text/plain": [
              "<tqdm._fake_ipywidgets.HBox object>"
            ]
          },
          "metadata": {
            "tags": []
          }
        },
        {
          "output_type": "stream",
          "text": [
            "\n"
          ],
          "name": "stdout"
        },
        {
          "output_type": "stream",
          "text": [
            "/usr/local/lib/python3.6/dist-packages/torch/onnx/symbolic_opset9.py:2332: UserWarning: Exporting aten::index operator with indices of type Byte. Only 1-D indices are supported. In any other case, this will produce an incorrect ONNX graph.\n",
            "  warnings.warn(\"Exporting aten::index operator with indices of type Byte. \"\n",
            "/usr/local/lib/python3.6/dist-packages/torch/onnx/symbolic_opset9.py:588: UserWarning: This model contains a squeeze operation on dimension 1 on an input with unknown shape. Note that if the size of dimension 1 of the input is not 1, the ONNX model will return an error. Opset version 11 supports squeezing on non-singleton dimensions, it is recommended to export this model using opset version 11 or higher.\n",
            "  \"version 11 or higher.\")\n"
          ],
          "name": "stderr"
        },
        {
          "output_type": "display_data",
          "data": {
            "text/html": [
              "<div style=\"display:flex;flex-direction:row;\"><span>Epoch: 16/500. Iteration: 134/134. Cls loss: 0.28879. Reg loss: 0.40215. Batch loss: 0.69093 Total loss: 0.74891</span><progress style='margin:2px 4px;description_width:initial;' max='134' value='134'></progress>100% 134/134 [02:30&lt;00:00,  1.16it/s]</div>"
            ],
            "text/plain": [
              "<tqdm._fake_ipywidgets.HBox object>"
            ]
          },
          "metadata": {
            "tags": []
          }
        },
        {
          "output_type": "stream",
          "text": [
            "\n"
          ],
          "name": "stdout"
        },
        {
          "output_type": "display_data",
          "data": {
            "text/html": [
              "<div style=\"display:flex;flex-direction:row;\"><span>Epoch: 17/500. Iteration: 134/134. Cls loss: 0.27400. Reg loss: 0.39183. Batch loss: 0.66582 Total loss: 0.73440</span><progress style='margin:2px 4px;description_width:initial;' max='134' value='134'></progress>100% 134/134 [02:30&lt;00:00,  1.16it/s]</div>"
            ],
            "text/plain": [
              "<tqdm._fake_ipywidgets.HBox object>"
            ]
          },
          "metadata": {
            "tags": []
          }
        },
        {
          "output_type": "stream",
          "text": [
            "\n"
          ],
          "name": "stdout"
        },
        {
          "output_type": "display_data",
          "data": {
            "text/html": [
              "<div style=\"display:flex;flex-direction:row;\"><span>Epoch: 18/500. Iteration: 134/134. Cls loss: 0.30793. Reg loss: 0.37583. Batch loss: 0.68376 Total loss: 0.71654</span><progress style='margin:2px 4px;description_width:initial;' max='134' value='134'></progress>100% 134/134 [02:30&lt;00:00,  1.16it/s]</div>"
            ],
            "text/plain": [
              "<tqdm._fake_ipywidgets.HBox object>"
            ]
          },
          "metadata": {
            "tags": []
          }
        },
        {
          "output_type": "stream",
          "text": [
            "\n"
          ],
          "name": "stdout"
        },
        {
          "output_type": "display_data",
          "data": {
            "text/html": [
              "<div style=\"display:flex;flex-direction:row;\"><span>Epoch: 19/500. Iteration: 134/134. Cls loss: 0.24990. Reg loss: 0.37754. Batch loss: 0.62745 Total loss: 0.70238</span><progress style='margin:2px 4px;description_width:initial;' max='134' value='134'></progress>100% 134/134 [02:29&lt;00:00,  1.16it/s]</div>"
            ],
            "text/plain": [
              "<tqdm._fake_ipywidgets.HBox object>"
            ]
          },
          "metadata": {
            "tags": []
          }
        },
        {
          "output_type": "stream",
          "text": [
            "\n"
          ],
          "name": "stdout"
        },
        {
          "output_type": "display_data",
          "data": {
            "text/html": [
              "<div style=\"display:flex;flex-direction:row;\"><span>Epoch: 20/500. Iteration: 134/134. Cls loss: 0.23466. Reg loss: 0.31573. Batch loss: 0.55039 Total loss: 0.68710</span><progress style='margin:2px 4px;description_width:initial;' max='134' value='134'></progress>100% 134/134 [02:29&lt;00:00,  1.16it/s]</div>"
            ],
            "text/plain": [
              "<tqdm._fake_ipywidgets.HBox object>"
            ]
          },
          "metadata": {
            "tags": []
          }
        },
        {
          "output_type": "stream",
          "text": [
            "\n"
          ],
          "name": "stdout"
        },
        {
          "output_type": "display_data",
          "data": {
            "text/html": [
              "<div style=\"display:flex;flex-direction:row;\"><span>Epoch: 21/500. Iteration: 134/134. Cls loss: 0.30878. Reg loss: 0.43717. Batch loss: 0.74595 Total loss: 0.67462</span><progress style='margin:2px 4px;description_width:initial;' max='134' value='134'></progress>100% 134/134 [02:31&lt;00:00,  1.16it/s]</div>"
            ],
            "text/plain": [
              "<tqdm._fake_ipywidgets.HBox object>"
            ]
          },
          "metadata": {
            "tags": []
          }
        },
        {
          "output_type": "stream",
          "text": [
            "\n"
          ],
          "name": "stdout"
        },
        {
          "output_type": "display_data",
          "data": {
            "text/html": [
              "<div style=\"display:flex;flex-direction:row;\"><span>Epoch: 22/500. Iteration: 134/134. Cls loss: 0.27162. Reg loss: 0.39080. Batch loss: 0.66242 Total loss: 0.65790</span><progress style='margin:2px 4px;description_width:initial;' max='134' value='134'></progress>100% 134/134 [02:30&lt;00:00,  1.15it/s]</div>"
            ],
            "text/plain": [
              "<tqdm._fake_ipywidgets.HBox object>"
            ]
          },
          "metadata": {
            "tags": []
          }
        },
        {
          "output_type": "stream",
          "text": [
            "\n"
          ],
          "name": "stdout"
        },
        {
          "output_type": "display_data",
          "data": {
            "text/html": [
              "<div style=\"display:flex;flex-direction:row;\"><span>Epoch: 23/500. Iteration: 134/134. Cls loss: 0.21579. Reg loss: 0.25476. Batch loss: 0.47054 Total loss: 0.64506</span><progress style='margin:2px 4px;description_width:initial;' max='134' value='134'></progress>100% 134/134 [02:32&lt;00:00,  1.15it/s]</div>"
            ],
            "text/plain": [
              "<tqdm._fake_ipywidgets.HBox object>"
            ]
          },
          "metadata": {
            "tags": []
          }
        },
        {
          "output_type": "stream",
          "text": [
            "\n"
          ],
          "name": "stdout"
        },
        {
          "output_type": "display_data",
          "data": {
            "text/html": [
              "<div style=\"display:flex;flex-direction:row;\"><span>Epoch: 24/500. Iteration: 134/134. Cls loss: 0.21817. Reg loss: 0.31430. Batch loss: 0.53246 Total loss: 0.63314</span><progress style='margin:2px 4px;description_width:initial;' max='134' value='134'></progress>100% 134/134 [02:30&lt;00:00,  1.16it/s]</div>"
            ],
            "text/plain": [
              "<tqdm._fake_ipywidgets.HBox object>"
            ]
          },
          "metadata": {
            "tags": []
          }
        },
        {
          "output_type": "stream",
          "text": [
            "\n"
          ],
          "name": "stdout"
        },
        {
          "output_type": "display_data",
          "data": {
            "text/html": [
              "<div style=\"display:flex;flex-direction:row;\"><span>Epoch: 25/500. Iteration: 134/134. Cls loss: 0.25299. Reg loss: 0.32410. Batch loss: 0.57709 Total loss: 0.62323</span><progress style='margin:2px 4px;description_width:initial;' max='134' value='134'></progress>100% 134/134 [02:30&lt;00:00,  1.15it/s]</div>"
            ],
            "text/plain": [
              "<tqdm._fake_ipywidgets.HBox object>"
            ]
          },
          "metadata": {
            "tags": []
          }
        },
        {
          "output_type": "stream",
          "text": [
            "\n"
          ],
          "name": "stdout"
        },
        {
          "output_type": "display_data",
          "data": {
            "text/html": [
              "<div style=\"display:flex;flex-direction:row;\"><span>Epoch: 26/500. Iteration: 134/134. Cls loss: 0.26531. Reg loss: 0.36077. Batch loss: 0.62607 Total loss: 0.61125</span><progress style='margin:2px 4px;description_width:initial;' max='134' value='134'></progress>100% 134/134 [02:32&lt;00:00,  1.15it/s]</div>"
            ],
            "text/plain": [
              "<tqdm._fake_ipywidgets.HBox object>"
            ]
          },
          "metadata": {
            "tags": []
          }
        },
        {
          "output_type": "stream",
          "text": [
            "\n"
          ],
          "name": "stdout"
        },
        {
          "output_type": "display_data",
          "data": {
            "text/html": [
              "<div style=\"display:flex;flex-direction:row;\"><span>Epoch: 27/500. Iteration: 134/134. Cls loss: 0.27367. Reg loss: 0.34016. Batch loss: 0.61384 Total loss: 0.60193</span><progress style='margin:2px 4px;description_width:initial;' max='134' value='134'></progress>100% 134/134 [02:30&lt;00:00,  1.15it/s]</div>"
            ],
            "text/plain": [
              "<tqdm._fake_ipywidgets.HBox object>"
            ]
          },
          "metadata": {
            "tags": []
          }
        },
        {
          "output_type": "stream",
          "text": [
            "\n"
          ],
          "name": "stdout"
        },
        {
          "output_type": "display_data",
          "data": {
            "text/html": [
              "<div style=\"display:flex;flex-direction:row;\"><span>Epoch: 28/500. Iteration: 134/134. Cls loss: 0.26142. Reg loss: 0.28945. Batch loss: 0.55086 Total loss: 0.59259</span><progress style='margin:2px 4px;description_width:initial;' max='134' value='134'></progress>100% 134/134 [02:31&lt;00:00,  1.15it/s]</div>"
            ],
            "text/plain": [
              "<tqdm._fake_ipywidgets.HBox object>"
            ]
          },
          "metadata": {
            "tags": []
          }
        },
        {
          "output_type": "stream",
          "text": [
            "\n"
          ],
          "name": "stdout"
        },
        {
          "output_type": "display_data",
          "data": {
            "text/html": [
              "<div style=\"display:flex;flex-direction:row;\"><span>Epoch: 29/500. Iteration: 134/134. Cls loss: 0.20918. Reg loss: 0.30748. Batch loss: 0.51666 Total loss: 0.57932</span><progress style='margin:2px 4px;description_width:initial;' max='134' value='134'></progress>100% 134/134 [02:34&lt;00:00,  1.12it/s]</div>"
            ],
            "text/plain": [
              "<tqdm._fake_ipywidgets.HBox object>"
            ]
          },
          "metadata": {
            "tags": []
          }
        },
        {
          "output_type": "stream",
          "text": [
            "\n"
          ],
          "name": "stdout"
        },
        {
          "output_type": "display_data",
          "data": {
            "text/html": [
              "<div style=\"display:flex;flex-direction:row;\"><span>Epoch: 30/500. Iteration: 134/134. Cls loss: 0.26844. Reg loss: 0.37037. Batch loss: 0.63882 Total loss: 0.56903</span><progress style='margin:2px 4px;description_width:initial;' max='134' value='134'></progress>100% 134/134 [02:39&lt;00:00,  1.12it/s]</div>"
            ],
            "text/plain": [
              "<tqdm._fake_ipywidgets.HBox object>"
            ]
          },
          "metadata": {
            "tags": []
          }
        },
        {
          "output_type": "stream",
          "text": [
            "\n"
          ],
          "name": "stdout"
        },
        {
          "output_type": "display_data",
          "data": {
            "text/html": [
              "<div style=\"display:flex;flex-direction:row;\"><span>Epoch: 31/500. Iteration: 134/134. Cls loss: 0.19034. Reg loss: 0.30050. Batch loss: 0.49084 Total loss: 0.56145</span><progress style='margin:2px 4px;description_width:initial;' max='134' value='134'></progress>100% 134/134 [02:39&lt;00:00,  1.12it/s]</div>"
            ],
            "text/plain": [
              "<tqdm._fake_ipywidgets.HBox object>"
            ]
          },
          "metadata": {
            "tags": []
          }
        },
        {
          "output_type": "stream",
          "text": [
            "\n"
          ],
          "name": "stdout"
        },
        {
          "output_type": "display_data",
          "data": {
            "text/html": [
              "<div style=\"display:flex;flex-direction:row;\"><span>Epoch: 32/500. Iteration: 134/134. Cls loss: 0.21185. Reg loss: 0.32189. Batch loss: 0.53374 Total loss: 0.55258</span><progress style='margin:2px 4px;description_width:initial;' max='134' value='134'></progress>100% 134/134 [02:41&lt;00:00,  1.11it/s]</div>"
            ],
            "text/plain": [
              "<tqdm._fake_ipywidgets.HBox object>"
            ]
          },
          "metadata": {
            "tags": []
          }
        },
        {
          "output_type": "stream",
          "text": [
            "\n"
          ],
          "name": "stdout"
        },
        {
          "output_type": "display_data",
          "data": {
            "text/html": [
              "<div style=\"display:flex;flex-direction:row;\"><span>Epoch: 33/500. Iteration: 134/134. Cls loss: 0.24229. Reg loss: 0.34719. Batch loss: 0.58948 Total loss: 0.53919</span><progress style='margin:2px 4px;description_width:initial;' max='134' value='134'></progress>100% 134/134 [02:40&lt;00:00,  1.12it/s]</div>"
            ],
            "text/plain": [
              "<tqdm._fake_ipywidgets.HBox object>"
            ]
          },
          "metadata": {
            "tags": []
          }
        },
        {
          "output_type": "stream",
          "text": [
            "\n"
          ],
          "name": "stdout"
        },
        {
          "output_type": "display_data",
          "data": {
            "text/html": [
              "<div style=\"display:flex;flex-direction:row;\"><span>Epoch: 34/500. Iteration: 134/134. Cls loss: 0.17619. Reg loss: 0.21947. Batch loss: 0.39566 Total loss: 0.53689</span><progress style='margin:2px 4px;description_width:initial;' max='134' value='134'></progress>100% 134/134 [02:41&lt;00:00,  1.11it/s]</div>"
            ],
            "text/plain": [
              "<tqdm._fake_ipywidgets.HBox object>"
            ]
          },
          "metadata": {
            "tags": []
          }
        },
        {
          "output_type": "stream",
          "text": [
            "\n"
          ],
          "name": "stdout"
        },
        {
          "output_type": "display_data",
          "data": {
            "text/html": [
              "<div style=\"display:flex;flex-direction:row;\"><span>Epoch: 35/500. Iteration: 134/134. Cls loss: 0.18562. Reg loss: 0.28024. Batch loss: 0.46586 Total loss: 0.52358</span><progress style='margin:2px 4px;description_width:initial;' max='134' value='134'></progress>100% 134/134 [02:42&lt;00:00,  1.12it/s]</div>"
            ],
            "text/plain": [
              "<tqdm._fake_ipywidgets.HBox object>"
            ]
          },
          "metadata": {
            "tags": []
          }
        },
        {
          "output_type": "stream",
          "text": [
            "\n"
          ],
          "name": "stdout"
        },
        {
          "output_type": "display_data",
          "data": {
            "text/html": [
              "<div style=\"display:flex;flex-direction:row;\"><span>Epoch: 36/500. Iteration: 134/134. Cls loss: 0.18853. Reg loss: 0.27462. Batch loss: 0.46315 Total loss: 0.52220</span><progress style='margin:2px 4px;description_width:initial;' max='134' value='134'></progress>100% 134/134 [02:42&lt;00:00,  1.11it/s]</div>"
            ],
            "text/plain": [
              "<tqdm._fake_ipywidgets.HBox object>"
            ]
          },
          "metadata": {
            "tags": []
          }
        },
        {
          "output_type": "stream",
          "text": [
            "\n"
          ],
          "name": "stdout"
        },
        {
          "output_type": "display_data",
          "data": {
            "text/html": [
              "<div style=\"display:flex;flex-direction:row;\"><span>Epoch: 37/500. Iteration: 134/134. Cls loss: 0.16838. Reg loss: 0.24622. Batch loss: 0.41460 Total loss: 0.51255</span><progress style='margin:2px 4px;description_width:initial;' max='134' value='134'></progress>100% 134/134 [02:42&lt;00:00,  1.11it/s]</div>"
            ],
            "text/plain": [
              "<tqdm._fake_ipywidgets.HBox object>"
            ]
          },
          "metadata": {
            "tags": []
          }
        },
        {
          "output_type": "stream",
          "text": [
            "\n"
          ],
          "name": "stdout"
        },
        {
          "output_type": "display_data",
          "data": {
            "text/html": [
              "<div style=\"display:flex;flex-direction:row;\"><span>Epoch: 38/500. Iteration: 134/134. Cls loss: 0.23866. Reg loss: 0.35657. Batch loss: 0.59523 Total loss: 0.50810</span><progress style='margin:2px 4px;description_width:initial;' max='134' value='134'></progress>100% 134/134 [02:42&lt;00:00,  1.12it/s]</div>"
            ],
            "text/plain": [
              "<tqdm._fake_ipywidgets.HBox object>"
            ]
          },
          "metadata": {
            "tags": []
          }
        },
        {
          "output_type": "stream",
          "text": [
            "\n"
          ],
          "name": "stdout"
        },
        {
          "output_type": "display_data",
          "data": {
            "text/html": [
              "<div style=\"display:flex;flex-direction:row;\"><span>Epoch: 39/500. Iteration: 134/134. Cls loss: 0.16583. Reg loss: 0.27060. Batch loss: 0.43643 Total loss: 0.49762</span><progress style='margin:2px 4px;description_width:initial;' max='134' value='134'></progress>100% 134/134 [02:42&lt;00:00,  1.11it/s]</div>"
            ],
            "text/plain": [
              "<tqdm._fake_ipywidgets.HBox object>"
            ]
          },
          "metadata": {
            "tags": []
          }
        },
        {
          "output_type": "stream",
          "text": [
            "\n"
          ],
          "name": "stdout"
        },
        {
          "output_type": "display_data",
          "data": {
            "text/html": [
              "<div style=\"display:flex;flex-direction:row;\"><span>Epoch: 40/500. Iteration: 134/134. Cls loss: 0.22147. Reg loss: 0.34529. Batch loss: 0.56676 Total loss: 0.49384</span><progress style='margin:2px 4px;description_width:initial;' max='134' value='134'></progress>100% 134/134 [02:41&lt;00:00,  1.12it/s]</div>"
            ],
            "text/plain": [
              "<tqdm._fake_ipywidgets.HBox object>"
            ]
          },
          "metadata": {
            "tags": []
          }
        },
        {
          "output_type": "stream",
          "text": [
            "\n"
          ],
          "name": "stdout"
        },
        {
          "output_type": "display_data",
          "data": {
            "text/html": [
              "<div style=\"display:flex;flex-direction:row;\"><span>Epoch: 41/500. Iteration: 134/134. Cls loss: 0.25024. Reg loss: 0.36526. Batch loss: 0.61550 Total loss: 0.48133</span><progress style='margin:2px 4px;description_width:initial;' max='134' value='134'></progress>100% 134/134 [02:42&lt;00:00,  1.12it/s]</div>"
            ],
            "text/plain": [
              "<tqdm._fake_ipywidgets.HBox object>"
            ]
          },
          "metadata": {
            "tags": []
          }
        },
        {
          "output_type": "stream",
          "text": [
            "\n"
          ],
          "name": "stdout"
        },
        {
          "output_type": "display_data",
          "data": {
            "text/html": [
              "<div style=\"display:flex;flex-direction:row;\"><span>Epoch: 42/500. Iteration: 134/134. Cls loss: 0.19136. Reg loss: 0.28771. Batch loss: 0.47907 Total loss: 0.47560</span><progress style='margin:2px 4px;description_width:initial;' max='134' value='134'></progress>100% 134/134 [02:39&lt;00:00,  1.12it/s]</div>"
            ],
            "text/plain": [
              "<tqdm._fake_ipywidgets.HBox object>"
            ]
          },
          "metadata": {
            "tags": []
          }
        },
        {
          "output_type": "stream",
          "text": [
            "\n"
          ],
          "name": "stdout"
        },
        {
          "output_type": "display_data",
          "data": {
            "text/html": [
              "<div style=\"display:flex;flex-direction:row;\"><span>Epoch: 43/500. Iteration: 134/134. Cls loss: 0.16718. Reg loss: 0.26874. Batch loss: 0.43592 Total loss: 0.47368</span><progress style='margin:2px 4px;description_width:initial;' max='134' value='134'></progress>100% 134/134 [02:38&lt;00:00,  1.13it/s]</div>"
            ],
            "text/plain": [
              "<tqdm._fake_ipywidgets.HBox object>"
            ]
          },
          "metadata": {
            "tags": []
          }
        },
        {
          "output_type": "stream",
          "text": [
            "\n"
          ],
          "name": "stdout"
        },
        {
          "output_type": "display_data",
          "data": {
            "text/html": [
              "<div style=\"display:flex;flex-direction:row;\"><span>Epoch: 44/500. Iteration: 134/134. Cls loss: 0.19291. Reg loss: 0.28003. Batch loss: 0.47294 Total loss: 0.46321</span><progress style='margin:2px 4px;description_width:initial;' max='134' value='134'></progress>100% 134/134 [02:37&lt;00:00,  1.14it/s]</div>"
            ],
            "text/plain": [
              "<tqdm._fake_ipywidgets.HBox object>"
            ]
          },
          "metadata": {
            "tags": []
          }
        },
        {
          "output_type": "stream",
          "text": [
            "\n"
          ],
          "name": "stdout"
        },
        {
          "output_type": "display_data",
          "data": {
            "text/html": [
              "<div style=\"display:flex;flex-direction:row;\"><span>Epoch: 45/500. Iteration: 134/134. Cls loss: 0.18577. Reg loss: 0.25780. Batch loss: 0.44357 Total loss: 0.46304</span><progress style='margin:2px 4px;description_width:initial;' max='134' value='134'></progress>100% 134/134 [02:33&lt;00:00,  1.15it/s]</div>"
            ],
            "text/plain": [
              "<tqdm._fake_ipywidgets.HBox object>"
            ]
          },
          "metadata": {
            "tags": []
          }
        },
        {
          "output_type": "stream",
          "text": [
            "\n"
          ],
          "name": "stdout"
        },
        {
          "output_type": "display_data",
          "data": {
            "text/html": [
              "<div style=\"display:flex;flex-direction:row;\"><span>Epoch: 46/500. Iteration: 134/134. Cls loss: 0.24409. Reg loss: 0.36982. Batch loss: 0.61391 Total loss: 0.45153</span><progress style='margin:2px 4px;description_width:initial;' max='134' value='134'></progress>100% 134/134 [02:34&lt;00:00,  1.15it/s]</div>"
            ],
            "text/plain": [
              "<tqdm._fake_ipywidgets.HBox object>"
            ]
          },
          "metadata": {
            "tags": []
          }
        },
        {
          "output_type": "stream",
          "text": [
            "\n"
          ],
          "name": "stdout"
        },
        {
          "output_type": "display_data",
          "data": {
            "text/html": [
              "<div style=\"display:flex;flex-direction:row;\"><span>Epoch: 47/500. Iteration: 134/134. Cls loss: 0.23685. Reg loss: 0.34009. Batch loss: 0.57693 Total loss: 0.44698</span><progress style='margin:2px 4px;description_width:initial;' max='134' value='134'></progress>100% 134/134 [02:34&lt;00:00,  1.15it/s]</div>"
            ],
            "text/plain": [
              "<tqdm._fake_ipywidgets.HBox object>"
            ]
          },
          "metadata": {
            "tags": []
          }
        },
        {
          "output_type": "stream",
          "text": [
            "\n"
          ],
          "name": "stdout"
        },
        {
          "output_type": "display_data",
          "data": {
            "text/html": [
              "<div style=\"display:flex;flex-direction:row;\"><span>Epoch: 48/500. Iteration: 134/134. Cls loss: 0.16385. Reg loss: 0.25636. Batch loss: 0.42021 Total loss: 0.44435</span><progress style='margin:2px 4px;description_width:initial;' max='134' value='134'></progress>100% 134/134 [02:31&lt;00:00,  1.15it/s]</div>"
            ],
            "text/plain": [
              "<tqdm._fake_ipywidgets.HBox object>"
            ]
          },
          "metadata": {
            "tags": []
          }
        },
        {
          "output_type": "stream",
          "text": [
            "\n"
          ],
          "name": "stdout"
        },
        {
          "output_type": "display_data",
          "data": {
            "text/html": [
              "<div style=\"display:flex;flex-direction:row;\"><span>Epoch: 49/500. Iteration: 134/134. Cls loss: 0.13623. Reg loss: 0.22397. Batch loss: 0.36020 Total loss: 0.43977</span><progress style='margin:2px 4px;description_width:initial;' max='134' value='134'></progress>100% 134/134 [02:30&lt;00:00,  1.15it/s]</div>"
            ],
            "text/plain": [
              "<tqdm._fake_ipywidgets.HBox object>"
            ]
          },
          "metadata": {
            "tags": []
          }
        },
        {
          "output_type": "stream",
          "text": [
            "\n"
          ],
          "name": "stdout"
        },
        {
          "output_type": "display_data",
          "data": {
            "text/html": [
              "<div style=\"display:flex;flex-direction:row;\"><span>Epoch: 50/500. Iteration: 134/134. Cls loss: 0.13048. Reg loss: 0.23382. Batch loss: 0.36429 Total loss: 0.42830</span><progress style='margin:2px 4px;description_width:initial;' max='134' value='134'></progress>100% 134/134 [02:31&lt;00:00,  1.16it/s]</div>"
            ],
            "text/plain": [
              "<tqdm._fake_ipywidgets.HBox object>"
            ]
          },
          "metadata": {
            "tags": []
          }
        },
        {
          "output_type": "stream",
          "text": [
            "\n"
          ],
          "name": "stdout"
        },
        {
          "output_type": "display_data",
          "data": {
            "text/html": [
              "<div style=\"display:flex;flex-direction:row;\"><span>Epoch: 51/500. Iteration: 134/134. Cls loss: 0.16389. Reg loss: 0.27029. Batch loss: 0.43419 Total loss: 0.42313</span><progress style='margin:2px 4px;description_width:initial;' max='134' value='134'></progress>100% 134/134 [02:31&lt;00:00,  1.15it/s]</div>"
            ],
            "text/plain": [
              "<tqdm._fake_ipywidgets.HBox object>"
            ]
          },
          "metadata": {
            "tags": []
          }
        },
        {
          "output_type": "stream",
          "text": [
            "\n"
          ],
          "name": "stdout"
        },
        {
          "output_type": "display_data",
          "data": {
            "text/html": [
              "<div style=\"display:flex;flex-direction:row;\"><span>Epoch: 52/500. Iteration: 134/134. Cls loss: 0.22870. Reg loss: 0.34313. Batch loss: 0.57183 Total loss: 0.42317</span><progress style='margin:2px 4px;description_width:initial;' max='134' value='134'></progress>100% 134/134 [02:31&lt;00:00,  1.15it/s]</div>"
            ],
            "text/plain": [
              "<tqdm._fake_ipywidgets.HBox object>"
            ]
          },
          "metadata": {
            "tags": []
          }
        },
        {
          "output_type": "stream",
          "text": [
            "\n"
          ],
          "name": "stdout"
        },
        {
          "output_type": "display_data",
          "data": {
            "text/html": [
              "<div style=\"display:flex;flex-direction:row;\"><span>Epoch: 53/500. Iteration: 134/134. Cls loss: 0.13897. Reg loss: 0.22977. Batch loss: 0.36874 Total loss: 0.41863</span><progress style='margin:2px 4px;description_width:initial;' max='134' value='134'></progress>100% 134/134 [02:32&lt;00:00,  1.14it/s]</div>"
            ],
            "text/plain": [
              "<tqdm._fake_ipywidgets.HBox object>"
            ]
          },
          "metadata": {
            "tags": []
          }
        },
        {
          "output_type": "stream",
          "text": [
            "\n"
          ],
          "name": "stdout"
        },
        {
          "output_type": "display_data",
          "data": {
            "text/html": [
              "<div style=\"display:flex;flex-direction:row;\"><span>Epoch: 54/500. Iteration: 134/134. Cls loss: 0.14904. Reg loss: 0.22908. Batch loss: 0.37812 Total loss: 0.41095</span><progress style='margin:2px 4px;description_width:initial;' max='134' value='134'></progress>100% 134/134 [02:31&lt;00:00,  1.14it/s]</div>"
            ],
            "text/plain": [
              "<tqdm._fake_ipywidgets.HBox object>"
            ]
          },
          "metadata": {
            "tags": []
          }
        },
        {
          "output_type": "stream",
          "text": [
            "\n"
          ],
          "name": "stdout"
        },
        {
          "output_type": "display_data",
          "data": {
            "text/html": [
              "<div style=\"display:flex;flex-direction:row;\"><span>Epoch: 55/500. Iteration: 134/134. Cls loss: 0.16281. Reg loss: 0.25503. Batch loss: 0.41783 Total loss: 0.40697</span><progress style='margin:2px 4px;description_width:initial;' max='134' value='134'></progress>100% 134/134 [02:31&lt;00:00,  1.15it/s]</div>"
            ],
            "text/plain": [
              "<tqdm._fake_ipywidgets.HBox object>"
            ]
          },
          "metadata": {
            "tags": []
          }
        },
        {
          "output_type": "stream",
          "text": [
            "\n"
          ],
          "name": "stdout"
        },
        {
          "output_type": "display_data",
          "data": {
            "text/html": [
              "<div style=\"display:flex;flex-direction:row;\"><span>Epoch: 56/500. Iteration: 134/134. Cls loss: 0.16875. Reg loss: 0.28219. Batch loss: 0.45095 Total loss: 0.40954</span><progress style='margin:2px 4px;description_width:initial;' max='134' value='134'></progress>100% 134/134 [02:32&lt;00:00,  1.15it/s]</div>"
            ],
            "text/plain": [
              "<tqdm._fake_ipywidgets.HBox object>"
            ]
          },
          "metadata": {
            "tags": []
          }
        },
        {
          "output_type": "stream",
          "text": [
            "\n"
          ],
          "name": "stdout"
        },
        {
          "output_type": "display_data",
          "data": {
            "text/html": [
              "<div style=\"display:flex;flex-direction:row;\"><span>Epoch: 57/500. Iteration: 134/134. Cls loss: 0.16958. Reg loss: 0.26994. Batch loss: 0.43951 Total loss: 0.40142</span><progress style='margin:2px 4px;description_width:initial;' max='134' value='134'></progress>100% 134/134 [02:32&lt;00:00,  1.15it/s]</div>"
            ],
            "text/plain": [
              "<tqdm._fake_ipywidgets.HBox object>"
            ]
          },
          "metadata": {
            "tags": []
          }
        },
        {
          "output_type": "stream",
          "text": [
            "\n"
          ],
          "name": "stdout"
        },
        {
          "output_type": "display_data",
          "data": {
            "text/html": [
              "<div style=\"display:flex;flex-direction:row;\"><span>Epoch: 58/500. Iteration: 134/134. Cls loss: 0.13939. Reg loss: 0.24692. Batch loss: 0.38631 Total loss: 0.39420</span><progress style='margin:2px 4px;description_width:initial;' max='134' value='134'></progress>100% 134/134 [02:32&lt;00:00,  1.14it/s]</div>"
            ],
            "text/plain": [
              "<tqdm._fake_ipywidgets.HBox object>"
            ]
          },
          "metadata": {
            "tags": []
          }
        },
        {
          "output_type": "stream",
          "text": [
            "\n"
          ],
          "name": "stdout"
        },
        {
          "output_type": "display_data",
          "data": {
            "text/html": [
              "<div style=\"display:flex;flex-direction:row;\"><span>Epoch: 59/500. Iteration: 134/134. Cls loss: 0.10906. Reg loss: 0.20280. Batch loss: 0.31186 Total loss: 0.39207</span><progress style='margin:2px 4px;description_width:initial;' max='134' value='134'></progress>100% 134/134 [02:31&lt;00:00,  1.16it/s]</div>"
            ],
            "text/plain": [
              "<tqdm._fake_ipywidgets.HBox object>"
            ]
          },
          "metadata": {
            "tags": []
          }
        },
        {
          "output_type": "stream",
          "text": [
            "\n"
          ],
          "name": "stdout"
        },
        {
          "output_type": "display_data",
          "data": {
            "text/html": [
              "<div style=\"display:flex;flex-direction:row;\"><span>Epoch: 60/500. Iteration: 134/134. Cls loss: 0.11497. Reg loss: 0.21244. Batch loss: 0.32740 Total loss: 0.38267</span><progress style='margin:2px 4px;description_width:initial;' max='134' value='134'></progress>100% 134/134 [02:30&lt;00:00,  1.16it/s]</div>"
            ],
            "text/plain": [
              "<tqdm._fake_ipywidgets.HBox object>"
            ]
          },
          "metadata": {
            "tags": []
          }
        },
        {
          "output_type": "stream",
          "text": [
            "\n"
          ],
          "name": "stdout"
        },
        {
          "output_type": "display_data",
          "data": {
            "text/html": [
              "<div style=\"display:flex;flex-direction:row;\"><span>Epoch: 61/500. Iteration: 134/134. Cls loss: 0.14161. Reg loss: 0.24781. Batch loss: 0.38942 Total loss: 0.37898</span><progress style='margin:2px 4px;description_width:initial;' max='134' value='134'></progress>100% 134/134 [02:30&lt;00:00,  1.16it/s]</div>"
            ],
            "text/plain": [
              "<tqdm._fake_ipywidgets.HBox object>"
            ]
          },
          "metadata": {
            "tags": []
          }
        },
        {
          "output_type": "stream",
          "text": [
            "\n"
          ],
          "name": "stdout"
        },
        {
          "output_type": "display_data",
          "data": {
            "text/html": [
              "<div style=\"display:flex;flex-direction:row;\"><span>Epoch: 62/500. Iteration: 134/134. Cls loss: 0.16382. Reg loss: 0.30983. Batch loss: 0.47365 Total loss: 0.38073</span><progress style='margin:2px 4px;description_width:initial;' max='134' value='134'></progress>100% 134/134 [02:30&lt;00:00,  1.16it/s]</div>"
            ],
            "text/plain": [
              "<tqdm._fake_ipywidgets.HBox object>"
            ]
          },
          "metadata": {
            "tags": []
          }
        },
        {
          "output_type": "stream",
          "text": [
            "\n"
          ],
          "name": "stdout"
        },
        {
          "output_type": "display_data",
          "data": {
            "text/html": [
              "<div style=\"display:flex;flex-direction:row;\"><span>Epoch: 63/500. Iteration: 134/134. Cls loss: 0.09894. Reg loss: 0.18044. Batch loss: 0.27938 Total loss: 0.37420</span><progress style='margin:2px 4px;description_width:initial;' max='134' value='134'></progress>100% 134/134 [02:31&lt;00:00,  1.13it/s]</div>"
            ],
            "text/plain": [
              "<tqdm._fake_ipywidgets.HBox object>"
            ]
          },
          "metadata": {
            "tags": []
          }
        },
        {
          "output_type": "stream",
          "text": [
            "\n"
          ],
          "name": "stdout"
        },
        {
          "output_type": "display_data",
          "data": {
            "text/html": [
              "<div style=\"display:flex;flex-direction:row;\"><span>Epoch: 64/500. Iteration: 134/134. Cls loss: 0.15188. Reg loss: 0.26216. Batch loss: 0.41404 Total loss: 0.37965</span><progress style='margin:2px 4px;description_width:initial;' max='134' value='134'></progress>100% 134/134 [02:36&lt;00:00,  1.14it/s]</div>"
            ],
            "text/plain": [
              "<tqdm._fake_ipywidgets.HBox object>"
            ]
          },
          "metadata": {
            "tags": []
          }
        },
        {
          "output_type": "stream",
          "text": [
            "\n"
          ],
          "name": "stdout"
        },
        {
          "output_type": "display_data",
          "data": {
            "text/html": [
              "<div style=\"display:flex;flex-direction:row;\"><span>Epoch: 65/500. Iteration: 134/134. Cls loss: 0.13227. Reg loss: 0.22472. Batch loss: 0.35699 Total loss: 0.36796</span><progress style='margin:2px 4px;description_width:initial;' max='134' value='134'></progress>100% 134/134 [02:35&lt;00:00,  1.14it/s]</div>"
            ],
            "text/plain": [
              "<tqdm._fake_ipywidgets.HBox object>"
            ]
          },
          "metadata": {
            "tags": []
          }
        },
        {
          "output_type": "stream",
          "text": [
            "\n"
          ],
          "name": "stdout"
        },
        {
          "output_type": "display_data",
          "data": {
            "text/html": [
              "<div style=\"display:flex;flex-direction:row;\"><span>Epoch: 66/500. Iteration: 134/134. Cls loss: 0.15906. Reg loss: 0.28619. Batch loss: 0.44525 Total loss: 0.36680</span><progress style='margin:2px 4px;description_width:initial;' max='134' value='134'></progress>100% 134/134 [02:35&lt;00:00,  1.14it/s]</div>"
            ],
            "text/plain": [
              "<tqdm._fake_ipywidgets.HBox object>"
            ]
          },
          "metadata": {
            "tags": []
          }
        },
        {
          "output_type": "stream",
          "text": [
            "\n"
          ],
          "name": "stdout"
        },
        {
          "output_type": "display_data",
          "data": {
            "text/html": [
              "<div style=\"display:flex;flex-direction:row;\"><span>Epoch: 67/500. Iteration: 134/134. Cls loss: 0.11761. Reg loss: 0.20174. Batch loss: 0.31935 Total loss: 0.36244</span><progress style='margin:2px 4px;description_width:initial;' max='134' value='134'></progress>100% 134/134 [02:35&lt;00:00,  1.14it/s]</div>"
            ],
            "text/plain": [
              "<tqdm._fake_ipywidgets.HBox object>"
            ]
          },
          "metadata": {
            "tags": []
          }
        },
        {
          "output_type": "stream",
          "text": [
            "\n"
          ],
          "name": "stdout"
        },
        {
          "output_type": "display_data",
          "data": {
            "text/html": [
              "<div style=\"display:flex;flex-direction:row;\"><span>Epoch: 68/500. Iteration: 134/134. Cls loss: 0.08377. Reg loss: 0.18766. Batch loss: 0.27143 Total loss: 0.35846</span><progress style='margin:2px 4px;description_width:initial;' max='134' value='134'></progress>100% 134/134 [02:38&lt;00:00,  1.12it/s]</div>"
            ],
            "text/plain": [
              "<tqdm._fake_ipywidgets.HBox object>"
            ]
          },
          "metadata": {
            "tags": []
          }
        },
        {
          "output_type": "stream",
          "text": [
            "\n"
          ],
          "name": "stdout"
        },
        {
          "output_type": "display_data",
          "data": {
            "text/html": [
              "<div style=\"display:flex;flex-direction:row;\"><span>Epoch: 69/500. Iteration: 134/134. Cls loss: 0.14997. Reg loss: 0.24093. Batch loss: 0.39090 Total loss: 0.35449</span><progress style='margin:2px 4px;description_width:initial;' max='134' value='134'></progress>100% 134/134 [02:40&lt;00:00,  1.12it/s]</div>"
            ],
            "text/plain": [
              "<tqdm._fake_ipywidgets.HBox object>"
            ]
          },
          "metadata": {
            "tags": []
          }
        },
        {
          "output_type": "stream",
          "text": [
            "\n"
          ],
          "name": "stdout"
        },
        {
          "output_type": "display_data",
          "data": {
            "text/html": [
              "<div style=\"display:flex;flex-direction:row;\"><span>Epoch: 70/500. Iteration: 134/134. Cls loss: 0.14097. Reg loss: 0.24042. Batch loss: 0.38139 Total loss: 0.35505</span><progress style='margin:2px 4px;description_width:initial;' max='134' value='134'></progress>100% 134/134 [02:42&lt;00:00,  1.12it/s]</div>"
            ],
            "text/plain": [
              "<tqdm._fake_ipywidgets.HBox object>"
            ]
          },
          "metadata": {
            "tags": []
          }
        },
        {
          "output_type": "stream",
          "text": [
            "\n"
          ],
          "name": "stdout"
        },
        {
          "output_type": "display_data",
          "data": {
            "text/html": [
              "<div style=\"display:flex;flex-direction:row;\"><span>Epoch: 71/500. Iteration: 134/134. Cls loss: 0.12138. Reg loss: 0.21988. Batch loss: 0.34126 Total loss: 0.34481</span><progress style='margin:2px 4px;description_width:initial;' max='134' value='134'></progress>100% 134/134 [02:41&lt;00:00,  1.11it/s]</div>"
            ],
            "text/plain": [
              "<tqdm._fake_ipywidgets.HBox object>"
            ]
          },
          "metadata": {
            "tags": []
          }
        },
        {
          "output_type": "stream",
          "text": [
            "\n"
          ],
          "name": "stdout"
        },
        {
          "output_type": "display_data",
          "data": {
            "text/html": [
              "<div style=\"display:flex;flex-direction:row;\"><span>Epoch: 72/500. Iteration: 134/134. Cls loss: 0.13492. Reg loss: 0.20984. Batch loss: 0.34476 Total loss: 0.34480</span><progress style='margin:2px 4px;description_width:initial;' max='134' value='134'></progress>100% 134/134 [02:42&lt;00:00,  1.11it/s]</div>"
            ],
            "text/plain": [
              "<tqdm._fake_ipywidgets.HBox object>"
            ]
          },
          "metadata": {
            "tags": []
          }
        },
        {
          "output_type": "stream",
          "text": [
            "\n"
          ],
          "name": "stdout"
        },
        {
          "output_type": "display_data",
          "data": {
            "text/html": [
              "<div style=\"display:flex;flex-direction:row;\"><span>Epoch: 73/500. Iteration: 134/134. Cls loss: 0.09796. Reg loss: 0.19083. Batch loss: 0.28879 Total loss: 0.34566</span><progress style='margin:2px 4px;description_width:initial;' max='134' value='134'></progress>100% 134/134 [02:42&lt;00:00,  1.11it/s]</div>"
            ],
            "text/plain": [
              "<tqdm._fake_ipywidgets.HBox object>"
            ]
          },
          "metadata": {
            "tags": []
          }
        },
        {
          "output_type": "stream",
          "text": [
            "\n"
          ],
          "name": "stdout"
        },
        {
          "output_type": "display_data",
          "data": {
            "text/html": [
              "<div style=\"display:flex;flex-direction:row;\"><span>Epoch: 74/500. Iteration: 134/134. Cls loss: 0.09874. Reg loss: 0.18431. Batch loss: 0.28305 Total loss: 0.34092</span><progress style='margin:2px 4px;description_width:initial;' max='134' value='134'></progress>100% 134/134 [02:43&lt;00:00,  1.11it/s]</div>"
            ],
            "text/plain": [
              "<tqdm._fake_ipywidgets.HBox object>"
            ]
          },
          "metadata": {
            "tags": []
          }
        },
        {
          "output_type": "stream",
          "text": [
            "\n"
          ],
          "name": "stdout"
        },
        {
          "output_type": "display_data",
          "data": {
            "text/html": [
              "<div style=\"display:flex;flex-direction:row;\"><span>Epoch: 75/500. Iteration: 134/134. Cls loss: 0.11149. Reg loss: 0.21254. Batch loss: 0.32403 Total loss: 0.34219</span><progress style='margin:2px 4px;description_width:initial;' max='134' value='134'></progress>100% 134/134 [02:42&lt;00:00,  1.11it/s]</div>"
            ],
            "text/plain": [
              "<tqdm._fake_ipywidgets.HBox object>"
            ]
          },
          "metadata": {
            "tags": []
          }
        },
        {
          "output_type": "stream",
          "text": [
            "\n"
          ],
          "name": "stdout"
        },
        {
          "output_type": "display_data",
          "data": {
            "text/html": [
              "<div style=\"display:flex;flex-direction:row;\"><span>Epoch: 76/500. Iteration: 134/134. Cls loss: 0.13006. Reg loss: 0.23529. Batch loss: 0.36535 Total loss: 0.33414</span><progress style='margin:2px 4px;description_width:initial;' max='134' value='134'></progress>100% 134/134 [02:40&lt;00:00,  1.12it/s]</div>"
            ],
            "text/plain": [
              "<tqdm._fake_ipywidgets.HBox object>"
            ]
          },
          "metadata": {
            "tags": []
          }
        },
        {
          "output_type": "stream",
          "text": [
            "\n"
          ],
          "name": "stdout"
        },
        {
          "output_type": "display_data",
          "data": {
            "text/html": [
              "<div style=\"display:flex;flex-direction:row;\"><span>Epoch: 77/500. Iteration: 134/134. Cls loss: 0.14261. Reg loss: 0.22286. Batch loss: 0.36547 Total loss: 0.33213</span><progress style='margin:2px 4px;description_width:initial;' max='134' value='134'></progress>100% 134/134 [02:41&lt;00:00,  1.11it/s]</div>"
            ],
            "text/plain": [
              "<tqdm._fake_ipywidgets.HBox object>"
            ]
          },
          "metadata": {
            "tags": []
          }
        },
        {
          "output_type": "stream",
          "text": [
            "\n"
          ],
          "name": "stdout"
        },
        {
          "output_type": "display_data",
          "data": {
            "text/html": [
              "<div style=\"display:flex;flex-direction:row;\"><span>Epoch: 78/500. Iteration: 134/134. Cls loss: 0.11998. Reg loss: 0.23409. Batch loss: 0.35407 Total loss: 0.32557</span><progress style='margin:2px 4px;description_width:initial;' max='134' value='134'></progress>100% 134/134 [02:44&lt;00:00,  1.11it/s]</div>"
            ],
            "text/plain": [
              "<tqdm._fake_ipywidgets.HBox object>"
            ]
          },
          "metadata": {
            "tags": []
          }
        },
        {
          "output_type": "stream",
          "text": [
            "\n"
          ],
          "name": "stdout"
        },
        {
          "output_type": "display_data",
          "data": {
            "text/html": [
              "<div style=\"display:flex;flex-direction:row;\"><span>Epoch: 79/500. Iteration: 134/134. Cls loss: 0.14131. Reg loss: 0.23966. Batch loss: 0.38097 Total loss: 0.32341</span><progress style='margin:2px 4px;description_width:initial;' max='134' value='134'></progress>100% 134/134 [02:43&lt;00:00,  1.11it/s]</div>"
            ],
            "text/plain": [
              "<tqdm._fake_ipywidgets.HBox object>"
            ]
          },
          "metadata": {
            "tags": []
          }
        },
        {
          "output_type": "stream",
          "text": [
            "\n"
          ],
          "name": "stdout"
        },
        {
          "output_type": "display_data",
          "data": {
            "text/html": [
              "<div style=\"display:flex;flex-direction:row;\"><span>Epoch: 80/500. Iteration: 134/134. Cls loss: 0.09501. Reg loss: 0.17005. Batch loss: 0.26505 Total loss: 0.32439</span><progress style='margin:2px 4px;description_width:initial;' max='134' value='134'></progress>100% 134/134 [02:51&lt;00:00,  1.08it/s]</div>"
            ],
            "text/plain": [
              "<tqdm._fake_ipywidgets.HBox object>"
            ]
          },
          "metadata": {
            "tags": []
          }
        },
        {
          "output_type": "stream",
          "text": [
            "\n"
          ],
          "name": "stdout"
        },
        {
          "output_type": "display_data",
          "data": {
            "text/html": [
              "<div style=\"display:flex;flex-direction:row;\"><span>Epoch: 81/500. Iteration: 134/134. Cls loss: 0.09619. Reg loss: 0.19376. Batch loss: 0.28995 Total loss: 0.32087</span><progress style='margin:2px 4px;description_width:initial;' max='134' value='134'></progress>100% 134/134 [02:50&lt;00:00,  1.08it/s]</div>"
            ],
            "text/plain": [
              "<tqdm._fake_ipywidgets.HBox object>"
            ]
          },
          "metadata": {
            "tags": []
          }
        },
        {
          "output_type": "stream",
          "text": [
            "\n"
          ],
          "name": "stdout"
        },
        {
          "output_type": "display_data",
          "data": {
            "text/html": [
              "<div style=\"display:flex;flex-direction:row;\"><span>Epoch: 82/500. Iteration: 134/134. Cls loss: 0.11808. Reg loss: 0.19918. Batch loss: 0.31726 Total loss: 0.31585</span><progress style='margin:2px 4px;description_width:initial;' max='134' value='134'></progress>100% 134/134 [02:49&lt;00:00,  1.09it/s]</div>"
            ],
            "text/plain": [
              "<tqdm._fake_ipywidgets.HBox object>"
            ]
          },
          "metadata": {
            "tags": []
          }
        },
        {
          "output_type": "stream",
          "text": [
            "\n"
          ],
          "name": "stdout"
        },
        {
          "output_type": "display_data",
          "data": {
            "text/html": [
              "<div style=\"display:flex;flex-direction:row;\"><span>Epoch: 83/500. Iteration: 134/134. Cls loss: 0.14288. Reg loss: 0.26784. Batch loss: 0.41072 Total loss: 0.31639</span><progress style='margin:2px 4px;description_width:initial;' max='134' value='134'></progress>100% 134/134 [02:50&lt;00:00,  1.08it/s]</div>"
            ],
            "text/plain": [
              "<tqdm._fake_ipywidgets.HBox object>"
            ]
          },
          "metadata": {
            "tags": []
          }
        },
        {
          "output_type": "stream",
          "text": [
            "\n"
          ],
          "name": "stdout"
        },
        {
          "output_type": "display_data",
          "data": {
            "text/html": [
              "<div style=\"display:flex;flex-direction:row;\"><span>Epoch: 84/500. Iteration: 134/134. Cls loss: 0.10940. Reg loss: 0.23361. Batch loss: 0.34300 Total loss: 0.31433</span><progress style='margin:2px 4px;description_width:initial;' max='134' value='134'></progress>100% 134/134 [02:49&lt;00:00,  1.07it/s]</div>"
            ],
            "text/plain": [
              "<tqdm._fake_ipywidgets.HBox object>"
            ]
          },
          "metadata": {
            "tags": []
          }
        },
        {
          "output_type": "stream",
          "text": [
            "\n"
          ],
          "name": "stdout"
        },
        {
          "output_type": "display_data",
          "data": {
            "text/html": [
              "<div style=\"display:flex;flex-direction:row;\"><span>Epoch: 85/500. Iteration: 134/134. Cls loss: 0.08284. Reg loss: 0.16342. Batch loss: 0.24626 Total loss: 0.31019</span><progress style='margin:2px 4px;description_width:initial;' max='134' value='134'></progress>100% 134/134 [02:49&lt;00:00,  1.09it/s]</div>"
            ],
            "text/plain": [
              "<tqdm._fake_ipywidgets.HBox object>"
            ]
          },
          "metadata": {
            "tags": []
          }
        },
        {
          "output_type": "stream",
          "text": [
            "\n"
          ],
          "name": "stdout"
        },
        {
          "output_type": "display_data",
          "data": {
            "text/html": [
              "<div style=\"display:flex;flex-direction:row;\"><span>Epoch: 86/500. Iteration: 134/134. Cls loss: 0.09747. Reg loss: 0.20099. Batch loss: 0.29846 Total loss: 0.30791</span><progress style='margin:2px 4px;description_width:initial;' max='134' value='134'></progress>100% 134/134 [02:48&lt;00:00,  1.08it/s]</div>"
            ],
            "text/plain": [
              "<tqdm._fake_ipywidgets.HBox object>"
            ]
          },
          "metadata": {
            "tags": []
          }
        },
        {
          "output_type": "stream",
          "text": [
            "\n"
          ],
          "name": "stdout"
        },
        {
          "output_type": "display_data",
          "data": {
            "text/html": [
              "<div style=\"display:flex;flex-direction:row;\"><span>Epoch: 87/500. Iteration: 134/134. Cls loss: 0.10622. Reg loss: 0.17131. Batch loss: 0.27753 Total loss: 0.30626</span><progress style='margin:2px 4px;description_width:initial;' max='134' value='134'></progress>100% 134/134 [02:48&lt;00:00,  1.09it/s]</div>"
            ],
            "text/plain": [
              "<tqdm._fake_ipywidgets.HBox object>"
            ]
          },
          "metadata": {
            "tags": []
          }
        },
        {
          "output_type": "stream",
          "text": [
            "\n"
          ],
          "name": "stdout"
        },
        {
          "output_type": "display_data",
          "data": {
            "text/html": [
              "<div style=\"display:flex;flex-direction:row;\"><span>Epoch: 88/500. Iteration: 134/134. Cls loss: 0.08097. Reg loss: 0.15683. Batch loss: 0.23780 Total loss: 0.30353</span><progress style='margin:2px 4px;description_width:initial;' max='134' value='134'></progress>100% 134/134 [02:49&lt;00:00,  1.08it/s]</div>"
            ],
            "text/plain": [
              "<tqdm._fake_ipywidgets.HBox object>"
            ]
          },
          "metadata": {
            "tags": []
          }
        },
        {
          "output_type": "stream",
          "text": [
            "\n"
          ],
          "name": "stdout"
        },
        {
          "output_type": "display_data",
          "data": {
            "text/html": [
              "<div style=\"display:flex;flex-direction:row;\"><span>Epoch: 89/500. Iteration: 134/134. Cls loss: 0.12518. Reg loss: 0.25284. Batch loss: 0.37802 Total loss: 0.29986</span><progress style='margin:2px 4px;description_width:initial;' max='134' value='134'></progress>100% 134/134 [02:50&lt;00:00,  1.07it/s]</div>"
            ],
            "text/plain": [
              "<tqdm._fake_ipywidgets.HBox object>"
            ]
          },
          "metadata": {
            "tags": []
          }
        },
        {
          "output_type": "stream",
          "text": [
            "\n"
          ],
          "name": "stdout"
        },
        {
          "output_type": "display_data",
          "data": {
            "text/html": [
              "<div style=\"display:flex;flex-direction:row;\"><span>Epoch: 90/500. Iteration: 134/134. Cls loss: 0.10114. Reg loss: 0.18883. Batch loss: 0.28996 Total loss: 0.29585</span><progress style='margin:2px 4px;description_width:initial;' max='134' value='134'></progress>100% 134/134 [02:51&lt;00:00,  1.08it/s]</div>"
            ],
            "text/plain": [
              "<tqdm._fake_ipywidgets.HBox object>"
            ]
          },
          "metadata": {
            "tags": []
          }
        },
        {
          "output_type": "stream",
          "text": [
            "\n"
          ],
          "name": "stdout"
        },
        {
          "output_type": "display_data",
          "data": {
            "text/html": [
              "<div style=\"display:flex;flex-direction:row;\"><span>Epoch: 91/500. Iteration: 134/134. Cls loss: 0.09610. Reg loss: 0.20559. Batch loss: 0.30170 Total loss: 0.29750</span><progress style='margin:2px 4px;description_width:initial;' max='134' value='134'></progress>100% 134/134 [02:50&lt;00:00,  1.09it/s]</div>"
            ],
            "text/plain": [
              "<tqdm._fake_ipywidgets.HBox object>"
            ]
          },
          "metadata": {
            "tags": []
          }
        },
        {
          "output_type": "stream",
          "text": [
            "\n"
          ],
          "name": "stdout"
        },
        {
          "output_type": "display_data",
          "data": {
            "text/html": [
              "<div style=\"display:flex;flex-direction:row;\"><span>Epoch: 92/500. Iteration: 134/134. Cls loss: 0.10936. Reg loss: 0.19056. Batch loss: 0.29991 Total loss: 0.29708</span><progress style='margin:2px 4px;description_width:initial;' max='134' value='134'></progress>100% 134/134 [02:48&lt;00:00,  1.08it/s]</div>"
            ],
            "text/plain": [
              "<tqdm._fake_ipywidgets.HBox object>"
            ]
          },
          "metadata": {
            "tags": []
          }
        },
        {
          "output_type": "stream",
          "text": [
            "\n"
          ],
          "name": "stdout"
        },
        {
          "output_type": "display_data",
          "data": {
            "text/html": [
              "<div style=\"display:flex;flex-direction:row;\"><span>Epoch: 93/500. Iteration: 134/134. Cls loss: 0.09378. Reg loss: 0.18819. Batch loss: 0.28196 Total loss: 0.29368</span><progress style='margin:2px 4px;description_width:initial;' max='134' value='134'></progress>100% 134/134 [02:50&lt;00:00,  1.08it/s]</div>"
            ],
            "text/plain": [
              "<tqdm._fake_ipywidgets.HBox object>"
            ]
          },
          "metadata": {
            "tags": []
          }
        },
        {
          "output_type": "stream",
          "text": [
            "\n"
          ],
          "name": "stdout"
        },
        {
          "output_type": "display_data",
          "data": {
            "text/html": [
              "<div style=\"display:flex;flex-direction:row;\"><span>Epoch: 94/500. Iteration: 134/134. Cls loss: 0.09984. Reg loss: 0.18040. Batch loss: 0.28024 Total loss: 0.28999</span><progress style='margin:2px 4px;description_width:initial;' max='134' value='134'></progress>100% 134/134 [02:49&lt;00:00,  1.08it/s]</div>"
            ],
            "text/plain": [
              "<tqdm._fake_ipywidgets.HBox object>"
            ]
          },
          "metadata": {
            "tags": []
          }
        },
        {
          "output_type": "stream",
          "text": [
            "\n"
          ],
          "name": "stdout"
        },
        {
          "output_type": "display_data",
          "data": {
            "text/html": [
              "<div style=\"display:flex;flex-direction:row;\"><span>Epoch: 95/500. Iteration: 134/134. Cls loss: 0.06541. Reg loss: 0.16037. Batch loss: 0.22578 Total loss: 0.28991</span><progress style='margin:2px 4px;description_width:initial;' max='134' value='134'></progress>100% 134/134 [02:48&lt;00:00,  1.09it/s]</div>"
            ],
            "text/plain": [
              "<tqdm._fake_ipywidgets.HBox object>"
            ]
          },
          "metadata": {
            "tags": []
          }
        },
        {
          "output_type": "stream",
          "text": [
            "\n"
          ],
          "name": "stdout"
        },
        {
          "output_type": "display_data",
          "data": {
            "text/html": [
              "<div style=\"display:flex;flex-direction:row;\"><span>Epoch: 96/500. Iteration: 134/134. Cls loss: 0.11822. Reg loss: 0.22634. Batch loss: 0.34457 Total loss: 0.28433</span><progress style='margin:2px 4px;description_width:initial;' max='134' value='134'></progress>100% 134/134 [02:49&lt;00:00,  1.09it/s]</div>"
            ],
            "text/plain": [
              "<tqdm._fake_ipywidgets.HBox object>"
            ]
          },
          "metadata": {
            "tags": []
          }
        },
        {
          "output_type": "stream",
          "text": [
            "\n"
          ],
          "name": "stdout"
        },
        {
          "output_type": "display_data",
          "data": {
            "text/html": [
              "<div style=\"display:flex;flex-direction:row;\"><span>Epoch: 97/500. Iteration: 134/134. Cls loss: 0.16007. Reg loss: 0.23176. Batch loss: 0.39183 Total loss: 0.28410</span><progress style='margin:2px 4px;description_width:initial;' max='134' value='134'></progress>100% 134/134 [02:49&lt;00:00,  1.08it/s]</div>"
            ],
            "text/plain": [
              "<tqdm._fake_ipywidgets.HBox object>"
            ]
          },
          "metadata": {
            "tags": []
          }
        },
        {
          "output_type": "stream",
          "text": [
            "\n"
          ],
          "name": "stdout"
        },
        {
          "output_type": "display_data",
          "data": {
            "text/html": [
              "<div style=\"display:flex;flex-direction:row;\"><span>Epoch: 98/500. Iteration: 134/134. Cls loss: 0.08338. Reg loss: 0.17118. Batch loss: 0.25456 Total loss: 0.28248</span><progress style='margin:2px 4px;description_width:initial;' max='134' value='134'></progress>100% 134/134 [02:49&lt;00:00,  1.08it/s]</div>"
            ],
            "text/plain": [
              "<tqdm._fake_ipywidgets.HBox object>"
            ]
          },
          "metadata": {
            "tags": []
          }
        },
        {
          "output_type": "stream",
          "text": [
            "\n"
          ],
          "name": "stdout"
        },
        {
          "output_type": "display_data",
          "data": {
            "text/html": [
              "<div style=\"display:flex;flex-direction:row;\"><span>Epoch: 99/500. Iteration: 134/134. Cls loss: 0.09587. Reg loss: 0.18655. Batch loss: 0.28242 Total loss: 0.27975</span><progress style='margin:2px 4px;description_width:initial;' max='134' value='134'></progress>100% 134/134 [02:50&lt;00:00,  1.09it/s]</div>"
            ],
            "text/plain": [
              "<tqdm._fake_ipywidgets.HBox object>"
            ]
          },
          "metadata": {
            "tags": []
          }
        },
        {
          "output_type": "stream",
          "text": [
            "\n"
          ],
          "name": "stdout"
        },
        {
          "output_type": "display_data",
          "data": {
            "text/html": [
              "<div style=\"display:flex;flex-direction:row;\"><span>Epoch: 100/500. Iteration: 134/134. Cls loss: 0.11060. Reg loss: 0.22106. Batch loss: 0.33166 Total loss: 0.27843</span><progress style='margin:2px 4px;description_width:initial;' max='134' value='134'></progress>100% 134/134 [02:49&lt;00:00,  1.09it/s]</div>"
            ],
            "text/plain": [
              "<tqdm._fake_ipywidgets.HBox object>"
            ]
          },
          "metadata": {
            "tags": []
          }
        },
        {
          "output_type": "stream",
          "text": [
            "\n"
          ],
          "name": "stdout"
        },
        {
          "output_type": "display_data",
          "data": {
            "text/html": [
              "<div style=\"display:flex;flex-direction:row;\"><span>Epoch: 101/500. Iteration: 134/134. Cls loss: 0.08771. Reg loss: 0.17920. Batch loss: 0.26690 Total loss: 0.27752</span><progress style='margin:2px 4px;description_width:initial;' max='134' value='134'></progress>100% 134/134 [02:46&lt;00:00,  1.11it/s]</div>"
            ],
            "text/plain": [
              "<tqdm._fake_ipywidgets.HBox object>"
            ]
          },
          "metadata": {
            "tags": []
          }
        },
        {
          "output_type": "stream",
          "text": [
            "\n"
          ],
          "name": "stdout"
        },
        {
          "output_type": "display_data",
          "data": {
            "text/html": [
              "<div style=\"display:flex;flex-direction:row;\"><span>Epoch: 102/500. Iteration: 134/134. Cls loss: 0.10197. Reg loss: 0.19733. Batch loss: 0.29930 Total loss: 0.27590</span><progress style='margin:2px 4px;description_width:initial;' max='134' value='134'></progress>100% 134/134 [02:44&lt;00:00,  1.10it/s]</div>"
            ],
            "text/plain": [
              "<tqdm._fake_ipywidgets.HBox object>"
            ]
          },
          "metadata": {
            "tags": []
          }
        },
        {
          "output_type": "stream",
          "text": [
            "\n"
          ],
          "name": "stdout"
        },
        {
          "output_type": "display_data",
          "data": {
            "text/html": [
              "<div style=\"display:flex;flex-direction:row;\"><span>Epoch: 103/500. Iteration: 134/134. Cls loss: 0.08932. Reg loss: 0.18745. Batch loss: 0.27677 Total loss: 0.27087</span><progress style='margin:2px 4px;description_width:initial;' max='134' value='134'></progress>100% 134/134 [02:45&lt;00:00,  1.11it/s]</div>"
            ],
            "text/plain": [
              "<tqdm._fake_ipywidgets.HBox object>"
            ]
          },
          "metadata": {
            "tags": []
          }
        },
        {
          "output_type": "stream",
          "text": [
            "\n"
          ],
          "name": "stdout"
        },
        {
          "output_type": "display_data",
          "data": {
            "text/html": [
              "<div style=\"display:flex;flex-direction:row;\"><span>Epoch: 104/500. Iteration: 134/134. Cls loss: 0.07806. Reg loss: 0.17340. Batch loss: 0.25146 Total loss: 0.27192</span><progress style='margin:2px 4px;description_width:initial;' max='134' value='134'></progress>100% 134/134 [02:45&lt;00:00,  1.11it/s]</div>"
            ],
            "text/plain": [
              "<tqdm._fake_ipywidgets.HBox object>"
            ]
          },
          "metadata": {
            "tags": []
          }
        },
        {
          "output_type": "stream",
          "text": [
            "\n"
          ],
          "name": "stdout"
        },
        {
          "output_type": "display_data",
          "data": {
            "text/html": [
              "<div style=\"display:flex;flex-direction:row;\"><span>Epoch: 105/500. Iteration: 134/134. Cls loss: 0.10516. Reg loss: 0.20036. Batch loss: 0.30552 Total loss: 0.27022</span><progress style='margin:2px 4px;description_width:initial;' max='134' value='134'></progress>100% 134/134 [02:45&lt;00:00,  1.10it/s]</div>"
            ],
            "text/plain": [
              "<tqdm._fake_ipywidgets.HBox object>"
            ]
          },
          "metadata": {
            "tags": []
          }
        },
        {
          "output_type": "stream",
          "text": [
            "\n"
          ],
          "name": "stdout"
        },
        {
          "output_type": "display_data",
          "data": {
            "text/html": [
              "<div style=\"display:flex;flex-direction:row;\"><span>Epoch: 106/500. Iteration: 134/134. Cls loss: 0.07029. Reg loss: 0.15623. Batch loss: 0.22652 Total loss: 0.26889</span><progress style='margin:2px 4px;description_width:initial;' max='134' value='134'></progress>100% 134/134 [02:46&lt;00:00,  1.09it/s]</div>"
            ],
            "text/plain": [
              "<tqdm._fake_ipywidgets.HBox object>"
            ]
          },
          "metadata": {
            "tags": []
          }
        },
        {
          "output_type": "stream",
          "text": [
            "\n"
          ],
          "name": "stdout"
        },
        {
          "output_type": "display_data",
          "data": {
            "text/html": [
              "<div style=\"display:flex;flex-direction:row;\"><span>Epoch: 107/500. Iteration: 134/134. Cls loss: 0.06092. Reg loss: 0.15939. Batch loss: 0.22032 Total loss: 0.26680</span><progress style='margin:2px 4px;description_width:initial;' max='134' value='134'></progress>100% 134/134 [02:47&lt;00:00,  1.09it/s]</div>"
            ],
            "text/plain": [
              "<tqdm._fake_ipywidgets.HBox object>"
            ]
          },
          "metadata": {
            "tags": []
          }
        },
        {
          "output_type": "stream",
          "text": [
            "\n"
          ],
          "name": "stdout"
        },
        {
          "output_type": "display_data",
          "data": {
            "text/html": [
              "<div style=\"display:flex;flex-direction:row;\"><span>Epoch: 108/500. Iteration: 134/134. Cls loss: 0.06858. Reg loss: 0.13796. Batch loss: 0.20654 Total loss: 0.26484</span><progress style='margin:2px 4px;description_width:initial;' max='134' value='134'></progress>100% 134/134 [02:46&lt;00:00,  1.09it/s]</div>"
            ],
            "text/plain": [
              "<tqdm._fake_ipywidgets.HBox object>"
            ]
          },
          "metadata": {
            "tags": []
          }
        },
        {
          "output_type": "stream",
          "text": [
            "\n"
          ],
          "name": "stdout"
        },
        {
          "output_type": "display_data",
          "data": {
            "text/html": [
              "<div style=\"display:flex;flex-direction:row;\"><span>Epoch: 109/500. Iteration: 134/134. Cls loss: 0.07276. Reg loss: 0.17305. Batch loss: 0.24581 Total loss: 0.26564</span><progress style='margin:2px 4px;description_width:initial;' max='134' value='134'></progress>100% 134/134 [02:46&lt;00:00,  1.09it/s]</div>"
            ],
            "text/plain": [
              "<tqdm._fake_ipywidgets.HBox object>"
            ]
          },
          "metadata": {
            "tags": []
          }
        },
        {
          "output_type": "stream",
          "text": [
            "\n"
          ],
          "name": "stdout"
        },
        {
          "output_type": "display_data",
          "data": {
            "text/html": [
              "<div style=\"display:flex;flex-direction:row;\"><span>Epoch: 110/500. Iteration: 134/134. Cls loss: 0.05896. Reg loss: 0.17371. Batch loss: 0.23267 Total loss: 0.26510</span><progress style='margin:2px 4px;description_width:initial;' max='134' value='134'></progress>100% 134/134 [02:45&lt;00:00,  1.11it/s]</div>"
            ],
            "text/plain": [
              "<tqdm._fake_ipywidgets.HBox object>"
            ]
          },
          "metadata": {
            "tags": []
          }
        },
        {
          "output_type": "stream",
          "text": [
            "\n"
          ],
          "name": "stdout"
        },
        {
          "output_type": "display_data",
          "data": {
            "text/html": [
              "<div style=\"display:flex;flex-direction:row;\"><span>Epoch: 111/500. Iteration: 134/134. Cls loss: 0.11418. Reg loss: 0.20884. Batch loss: 0.32302 Total loss: 0.26212</span><progress style='margin:2px 4px;description_width:initial;' max='134' value='134'></progress>100% 134/134 [02:46&lt;00:00,  1.09it/s]</div>"
            ],
            "text/plain": [
              "<tqdm._fake_ipywidgets.HBox object>"
            ]
          },
          "metadata": {
            "tags": []
          }
        },
        {
          "output_type": "stream",
          "text": [
            "\n"
          ],
          "name": "stdout"
        },
        {
          "output_type": "display_data",
          "data": {
            "text/html": [
              "<div style=\"display:flex;flex-direction:row;\"><span>Epoch: 112/500. Iteration: 134/134. Cls loss: 0.08984. Reg loss: 0.19816. Batch loss: 0.28800 Total loss: 0.25913</span><progress style='margin:2px 4px;description_width:initial;' max='134' value='134'></progress>100% 134/134 [02:47&lt;00:00,  1.09it/s]</div>"
            ],
            "text/plain": [
              "<tqdm._fake_ipywidgets.HBox object>"
            ]
          },
          "metadata": {
            "tags": []
          }
        },
        {
          "output_type": "stream",
          "text": [
            "\n"
          ],
          "name": "stdout"
        },
        {
          "output_type": "display_data",
          "data": {
            "text/html": [
              "<div style=\"display:flex;flex-direction:row;\"><span>Epoch: 113/500. Iteration: 134/134. Cls loss: 0.07131. Reg loss: 0.15206. Batch loss: 0.22337 Total loss: 0.25906</span><progress style='margin:2px 4px;description_width:initial;' max='134' value='134'></progress>100% 134/134 [02:48&lt;00:00,  1.09it/s]</div>"
            ],
            "text/plain": [
              "<tqdm._fake_ipywidgets.HBox object>"
            ]
          },
          "metadata": {
            "tags": []
          }
        },
        {
          "output_type": "stream",
          "text": [
            "\n"
          ],
          "name": "stdout"
        },
        {
          "output_type": "display_data",
          "data": {
            "text/html": [
              "<div style=\"display:flex;flex-direction:row;\"><span>Epoch: 114/500. Iteration: 134/134. Cls loss: 0.07533. Reg loss: 0.18153. Batch loss: 0.25686 Total loss: 0.25915</span><progress style='margin:2px 4px;description_width:initial;' max='134' value='134'></progress>100% 134/134 [02:47&lt;00:00,  1.11it/s]</div>"
            ],
            "text/plain": [
              "<tqdm._fake_ipywidgets.HBox object>"
            ]
          },
          "metadata": {
            "tags": []
          }
        },
        {
          "output_type": "stream",
          "text": [
            "\n"
          ],
          "name": "stdout"
        },
        {
          "output_type": "display_data",
          "data": {
            "text/html": [
              "<div style=\"display:flex;flex-direction:row;\"><span>Epoch: 115/500. Iteration: 134/134. Cls loss: 0.08786. Reg loss: 0.21849. Batch loss: 0.30635 Total loss: 0.25574</span><progress style='margin:2px 4px;description_width:initial;' max='134' value='134'></progress>100% 134/134 [02:45&lt;00:00,  1.11it/s]</div>"
            ],
            "text/plain": [
              "<tqdm._fake_ipywidgets.HBox object>"
            ]
          },
          "metadata": {
            "tags": []
          }
        },
        {
          "output_type": "stream",
          "text": [
            "\n"
          ],
          "name": "stdout"
        },
        {
          "output_type": "display_data",
          "data": {
            "text/html": [
              "<div style=\"display:flex;flex-direction:row;\"><span>Epoch: 116/500. Iteration: 134/134. Cls loss: 0.05079. Reg loss: 0.13604. Batch loss: 0.18683 Total loss: 0.25579</span><progress style='margin:2px 4px;description_width:initial;' max='134' value='134'></progress>100% 134/134 [02:44&lt;00:00,  1.11it/s]</div>"
            ],
            "text/plain": [
              "<tqdm._fake_ipywidgets.HBox object>"
            ]
          },
          "metadata": {
            "tags": []
          }
        },
        {
          "output_type": "stream",
          "text": [
            "\n"
          ],
          "name": "stdout"
        },
        {
          "output_type": "display_data",
          "data": {
            "text/html": [
              "<div style=\"display:flex;flex-direction:row;\"><span>Epoch: 117/500. Iteration: 134/134. Cls loss: 0.07314. Reg loss: 0.15473. Batch loss: 0.22786 Total loss: 0.25119</span><progress style='margin:2px 4px;description_width:initial;' max='134' value='134'></progress>100% 134/134 [02:45&lt;00:00,  1.10it/s]</div>"
            ],
            "text/plain": [
              "<tqdm._fake_ipywidgets.HBox object>"
            ]
          },
          "metadata": {
            "tags": []
          }
        },
        {
          "output_type": "stream",
          "text": [
            "\n"
          ],
          "name": "stdout"
        },
        {
          "output_type": "display_data",
          "data": {
            "text/html": [
              "<div style=\"display:flex;flex-direction:row;\"><span>Epoch: 118/500. Iteration: 134/134. Cls loss: 0.10268. Reg loss: 0.18117. Batch loss: 0.28385 Total loss: 0.24970</span><progress style='margin:2px 4px;description_width:initial;' max='134' value='134'></progress>100% 134/134 [02:47&lt;00:00,  1.10it/s]</div>"
            ],
            "text/plain": [
              "<tqdm._fake_ipywidgets.HBox object>"
            ]
          },
          "metadata": {
            "tags": []
          }
        },
        {
          "output_type": "stream",
          "text": [
            "\n"
          ],
          "name": "stdout"
        },
        {
          "output_type": "display_data",
          "data": {
            "text/html": [
              "<div style=\"display:flex;flex-direction:row;\"><span>Epoch: 119/500. Iteration: 134/134. Cls loss: 0.07516. Reg loss: 0.14878. Batch loss: 0.22394 Total loss: 0.24802</span><progress style='margin:2px 4px;description_width:initial;' max='134' value='134'></progress>100% 134/134 [02:46&lt;00:00,  1.10it/s]</div>"
            ],
            "text/plain": [
              "<tqdm._fake_ipywidgets.HBox object>"
            ]
          },
          "metadata": {
            "tags": []
          }
        },
        {
          "output_type": "stream",
          "text": [
            "\n"
          ],
          "name": "stdout"
        },
        {
          "output_type": "display_data",
          "data": {
            "text/html": [
              "<div style=\"display:flex;flex-direction:row;\"><span>Epoch: 120/500. Iteration: 134/134. Cls loss: 0.06503. Reg loss: 0.13863. Batch loss: 0.20366 Total loss: 0.24575</span><progress style='margin:2px 4px;description_width:initial;' max='134' value='134'></progress>100% 134/134 [02:46&lt;00:00,  1.09it/s]</div>"
            ],
            "text/plain": [
              "<tqdm._fake_ipywidgets.HBox object>"
            ]
          },
          "metadata": {
            "tags": []
          }
        },
        {
          "output_type": "stream",
          "text": [
            "\n"
          ],
          "name": "stdout"
        },
        {
          "output_type": "display_data",
          "data": {
            "text/html": [
              "<div style=\"display:flex;flex-direction:row;\"><span>Epoch: 121/500. Iteration: 134/134. Cls loss: 0.08757. Reg loss: 0.14471. Batch loss: 0.23229 Total loss: 0.24517</span><progress style='margin:2px 4px;description_width:initial;' max='134' value='134'></progress>100% 134/134 [02:43&lt;00:00,  1.10it/s]</div>"
            ],
            "text/plain": [
              "<tqdm._fake_ipywidgets.HBox object>"
            ]
          },
          "metadata": {
            "tags": []
          }
        },
        {
          "output_type": "stream",
          "text": [
            "\n"
          ],
          "name": "stdout"
        },
        {
          "output_type": "display_data",
          "data": {
            "text/html": [
              "<div style=\"display:flex;flex-direction:row;\"><span>Epoch: 122/500. Iteration: 134/134. Cls loss: 0.06845. Reg loss: 0.15399. Batch loss: 0.22243 Total loss: 0.24060</span><progress style='margin:2px 4px;description_width:initial;' max='134' value='134'></progress>100% 134/134 [02:44&lt;00:00,  1.09it/s]</div>"
            ],
            "text/plain": [
              "<tqdm._fake_ipywidgets.HBox object>"
            ]
          },
          "metadata": {
            "tags": []
          }
        },
        {
          "output_type": "stream",
          "text": [
            "\n"
          ],
          "name": "stdout"
        },
        {
          "output_type": "display_data",
          "data": {
            "text/html": [
              "<div style=\"display:flex;flex-direction:row;\"><span>Epoch: 123/500. Iteration: 134/134. Cls loss: 0.05851. Reg loss: 0.14602. Batch loss: 0.20453 Total loss: 0.23921</span><progress style='margin:2px 4px;description_width:initial;' max='134' value='134'></progress>100% 134/134 [02:47&lt;00:00,  1.09it/s]</div>"
            ],
            "text/plain": [
              "<tqdm._fake_ipywidgets.HBox object>"
            ]
          },
          "metadata": {
            "tags": []
          }
        },
        {
          "output_type": "stream",
          "text": [
            "\n"
          ],
          "name": "stdout"
        },
        {
          "output_type": "display_data",
          "data": {
            "text/html": [
              "<div style=\"display:flex;flex-direction:row;\"><span>Epoch: 124/500. Iteration: 134/134. Cls loss: 0.06753. Reg loss: 0.17811. Batch loss: 0.24564 Total loss: 0.24146</span><progress style='margin:2px 4px;description_width:initial;' max='134' value='134'></progress>100% 134/134 [02:49&lt;00:00,  1.09it/s]</div>"
            ],
            "text/plain": [
              "<tqdm._fake_ipywidgets.HBox object>"
            ]
          },
          "metadata": {
            "tags": []
          }
        },
        {
          "output_type": "stream",
          "text": [
            "\n"
          ],
          "name": "stdout"
        },
        {
          "output_type": "display_data",
          "data": {
            "text/html": [
              "<div style=\"display:flex;flex-direction:row;\"><span>Epoch: 125/500. Iteration: 134/134. Cls loss: 0.05572. Reg loss: 0.16125. Batch loss: 0.21697 Total loss: 0.23792</span><progress style='margin:2px 4px;description_width:initial;' max='134' value='134'></progress>100% 134/134 [02:48&lt;00:00,  1.09it/s]</div>"
            ],
            "text/plain": [
              "<tqdm._fake_ipywidgets.HBox object>"
            ]
          },
          "metadata": {
            "tags": []
          }
        },
        {
          "output_type": "stream",
          "text": [
            "\n"
          ],
          "name": "stdout"
        },
        {
          "output_type": "display_data",
          "data": {
            "text/html": [
              "<div style=\"display:flex;flex-direction:row;\"><span>Epoch: 126/500. Iteration: 134/134. Cls loss: 0.04100. Reg loss: 0.12513. Batch loss: 0.16613 Total loss: 0.23514</span><progress style='margin:2px 4px;description_width:initial;' max='134' value='134'></progress>100% 134/134 [02:49&lt;00:00,  1.09it/s]</div>"
            ],
            "text/plain": [
              "<tqdm._fake_ipywidgets.HBox object>"
            ]
          },
          "metadata": {
            "tags": []
          }
        },
        {
          "output_type": "stream",
          "text": [
            "\n"
          ],
          "name": "stdout"
        },
        {
          "output_type": "display_data",
          "data": {
            "text/html": [
              "<div style=\"display:flex;flex-direction:row;\"><span>Epoch: 127/500. Iteration: 134/134. Cls loss: 0.09072. Reg loss: 0.16593. Batch loss: 0.25665 Total loss: 0.23620</span><progress style='margin:2px 4px;description_width:initial;' max='134' value='134'></progress>100% 134/134 [02:49&lt;00:00,  1.09it/s]</div>"
            ],
            "text/plain": [
              "<tqdm._fake_ipywidgets.HBox object>"
            ]
          },
          "metadata": {
            "tags": []
          }
        },
        {
          "output_type": "stream",
          "text": [
            "\n"
          ],
          "name": "stdout"
        },
        {
          "output_type": "display_data",
          "data": {
            "text/html": [
              "<div style=\"display:flex;flex-direction:row;\"><span>Epoch: 128/500. Iteration: 134/134. Cls loss: 0.10447. Reg loss: 0.23522. Batch loss: 0.33970 Total loss: 0.23674</span><progress style='margin:2px 4px;description_width:initial;' max='134' value='134'></progress>100% 134/134 [02:48&lt;00:00,  1.09it/s]</div>"
            ],
            "text/plain": [
              "<tqdm._fake_ipywidgets.HBox object>"
            ]
          },
          "metadata": {
            "tags": []
          }
        },
        {
          "output_type": "stream",
          "text": [
            "\n"
          ],
          "name": "stdout"
        },
        {
          "output_type": "display_data",
          "data": {
            "text/html": [
              "<div style=\"display:flex;flex-direction:row;\"><span>Epoch: 129/500. Iteration: 134/134. Cls loss: 0.05156. Reg loss: 0.14107. Batch loss: 0.19264 Total loss: 0.23258</span><progress style='margin:2px 4px;description_width:initial;' max='134' value='134'></progress>100% 134/134 [02:49&lt;00:00,  1.09it/s]</div>"
            ],
            "text/plain": [
              "<tqdm._fake_ipywidgets.HBox object>"
            ]
          },
          "metadata": {
            "tags": []
          }
        },
        {
          "output_type": "stream",
          "text": [
            "\n"
          ],
          "name": "stdout"
        },
        {
          "output_type": "display_data",
          "data": {
            "text/html": [
              "<div style=\"display:flex;flex-direction:row;\"><span>Epoch: 130/500. Iteration: 134/134. Cls loss: 0.07123. Reg loss: 0.15662. Batch loss: 0.22785 Total loss: 0.23364</span><progress style='margin:2px 4px;description_width:initial;' max='134' value='134'></progress>100% 134/134 [02:49&lt;00:00,  1.08it/s]</div>"
            ],
            "text/plain": [
              "<tqdm._fake_ipywidgets.HBox object>"
            ]
          },
          "metadata": {
            "tags": []
          }
        },
        {
          "output_type": "stream",
          "text": [
            "\n"
          ],
          "name": "stdout"
        },
        {
          "output_type": "display_data",
          "data": {
            "text/html": [
              "<div style=\"display:flex;flex-direction:row;\"><span>Epoch: 131/500. Iteration: 134/134. Cls loss: 0.08100. Reg loss: 0.16113. Batch loss: 0.24213 Total loss: 0.23155</span><progress style='margin:2px 4px;description_width:initial;' max='134' value='134'></progress>100% 134/134 [02:48&lt;00:00,  1.08it/s]</div>"
            ],
            "text/plain": [
              "<tqdm._fake_ipywidgets.HBox object>"
            ]
          },
          "metadata": {
            "tags": []
          }
        },
        {
          "output_type": "stream",
          "text": [
            "\n"
          ],
          "name": "stdout"
        },
        {
          "output_type": "display_data",
          "data": {
            "text/html": [
              "<div style=\"display:flex;flex-direction:row;\"><span>Epoch: 132/500. Iteration: 134/134. Cls loss: 0.05628. Reg loss: 0.11277. Batch loss: 0.16905 Total loss: 0.22998</span><progress style='margin:2px 4px;description_width:initial;' max='134' value='134'></progress>100% 134/134 [02:49&lt;00:00,  1.08it/s]</div>"
            ],
            "text/plain": [
              "<tqdm._fake_ipywidgets.HBox object>"
            ]
          },
          "metadata": {
            "tags": []
          }
        },
        {
          "output_type": "stream",
          "text": [
            "\n"
          ],
          "name": "stdout"
        },
        {
          "output_type": "display_data",
          "data": {
            "text/html": [
              "<div style=\"display:flex;flex-direction:row;\"><span>Epoch: 133/500. Iteration: 134/134. Cls loss: 0.09429. Reg loss: 0.16936. Batch loss: 0.26365 Total loss: 0.23029</span><progress style='margin:2px 4px;description_width:initial;' max='134' value='134'></progress>100% 134/134 [02:52&lt;00:00,  1.07it/s]</div>"
            ],
            "text/plain": [
              "<tqdm._fake_ipywidgets.HBox object>"
            ]
          },
          "metadata": {
            "tags": []
          }
        },
        {
          "output_type": "stream",
          "text": [
            "\n"
          ],
          "name": "stdout"
        },
        {
          "output_type": "display_data",
          "data": {
            "text/html": [
              "<div style=\"display:flex;flex-direction:row;\"><span>Epoch: 134/500. Iteration: 134/134. Cls loss: 0.05206. Reg loss: 0.13922. Batch loss: 0.19128 Total loss: 0.22762</span><progress style='margin:2px 4px;description_width:initial;' max='134' value='134'></progress>100% 134/134 [02:51&lt;00:00,  1.08it/s]</div>"
            ],
            "text/plain": [
              "<tqdm._fake_ipywidgets.HBox object>"
            ]
          },
          "metadata": {
            "tags": []
          }
        },
        {
          "output_type": "stream",
          "text": [
            "\n"
          ],
          "name": "stdout"
        },
        {
          "output_type": "display_data",
          "data": {
            "text/html": [
              "<div style=\"display:flex;flex-direction:row;\"><span>Epoch: 135/500. Iteration: 134/134. Cls loss: 0.07334. Reg loss: 0.15166. Batch loss: 0.22500 Total loss: 0.22752</span><progress style='margin:2px 4px;description_width:initial;' max='134' value='134'></progress>100% 134/134 [02:50&lt;00:00,  1.07it/s]</div>"
            ],
            "text/plain": [
              "<tqdm._fake_ipywidgets.HBox object>"
            ]
          },
          "metadata": {
            "tags": []
          }
        },
        {
          "output_type": "stream",
          "text": [
            "\n"
          ],
          "name": "stdout"
        },
        {
          "output_type": "display_data",
          "data": {
            "text/html": [
              "<div style=\"display:flex;flex-direction:row;\"><span>Epoch: 136/500. Iteration: 134/134. Cls loss: 0.08198. Reg loss: 0.20144. Batch loss: 0.28342 Total loss: 0.22459</span><progress style='margin:2px 4px;description_width:initial;' max='134' value='134'></progress>100% 134/134 [02:50&lt;00:00,  1.08it/s]</div>"
            ],
            "text/plain": [
              "<tqdm._fake_ipywidgets.HBox object>"
            ]
          },
          "metadata": {
            "tags": []
          }
        },
        {
          "output_type": "stream",
          "text": [
            "\n"
          ],
          "name": "stdout"
        },
        {
          "output_type": "display_data",
          "data": {
            "text/html": [
              "<div style=\"display:flex;flex-direction:row;\"><span>Epoch: 137/500. Iteration: 134/134. Cls loss: 0.06734. Reg loss: 0.16478. Batch loss: 0.23212 Total loss: 0.22386</span><progress style='margin:2px 4px;description_width:initial;' max='134' value='134'></progress>100% 134/134 [02:50&lt;00:00,  1.09it/s]</div>"
            ],
            "text/plain": [
              "<tqdm._fake_ipywidgets.HBox object>"
            ]
          },
          "metadata": {
            "tags": []
          }
        },
        {
          "output_type": "stream",
          "text": [
            "\n"
          ],
          "name": "stdout"
        },
        {
          "output_type": "display_data",
          "data": {
            "text/html": [
              "<div style=\"display:flex;flex-direction:row;\"><span>Epoch: 138/500. Iteration: 134/134. Cls loss: 0.10370. Reg loss: 0.22057. Batch loss: 0.32427 Total loss: 0.22326</span><progress style='margin:2px 4px;description_width:initial;' max='134' value='134'></progress>100% 134/134 [02:49&lt;00:00,  1.09it/s]</div>"
            ],
            "text/plain": [
              "<tqdm._fake_ipywidgets.HBox object>"
            ]
          },
          "metadata": {
            "tags": []
          }
        },
        {
          "output_type": "stream",
          "text": [
            "\n"
          ],
          "name": "stdout"
        },
        {
          "output_type": "display_data",
          "data": {
            "text/html": [
              "<div style=\"display:flex;flex-direction:row;\"><span>Epoch: 139/500. Iteration: 134/134. Cls loss: 0.05540. Reg loss: 0.14124. Batch loss: 0.19664 Total loss: 0.21958</span><progress style='margin:2px 4px;description_width:initial;' max='134' value='134'></progress>100% 134/134 [02:49&lt;00:00,  1.09it/s]</div>"
            ],
            "text/plain": [
              "<tqdm._fake_ipywidgets.HBox object>"
            ]
          },
          "metadata": {
            "tags": []
          }
        },
        {
          "output_type": "stream",
          "text": [
            "\n"
          ],
          "name": "stdout"
        },
        {
          "output_type": "display_data",
          "data": {
            "text/html": [
              "<div style=\"display:flex;flex-direction:row;\"><span>Epoch: 140/500. Iteration: 134/134. Cls loss: 0.08174. Reg loss: 0.13271. Batch loss: 0.21445 Total loss: 0.22126</span><progress style='margin:2px 4px;description_width:initial;' max='134' value='134'></progress>100% 134/134 [02:48&lt;00:00,  1.09it/s]</div>"
            ],
            "text/plain": [
              "<tqdm._fake_ipywidgets.HBox object>"
            ]
          },
          "metadata": {
            "tags": []
          }
        },
        {
          "output_type": "stream",
          "text": [
            "\n"
          ],
          "name": "stdout"
        },
        {
          "output_type": "display_data",
          "data": {
            "text/html": [
              "<div style=\"display:flex;flex-direction:row;\"><span>Epoch: 141/500. Iteration: 134/134. Cls loss: 0.06401. Reg loss: 0.16056. Batch loss: 0.22457 Total loss: 0.21992</span><progress style='margin:2px 4px;description_width:initial;' max='134' value='134'></progress>100% 134/134 [02:46&lt;00:00,  1.09it/s]</div>"
            ],
            "text/plain": [
              "<tqdm._fake_ipywidgets.HBox object>"
            ]
          },
          "metadata": {
            "tags": []
          }
        },
        {
          "output_type": "stream",
          "text": [
            "\n"
          ],
          "name": "stdout"
        },
        {
          "output_type": "display_data",
          "data": {
            "text/html": [
              "<div style=\"display:flex;flex-direction:row;\"><span>Epoch: 142/500. Iteration: 134/134. Cls loss: 0.06108. Reg loss: 0.15676. Batch loss: 0.21785 Total loss: 0.21708</span><progress style='margin:2px 4px;description_width:initial;' max='134' value='134'></progress>100% 134/134 [02:49&lt;00:00,  1.09it/s]</div>"
            ],
            "text/plain": [
              "<tqdm._fake_ipywidgets.HBox object>"
            ]
          },
          "metadata": {
            "tags": []
          }
        },
        {
          "output_type": "stream",
          "text": [
            "\n"
          ],
          "name": "stdout"
        },
        {
          "output_type": "display_data",
          "data": {
            "text/html": [
              "<div style=\"display:flex;flex-direction:row;\"><span>Epoch: 143/500. Iteration: 134/134. Cls loss: 0.04198. Reg loss: 0.13514. Batch loss: 0.17712 Total loss: 0.21616</span><progress style='margin:2px 4px;description_width:initial;' max='134' value='134'></progress>100% 134/134 [02:49&lt;00:00,  1.07it/s]</div>"
            ],
            "text/plain": [
              "<tqdm._fake_ipywidgets.HBox object>"
            ]
          },
          "metadata": {
            "tags": []
          }
        },
        {
          "output_type": "stream",
          "text": [
            "\n"
          ],
          "name": "stdout"
        },
        {
          "output_type": "display_data",
          "data": {
            "text/html": [
              "<div style=\"display:flex;flex-direction:row;\"><span>Epoch: 144/500. Iteration: 134/134. Cls loss: 0.05349. Reg loss: 0.13580. Batch loss: 0.18928 Total loss: 0.21998</span><progress style='margin:2px 4px;description_width:initial;' max='134' value='134'></progress>100% 134/134 [02:50&lt;00:00,  1.08it/s]</div>"
            ],
            "text/plain": [
              "<tqdm._fake_ipywidgets.HBox object>"
            ]
          },
          "metadata": {
            "tags": []
          }
        },
        {
          "output_type": "stream",
          "text": [
            "\n"
          ],
          "name": "stdout"
        },
        {
          "output_type": "display_data",
          "data": {
            "text/html": [
              "<div style=\"display:flex;flex-direction:row;\"><span>Epoch: 145/500. Iteration: 134/134. Cls loss: 0.04415. Reg loss: 0.12697. Batch loss: 0.17112 Total loss: 0.21664</span><progress style='margin:2px 4px;description_width:initial;' max='134' value='134'></progress>100% 134/134 [02:51&lt;00:00,  1.07it/s]</div>"
            ],
            "text/plain": [
              "<tqdm._fake_ipywidgets.HBox object>"
            ]
          },
          "metadata": {
            "tags": []
          }
        },
        {
          "output_type": "stream",
          "text": [
            "\n"
          ],
          "name": "stdout"
        },
        {
          "output_type": "display_data",
          "data": {
            "text/html": [
              "<div style=\"display:flex;flex-direction:row;\"><span>Epoch: 146/500. Iteration: 134/134. Cls loss: 0.08384. Reg loss: 0.17218. Batch loss: 0.25602 Total loss: 0.21199</span><progress style='margin:2px 4px;description_width:initial;' max='134' value='134'></progress>100% 134/134 [02:50&lt;00:00,  1.08it/s]</div>"
            ],
            "text/plain": [
              "<tqdm._fake_ipywidgets.HBox object>"
            ]
          },
          "metadata": {
            "tags": []
          }
        },
        {
          "output_type": "stream",
          "text": [
            "\n"
          ],
          "name": "stdout"
        },
        {
          "output_type": "display_data",
          "data": {
            "text/html": [
              "<div style=\"display:flex;flex-direction:row;\"><span>Epoch: 147/500. Iteration: 134/134. Cls loss: 0.07386. Reg loss: 0.16440. Batch loss: 0.23825 Total loss: 0.21209</span><progress style='margin:2px 4px;description_width:initial;' max='134' value='134'></progress>100% 134/134 [02:50&lt;00:00,  1.07it/s]</div>"
            ],
            "text/plain": [
              "<tqdm._fake_ipywidgets.HBox object>"
            ]
          },
          "metadata": {
            "tags": []
          }
        },
        {
          "output_type": "stream",
          "text": [
            "\n"
          ],
          "name": "stdout"
        },
        {
          "output_type": "display_data",
          "data": {
            "text/html": [
              "<div style=\"display:flex;flex-direction:row;\"><span>Epoch: 148/500. Iteration: 134/134. Cls loss: 0.06181. Reg loss: 0.18840. Batch loss: 0.25021 Total loss: 0.21606</span><progress style='margin:2px 4px;description_width:initial;' max='134' value='134'></progress>100% 134/134 [02:49&lt;00:00,  1.09it/s]</div>"
            ],
            "text/plain": [
              "<tqdm._fake_ipywidgets.HBox object>"
            ]
          },
          "metadata": {
            "tags": []
          }
        },
        {
          "output_type": "stream",
          "text": [
            "\n"
          ],
          "name": "stdout"
        },
        {
          "output_type": "display_data",
          "data": {
            "text/html": [
              "<div style=\"display:flex;flex-direction:row;\"><span>Epoch: 149/500. Iteration: 134/134. Cls loss: 0.03865. Reg loss: 0.12032. Batch loss: 0.15896 Total loss: 0.20867</span><progress style='margin:2px 4px;description_width:initial;' max='134' value='134'></progress>100% 134/134 [02:49&lt;00:00,  1.09it/s]</div>"
            ],
            "text/plain": [
              "<tqdm._fake_ipywidgets.HBox object>"
            ]
          },
          "metadata": {
            "tags": []
          }
        },
        {
          "output_type": "stream",
          "text": [
            "\n"
          ],
          "name": "stdout"
        },
        {
          "output_type": "display_data",
          "data": {
            "text/html": [
              "<div style=\"display:flex;flex-direction:row;\"><span>Epoch: 150/500. Iteration: 134/134. Cls loss: 0.05992. Reg loss: 0.17148. Batch loss: 0.23140 Total loss: 0.21203</span><progress style='margin:2px 4px;description_width:initial;' max='134' value='134'></progress>100% 134/134 [02:48&lt;00:00,  1.10it/s]</div>"
            ],
            "text/plain": [
              "<tqdm._fake_ipywidgets.HBox object>"
            ]
          },
          "metadata": {
            "tags": []
          }
        },
        {
          "output_type": "stream",
          "text": [
            "\n"
          ],
          "name": "stdout"
        },
        {
          "output_type": "display_data",
          "data": {
            "text/html": [
              "<div style=\"display:flex;flex-direction:row;\"><span>Epoch: 151/500. Iteration: 134/134. Cls loss: 0.04667. Reg loss: 0.12971. Batch loss: 0.17638 Total loss: 0.20831</span><progress style='margin:2px 4px;description_width:initial;' max='134' value='134'></progress>100% 134/134 [02:48&lt;00:00,  1.09it/s]</div>"
            ],
            "text/plain": [
              "<tqdm._fake_ipywidgets.HBox object>"
            ]
          },
          "metadata": {
            "tags": []
          }
        },
        {
          "output_type": "stream",
          "text": [
            "\n"
          ],
          "name": "stdout"
        },
        {
          "output_type": "display_data",
          "data": {
            "text/html": [
              "<div style=\"display:flex;flex-direction:row;\"><span>Epoch: 152/500. Iteration: 134/134. Cls loss: 0.04593. Reg loss: 0.11996. Batch loss: 0.16589 Total loss: 0.20691</span><progress style='margin:2px 4px;description_width:initial;' max='134' value='134'></progress>100% 134/134 [02:47&lt;00:00,  1.09it/s]</div>"
            ],
            "text/plain": [
              "<tqdm._fake_ipywidgets.HBox object>"
            ]
          },
          "metadata": {
            "tags": []
          }
        },
        {
          "output_type": "stream",
          "text": [
            "\n"
          ],
          "name": "stdout"
        },
        {
          "output_type": "display_data",
          "data": {
            "text/html": [
              "<div style=\"display:flex;flex-direction:row;\"><span>Epoch: 153/500. Iteration: 134/134. Cls loss: 0.03496. Reg loss: 0.10986. Batch loss: 0.14482 Total loss: 0.21107</span><progress style='margin:2px 4px;description_width:initial;' max='134' value='134'></progress>100% 134/134 [02:47&lt;00:00,  1.10it/s]</div>"
            ],
            "text/plain": [
              "<tqdm._fake_ipywidgets.HBox object>"
            ]
          },
          "metadata": {
            "tags": []
          }
        },
        {
          "output_type": "stream",
          "text": [
            "\n"
          ],
          "name": "stdout"
        },
        {
          "output_type": "display_data",
          "data": {
            "text/html": [
              "<div style=\"display:flex;flex-direction:row;\"><span>Epoch: 154/500. Iteration: 134/134. Cls loss: 0.07807. Reg loss: 0.16853. Batch loss: 0.24660 Total loss: 0.20577</span><progress style='margin:2px 4px;description_width:initial;' max='134' value='134'></progress>100% 134/134 [02:49&lt;00:00,  1.07it/s]</div>"
            ],
            "text/plain": [
              "<tqdm._fake_ipywidgets.HBox object>"
            ]
          },
          "metadata": {
            "tags": []
          }
        },
        {
          "output_type": "stream",
          "text": [
            "\n"
          ],
          "name": "stdout"
        },
        {
          "output_type": "display_data",
          "data": {
            "text/html": [
              "<div style=\"display:flex;flex-direction:row;\"><span>Epoch: 155/500. Iteration: 134/134. Cls loss: 0.09376. Reg loss: 0.20469. Batch loss: 0.29845 Total loss: 0.20092</span><progress style='margin:2px 4px;description_width:initial;' max='134' value='134'></progress>100% 134/134 [02:51&lt;00:00,  1.08it/s]</div>"
            ],
            "text/plain": [
              "<tqdm._fake_ipywidgets.HBox object>"
            ]
          },
          "metadata": {
            "tags": []
          }
        },
        {
          "output_type": "stream",
          "text": [
            "\n"
          ],
          "name": "stdout"
        },
        {
          "output_type": "display_data",
          "data": {
            "text/html": [
              "<div style=\"display:flex;flex-direction:row;\"><span>Epoch: 156/500. Iteration: 134/134. Cls loss: 0.04923. Reg loss: 0.12321. Batch loss: 0.17244 Total loss: 0.20248</span><progress style='margin:2px 4px;description_width:initial;' max='134' value='134'></progress>100% 134/134 [02:50&lt;00:00,  1.08it/s]</div>"
            ],
            "text/plain": [
              "<tqdm._fake_ipywidgets.HBox object>"
            ]
          },
          "metadata": {
            "tags": []
          }
        },
        {
          "output_type": "stream",
          "text": [
            "\n"
          ],
          "name": "stdout"
        },
        {
          "output_type": "display_data",
          "data": {
            "text/html": [
              "<div style=\"display:flex;flex-direction:row;\"><span>Epoch: 157/500. Iteration: 134/134. Cls loss: 0.04659. Reg loss: 0.12853. Batch loss: 0.17512 Total loss: 0.20608</span><progress style='margin:2px 4px;description_width:initial;' max='134' value='134'></progress>100% 134/134 [02:50&lt;00:00,  1.08it/s]</div>"
            ],
            "text/plain": [
              "<tqdm._fake_ipywidgets.HBox object>"
            ]
          },
          "metadata": {
            "tags": []
          }
        },
        {
          "output_type": "stream",
          "text": [
            "\n"
          ],
          "name": "stdout"
        },
        {
          "output_type": "display_data",
          "data": {
            "text/html": [
              "<div style=\"display:flex;flex-direction:row;\"><span>Epoch: 158/500. Iteration: 134/134. Cls loss: 0.05408. Reg loss: 0.12078. Batch loss: 0.17485 Total loss: 0.20031</span><progress style='margin:2px 4px;description_width:initial;' max='134' value='134'></progress>100% 134/134 [02:50&lt;00:00,  1.08it/s]</div>"
            ],
            "text/plain": [
              "<tqdm._fake_ipywidgets.HBox object>"
            ]
          },
          "metadata": {
            "tags": []
          }
        },
        {
          "output_type": "stream",
          "text": [
            "\n"
          ],
          "name": "stdout"
        },
        {
          "output_type": "display_data",
          "data": {
            "text/html": [
              "<div style=\"display:flex;flex-direction:row;\"><span>Epoch: 159/500. Iteration: 134/134. Cls loss: 0.04955. Reg loss: 0.11597. Batch loss: 0.16552 Total loss: 0.19715</span><progress style='margin:2px 4px;description_width:initial;' max='134' value='134'></progress>100% 134/134 [02:49&lt;00:00,  1.09it/s]</div>"
            ],
            "text/plain": [
              "<tqdm._fake_ipywidgets.HBox object>"
            ]
          },
          "metadata": {
            "tags": []
          }
        },
        {
          "output_type": "stream",
          "text": [
            "\n"
          ],
          "name": "stdout"
        },
        {
          "output_type": "display_data",
          "data": {
            "text/html": [
              "<div style=\"display:flex;flex-direction:row;\"><span>Epoch: 160/500. Iteration: 134/134. Cls loss: 0.04077. Reg loss: 0.11557. Batch loss: 0.15635 Total loss: 0.20063</span><progress style='margin:2px 4px;description_width:initial;' max='134' value='134'></progress>100% 134/134 [02:48&lt;00:00,  1.09it/s]</div>"
            ],
            "text/plain": [
              "<tqdm._fake_ipywidgets.HBox object>"
            ]
          },
          "metadata": {
            "tags": []
          }
        },
        {
          "output_type": "stream",
          "text": [
            "\n"
          ],
          "name": "stdout"
        },
        {
          "output_type": "display_data",
          "data": {
            "text/html": [
              "<div style=\"display:flex;flex-direction:row;\"><span>Epoch: 161/500. Iteration: 134/134. Cls loss: 0.05308. Reg loss: 0.14562. Batch loss: 0.19870 Total loss: 0.19999</span><progress style='margin:2px 4px;description_width:initial;' max='134' value='134'></progress>100% 134/134 [02:48&lt;00:00,  1.09it/s]</div>"
            ],
            "text/plain": [
              "<tqdm._fake_ipywidgets.HBox object>"
            ]
          },
          "metadata": {
            "tags": []
          }
        },
        {
          "output_type": "stream",
          "text": [
            "\n"
          ],
          "name": "stdout"
        },
        {
          "output_type": "display_data",
          "data": {
            "text/html": [
              "<div style=\"display:flex;flex-direction:row;\"><span>Epoch: 162/500. Iteration: 134/134. Cls loss: 0.03909. Reg loss: 0.10540. Batch loss: 0.14449 Total loss: 0.20005</span><progress style='margin:2px 4px;description_width:initial;' max='134' value='134'></progress>100% 134/134 [02:49&lt;00:00,  1.09it/s]</div>"
            ],
            "text/plain": [
              "<tqdm._fake_ipywidgets.HBox object>"
            ]
          },
          "metadata": {
            "tags": []
          }
        },
        {
          "output_type": "stream",
          "text": [
            "\n"
          ],
          "name": "stdout"
        },
        {
          "output_type": "display_data",
          "data": {
            "text/html": [
              "<div style=\"display:flex;flex-direction:row;\"><span>Epoch: 163/500. Iteration: 134/134. Cls loss: 0.05935. Reg loss: 0.15514. Batch loss: 0.21449 Total loss: 0.19489</span><progress style='margin:2px 4px;description_width:initial;' max='134' value='134'></progress>100% 134/134 [02:48&lt;00:00,  1.08it/s]</div>"
            ],
            "text/plain": [
              "<tqdm._fake_ipywidgets.HBox object>"
            ]
          },
          "metadata": {
            "tags": []
          }
        },
        {
          "output_type": "stream",
          "text": [
            "\n"
          ],
          "name": "stdout"
        },
        {
          "output_type": "display_data",
          "data": {
            "text/html": [
              "<div style=\"display:flex;flex-direction:row;\"><span>Epoch: 164/500. Iteration: 134/134. Cls loss: 0.05129. Reg loss: 0.12834. Batch loss: 0.17964 Total loss: 0.19443</span><progress style='margin:2px 4px;description_width:initial;' max='134' value='134'></progress>100% 134/134 [02:48&lt;00:00,  1.09it/s]</div>"
            ],
            "text/plain": [
              "<tqdm._fake_ipywidgets.HBox object>"
            ]
          },
          "metadata": {
            "tags": []
          }
        },
        {
          "output_type": "stream",
          "text": [
            "\n"
          ],
          "name": "stdout"
        },
        {
          "output_type": "display_data",
          "data": {
            "text/html": [
              "<div style=\"display:flex;flex-direction:row;\"><span>Epoch: 165/500. Iteration: 134/134. Cls loss: 0.08863. Reg loss: 0.18681. Batch loss: 0.27544 Total loss: 0.19612</span><progress style='margin:2px 4px;description_width:initial;' max='134' value='134'></progress>100% 134/134 [02:46&lt;00:00,  1.10it/s]</div>"
            ],
            "text/plain": [
              "<tqdm._fake_ipywidgets.HBox object>"
            ]
          },
          "metadata": {
            "tags": []
          }
        },
        {
          "output_type": "stream",
          "text": [
            "\n"
          ],
          "name": "stdout"
        },
        {
          "output_type": "display_data",
          "data": {
            "text/html": [
              "<div style=\"display:flex;flex-direction:row;\"><span>Epoch: 166/500. Iteration: 134/134. Cls loss: 0.04144. Reg loss: 0.09975. Batch loss: 0.14118 Total loss: 0.19455</span><progress style='margin:2px 4px;description_width:initial;' max='134' value='134'></progress>100% 134/134 [02:46&lt;00:00,  1.10it/s]</div>"
            ],
            "text/plain": [
              "<tqdm._fake_ipywidgets.HBox object>"
            ]
          },
          "metadata": {
            "tags": []
          }
        },
        {
          "output_type": "stream",
          "text": [
            "\n"
          ],
          "name": "stdout"
        },
        {
          "output_type": "display_data",
          "data": {
            "text/html": [
              "<div style=\"display:flex;flex-direction:row;\"><span>Epoch: 167/500. Iteration: 134/134. Cls loss: 0.04116. Reg loss: 0.13412. Batch loss: 0.17527 Total loss: 0.18777</span><progress style='margin:2px 4px;description_width:initial;' max='134' value='134'></progress>100% 134/134 [02:47&lt;00:00,  1.09it/s]</div>"
            ],
            "text/plain": [
              "<tqdm._fake_ipywidgets.HBox object>"
            ]
          },
          "metadata": {
            "tags": []
          }
        },
        {
          "output_type": "stream",
          "text": [
            "\n"
          ],
          "name": "stdout"
        },
        {
          "output_type": "display_data",
          "data": {
            "text/html": [
              "<div style=\"display:flex;flex-direction:row;\"><span>Epoch: 168/500. Iteration: 134/134. Cls loss: 0.03365. Reg loss: 0.11738. Batch loss: 0.15103 Total loss: 0.19180</span><progress style='margin:2px 4px;description_width:initial;' max='134' value='134'></progress>100% 134/134 [02:47&lt;00:00,  1.10it/s]</div>"
            ],
            "text/plain": [
              "<tqdm._fake_ipywidgets.HBox object>"
            ]
          },
          "metadata": {
            "tags": []
          }
        },
        {
          "output_type": "stream",
          "text": [
            "\n"
          ],
          "name": "stdout"
        },
        {
          "output_type": "display_data",
          "data": {
            "text/html": [
              "<div style=\"display:flex;flex-direction:row;\"><span>Epoch: 169/500. Iteration: 134/134. Cls loss: 0.03956. Reg loss: 0.13007. Batch loss: 0.16963 Total loss: 0.18821</span><progress style='margin:2px 4px;description_width:initial;' max='134' value='134'></progress>100% 134/134 [02:47&lt;00:00,  1.09it/s]</div>"
            ],
            "text/plain": [
              "<tqdm._fake_ipywidgets.HBox object>"
            ]
          },
          "metadata": {
            "tags": []
          }
        },
        {
          "output_type": "stream",
          "text": [
            "\n"
          ],
          "name": "stdout"
        },
        {
          "output_type": "display_data",
          "data": {
            "text/html": [
              "<div style=\"display:flex;flex-direction:row;\"><span>Epoch: 170/500. Iteration: 134/134. Cls loss: 0.06758. Reg loss: 0.16751. Batch loss: 0.23508 Total loss: 0.19206</span><progress style='margin:2px 4px;description_width:initial;' max='134' value='134'></progress>100% 134/134 [02:47&lt;00:00,  1.09it/s]</div>"
            ],
            "text/plain": [
              "<tqdm._fake_ipywidgets.HBox object>"
            ]
          },
          "metadata": {
            "tags": []
          }
        },
        {
          "output_type": "stream",
          "text": [
            "\n"
          ],
          "name": "stdout"
        },
        {
          "output_type": "display_data",
          "data": {
            "text/html": [
              "<div style=\"display:flex;flex-direction:row;\"><span>Epoch: 171/500. Iteration: 134/134. Cls loss: 0.05751. Reg loss: 0.13650. Batch loss: 0.19401 Total loss: 0.19269</span><progress style='margin:2px 4px;description_width:initial;' max='134' value='134'></progress>100% 134/134 [02:47&lt;00:00,  1.09it/s]</div>"
            ],
            "text/plain": [
              "<tqdm._fake_ipywidgets.HBox object>"
            ]
          },
          "metadata": {
            "tags": []
          }
        },
        {
          "output_type": "stream",
          "text": [
            "\n",
            "Epoch   171: reducing learning rate of group 0 to 1.0000e-05.\n"
          ],
          "name": "stdout"
        },
        {
          "output_type": "display_data",
          "data": {
            "text/html": [
              "<div style=\"display:flex;flex-direction:row;\"><span>Epoch: 172/500. Iteration: 134/134. Cls loss: 0.03414. Reg loss: 0.09638. Batch loss: 0.13052 Total loss: 0.17775</span><progress style='margin:2px 4px;description_width:initial;' max='134' value='134'></progress>100% 134/134 [02:47&lt;00:00,  1.09it/s]</div>"
            ],
            "text/plain": [
              "<tqdm._fake_ipywidgets.HBox object>"
            ]
          },
          "metadata": {
            "tags": []
          }
        },
        {
          "output_type": "stream",
          "text": [
            "\n"
          ],
          "name": "stdout"
        },
        {
          "output_type": "display_data",
          "data": {
            "text/html": [
              "<div style=\"display:flex;flex-direction:row;\"><span>Epoch: 173/500. Iteration: 134/134. Cls loss: 0.03432. Reg loss: 0.08461. Batch loss: 0.11893 Total loss: 0.17458</span><progress style='margin:2px 4px;description_width:initial;' max='134' value='134'></progress>100% 134/134 [02:47&lt;00:00,  1.09it/s]</div>"
            ],
            "text/plain": [
              "<tqdm._fake_ipywidgets.HBox object>"
            ]
          },
          "metadata": {
            "tags": []
          }
        },
        {
          "output_type": "stream",
          "text": [
            "\n"
          ],
          "name": "stdout"
        },
        {
          "output_type": "display_data",
          "data": {
            "text/html": [
              "<div style=\"display:flex;flex-direction:row;\"><span>Epoch: 174/500. Iteration: 46/134. Cls loss: 0.05625. Reg loss: 0.15312. Batch loss: 0.20937 Total loss: 0.16275</span><progress style='margin:2px 4px;description_width:initial;' max='134' value='46'></progress> 34% 46/134 [01:01&lt;01:48,  1.24s/it]</div>"
            ],
            "text/plain": [
              "<tqdm._fake_ipywidgets.HBox object>"
            ]
          },
          "metadata": {
            "tags": []
          }
        },
        {
          "output_type": "stream",
          "text": [
            "Buffered data was truncated after reaching the output size limit."
          ],
          "name": "stdout"
        }
      ]
    },
    {
      "cell_type": "markdown",
      "metadata": {
        "id": "1cj9gst-hRDg"
      },
      "source": [
        "# Inference"
      ]
    },
    {
      "cell_type": "code",
      "metadata": {
        "id": "ZC263x69sfai"
      },
      "source": [
        "import os\n",
        "import sys\n",
        "sys.path.append(\"Monk_Object_Detection/4_efficientdet/lib/\");"
      ],
      "execution_count": null,
      "outputs": []
    },
    {
      "cell_type": "code",
      "metadata": {
        "id": "IsxWRWL8tcgP"
      },
      "source": [
        "from infer_detector import Infer"
      ],
      "execution_count": null,
      "outputs": []
    },
    {
      "cell_type": "code",
      "metadata": {
        "id": "VEuuSjWYte5-"
      },
      "source": [
        "gtf = Infer();"
      ],
      "execution_count": null,
      "outputs": []
    },
    {
      "cell_type": "code",
      "metadata": {
        "id": "YWbOZk-rthzW"
      },
      "source": [
        "#our trained model weights are in here in onxx format\n",
        "gtf.Model(model_dir=\"trained/\")"
      ],
      "execution_count": null,
      "outputs": []
    },
    {
      "cell_type": "code",
      "metadata": {
        "id": "CH2Tv7gstkP_"
      },
      "source": [
        "#extract class list from our annotations\n",
        "import json\n",
        "with open('train/_annotations.coco.json') as json_file:\n",
        "    data = json.load(json_file)\n",
        "class_list = []\n",
        "for category in data['categories']:\n",
        "  class_list.append(category['name'])"
      ],
      "execution_count": null,
      "outputs": []
    },
    {
      "cell_type": "code",
      "metadata": {
        "id": "qMLy8LIcuRQS"
      },
      "source": [
        "class_list"
      ],
      "execution_count": null,
      "outputs": []
    },
    {
      "cell_type": "code",
      "metadata": {
        "id": "XP3QK_gh2GQW"
      },
      "source": [
        "#test data\n",
        "from IPython.display import clear_output\n",
        "%cd /content\n",
        "!gdown --id 1OUnWXuYLQao9AfviNSIDcwdqKR9Tzp7j\n",
        "!unzip test.zip; rm test.zip;\n",
        "clear_output()"
      ],
      "execution_count": null,
      "outputs": []
    },
    {
      "cell_type": "code",
      "metadata": {
        "id": "Oc87-3NPummz"
      },
      "source": [
        "%%time\n",
        "test_images = [f for f in os.listdir('test') if f.endswith('.jpg')]\n",
        "import random\n",
        "img_path = \"test/\" + random.choice(test_images);\n",
        "duration, scores, labels, boxes = gtf.Predict(img_path, class_list, vis_threshold=0.4);"
      ],
      "execution_count": null,
      "outputs": []
    },
    {
      "cell_type": "code",
      "metadata": {
        "id": "KbJbgLggvGM_"
      },
      "source": [
        "from IPython.display import Image\n",
        "Image(filename='output.jpg') "
      ],
      "execution_count": null,
      "outputs": []
    },
    {
      "cell_type": "code",
      "metadata": {
        "id": "To8suyMc5Thf"
      },
      "source": [
        "TEST_PATH = '/content/test/'\n",
        "test_ids = os.listdir(TEST_PATH)"
      ],
      "execution_count": null,
      "outputs": []
    },
    {
      "cell_type": "code",
      "metadata": {
        "id": "Tr8wFF7-Cy2w"
      },
      "source": [
        "res = []\n",
        "import pandas as pd\n",
        "df=pd.DataFrame(columns=['image_id','class',\"score\",'xmin','ymin','xmax','ymax'])\n",
        "for idx, row in enumerate(test_ids):\n",
        "    img_path = TEST_PATH + row\n",
        "\n",
        "    \n",
        "    duration, scores, labels, boxes = gtf.Predict(img_path, class_list, vis_threshold=0.5)\n",
        "    \n",
        "    sc = len(scores[scores > 0.5])\n",
        "    \n",
        "    b = boxes[:sc].cpu().numpy()\n",
        "    s = scores[:sc].cpu().numpy()\n",
        "    l = labels[:sc].cpu().numpy()\n",
        "\n",
        "\n",
        "    \n",
        "    for i, el in enumerate(b):\n",
        "        el = list(map(int, el))\n",
        "        el.insert(0, class_list[l[i]])\n",
        "        el.insert(1, s[i])\n",
        "        \n",
        "        \n",
        "        df.loc[img_path+str(i)]=[row,el[0],el[1],el[2],el[3],el[4],el[5]]\n",
        "        \n",
        "    \n",
        "    "
      ],
      "execution_count": null,
      "outputs": []
    },
    {
      "cell_type": "code",
      "metadata": {
        "id": "_tE-u66FF8ar"
      },
      "source": [
        "df[\"width\"]=1024\n",
        "df[\"height\"]=1024"
      ],
      "execution_count": null,
      "outputs": []
    },
    {
      "cell_type": "code",
      "metadata": {
        "id": "t_N9yYOvZnDr"
      },
      "source": [
        "df"
      ],
      "execution_count": null,
      "outputs": []
    },
    {
      "cell_type": "code",
      "metadata": {
        "id": "7Md1ubSdAhFH"
      },
      "source": [
        "df.to_csv('submission.csv', index=False)"
      ],
      "execution_count": null,
      "outputs": []
    },
    {
      "cell_type": "code",
      "metadata": {
        "id": "OWKu0TL9IM6v"
      },
      "source": [
        "%cp /content/submission.csv /content/drive/My\\ Drive"
      ],
      "execution_count": null,
      "outputs": []
    }
  ]
}